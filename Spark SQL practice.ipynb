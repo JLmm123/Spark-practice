{
  "cells": [
    {
      "cell_type": "markdown",
      "metadata": {
        "id": "view-in-github",
        "colab_type": "text"
      },
      "source": [
        "<a href=\"https://colab.research.google.com/github/JLmm123/Spark-practice/blob/main/Spark%20SQL%20practice.ipynb\" target=\"_parent\"><img src=\"https://colab.research.google.com/assets/colab-badge.svg\" alt=\"Open In Colab\"/></a>"
      ]
    },
    {
      "cell_type": "markdown",
      "metadata": {
        "id": "qVMCjEV1IEC7"
      },
      "source": [
        "# CIS 545 Homework 3: Spark SQL\n",
        "\n",
        "#### **Worth 100 points, due Tuesday November 1st, 10:00 PM EST**\n",
        "\n",
        "Welcome to CIS 545 Homework 3! In this homework you will master Spark SQL. By the end, you'll be a star (not that you aren't already one). Over the next few days you will be using an EMR cluster to use Spark to manipulate the datasets about Amazon products and their reviews.\n",
        "\n",
        "## The Necessary Notes and Nags\n",
        "Before we begin here are some important notes to keep in mind,\n",
        "\n",
        "\n",
        "1.   **IMPORTANT!** I said it twice, it's really important. In this homework, we will be using AWS resources. You are given a quota ($100) to use for the entirety of the homework. There is a small chance you will use all this money, however it is important that at the end of every session, you **shut down your EMR cluster**.\n",
        "2.   **Be sure you use Google Colab for this Homework** since we must connect to the EMR cluster and local Jupyter will have issues doing that. Using a Google Colab Notebook with an EMR cluster has two important abnormalities:\n",
        "    * The first line of any cell in which you will use the spark session must be `%%spark`. Notice that all cells below have this.\n",
        "    * You will, unfortunately, not be able to stop a cell while it is running. If you wish to do so, you will need to restart your cluster. See the Setup EMR Document for reference.\n",
        "3.   You are **required** to use Spark SQL queries to handle the data in the assignment. Mastering SQL is more beneficial than being able to use Spark commands (functions) as it will show up in more areas of programming and data science/analytics than just Spark. Use the following [function list](https://spark.apache.org/docs/latest/api/sql/index.html#) to see all the SQL functions avaliable in Spark.\n",
        "4.   Throughout the homework you will be manipulating Spark dataframes (sdfs). We do not specify any ordering on the final output. You are welcome to order your final tables in whatever way you deem fit. We will conduct our own ordering when we grade.\n",
        "5. Based on the challenges you've faced in the previous homework, we are including information on the expected schema of your results.  Apache Spark is very fiddly but we hope this will help.\n",
        "6. There are portions of this homework that are _very_ hard. We urge you start early to come to office hours and get help if you get stuck. But don't worry, I can see the future, and you've all got this.\n",
        "\n",
        "With that said, let's dive in.\n",
        "\n",
        "\n"
      ]
    },
    {
      "cell_type": "markdown",
      "metadata": {
        "id": "7XEqGpEGBWs5"
      },
      "source": [
        "## Step 0: Set up EMR\n",
        "\n",
        "Follow the [AWS Academy Getting Started](https://docs.google.com/document/d/1JPitLGaorjTbXjGsaoIHcLTu2cj8rjm5UNr9bSpZ72k/edit?usp=sharing) instructions.\n",
        "\n",
        "Move on to Step 0.1 after you have completed all the steps in the document.\n",
        "\n",
        "![ACME GIANT RUBBER BAND](https://pbs.twimg.com/media/DRqbJh7UMAE2z4o?format=jpg&name=4096x4096)\n"
      ]
    },
    {
      "cell_type": "markdown",
      "metadata": {
        "id": "5iBPXxgAdXkv"
      },
      "source": [
        "### Step 0.1: The Superfluous Setup\n",
        "\n",
        "Run the following two cells. These will allow your colab notebook to connect to an use your EMR."
      ]
    },
    {
      "cell_type": "code",
      "execution_count": null,
      "metadata": {
        "colab": {
          "base_uri": "https://localhost:8080/"
        },
        "id": "pvkEbVaaAQ1e",
        "outputId": "e5e861e1-5ea0-4c8f-8e6e-c6f47015ec77"
      },
      "outputs": [
        {
          "output_type": "stream",
          "name": "stdout",
          "text": [
            "Reading package lists... Done\n",
            "Building dependency tree       \n",
            "Reading state information... Done\n",
            "libkrb5-dev is already the newest version (1.16-2ubuntu0.2).\n",
            "The following package was automatically installed and is no longer required:\n",
            "  libnvidia-common-460\n",
            "Use 'apt autoremove' to remove it.\n",
            "0 upgraded, 0 newly installed, 0 to remove and 26 not upgraded.\n",
            "Looking in indexes: https://pypi.org/simple, https://us-python.pkg.dev/colab-wheels/public/simple/\n",
            "Requirement already satisfied: sparkmagic in /usr/local/lib/python3.7/dist-packages (0.20.0)\n",
            "Requirement already satisfied: notebook>=4.2 in /usr/local/lib/python3.7/dist-packages (from sparkmagic) (5.5.0)\n",
            "Requirement already satisfied: mock in /usr/local/lib/python3.7/dist-packages (from sparkmagic) (4.0.3)\n",
            "Requirement already satisfied: ipykernel>=4.2.2 in /usr/local/lib/python3.7/dist-packages (from sparkmagic) (5.3.4)\n",
            "Requirement already satisfied: tornado>=4 in /usr/local/lib/python3.7/dist-packages (from sparkmagic) (5.1.1)\n",
            "Requirement already satisfied: ipywidgets>5.0.0 in /usr/local/lib/python3.7/dist-packages (from sparkmagic) (7.7.1)\n",
            "Requirement already satisfied: nose in /usr/local/lib/python3.7/dist-packages (from sparkmagic) (1.3.7)\n",
            "Requirement already satisfied: hdijupyterutils>=0.6 in /usr/local/lib/python3.7/dist-packages (from sparkmagic) (0.20.0)\n",
            "Requirement already satisfied: numpy in /usr/local/lib/python3.7/dist-packages (from sparkmagic) (1.21.6)\n",
            "Requirement already satisfied: pandas>=0.17.1 in /usr/local/lib/python3.7/dist-packages (from sparkmagic) (1.3.5)\n",
            "Requirement already satisfied: requests in /usr/local/lib/python3.7/dist-packages (from sparkmagic) (2.23.0)\n",
            "Requirement already satisfied: nest-asyncio==1.5.5 in /usr/local/lib/python3.7/dist-packages (from sparkmagic) (1.5.5)\n",
            "Requirement already satisfied: ipython>=5 in /usr/local/lib/python3.7/dist-packages (from sparkmagic) (7.9.0)\n",
            "Requirement already satisfied: requests-kerberos>=0.8.0 in /usr/local/lib/python3.7/dist-packages (from sparkmagic) (0.14.0)\n",
            "Requirement already satisfied: autovizwidget>=0.6 in /usr/local/lib/python3.7/dist-packages (from sparkmagic) (0.20.0)\n",
            "Requirement already satisfied: plotly>=3 in /usr/local/lib/python3.7/dist-packages (from autovizwidget>=0.6->sparkmagic) (5.5.0)\n",
            "Requirement already satisfied: jupyter>=1 in /usr/local/lib/python3.7/dist-packages (from hdijupyterutils>=0.6->sparkmagic) (1.0.0)\n",
            "Requirement already satisfied: traitlets>=4.1.0 in /usr/local/lib/python3.7/dist-packages (from ipykernel>=4.2.2->sparkmagic) (5.1.1)\n",
            "Requirement already satisfied: jupyter-client in /usr/local/lib/python3.7/dist-packages (from ipykernel>=4.2.2->sparkmagic) (6.1.12)\n",
            "Requirement already satisfied: prompt-toolkit<2.1.0,>=2.0.0 in /usr/local/lib/python3.7/dist-packages (from ipython>=5->sparkmagic) (2.0.10)\n",
            "Requirement already satisfied: jedi>=0.10 in /usr/local/lib/python3.7/dist-packages (from ipython>=5->sparkmagic) (0.18.1)\n",
            "Requirement already satisfied: pexpect in /usr/local/lib/python3.7/dist-packages (from ipython>=5->sparkmagic) (4.8.0)\n",
            "Requirement already satisfied: decorator in /usr/local/lib/python3.7/dist-packages (from ipython>=5->sparkmagic) (4.4.2)\n",
            "Requirement already satisfied: pygments in /usr/local/lib/python3.7/dist-packages (from ipython>=5->sparkmagic) (2.6.1)\n",
            "Requirement already satisfied: pickleshare in /usr/local/lib/python3.7/dist-packages (from ipython>=5->sparkmagic) (0.7.5)\n",
            "Requirement already satisfied: setuptools>=18.5 in /usr/local/lib/python3.7/dist-packages (from ipython>=5->sparkmagic) (57.4.0)\n",
            "Requirement already satisfied: backcall in /usr/local/lib/python3.7/dist-packages (from ipython>=5->sparkmagic) (0.2.0)\n",
            "Requirement already satisfied: jupyterlab-widgets>=1.0.0 in /usr/local/lib/python3.7/dist-packages (from ipywidgets>5.0.0->sparkmagic) (3.0.3)\n",
            "Requirement already satisfied: ipython-genutils~=0.2.0 in /usr/local/lib/python3.7/dist-packages (from ipywidgets>5.0.0->sparkmagic) (0.2.0)\n",
            "Requirement already satisfied: widgetsnbextension~=3.6.0 in /usr/local/lib/python3.7/dist-packages (from ipywidgets>5.0.0->sparkmagic) (3.6.1)\n",
            "Requirement already satisfied: parso<0.9.0,>=0.8.0 in /usr/local/lib/python3.7/dist-packages (from jedi>=0.10->ipython>=5->sparkmagic) (0.8.3)\n",
            "Requirement already satisfied: nbconvert in /usr/local/lib/python3.7/dist-packages (from jupyter>=1->hdijupyterutils>=0.6->sparkmagic) (5.6.1)\n",
            "Requirement already satisfied: jupyter-console in /usr/local/lib/python3.7/dist-packages (from jupyter>=1->hdijupyterutils>=0.6->sparkmagic) (6.1.0)\n",
            "Requirement already satisfied: qtconsole in /usr/local/lib/python3.7/dist-packages (from jupyter>=1->hdijupyterutils>=0.6->sparkmagic) (5.3.2)\n",
            "Requirement already satisfied: nbformat in /usr/local/lib/python3.7/dist-packages (from notebook>=4.2->sparkmagic) (5.7.0)\n",
            "Requirement already satisfied: jinja2 in /usr/local/lib/python3.7/dist-packages (from notebook>=4.2->sparkmagic) (2.11.3)\n",
            "Requirement already satisfied: jupyter-core>=4.4.0 in /usr/local/lib/python3.7/dist-packages (from notebook>=4.2->sparkmagic) (4.11.2)\n",
            "Requirement already satisfied: Send2Trash in /usr/local/lib/python3.7/dist-packages (from notebook>=4.2->sparkmagic) (1.8.0)\n",
            "Requirement already satisfied: pyzmq>=17 in /usr/local/lib/python3.7/dist-packages (from notebook>=4.2->sparkmagic) (23.2.1)\n",
            "Requirement already satisfied: terminado>=0.8.1 in /usr/local/lib/python3.7/dist-packages (from notebook>=4.2->sparkmagic) (0.13.3)\n",
            "Requirement already satisfied: python-dateutil>=2.1 in /usr/local/lib/python3.7/dist-packages (from jupyter-client->ipykernel>=4.2.2->sparkmagic) (2.8.2)\n",
            "Requirement already satisfied: pytz>=2017.3 in /usr/local/lib/python3.7/dist-packages (from pandas>=0.17.1->sparkmagic) (2022.5)\n",
            "Requirement already satisfied: tenacity>=6.2.0 in /usr/local/lib/python3.7/dist-packages (from plotly>=3->autovizwidget>=0.6->sparkmagic) (8.1.0)\n",
            "Requirement already satisfied: six in /usr/local/lib/python3.7/dist-packages (from plotly>=3->autovizwidget>=0.6->sparkmagic) (1.15.0)\n",
            "Requirement already satisfied: wcwidth in /usr/local/lib/python3.7/dist-packages (from prompt-toolkit<2.1.0,>=2.0.0->ipython>=5->sparkmagic) (0.2.5)\n",
            "Requirement already satisfied: cryptography>=1.3 in /usr/local/lib/python3.7/dist-packages (from requests-kerberos>=0.8.0->sparkmagic) (38.0.1)\n",
            "Requirement already satisfied: pyspnego[kerberos] in /usr/local/lib/python3.7/dist-packages (from requests-kerberos>=0.8.0->sparkmagic) (0.6.2)\n",
            "Requirement already satisfied: cffi>=1.12 in /usr/local/lib/python3.7/dist-packages (from cryptography>=1.3->requests-kerberos>=0.8.0->sparkmagic) (1.15.1)\n",
            "Requirement already satisfied: pycparser in /usr/local/lib/python3.7/dist-packages (from cffi>=1.12->cryptography>=1.3->requests-kerberos>=0.8.0->sparkmagic) (2.21)\n",
            "Requirement already satisfied: urllib3!=1.25.0,!=1.25.1,<1.26,>=1.21.1 in /usr/local/lib/python3.7/dist-packages (from requests->sparkmagic) (1.24.3)\n",
            "Requirement already satisfied: chardet<4,>=3.0.2 in /usr/local/lib/python3.7/dist-packages (from requests->sparkmagic) (3.0.4)\n",
            "Requirement already satisfied: idna<3,>=2.5 in /usr/local/lib/python3.7/dist-packages (from requests->sparkmagic) (2.10)\n",
            "Requirement already satisfied: certifi>=2017.4.17 in /usr/local/lib/python3.7/dist-packages (from requests->sparkmagic) (2022.9.24)\n",
            "Requirement already satisfied: ptyprocess in /usr/local/lib/python3.7/dist-packages (from terminado>=0.8.1->notebook>=4.2->sparkmagic) (0.7.0)\n",
            "Requirement already satisfied: MarkupSafe>=0.23 in /usr/local/lib/python3.7/dist-packages (from jinja2->notebook>=4.2->sparkmagic) (2.0.1)\n",
            "Requirement already satisfied: mistune<2,>=0.8.1 in /usr/local/lib/python3.7/dist-packages (from nbconvert->jupyter>=1->hdijupyterutils>=0.6->sparkmagic) (0.8.4)\n",
            "Requirement already satisfied: defusedxml in /usr/local/lib/python3.7/dist-packages (from nbconvert->jupyter>=1->hdijupyterutils>=0.6->sparkmagic) (0.7.1)\n",
            "Requirement already satisfied: pandocfilters>=1.4.1 in /usr/local/lib/python3.7/dist-packages (from nbconvert->jupyter>=1->hdijupyterutils>=0.6->sparkmagic) (1.5.0)\n",
            "Requirement already satisfied: testpath in /usr/local/lib/python3.7/dist-packages (from nbconvert->jupyter>=1->hdijupyterutils>=0.6->sparkmagic) (0.6.0)\n",
            "Requirement already satisfied: entrypoints>=0.2.2 in /usr/local/lib/python3.7/dist-packages (from nbconvert->jupyter>=1->hdijupyterutils>=0.6->sparkmagic) (0.4)\n",
            "Requirement already satisfied: bleach in /usr/local/lib/python3.7/dist-packages (from nbconvert->jupyter>=1->hdijupyterutils>=0.6->sparkmagic) (5.0.1)\n",
            "Requirement already satisfied: importlib-metadata>=3.6 in /usr/local/lib/python3.7/dist-packages (from nbformat->notebook>=4.2->sparkmagic) (4.13.0)\n",
            "Requirement already satisfied: jsonschema>=2.6 in /usr/local/lib/python3.7/dist-packages (from nbformat->notebook>=4.2->sparkmagic) (4.3.3)\n",
            "Requirement already satisfied: fastjsonschema in /usr/local/lib/python3.7/dist-packages (from nbformat->notebook>=4.2->sparkmagic) (2.16.2)\n",
            "Requirement already satisfied: zipp>=0.5 in /usr/local/lib/python3.7/dist-packages (from importlib-metadata>=3.6->nbformat->notebook>=4.2->sparkmagic) (3.9.0)\n",
            "Requirement already satisfied: typing-extensions>=3.6.4 in /usr/local/lib/python3.7/dist-packages (from importlib-metadata>=3.6->nbformat->notebook>=4.2->sparkmagic) (4.1.1)\n",
            "Requirement already satisfied: importlib-resources>=1.4.0 in /usr/local/lib/python3.7/dist-packages (from jsonschema>=2.6->nbformat->notebook>=4.2->sparkmagic) (5.10.0)\n",
            "Requirement already satisfied: pyrsistent!=0.17.0,!=0.17.1,!=0.17.2,>=0.14.0 in /usr/local/lib/python3.7/dist-packages (from jsonschema>=2.6->nbformat->notebook>=4.2->sparkmagic) (0.18.1)\n",
            "Requirement already satisfied: attrs>=17.4.0 in /usr/local/lib/python3.7/dist-packages (from jsonschema>=2.6->nbformat->notebook>=4.2->sparkmagic) (22.1.0)\n",
            "Requirement already satisfied: webencodings in /usr/local/lib/python3.7/dist-packages (from bleach->nbconvert->jupyter>=1->hdijupyterutils>=0.6->sparkmagic) (0.5.1)\n",
            "Requirement already satisfied: krb5>=0.3.0 in /usr/local/lib/python3.7/dist-packages (from pyspnego[kerberos]->requests-kerberos>=0.8.0->sparkmagic) (0.3.0)\n",
            "Requirement already satisfied: gssapi>=1.6.0 in /usr/local/lib/python3.7/dist-packages (from pyspnego[kerberos]->requests-kerberos>=0.8.0->sparkmagic) (1.8.2)\n",
            "Requirement already satisfied: qtpy>=2.0.1 in /usr/local/lib/python3.7/dist-packages (from qtconsole->jupyter>=1->hdijupyterutils>=0.6->sparkmagic) (2.2.1)\n",
            "Requirement already satisfied: packaging in /usr/local/lib/python3.7/dist-packages (from qtpy>=2.0.1->qtconsole->jupyter>=1->hdijupyterutils>=0.6->sparkmagic) (21.3)\n",
            "Requirement already satisfied: pyparsing!=3.0.5,>=2.0.2 in /usr/local/lib/python3.7/dist-packages (from packaging->qtpy>=2.0.1->qtconsole->jupyter>=1->hdijupyterutils>=0.6->sparkmagic) (3.0.9)\n",
            "Looking in indexes: https://test.pypi.org/simple/, https://us-python.pkg.dev/colab-wheels/public/simple/\n",
            "Requirement already satisfied: penn-grader==0.5.0 in /usr/local/lib/python3.7/dist-packages (0.5.0)\n",
            "Requirement already satisfied: pyyaml in /usr/local/lib/python3.7/dist-packages (from penn-grader==0.5.0) (6.0)\n",
            "Requirement already satisfied: dill in /usr/local/lib/python3.7/dist-packages (from penn-grader==0.5.0) (0.3.5.1)\n"
          ]
        }
      ],
      "source": [
        "#%%capture\n",
        "!apt install libkrb5-dev\n",
        "!pip install sparkmagic\n",
        "!pip install -i https://test.pypi.org/simple/ penn-grader==0.5.0"
      ]
    },
    {
      "cell_type": "code",
      "execution_count": null,
      "metadata": {
        "id": "6WAJmQ8IAbRs"
      },
      "outputs": [],
      "source": [
        "%load_ext sparkmagic.magics"
      ]
    },
    {
      "cell_type": "markdown",
      "metadata": {
        "id": "CL6n768EPt9E"
      },
      "source": [
        "### Step 0.2: The Sharp Spark\n",
        "\n",
        "Now, connect your notebook to the EMR cluster you created. In the first cell, copy the link to the Master Public DNS specified in the setup document. You will need to add `http://` to the beginning of the address and the auth details to the end.\n",
        "\n",
        "For example, if my DNS (directly from the AWS EMR console) is `ec2-3-15-237-211.us-east-2.compute.amazonaws.com` my address would be,\n",
        "\n",
        "`http://ec2-3-15-237-211.us-east-2.compute.amazonaws.com -a cis545-livy -p password1 -t Basic_Access`\n",
        "\n",
        "Insert this in the `# TODO # below`. For our example, the cell would read,\n",
        "\n",
        "```\n",
        "%spark add -s spark_session -l python -u http://ec2-3-15-237-211.us-east-2.compute.amazonaws.com -a cis545-livy -p password1 -t Basic_Access\n",
        "```"
      ]
    },
    {
      "cell_type": "code",
      "execution_count": null,
      "metadata": {
        "colab": {
          "base_uri": "https://localhost:8080/",
          "height": 95,
          "referenced_widgets": [
            "0ee6cd1fa3a6401ba9c20cf8bcd3525a",
            "c356de352e3a4fc9ae9bd8822c0742a2",
            "a5f5eb60a1d341989525b5230aa431f5"
          ]
        },
        "id": "G9QbylT-jqX9",
        "outputId": "2b6bc0b7-f80b-4d7b-af2c-14b71f2a7d98"
      },
      "outputs": [
        {
          "output_type": "stream",
          "name": "stdout",
          "text": [
            "Starting Spark application\n"
          ]
        },
        {
          "output_type": "display_data",
          "data": {
            "text/plain": [
              "<IPython.core.display.HTML object>"
            ],
            "text/html": [
              "<table>\n",
              "<tr><th>ID</th><th>YARN Application ID</th><th>Kind</th><th>State</th><th>Spark UI</th><th>Driver log</th><th>User</th><th>Current session?</th></tr><tr><td>2</td><td>application_1666829148631_0003</td><td>pyspark</td><td>idle</td><td><a target=\"_blank\" href=\"http://ip-172-31-22-171.ec2.internal:20888/proxy/application_1666829148631_0003/\">Link</a></td><td><a target=\"_blank\" href=\"http://ip-172-31-22-95.ec2.internal:8042/node/containerlogs/container_1666829148631_0003_01_000001/livy\">Link</a></td><td>None</td><td>✔</td></tr></table>"
            ]
          },
          "metadata": {}
        },
        {
          "output_type": "display_data",
          "data": {
            "text/plain": [
              "FloatProgress(value=0.0, bar_style='info', description='Progress:', layout=Layout(height='25px', width='50%'),…"
            ],
            "application/vnd.jupyter.widget-view+json": {
              "version_major": 2,
              "version_minor": 0,
              "model_id": "0ee6cd1fa3a6401ba9c20cf8bcd3525a"
            }
          },
          "metadata": {}
        },
        {
          "output_type": "stream",
          "name": "stdout",
          "text": [
            "SparkSession available as 'spark'.\n"
          ]
        }
      ],
      "source": [
        "# TODO: Copy the line above, enter your Master Public DNS with the proper formatting and host, and update the password\n",
        "\n",
        "%spark add -s spark_session -l python -u http://ec2-34-203-199-152.compute-1.amazonaws.com -a cis545-livy -p password1 -t Basic_Access"
      ]
    },
    {
      "cell_type": "code",
      "execution_count": null,
      "metadata": {
        "id": "QwKAHhQL0lf7"
      },
      "outputs": [],
      "source": [
        "# If you ever need to restart, you may need to...\n",
        "#%spark delete -s my_session\n",
        "#OR just factory reset runtime under the runtime tab\n",
        "#%spark delete -s spark_session"
      ]
    },
    {
      "cell_type": "markdown",
      "metadata": {
        "id": "6yzJetbCfgh3"
      },
      "source": [
        "### Step 0.3: Cluster Log\n",
        "\n",
        "In order to keep track of clusters you have created and terminated as well as give us information about time spent on this assignment, please enter each date and time you created a cluster and the date and time you terminated the cluster. This will not impact your score."
      ]
    },
    {
      "cell_type": "markdown",
      "metadata": {
        "id": "powXPhtphhyy"
      },
      "source": [
        "EX:\n",
        "\n",
        "10/12 9:00am - 10/12 12:00pm\n",
        "\n",
        "10/13 7:00pm - 10/13 9:00pm\n",
        "\n",
        "...\n",
        "    "
      ]
    },
    {
      "cell_type": "markdown",
      "metadata": {
        "id": "SokSZv4vih0c"
      },
      "source": [
        "TODO: Create cluster log"
      ]
    },
    {
      "cell_type": "markdown",
      "metadata": {
        "id": "WnnEkPYW9IeU"
      },
      "source": [
        "10/19 21:00-22:00\n",
        "\n",
        "10/20 23:30-1:35am\n",
        "\n",
        "10/22 00:45am - 3:00 am\n",
        "\n",
        "10/23 16:00 - 20:00"
      ]
    },
    {
      "cell_type": "markdown",
      "metadata": {
        "id": "v1IQjUwNObb8"
      },
      "source": [
        "Enter your 8-digit Penn Key as an integer in the cell\n",
        "below. This will be used in the autograder.  **Please also update the cell below, with the same ID!**"
      ]
    },
    {
      "cell_type": "code",
      "execution_count": null,
      "metadata": {
        "id": "7zM20juwqqQF"
      },
      "outputs": [],
      "source": [
        "from penngrader.grader import *\n",
        "STUDENT_ID = 14703644"
      ]
    },
    {
      "cell_type": "code",
      "execution_count": null,
      "metadata": {
        "colab": {
          "base_uri": "https://localhost:8080/"
        },
        "id": "Ep52cRkLoBYE",
        "outputId": "0f432826-b622-416c-f3b9-c6779e4345e5"
      },
      "outputs": [
        {
          "output_type": "stream",
          "name": "stdout",
          "text": [
            "Overwriting config.yaml\n"
          ]
        }
      ],
      "source": [
        "%%writefile config.yaml\n",
        "\n",
        "grader_api_url: 'https://wyv616tp17.execute-api.us-east-1.amazonaws.com/default/Grader'\n",
        "grader_api_key: 'Kd32fl3g3p917iM0zwjiO23Bitj4PO9ga4LektOa'"
      ]
    },
    {
      "cell_type": "code",
      "execution_count": null,
      "metadata": {
        "colab": {
          "base_uri": "https://localhost:8080/"
        },
        "id": "V8Oo_5D7qoWp",
        "outputId": "a85f96d8-6aff-4602-c4f9-24108190429d"
      },
      "outputs": [
        {
          "output_type": "stream",
          "name": "stdout",
          "text": [
            "PennGrader initialized with Student ID: 14703644\n",
            "\n",
            "Make sure this correct or we will not be able to store your grade\n"
          ]
        }
      ],
      "source": [
        "grader = PennGrader('config.yaml', 'CIS_5450_Fall22_HW3', STUDENT_ID, STUDENT_ID)"
      ]
    },
    {
      "cell_type": "markdown",
      "metadata": {
        "id": "Bfs-EQZUzF4j"
      },
      "source": [
        "Run the above cells to setup the autograder. Make sure to have set your 8 digit Penn ID in the cell above. It will also import all the modules you need for the homework.\n"
      ]
    },
    {
      "cell_type": "markdown",
      "metadata": {
        "id": "4nyAa0wn1XCD"
      },
      "source": [
        "## Step 1: Data Wrangling, Cleaning, and Shaping [18 pts]\n",
        "\n",
        "In this homework we will be working with data from Amazon regarding their products and customer reviews. There are three JSON datasets with information about the products and three JSON datasets with information about the customer reviews for these products. The three categories of products are: Gourmet & Grocery Food, Toys & Games, and Home & Kitchen.\n",
        "\n",
        "\n",
        "The data you will use is stored in an S3 bucket, a cloud storage service. You now need to download it onto the nodes of your [EMR cluster](https://docs.aws.amazon.com/emr/latest/ManagementGuide/emr-what-is-emr.html).\n",
        "\n",
        "\n",
        "*Citation for data:*\n",
        "\n",
        "- Image-based recommendations on styles and substitutes.\n",
        "J. McAuley, C. Targett, J. Shi, A. van den Hengel\n",
        "SIGIR, 2015\n",
        "\n",
        "- Ups and downs: Modeling the visual evolution of fashion trends with one-class collaborative filtering.\n",
        "R. He, J. McAuley\n",
        "WWW, 2016"
      ]
    },
    {
      "cell_type": "markdown",
      "metadata": {
        "id": "Nf_ADEXnIK0b"
      },
      "source": [
        "### Step 1.1: The Stupendous Schema\n",
        "\n",
        "When loading data, Spark will try to infer its structure on its own. This process is faulty because Spark will sometimes infer the type incorrectly. Spark's ability to determine types is not reliable, thus you will need to define a schema for [] and .\n",
        "\n",
        "A schema is a description of the structure of data. We have given you an example for the `products` datasets and you will be defining an explicit schema for the `reviews` datasets called ```schema_reviews```.\n",
        "\n",
        "\n",
        "In Spark, schemas are defined using a `StructType` object. This is a collection of data types, termed `StructField`'s, that specify the structure and variable type of each component of the dataset. For example, suppose we have the following simple JSON object,\n",
        "\n",
        "\n",
        "```\n",
        "{\n",
        " \"student_name\": \"Data Wrangler\",\n",
        " \"GPA\": 1.4,\n",
        " \"courses\": [\n",
        "    {\"department\": \"Computer and Information Science\",\n",
        "     \"course_id\": \"CIS 545\",\n",
        "     \"semester\": \"Fall 2021\"},\n",
        "    {\"department\": \"Computer and Information Science\",\n",
        "     \"course_id\": \"CIS 555\",\n",
        "     \"semester\": \"Fall 2021\"}\n",
        " ],\n",
        " \"grad_year\": 2022\n",
        " }\n",
        "```\n",
        "\n",
        "We would define its schema as follows,\n",
        "\n",
        "```       \n",
        "schema = StructType([\n",
        "           StructField(\"student_name\", StringType(), nullable=True),\n",
        "           StructField(\"GPA\", FloatType(), nullable=True),\n",
        "           StructField(\"courses\", ArrayType(\n",
        "                StructType([\n",
        "                  StructField(\"department\", StringType(), nullable=True),\n",
        "                  StructField(\"course_id\", StringType(), nullable=True),\n",
        "                  StructField(\"semester\", StringType(), nullable=True)\n",
        "                ])\n",
        "           ), nullable=True),\n",
        "           StructField(\"grad_year\", IntegerType(), nullable=True)\n",
        "         ])\n",
        "```\n",
        "\n",
        "\n",
        "Each `StructField` has the following structure: `(name, type, nullable)`. The `nullable` flag defines that the specified field may be empty. Your first task is to define the `schema` of the five `reviews` .json files. You can take a look at the schema for one of these files for reference. A smaller version of the `food_reviews` JSON dataset can be found here: https://drive.google.com/file/d/1mWYmGIhanT3fwB3cNkMSp67A6kkI_Mu3/view?usp=sharing\n",
        "\n",
        "\n",
        "\n",
        "\n",
        "There is also no grading cell for this step.  But your JSON file won't load if it's wrong, so you have a way of testing.\n",
        "\n"
      ]
    },
    {
      "cell_type": "code",
      "execution_count": null,
      "metadata": {
        "colab": {
          "base_uri": "https://localhost:8080/",
          "height": 17,
          "referenced_widgets": [
            "676388990ee649f9b1ffde1dd58a0b62",
            "516eba0aed5b4d028c8842edc57d59c0",
            "34d5175ac28e47caab97b62ed42d7120"
          ]
        },
        "id": "pL-Ps4KWIJ9e",
        "outputId": "4f432186-d0ad-4a59-af8d-fd51077b3d2d"
      },
      "outputs": [
        {
          "output_type": "display_data",
          "data": {
            "text/plain": [
              "FloatProgress(value=0.0, bar_style='info', description='Progress:', layout=Layout(height='25px', width='50%'),…"
            ],
            "application/vnd.jupyter.widget-view+json": {
              "version_major": 2,
              "version_minor": 0,
              "model_id": "676388990ee649f9b1ffde1dd58a0b62"
            }
          },
          "metadata": {}
        }
      ],
      "source": [
        "%%spark\n",
        "\n",
        "from pyspark.sql.types import *\n",
        "\n",
        "schema_products = StructType([\n",
        "          StructField(\"asin\", StringType(), nullable=True),\n",
        "           StructField(\"title\", StringType(), nullable=True),\n",
        "           StructField(\"price\", FloatType(), nullable=True),\n",
        "           StructField(\"imUrl\", StringType(), nullable=True),\n",
        "           StructField(\"related\", ArrayType(\n",
        "                StructType([\n",
        "                  StructField(\"also_bought\", ArrayType(StringType()), nullable=True),\n",
        "                  StructField(\"also_viewed\", ArrayType(StringType()), nullable=True),\n",
        "                  StructField(\"bought_together\", ArrayType(StringType()), nullable=True)\n",
        "                ])\n",
        "           ), nullable=True),\n",
        "           StructField(\"salesRank\", MapType(StringType(), StringType()), nullable=True),\n",
        "           StructField(\"brand\", StringType(), nullable=True),\n",
        "           StructField(\"categories\", ArrayType(StringType()), nullable=True),\n",
        "])\n",
        "\n",
        "#TODO: Create a schema for the reviews datasets\n",
        "schema_reviews = StructType([\n",
        "          StructField(\"index\", IntegerType(),  nullable=True),\n",
        "           StructField(\"reviewerID\", StringType(), nullable=True),\n",
        "           StructField(\"asin\", StringType(), nullable=True),\n",
        "           StructField(\"reviewerName\", StringType(), nullable=True),\n",
        "           StructField(\"helpful\", StringType(), nullable=True),\n",
        "           StructField(\"reviewText\", StringType(), nullable=True),\n",
        "           StructField(\"overall\", FloatType(), nullable=True),\n",
        "           StructField(\"summary\", StringType(), nullable=True),\n",
        "           StructField(\"unixReviewTime\", IntegerType(), nullable=True),\n",
        "           StructField(\"reviewTime\", StringType(), nullable=True),\n",
        "])\n",
        "\n",
        "\n",
        "\n",
        "\n",
        "#[{\"name\":\"index\",\"type\":\"integer\"},\n",
        "#{\"name\":\"reviewerID\",\"type\":\"string\"},\n",
        "#{\"name\":\"asin\",\"type\":\"string\"},\n",
        "#{\"name\":\"reviewerName\",\"type\":\"string\"},\n",
        "#{\"name\":\"helpful\",\"type\":\"string\"},\n",
        "#{\"name\":\"reviewText\",\"type\":\"string\"},\n",
        "#{\"name\":\"overall\",\"type\":\"integer\"},\n",
        "#{\"name\":\"summary\",\"type\":\"string\"},\n",
        "#{\"name\":\"unixReviewTime\",\"type\":\"integer\"},\n",
        "#{\"name\":\"reviewTime\",\"type\":\"string\"}],\n",
        "#\"primaryKey\":[\"index\"],"
      ]
    },
    {
      "cell_type": "markdown",
      "metadata": {
        "id": "2Su604X9ggc2"
      },
      "source": [
        "### Step 1.2: The Langorous Load [9 pts]\n",
        "\n",
        "In the following cell, load the three `reviews` datasets and the three `products` datsets from your S3 bucket into Spark dataframes (sdf). If you have constructed `schema_reviews` and `schema_products` correctly, `spark.read.json()` will read in the datasets. The names of the datasets are listed below:\n",
        "\n",
        "Reviews:\n",
        "\n",
        "- `food_reviews.json`\n",
        "- `home_kitchen_reviews.json`\n",
        "- `toys_games_reviews.json`\n",
        "\n",
        "Products:\n",
        "\n",
        "- `food_metadata.json`\n",
        "- `home_kitchen_meta.json`\n",
        "- `toys_games_meta.json`\n",
        "\n",
        "\n",
        "\n",
        "***You do not need to edit this cell***. If this doesn't work, go back to the prior cell and update your schema. Note that the cell below will load data even if your schema is incomplete and has left out some columns of the data, so be sure to check that you have included all of the fields from the JSON."
      ]
    },
    {
      "cell_type": "code",
      "execution_count": null,
      "metadata": {
        "colab": {
          "base_uri": "https://localhost:8080/",
          "height": 17,
          "referenced_widgets": [
            "5a9357b07767409e836080cc222b2653",
            "edd6ed0358f44955a73554e80423c565",
            "a4b4afa2bfba44cc977992b455c2a7b6"
          ]
        },
        "id": "Tcpx-SExfyJa",
        "outputId": "8d561199-3ff3-4635-88ca-d0b814569557"
      },
      "outputs": [
        {
          "output_type": "display_data",
          "data": {
            "text/plain": [
              "FloatProgress(value=0.0, bar_style='info', description='Progress:', layout=Layout(height='25px', width='50%'),…"
            ],
            "application/vnd.jupyter.widget-view+json": {
              "version_major": 2,
              "version_minor": 0,
              "model_id": "5a9357b07767409e836080cc222b2653"
            }
          },
          "metadata": {}
        }
      ],
      "source": [
        "%%spark\n",
        "\n",
        "food_reviews_sdf = spark.read.json(\"s3://penn-cis545-files/food_reviews.json\", schema=schema_reviews, multiLine = False, primitivesAsString = True)\n",
        "home_kitchen_reviews_sdf = spark.read.json(\"s3://penn-cis545-files/home_kitchen_reviews.json\", schema=schema_reviews, multiLine = False, primitivesAsString = True)\n",
        "toys_games_reviews_sdf = spark.read.json(\"s3://penn-cis545-files/toys_games_reviews.json\", schema=schema_reviews, multiLine = False, primitivesAsString = True)\n"
      ]
    },
    {
      "cell_type": "code",
      "execution_count": null,
      "metadata": {
        "colab": {
          "base_uri": "https://localhost:8080/",
          "height": 207,
          "referenced_widgets": [
            "d2856e77ac0c4c57b827c66f51613963",
            "6f16a5830ba249f3b4155000fed91412",
            "fd81aaf53c804de3a445ecb912898757"
          ]
        },
        "id": "eAgWjMU3ikD_",
        "outputId": "674781ca-fd4a-4e76-9701-e255af09e828"
      },
      "outputs": [
        {
          "output_type": "display_data",
          "data": {
            "text/plain": [
              "FloatProgress(value=0.0, bar_style='info', description='Progress:', layout=Layout(height='25px', width='50%'),…"
            ],
            "application/vnd.jupyter.widget-view+json": {
              "version_major": 2,
              "version_minor": 0,
              "model_id": "d2856e77ac0c4c57b827c66f51613963"
            }
          },
          "metadata": {}
        },
        {
          "output_type": "stream",
          "name": "stdout",
          "text": [
            "+-----+--------------+----------+-----------------+-------+--------------------+-------+--------------------+--------------+-----------+\n",
            "|index|    reviewerID|      asin|     reviewerName|helpful|          reviewText|overall|             summary|unixReviewTime| reviewTime|\n",
            "+-----+--------------+----------+-----------------+-------+--------------------+-------+--------------------+--------------+-----------+\n",
            "| null|A210NOCSTBT4OD|0076144011|           Sheila|  [0,0]|Have you ever tho...|    4.0|              Lovely|    1349308800| 10 4, 2012|\n",
            "| null|A28ILV4TOG8BH2|0130350591|         ccjensen|  [0,0]|The butter dish i...|    5.0|Nice looking, and...|    1300752000|03 22, 2011|\n",
            "| null|A31B4D7URW4DNZ|0307394530|           3Gigi3|[11,16]|I anxiously waite...|    2.0| Mother of the Bride|    1214784000|06 30, 2008|\n",
            "| null|A2HU0RPDRZZOP1|0307394530|   Alexey Leontev|  [0,0]|Fantastic book, a...|    5.0|        amazing book|    1277337600|06 24, 2010|\n",
            "| null| A7J0XOW7DYBBD|0307394530|Allan Mar Cariaso|  [0,0]|Can't wait to try...|    5.0|        Very helpful|    1393113600|02 23, 2014|\n",
            "+-----+--------------+----------+-----------------+-------+--------------------+-------+--------------------+--------------+-----------+\n",
            "only showing top 5 rows"
          ]
        }
      ],
      "source": [
        "%%spark\n",
        "# Let's print out the first few rows to see how the data looks like in tabular form\n",
        "home_kitchen_reviews_sdf.show(5)"
      ]
    },
    {
      "cell_type": "code",
      "execution_count": null,
      "metadata": {
        "colab": {
          "base_uri": "https://localhost:8080/",
          "height": 17,
          "referenced_widgets": [
            "8ee3ac93ce8345208ff2da0217d2f8f6",
            "06f5b03d2e2548faa7415e9ae5cb240e",
            "caa08b92826d47f6bfde1e176292000a"
          ]
        },
        "id": "ff6o83l3f-Af",
        "outputId": "850733b6-0f31-42a2-97c8-f46bd9f3e520"
      },
      "outputs": [
        {
          "output_type": "display_data",
          "data": {
            "text/plain": [
              "FloatProgress(value=0.0, bar_style='info', description='Progress:', layout=Layout(height='25px', width='50%'),…"
            ],
            "application/vnd.jupyter.widget-view+json": {
              "version_major": 2,
              "version_minor": 0,
              "model_id": "8ee3ac93ce8345208ff2da0217d2f8f6"
            }
          },
          "metadata": {}
        }
      ],
      "source": [
        "%%spark\n",
        "\n",
        "#TODO: Create a spark dataframe for food_prod_sdf, home_kitchen_prod_sdf, and toys_games_prod_sdf\n",
        "food_prod_sdf = spark.read.json(\"s3://penn-cis545-files/food_metadata.json\", schema=schema_products, multiLine = False, primitivesAsString = True)\n",
        "home_kitchen_prod_sdf = spark.read.json(\"s3://penn-cis545-files/home_kitchen_meta.json\", schema=schema_products, multiLine = False, primitivesAsString = True)\n",
        "toys_games_prod_sdf = spark.read.json(\"s3://penn-cis545-files/toys_games_meta.json\", schema=schema_products, multiLine = False, primitivesAsString = True)"
      ]
    },
    {
      "cell_type": "markdown",
      "metadata": {
        "id": "jMVCVotcE1wv"
      },
      "source": [
        "The cell below shows how to run SQL commands on Spark tables. Use this as a template for all your SQL queries in this notebook.\n",
        "\n",
        "***You do not need to edit this cell***."
      ]
    },
    {
      "cell_type": "code",
      "execution_count": null,
      "metadata": {
        "colab": {
          "base_uri": "https://localhost:8080/",
          "height": 207,
          "referenced_widgets": [
            "d088d15ca3144e20912f04a633890900",
            "55c2cb8e31244760920ceed85b10fe05",
            "825470711ad54f6dbadf1619a5516ff3"
          ]
        },
        "id": "jYm3ooYw9eiL",
        "outputId": "76d78b34-811b-4f1e-ae30-f09da07fec26"
      },
      "outputs": [
        {
          "output_type": "display_data",
          "data": {
            "text/plain": [
              "FloatProgress(value=0.0, bar_style='info', description='Progress:', layout=Layout(height='25px', width='50%'),…"
            ],
            "application/vnd.jupyter.widget-view+json": {
              "version_major": 2,
              "version_minor": 0,
              "model_id": "d088d15ca3144e20912f04a633890900"
            }
          },
          "metadata": {}
        },
        {
          "output_type": "stream",
          "name": "stdout",
          "text": [
            "+----------+--------------------+-----+--------------------+-------+--------------------+------------+--------------------+\n",
            "|      asin|               title|price|               imUrl|related|           salesRank|       brand|          categories|\n",
            "+----------+--------------------+-----+--------------------+-------+--------------------+------------+--------------------+\n",
            "|0076144011|Ninjas, Piranhas,...| null|http://g-ecx.imag...|   null|  {Books -> 6285595}|        null|[[\"Home & Kitchen\"]]|\n",
            "|0130350591|Le Creuset Kiwi (...| null|http://ecx.images...|   null|{Kitchen & Dining...|        null|[[\"Home & Kitchen...|\n",
            "|0307394530|Martha Stewart's ...|14.99|http://ecx.images...|   null|{Arts, Crafts & S...|Random House|[[\"Home & Kitchen...|\n",
            "|0439903491|                null|29.99|http://ecx.images...|   null|  {Software -> 7065}|        null|[[\"Home & Kitchen...|\n",
            "|0578060604|Build A Maloof In...| null|http://ecx.images...|   null|                null|        null|[[\"Home & Kitchen...|\n",
            "+----------+--------------------+-----+--------------------+-------+--------------------+------------+--------------------+\n",
            "only showing top 5 rows"
          ]
        }
      ],
      "source": [
        "%%spark\n",
        "home_kitchen_prod_sdf.show(5)"
      ]
    },
    {
      "cell_type": "code",
      "execution_count": null,
      "metadata": {
        "id": "EJ0aRJM-NEYV"
      },
      "outputs": [],
      "source": [
        "import pandas as pd"
      ]
    },
    {
      "cell_type": "code",
      "execution_count": null,
      "metadata": {
        "colab": {
          "base_uri": "https://localhost:8080/",
          "height": 275,
          "referenced_widgets": [
            "48211eb70d7b43d29d74925b55ff5c9d",
            "3e5bcf50f09b45d183342550aeab0db6",
            "5fa32a772326478d8a512970a495e874"
          ]
        },
        "id": "7CnbKKqtnicU",
        "outputId": "dff40413-554a-4cf9-ba28-52f8bd64dc3a"
      },
      "outputs": [
        {
          "output_type": "display_data",
          "data": {
            "text/plain": [
              "FloatProgress(value=0.0, bar_style='info', description='Progress:', layout=Layout(height='25px', width='50%'),…"
            ],
            "application/vnd.jupyter.widget-view+json": {
              "version_major": 2,
              "version_minor": 0,
              "model_id": "48211eb70d7b43d29d74925b55ff5c9d"
            }
          },
          "metadata": {}
        },
        {
          "output_type": "stream",
          "name": "stdout",
          "text": [
            "+-----+--------------+----------+--------------------+-------+--------------------+-------+--------------------+--------------+-----------+\n",
            "|index|    reviewerID|      asin|        reviewerName|helpful|          reviewText|overall|             summary|unixReviewTime| reviewTime|\n",
            "+-----+--------------+----------+--------------------+-------+--------------------+-------+--------------------+--------------+-----------+\n",
            "| null|A2NSZZ7Y0RAE45|B00LQWKDBM|Michael Freed \"fr...|  [0,0]|Makes AMAZING mea...|    5.0|    AMAZING meatloaf|    1405123200|07 12, 2014|\n",
            "| null|A1DGBQQIBHTLPF|B00LOZ7F0S|     Berkley Roberts|  [0,0]|I was attracted t...|    5.0|Great Appeal and ...|    1405555200|07 17, 2014|\n",
            "| null|A3DYJ90MXMH04P|B00LOZ7F0S|    Maximiliano Korp|  [1,1]|Wonderful vanilla...|    5.0|Wonderful vanilla...|    1404950400|07 10, 2014|\n",
            "| null| AWQYAJV2QWLWA|B00LOZ7F0S|      Micheal Taylor|  [0,0]|I usually don't w...|    5.0|The best I have f...|    1405209600|07 13, 2014|\n",
            "| null|A2AT0AI6QKSY2C|B00LOZ7F0S|          Willy Korp|  [0,0]|I like to drink m...|    5.0|     Healthy product|    1405382400|07 15, 2014|\n",
            "| null| A6B61KJ12Z9SV|B00LMMLRG6| cynister \"cynister\"|  [1,1]|Cheesy, Crunchy, ...|    5.0|Cheesy, Crunchy, ...|    1405382400|07 15, 2014|\n",
            "| null| AMJB5BFAUE081|B00LDXFI6Y|          Richard C.|  [0,0]|Great product. I ...|    4.0|Great with conden...|    1405728000|07 19, 2014|\n",
            "| null|A2DG81T8YR0PTM|B00LDOM4OM|               Joycy|  [0,0]|If you like peanu...|    5.0|           Delicious|    1404086400|06 30, 2014|\n",
            "| null| ACF0NFD95VRUS|B00LDOM4OM|      Kris V. Warfel|  [0,0]|It is spicy but n...|    5.0|          good stuff|    1404086400|06 30, 2014|\n",
            "| null|A12XIXE9S64TF7|B00LDBMZ9O|xtina \"moy drook ...|  [0,0]|I cannot recommen...|    5.0|I cannot recommen...|    1404950400|07 10, 2014|\n",
            "+-----+--------------+----------+--------------------+-------+--------------------+-------+--------------------+--------------+-----------+"
          ]
        }
      ],
      "source": [
        "%%spark\n",
        "\n",
        "# Create SQL-accesible table\n",
        "food_reviews_sdf.createOrReplaceTempView(\"food_reviews\")\n",
        "\n",
        "# Declare SQL query to be excecuted\n",
        "query = '''SELECT *\n",
        "           FROM food_reviews ORDER BY `asin` DESC LIMIT 10'''\n",
        "\n",
        "# Save the output sdf of spark.sql() as answer_review_sdf and convert to Pandas\n",
        "answer_review_sdf = spark.sql(query)\n",
        "answer_review_sdf.show()\n"
      ]
    },
    {
      "cell_type": "markdown",
      "metadata": {
        "id": "MLF-swRBTuZG"
      },
      "source": [
        "We can then copy the `answer_review_sdf` to Colab to submit to PennGrader..."
      ]
    },
    {
      "cell_type": "code",
      "execution_count": null,
      "metadata": {
        "colab": {
          "base_uri": "https://localhost:8080/",
          "height": 17,
          "referenced_widgets": [
            "9c6a31bfe4a544458f2b4ebfa57a17b8",
            "2fd5e6e5c7c94f49a2b17ddd7aa43baa",
            "4ebe0119290349bebc787d61ea9fab6e",
            "ce6f1d496d264217b743f8dc989c20dc",
            "7e9a048515ef44d0aafaabfa79ba27ad",
            "b7473f6123a04485907d720c2cc6b882"
          ]
        },
        "id": "2z-mDBTorcX6",
        "outputId": "dfc63a63-2e4b-4fb3-85c3-6e9f2860af79"
      },
      "outputs": [
        {
          "output_type": "display_data",
          "data": {
            "text/plain": [
              "FloatProgress(value=0.0, bar_style='info', description='Progress:', layout=Layout(height='25px', width='50%'),…"
            ],
            "application/vnd.jupyter.widget-view+json": {
              "version_major": 2,
              "version_minor": 0,
              "model_id": "9c6a31bfe4a544458f2b4ebfa57a17b8"
            }
          },
          "metadata": {}
        },
        {
          "output_type": "display_data",
          "data": {
            "text/plain": [
              "FloatProgress(value=0.0, bar_style='info', description='Progress:', layout=Layout(height='25px', width='50%'),…"
            ],
            "application/vnd.jupyter.widget-view+json": {
              "version_major": 2,
              "version_minor": 0,
              "model_id": "ce6f1d496d264217b743f8dc989c20dc"
            }
          },
          "metadata": {}
        }
      ],
      "source": [
        "%spark -o answer_review_sdf"
      ]
    },
    {
      "cell_type": "code",
      "execution_count": null,
      "metadata": {
        "colab": {
          "base_uri": "https://localhost:8080/",
          "height": 1000
        },
        "id": "GeB6VJVSsGmk",
        "outputId": "1cf88393-c25b-45a6-c900-f95da0d8255b"
      },
      "outputs": [
        {
          "output_type": "execute_result",
          "data": {
            "text/plain": [
              "       reviewerID        asin             reviewerName helpful  \\\n",
              "0  A2NSZZ7Y0RAE45  B00LQWKDBM  Michael Freed \"freedml\"   [0,0]   \n",
              "1  A1DGBQQIBHTLPF  B00LOZ7F0S          Berkley Roberts   [0,0]   \n",
              "2  A3DYJ90MXMH04P  B00LOZ7F0S         Maximiliano Korp   [1,1]   \n",
              "3   AWQYAJV2QWLWA  B00LOZ7F0S           Micheal Taylor   [0,0]   \n",
              "4  A2AT0AI6QKSY2C  B00LOZ7F0S               Willy Korp   [0,0]   \n",
              "5   A6B61KJ12Z9SV  B00LMMLRG6      cynister \"cynister\"   [1,1]   \n",
              "6   AMJB5BFAUE081  B00LDXFI6Y               Richard C.   [0,0]   \n",
              "7  A2DG81T8YR0PTM  B00LDOM4OM                    Joycy   [0,0]   \n",
              "8   ACF0NFD95VRUS  B00LDOM4OM           Kris V. Warfel   [0,0]   \n",
              "9  A12XIXE9S64TF7  B00LDBMZ9O  xtina \"moy drook reads\"   [0,0]   \n",
              "\n",
              "                                          reviewText  overall  \\\n",
              "0  Makes AMAZING meatloaf.  It's our &#34;old fam...      5.0   \n",
              "1  I was attracted to this product initially beca...      5.0   \n",
              "2  Wonderful vanilla. Very strong vanilla flavor,...      5.0   \n",
              "3  I usually don't write reviews but this product...      5.0   \n",
              "4  I like to drink my tea with vanilla extract, i...      5.0   \n",
              "5  Cheesy, Crunchy, Salty goodness. Exactly what ...      5.0   \n",
              "6  Great product. I usually add some sweetened co...      4.0   \n",
              "7  If you like peanuts and wasabi peas, you'll lo...      5.0   \n",
              "8  It is spicy but not overpowering and thes ship...      5.0   \n",
              "9  I cannot recommend these highly enough. I thin...      5.0   \n",
              "\n",
              "                                         summary  unixReviewTime reviewTime  \n",
              "0                               AMAZING meatloaf      1405123200 2014-07-12  \n",
              "1                      Great Appeal and Quality!      1405555200 2014-07-17  \n",
              "2  Wonderful vanilla. Very strong vanilla flavor      1404950400 2014-07-10  \n",
              "3                          The best I have found      1405209600 2014-07-13  \n",
              "4                                Healthy product      1405382400 2014-07-15  \n",
              "5               Cheesy, Crunchy, Salty goodness.      1405382400 2014-07-15  \n",
              "6                      Great with condensed milk      1405728000 2014-07-19  \n",
              "7                                      Delicious      1404086400 2014-06-30  \n",
              "8                                     good stuff      1404086400 2014-06-30  \n",
              "9         I cannot recommend these highly enough      1404950400 2014-07-10  "
            ],
            "text/html": [
              "\n",
              "  <div id=\"df-506619e8-70ea-4f04-a06f-9a99d09e913f\">\n",
              "    <div class=\"colab-df-container\">\n",
              "      <div>\n",
              "<style scoped>\n",
              "    .dataframe tbody tr th:only-of-type {\n",
              "        vertical-align: middle;\n",
              "    }\n",
              "\n",
              "    .dataframe tbody tr th {\n",
              "        vertical-align: top;\n",
              "    }\n",
              "\n",
              "    .dataframe thead th {\n",
              "        text-align: right;\n",
              "    }\n",
              "</style>\n",
              "<table border=\"1\" class=\"dataframe\">\n",
              "  <thead>\n",
              "    <tr style=\"text-align: right;\">\n",
              "      <th></th>\n",
              "      <th>reviewerID</th>\n",
              "      <th>asin</th>\n",
              "      <th>reviewerName</th>\n",
              "      <th>helpful</th>\n",
              "      <th>reviewText</th>\n",
              "      <th>overall</th>\n",
              "      <th>summary</th>\n",
              "      <th>unixReviewTime</th>\n",
              "      <th>reviewTime</th>\n",
              "    </tr>\n",
              "  </thead>\n",
              "  <tbody>\n",
              "    <tr>\n",
              "      <th>0</th>\n",
              "      <td>A2NSZZ7Y0RAE45</td>\n",
              "      <td>B00LQWKDBM</td>\n",
              "      <td>Michael Freed \"freedml\"</td>\n",
              "      <td>[0,0]</td>\n",
              "      <td>Makes AMAZING meatloaf.  It's our &amp;#34;old fam...</td>\n",
              "      <td>5.0</td>\n",
              "      <td>AMAZING meatloaf</td>\n",
              "      <td>1405123200</td>\n",
              "      <td>2014-07-12</td>\n",
              "    </tr>\n",
              "    <tr>\n",
              "      <th>1</th>\n",
              "      <td>A1DGBQQIBHTLPF</td>\n",
              "      <td>B00LOZ7F0S</td>\n",
              "      <td>Berkley Roberts</td>\n",
              "      <td>[0,0]</td>\n",
              "      <td>I was attracted to this product initially beca...</td>\n",
              "      <td>5.0</td>\n",
              "      <td>Great Appeal and Quality!</td>\n",
              "      <td>1405555200</td>\n",
              "      <td>2014-07-17</td>\n",
              "    </tr>\n",
              "    <tr>\n",
              "      <th>2</th>\n",
              "      <td>A3DYJ90MXMH04P</td>\n",
              "      <td>B00LOZ7F0S</td>\n",
              "      <td>Maximiliano Korp</td>\n",
              "      <td>[1,1]</td>\n",
              "      <td>Wonderful vanilla. Very strong vanilla flavor,...</td>\n",
              "      <td>5.0</td>\n",
              "      <td>Wonderful vanilla. Very strong vanilla flavor</td>\n",
              "      <td>1404950400</td>\n",
              "      <td>2014-07-10</td>\n",
              "    </tr>\n",
              "    <tr>\n",
              "      <th>3</th>\n",
              "      <td>AWQYAJV2QWLWA</td>\n",
              "      <td>B00LOZ7F0S</td>\n",
              "      <td>Micheal Taylor</td>\n",
              "      <td>[0,0]</td>\n",
              "      <td>I usually don't write reviews but this product...</td>\n",
              "      <td>5.0</td>\n",
              "      <td>The best I have found</td>\n",
              "      <td>1405209600</td>\n",
              "      <td>2014-07-13</td>\n",
              "    </tr>\n",
              "    <tr>\n",
              "      <th>4</th>\n",
              "      <td>A2AT0AI6QKSY2C</td>\n",
              "      <td>B00LOZ7F0S</td>\n",
              "      <td>Willy Korp</td>\n",
              "      <td>[0,0]</td>\n",
              "      <td>I like to drink my tea with vanilla extract, i...</td>\n",
              "      <td>5.0</td>\n",
              "      <td>Healthy product</td>\n",
              "      <td>1405382400</td>\n",
              "      <td>2014-07-15</td>\n",
              "    </tr>\n",
              "    <tr>\n",
              "      <th>5</th>\n",
              "      <td>A6B61KJ12Z9SV</td>\n",
              "      <td>B00LMMLRG6</td>\n",
              "      <td>cynister \"cynister\"</td>\n",
              "      <td>[1,1]</td>\n",
              "      <td>Cheesy, Crunchy, Salty goodness. Exactly what ...</td>\n",
              "      <td>5.0</td>\n",
              "      <td>Cheesy, Crunchy, Salty goodness.</td>\n",
              "      <td>1405382400</td>\n",
              "      <td>2014-07-15</td>\n",
              "    </tr>\n",
              "    <tr>\n",
              "      <th>6</th>\n",
              "      <td>AMJB5BFAUE081</td>\n",
              "      <td>B00LDXFI6Y</td>\n",
              "      <td>Richard C.</td>\n",
              "      <td>[0,0]</td>\n",
              "      <td>Great product. I usually add some sweetened co...</td>\n",
              "      <td>4.0</td>\n",
              "      <td>Great with condensed milk</td>\n",
              "      <td>1405728000</td>\n",
              "      <td>2014-07-19</td>\n",
              "    </tr>\n",
              "    <tr>\n",
              "      <th>7</th>\n",
              "      <td>A2DG81T8YR0PTM</td>\n",
              "      <td>B00LDOM4OM</td>\n",
              "      <td>Joycy</td>\n",
              "      <td>[0,0]</td>\n",
              "      <td>If you like peanuts and wasabi peas, you'll lo...</td>\n",
              "      <td>5.0</td>\n",
              "      <td>Delicious</td>\n",
              "      <td>1404086400</td>\n",
              "      <td>2014-06-30</td>\n",
              "    </tr>\n",
              "    <tr>\n",
              "      <th>8</th>\n",
              "      <td>ACF0NFD95VRUS</td>\n",
              "      <td>B00LDOM4OM</td>\n",
              "      <td>Kris V. Warfel</td>\n",
              "      <td>[0,0]</td>\n",
              "      <td>It is spicy but not overpowering and thes ship...</td>\n",
              "      <td>5.0</td>\n",
              "      <td>good stuff</td>\n",
              "      <td>1404086400</td>\n",
              "      <td>2014-06-30</td>\n",
              "    </tr>\n",
              "    <tr>\n",
              "      <th>9</th>\n",
              "      <td>A12XIXE9S64TF7</td>\n",
              "      <td>B00LDBMZ9O</td>\n",
              "      <td>xtina \"moy drook reads\"</td>\n",
              "      <td>[0,0]</td>\n",
              "      <td>I cannot recommend these highly enough. I thin...</td>\n",
              "      <td>5.0</td>\n",
              "      <td>I cannot recommend these highly enough</td>\n",
              "      <td>1404950400</td>\n",
              "      <td>2014-07-10</td>\n",
              "    </tr>\n",
              "  </tbody>\n",
              "</table>\n",
              "</div>\n",
              "      <button class=\"colab-df-convert\" onclick=\"convertToInteractive('df-506619e8-70ea-4f04-a06f-9a99d09e913f')\"\n",
              "              title=\"Convert this dataframe to an interactive table.\"\n",
              "              style=\"display:none;\">\n",
              "        \n",
              "  <svg xmlns=\"http://www.w3.org/2000/svg\" height=\"24px\"viewBox=\"0 0 24 24\"\n",
              "       width=\"24px\">\n",
              "    <path d=\"M0 0h24v24H0V0z\" fill=\"none\"/>\n",
              "    <path d=\"M18.56 5.44l.94 2.06.94-2.06 2.06-.94-2.06-.94-.94-2.06-.94 2.06-2.06.94zm-11 1L8.5 8.5l.94-2.06 2.06-.94-2.06-.94L8.5 2.5l-.94 2.06-2.06.94zm10 10l.94 2.06.94-2.06 2.06-.94-2.06-.94-.94-2.06-.94 2.06-2.06.94z\"/><path d=\"M17.41 7.96l-1.37-1.37c-.4-.4-.92-.59-1.43-.59-.52 0-1.04.2-1.43.59L10.3 9.45l-7.72 7.72c-.78.78-.78 2.05 0 2.83L4 21.41c.39.39.9.59 1.41.59.51 0 1.02-.2 1.41-.59l7.78-7.78 2.81-2.81c.8-.78.8-2.07 0-2.86zM5.41 20L4 18.59l7.72-7.72 1.47 1.35L5.41 20z\"/>\n",
              "  </svg>\n",
              "      </button>\n",
              "      \n",
              "  <style>\n",
              "    .colab-df-container {\n",
              "      display:flex;\n",
              "      flex-wrap:wrap;\n",
              "      gap: 12px;\n",
              "    }\n",
              "\n",
              "    .colab-df-convert {\n",
              "      background-color: #E8F0FE;\n",
              "      border: none;\n",
              "      border-radius: 50%;\n",
              "      cursor: pointer;\n",
              "      display: none;\n",
              "      fill: #1967D2;\n",
              "      height: 32px;\n",
              "      padding: 0 0 0 0;\n",
              "      width: 32px;\n",
              "    }\n",
              "\n",
              "    .colab-df-convert:hover {\n",
              "      background-color: #E2EBFA;\n",
              "      box-shadow: 0px 1px 2px rgba(60, 64, 67, 0.3), 0px 1px 3px 1px rgba(60, 64, 67, 0.15);\n",
              "      fill: #174EA6;\n",
              "    }\n",
              "\n",
              "    [theme=dark] .colab-df-convert {\n",
              "      background-color: #3B4455;\n",
              "      fill: #D2E3FC;\n",
              "    }\n",
              "\n",
              "    [theme=dark] .colab-df-convert:hover {\n",
              "      background-color: #434B5C;\n",
              "      box-shadow: 0px 1px 3px 1px rgba(0, 0, 0, 0.15);\n",
              "      filter: drop-shadow(0px 1px 2px rgba(0, 0, 0, 0.3));\n",
              "      fill: #FFFFFF;\n",
              "    }\n",
              "  </style>\n",
              "\n",
              "      <script>\n",
              "        const buttonEl =\n",
              "          document.querySelector('#df-506619e8-70ea-4f04-a06f-9a99d09e913f button.colab-df-convert');\n",
              "        buttonEl.style.display =\n",
              "          google.colab.kernel.accessAllowed ? 'block' : 'none';\n",
              "\n",
              "        async function convertToInteractive(key) {\n",
              "          const element = document.querySelector('#df-506619e8-70ea-4f04-a06f-9a99d09e913f');\n",
              "          const dataTable =\n",
              "            await google.colab.kernel.invokeFunction('convertToInteractive',\n",
              "                                                     [key], {});\n",
              "          if (!dataTable) return;\n",
              "\n",
              "          const docLinkHtml = 'Like what you see? Visit the ' +\n",
              "            '<a target=\"_blank\" href=https://colab.research.google.com/notebooks/data_table.ipynb>data table notebook</a>'\n",
              "            + ' to learn more about interactive tables.';\n",
              "          element.innerHTML = '';\n",
              "          dataTable['output_type'] = 'display_data';\n",
              "          await google.colab.output.renderOutput(dataTable, element);\n",
              "          const docLink = document.createElement('div');\n",
              "          docLink.innerHTML = docLinkHtml;\n",
              "          element.appendChild(docLink);\n",
              "        }\n",
              "      </script>\n",
              "    </div>\n",
              "  </div>\n",
              "  "
            ]
          },
          "metadata": {},
          "execution_count": 16
        }
      ],
      "source": [
        "answer_review_sdf"
      ]
    },
    {
      "cell_type": "markdown",
      "metadata": {
        "id": "-A9nzeVaG4QV"
      },
      "source": [
        "Now, you will implement the exact same thing yourself for `food_prod_sdf` and submit it to the grader. Select all columns from `food_prod` and order by the `asin` column (descending). Limit your output to only 10 rows and save your output dataframe to Colab as answer_prod_sdf."
      ]
    },
    {
      "cell_type": "code",
      "execution_count": null,
      "metadata": {
        "colab": {
          "base_uri": "https://localhost:8080/",
          "height": 275,
          "referenced_widgets": [
            "eca17d16760945fbb169c38e7012c00d",
            "141d88d7000349b18e776ec2ea49475e",
            "92a057c526654eacbcd6dd4f6bf511ab"
          ]
        },
        "id": "9ZGUCgYCoVxY",
        "outputId": "a2876710-24ba-486e-d7f7-0e52a093d824"
      },
      "outputs": [
        {
          "output_type": "display_data",
          "data": {
            "text/plain": [
              "FloatProgress(value=0.0, bar_style='info', description='Progress:', layout=Layout(height='25px', width='50%'),…"
            ],
            "application/vnd.jupyter.widget-view+json": {
              "version_major": 2,
              "version_minor": 0,
              "model_id": "eca17d16760945fbb169c38e7012c00d"
            }
          },
          "metadata": {}
        },
        {
          "output_type": "stream",
          "name": "stdout",
          "text": [
            "+----------+--------------------+------+--------------------+-------+--------------------+-----+--------------------+\n",
            "|      asin|               title| price|               imUrl|related|           salesRank|brand|          categories|\n",
            "+----------+--------------------+------+--------------------+-------+--------------------+-----+--------------------+\n",
            "|B00LQWKDBM|Mrs. Grass Onion ...|  null|http://ecx.images...|   null|                null| null|[[\"Grocery & Gour...|\n",
            "|B00LOZ7F0S|Organic Mexican V...|  null|http://ecx.images...|   null|                null| null|[[\"Grocery & Gour...|\n",
            "|B00LOXAZ1Q|Sour Punch Blue R...| 16.55|http://ecx.images...|   null|{Grocery & Gourme...| null|[[\"Grocery & Gour...|\n",
            "|B00LMMLRG6|Moon Cheese, 2 Oz...| 16.95|http://ecx.images...|   null|{Grocery & Gourme...| null|[[\"Grocery & Gour...|\n",
            "|B00LDXFI6Y|Nescafe Cafe Viet...| 17.99|http://ecx.images...|   null|                null| null|[[\"Grocery & Gour...|\n",
            "|B00LDOM4OM|Jessy Home Green ...|  null|http://ecx.images...|   null|{Grocery & Gourme...| null|[[\"Grocery & Gour...|\n",
            "|B00LDBMZ9O|Bark Thins Snacki...| 38.99|http://ecx.images...|   null|{Grocery & Gourme...| null|[[\"Grocery & Gour...|\n",
            "|B00LD1HC3I|Nut Bites (Gluten...|  null|http://ecx.images...|   null|{Grocery & Gourme...| null|[[\"Grocery & Gour...|\n",
            "|B00LC9PSI2|Garden of Life Ra...|119.99|http://ecx.images...|   null|{Health & Persona...| null|[[\"Grocery & Gour...|\n",
            "|B00LB86WQ6|Ballard Extracts,...|  40.0|http://ecx.images...|   null|{Grocery & Gourme...| null|[[\"Grocery & Gour...|\n",
            "+----------+--------------------+------+--------------------+-------+--------------------+-----+--------------------+"
          ]
        }
      ],
      "source": [
        "%%spark\n",
        "\n",
        "# Create SQL-accesible table\n",
        "food_prod_sdf.createOrReplaceTempView(\"food_prod\")\n",
        "\n",
        "# Declare SQL query to be excecuted\n",
        "query = '''SELECT *\n",
        "           FROM food_prod ORDER BY `asin` DESC LIMIT 10'''\n",
        "\n",
        "# Save the output sdf of spark.sql() as answer_prod_sdf\n",
        "answer_prod_sdf = spark.sql(query)\n",
        "answer_prod_sdf.show()\n"
      ]
    },
    {
      "cell_type": "code",
      "execution_count": null,
      "metadata": {
        "colab": {
          "base_uri": "https://localhost:8080/",
          "height": 17,
          "referenced_widgets": [
            "016f044804a7431f8946da8c192276f6",
            "3167d4072584461083377da21674e269",
            "36af306c7c464ac09f0d4c9a322dbe2b",
            "a18c23e70478443dbdd0a08eebab0569",
            "5a8c1590934543a185ad03923f638b7e",
            "e6d1ce0ef8de4ad9b13f68af63403621"
          ]
        },
        "id": "-_-HI3SWO2nh",
        "outputId": "fa1f8055-808d-4ebe-fafa-eaa11094cac6"
      },
      "outputs": [
        {
          "output_type": "display_data",
          "data": {
            "text/plain": [
              "FloatProgress(value=0.0, bar_style='info', description='Progress:', layout=Layout(height='25px', width='50%'),…"
            ],
            "application/vnd.jupyter.widget-view+json": {
              "version_major": 2,
              "version_minor": 0,
              "model_id": "016f044804a7431f8946da8c192276f6"
            }
          },
          "metadata": {}
        },
        {
          "output_type": "display_data",
          "data": {
            "text/plain": [
              "FloatProgress(value=0.0, bar_style='info', description='Progress:', layout=Layout(height='25px', width='50%'),…"
            ],
            "application/vnd.jupyter.widget-view+json": {
              "version_major": 2,
              "version_minor": 0,
              "model_id": "a18c23e70478443dbdd0a08eebab0569"
            }
          },
          "metadata": {}
        }
      ],
      "source": [
        "%spark -o answer_prod_sdf"
      ]
    },
    {
      "cell_type": "code",
      "execution_count": null,
      "metadata": {
        "colab": {
          "base_uri": "https://localhost:8080/"
        },
        "id": "z5T4kv0jpPLU",
        "outputId": "4d407c0a-b5ea-479a-8ed1-c3946d3f3521"
      },
      "outputs": [
        {
          "output_type": "stream",
          "name": "stdout",
          "text": [
            "Correct! You earned 4/4 points. You are a star!\n",
            "\n",
            "Your submission has been successfully recorded in the gradebook.\n"
          ]
        }
      ],
      "source": [
        "## AUTOGRADER\n",
        "#4 points\n",
        "grader.grade(test_case_id = 'test_answer_prod', answer = answer_prod_sdf)"
      ]
    },
    {
      "cell_type": "markdown",
      "metadata": {
        "id": "G81VMofArbSD"
      },
      "source": [
        "In the next cell, we want to find the ten most expensive food products. Create `food_prices_sdf` to fetch the data from `food_prod_sdf` table, returning rows with schema `(asin,title,price)` and ordered by price (descending). Limit your sdf to 10 rows. Save your final answer to Colab to submit to PennGrader.\n"
      ]
    },
    {
      "cell_type": "code",
      "execution_count": null,
      "metadata": {
        "colab": {
          "base_uri": "https://localhost:8080/",
          "height": 255,
          "referenced_widgets": [
            "68c7c067606e4eae964e4b9499bb7479",
            "9cda6f21b167436491769cec2c1d9920",
            "cfc8ba08196042fa91d6a78edafd7b67"
          ]
        },
        "id": "FiX4gS6-sgal",
        "outputId": "b93fba93-a597-447a-d326-549f19640029"
      },
      "outputs": [
        {
          "output_type": "display_data",
          "data": {
            "text/plain": [
              "FloatProgress(value=0.0, bar_style='info', description='Progress:', layout=Layout(height='25px', width='50%'),…"
            ],
            "application/vnd.jupyter.widget-view+json": {
              "version_major": 2,
              "version_minor": 0,
              "model_id": "68c7c067606e4eae964e4b9499bb7479"
            }
          },
          "metadata": {}
        },
        {
          "output_type": "stream",
          "name": "stdout",
          "text": [
            "+----------+--------------------+------+\n",
            "|      asin|               title| price|\n",
            "+----------+--------------------+------+\n",
            "|B007RAMAA4|Havista Dried Shi...|999.99|\n",
            "|B005GX8N7S|Barbara's Bakery ...|999.52|\n",
            "|B006TN0I5O|Italian Pizza Sou...| 960.0|\n",
            "|B0029XZAUQ|Sharp, Provolone ...|857.26|\n",
            "|B001J87TOW|BOSS BAR ADVANCE ...| 854.8|\n",
            "|B001E5DC0U|Taste Specialty F...|835.45|\n",
            "|B002EPJQCM|Marcona Almonds -...|818.15|\n",
            "|B002AQPVEC|Jamon Iberico de ...| 799.0|\n",
            "|B004TABDRG|FLAVIA Creation 4...| 799.0|\n",
            "|B00DORGCGM|2012 Kongming Gon...| 789.0|\n",
            "+----------+--------------------+------+"
          ]
        }
      ],
      "source": [
        "%%spark\n",
        "\n",
        "# TODO: create food_prices_sdf\n",
        "\n",
        "\n",
        "# Create SQL-accesible table\n",
        "food_prod_sdf.createOrReplaceTempView(\"food_prod\")\n",
        "\n",
        "# Declare SQL query to be excecuted\n",
        "query = '''SELECT asin, title, price\n",
        "           FROM food_prod ORDER BY price DESC LIMIT 10'''\n",
        "\n",
        "# Save the output sdf of spark.sql() as answer_prod_sdf\n",
        "food_prices_sdf = spark.sql(query)\n",
        "food_prices_sdf.show()\n"
      ]
    },
    {
      "cell_type": "code",
      "execution_count": null,
      "metadata": {
        "colab": {
          "base_uri": "https://localhost:8080/",
          "height": 17,
          "referenced_widgets": [
            "a140d41ac0604504b163e3b315d5c5bb",
            "7512e33281a34497a3cf5bad5ddd87bd",
            "35cc176daa4645aba2f38eb7e01176f0",
            "19e002c6d1364249b69f29de4bc1c31a",
            "fdcbb373494544a8b5fc5121de038511",
            "1a5b2e6300084f8cb4c44044433f13f9"
          ]
        },
        "id": "5eXGu4RTRD-k",
        "outputId": "28376c86-62ad-4472-c576-87df61703e6e"
      },
      "outputs": [
        {
          "output_type": "display_data",
          "data": {
            "text/plain": [
              "FloatProgress(value=0.0, bar_style='info', description='Progress:', layout=Layout(height='25px', width='50%'),…"
            ],
            "application/vnd.jupyter.widget-view+json": {
              "version_major": 2,
              "version_minor": 0,
              "model_id": "a140d41ac0604504b163e3b315d5c5bb"
            }
          },
          "metadata": {}
        },
        {
          "output_type": "display_data",
          "data": {
            "text/plain": [
              "FloatProgress(value=0.0, bar_style='info', description='Progress:', layout=Layout(height='25px', width='50%'),…"
            ],
            "application/vnd.jupyter.widget-view+json": {
              "version_major": 2,
              "version_minor": 0,
              "model_id": "19e002c6d1364249b69f29de4bc1c31a"
            }
          },
          "metadata": {}
        }
      ],
      "source": [
        "%spark -o food_prices_sdf"
      ]
    },
    {
      "cell_type": "code",
      "execution_count": null,
      "metadata": {
        "colab": {
          "base_uri": "https://localhost:8080/"
        },
        "id": "LEDWWnGTs25a",
        "outputId": "9c7846bb-20f3-40a9-bda0-d1b03104f373"
      },
      "outputs": [
        {
          "output_type": "stream",
          "name": "stdout",
          "text": [
            "Correct! You earned 5/5 points. You are a star!\n",
            "\n",
            "Your submission has been successfully recorded in the gradebook.\n"
          ]
        }
      ],
      "source": [
        "\n",
        "# 5 points\n",
        "grader.grade(test_case_id = 'test_food_price', answer = food_prices_sdf)"
      ]
    },
    {
      "cell_type": "markdown",
      "metadata": {
        "id": "-2vq-3ZfBYZD"
      },
      "source": [
        "### Step 1.3: Further Cleaning [9 pts]\n",
        "\n",
        "Before we move on to the later parts of this homework, we want to do some cleaning of our datasets. Currently, our datasets are divided based on their category (Food is in its own table, Home and Kitchen is its own table, etc.), but we eventually want to combine our dataframes so that they are easier to work with. If we do this, we want to be able to discern what category each product belongs to, but there currently does not exist any column that tells us the category of a product.\n",
        "\n",
        "\n",
        "For `food_prod_sdf`, create a new column called `category` where every value in this column will be 'Food'. Name this dataframe as `food_prod_final_sdf`. Repeat this for `toys_games_prod_sdf` and `home_kitchen_prod_sdf.` In `toys_games_prod_sdf`, every value in the `category` column will be 'Toys & Games'. In `home_kitchen_prod_sdf`, every value in this column will be 'Home & Kitchen'. Name these dataframes as `toys_games_prod_final_sdf` and `home_kitchen_prod_final_sdf`\n"
      ]
    },
    {
      "cell_type": "code",
      "execution_count": null,
      "metadata": {
        "colab": {
          "base_uri": "https://localhost:8080/",
          "height": 207,
          "referenced_widgets": [
            "0c69c921f6704788bd60f7e7edc73a23",
            "8ea2441dd7824740841f6a873e7eb4e2",
            "fe3ee860b4a64fddb1041a1933ca2838"
          ]
        },
        "id": "1rGpsq7xDhRj",
        "outputId": "a5f2b043-d381-4776-e261-f688b7c80cf5"
      },
      "outputs": [
        {
          "output_type": "display_data",
          "data": {
            "text/plain": [
              "FloatProgress(value=0.0, bar_style='info', description='Progress:', layout=Layout(height='25px', width='50%'),…"
            ],
            "application/vnd.jupyter.widget-view+json": {
              "version_major": 2,
              "version_minor": 0,
              "model_id": "0c69c921f6704788bd60f7e7edc73a23"
            }
          },
          "metadata": {}
        },
        {
          "output_type": "stream",
          "name": "stdout",
          "text": [
            "+----------+--------------------+-----+--------------------+-------+--------------------+-----+--------------------+\n",
            "|      asin|               title|price|               imUrl|related|           salesRank|brand|          categories|\n",
            "+----------+--------------------+-----+--------------------+-------+--------------------+-----+--------------------+\n",
            "|      null|                null| null|                null|   null|                null| null|                null|\n",
            "|0700026444|Pure Darjeeling T...| null|http://ecx.images...|   null|{Grocery & Gourme...| null|[[\"Grocery & Gour...|\n",
            "|1403796890|WWE Kids Todler V...| 3.99|http://ecx.images...|   null|                null| null|[[\"Grocery & Gour...|\n",
            "|141278509X|Archer Farms Stra...| null|http://ecx.images...|   null|{Grocery & Gourme...| null|[[\"Grocery & Gour...|\n",
            "|1453060375|Mio Energy Liquid...|11.99|http://ecx.images...|   null|{Grocery & Gourme...|  Mio|[[\"Grocery & Gour...|\n",
            "+----------+--------------------+-----+--------------------+-------+--------------------+-----+--------------------+\n",
            "only showing top 5 rows"
          ]
        }
      ],
      "source": [
        "%%spark\n",
        "food_prod_sdf.show(5)"
      ]
    },
    {
      "cell_type": "code",
      "execution_count": null,
      "metadata": {
        "colab": {
          "base_uri": "https://localhost:8080/",
          "height": 462,
          "referenced_widgets": [
            "282fd2f820bd42ca997979d3e77e7be4",
            "7f4dde8ffe8746d3b0c6720bf3379edd",
            "23abbec0b0f64a63bbf0e0cc63b81ff3"
          ]
        },
        "id": "ReMK5P097cZo",
        "outputId": "c741dd70-573d-4b75-e8ee-f6ac8889721c"
      },
      "outputs": [
        {
          "output_type": "display_data",
          "data": {
            "text/plain": [
              "FloatProgress(value=0.0, bar_style='info', description='Progress:', layout=Layout(height='25px', width='50%'),…"
            ],
            "application/vnd.jupyter.widget-view+json": {
              "version_major": 2,
              "version_minor": 0,
              "model_id": "282fd2f820bd42ca997979d3e77e7be4"
            }
          },
          "metadata": {}
        },
        {
          "output_type": "stream",
          "name": "stdout",
          "text": [
            "+----------+--------------------+-----+--------------------+-------+--------------------+-------+--------------------+--------+\n",
            "|      asin|               title|price|               imUrl|related|           salesRank|  brand|          categories|category|\n",
            "+----------+--------------------+-----+--------------------+-------+--------------------+-------+--------------------+--------+\n",
            "|      null|                null| null|                null|   null|                null|   null|                null|    Food|\n",
            "|0700026444|Pure Darjeeling T...| null|http://ecx.images...|   null|{Grocery & Gourme...|   null|[[\"Grocery & Gour...|    Food|\n",
            "|1403796890|WWE Kids Todler V...| 3.99|http://ecx.images...|   null|                null|   null|[[\"Grocery & Gour...|    Food|\n",
            "|141278509X|Archer Farms Stra...| null|http://ecx.images...|   null|{Grocery & Gourme...|   null|[[\"Grocery & Gour...|    Food|\n",
            "|1453060375|Mio Energy Liquid...|11.99|http://ecx.images...|   null|{Grocery & Gourme...|    Mio|[[\"Grocery & Gour...|    Food|\n",
            "|1453060782|Splash Energy Liq...| 6.39|http://ecx.images...|   null|                null|   null|[[\"Grocery & Gour...|    Food|\n",
            "|1453060464|Splash Energy Liq...| null|http://ecx.images...|   null|{Grocery & Gourme...|   null|[[\"Grocery & Gour...|    Food|\n",
            "|1603112251|Cocktail Kingdom ...|17.95|http://ecx.images...|   null|{Grocery & Gourme...|   null|[[\"Grocery & Gour...|    Food|\n",
            "|      null|                null| null|                null|   null|                null|   null|                null|    Food|\n",
            "|1837994021|Cadbury Dairy Mil...|11.95|http://ecx.images...|   null|{Grocery & Gourme...|Cadbury|[[\"Grocery & Gour...|    Food|\n",
            "|3301261876|Haribo Jelly Babi...| 25.0|http://ecx.images...|   null|{Grocery & Gourme...|   null|[[\"Grocery & Gour...|    Food|\n",
            "|3295000018|Kiva Gourmet Smok...| 14.8|http://ecx.images...|   null|{Grocery & Gourme...|   null|[[\"Grocery & Gour...|    Food|\n",
            "|3621813330|Starburst Sour Ch...| 12.5|http://ecx.images...|   null|{Grocery & Gourme...|   null|[[\"Grocery & Gour...|    Food|\n",
            "|      null|                null| null|                null|   null|                null|   null|                null|    Food|\n",
            "|5901002482|Scripture Tea Apr...| null|http://ecx.images...|   null|{Grocery & Gourme...|   null|[[\"Grocery & Gour...|    Food|\n",
            "|6065555568|HERBALIFE ENERGY ...|59.95|http://ecx.images...|   null|{Health & Persona...|   null|[[\"Grocery & Gour...|    Food|\n",
            "|6162362183|Nestle Koko Krunc...| 4.49|http://ecx.images...|   null|{Grocery & Gourme...| Nestle|[[\"Grocery & Gour...|    Food|\n",
            "|616719923X|Japanese Kit Kat ...| null|http://ecx.images...|   null|{Grocery & Gourme...|   null|[[\"Grocery & Gour...|    Food|\n",
            "|6182055979|Sparkletts Distil...|26.59|http://ecx.images...|   null|{Health & Persona...|   null|[[\"Grocery & Gour...|    Food|\n",
            "|7621000880|Starbucks Tribute...| null|http://ecx.images...|   null|{Grocery & Gourme...|   null|[[\"Grocery & Gour...|    Food|\n",
            "+----------+--------------------+-----+--------------------+-------+--------------------+-------+--------------------+--------+\n",
            "only showing top 20 rows"
          ]
        }
      ],
      "source": [
        "%%spark\n",
        "\n",
        "#TODO: Create food_prod_final_sdf\n",
        "\n",
        "# Create SQL-accesible table\n",
        "food_prod_sdf.createOrReplaceTempView(\"food_prod\")\n",
        "\n",
        "# Declare SQL query to be excecuted\n",
        "query = '''SELECT *, 'Food' AS category\n",
        "           FROM food_prod'''\n",
        "\n",
        "# Save the output sdf of spark.sql() as answer_prod_sdf\n",
        "food_prod_final_sdf = spark.sql(query)\n",
        "food_prod_final_sdf.show()\n",
        "\n",
        "\n"
      ]
    },
    {
      "cell_type": "code",
      "execution_count": null,
      "metadata": {
        "colab": {
          "base_uri": "https://localhost:8080/",
          "height": 17,
          "referenced_widgets": [
            "032bdda9d59246a6a441bdf3a79827cc",
            "7fdb7a171dcf4d6ba1667845c5c5b044",
            "bf06ac3a66644244a0b99fbac2a043c1"
          ]
        },
        "id": "R1xgTOgRkbTo",
        "outputId": "7c0e3908-d3bd-4d00-c796-d5af4184ec5b"
      },
      "outputs": [
        {
          "output_type": "display_data",
          "data": {
            "text/plain": [
              "FloatProgress(value=0.0, bar_style='info', description='Progress:', layout=Layout(height='25px', width='50%'),…"
            ],
            "application/vnd.jupyter.widget-view+json": {
              "version_major": 2,
              "version_minor": 0,
              "model_id": "032bdda9d59246a6a441bdf3a79827cc"
            }
          },
          "metadata": {}
        }
      ],
      "source": [
        "%%spark\n",
        "# Do not edit\n",
        "answer_food_final_sdf = food_prod_final_sdf.alias('answer_food_final_sdf')"
      ]
    },
    {
      "cell_type": "code",
      "execution_count": null,
      "metadata": {
        "colab": {
          "base_uri": "https://localhost:8080/",
          "height": 17,
          "referenced_widgets": [
            "bd479e62db254ee085b53c0320760368",
            "eb8e654d479d4b6b9a1869167ca5072b",
            "7fd0c53c4a9d4d34b96b579639ccbb93",
            "f2b3cd2a56de4b87818f7110967c48ea",
            "90e686403df74122bb790dabc114112e",
            "9c906c9cc46f4405a84a3de6167dac99"
          ]
        },
        "id": "kY3tkb5UBIFV",
        "outputId": "b76dafdf-8490-4ced-9b43-12d213725796"
      },
      "outputs": [
        {
          "output_type": "display_data",
          "data": {
            "text/plain": [
              "FloatProgress(value=0.0, bar_style='info', description='Progress:', layout=Layout(height='25px', width='50%'),…"
            ],
            "application/vnd.jupyter.widget-view+json": {
              "version_major": 2,
              "version_minor": 0,
              "model_id": "bd479e62db254ee085b53c0320760368"
            }
          },
          "metadata": {}
        },
        {
          "output_type": "display_data",
          "data": {
            "text/plain": [
              "FloatProgress(value=0.0, bar_style='info', description='Progress:', layout=Layout(height='25px', width='50%'),…"
            ],
            "application/vnd.jupyter.widget-view+json": {
              "version_major": 2,
              "version_minor": 0,
              "model_id": "f2b3cd2a56de4b87818f7110967c48ea"
            }
          },
          "metadata": {}
        }
      ],
      "source": [
        "%spark -o answer_food_final_sdf"
      ]
    },
    {
      "cell_type": "code",
      "execution_count": null,
      "metadata": {
        "colab": {
          "base_uri": "https://localhost:8080/"
        },
        "id": "hHwISpDBBKDH",
        "outputId": "61d35fda-fd32-4a83-874c-4029cdc07a5f"
      },
      "outputs": [
        {
          "output_type": "stream",
          "name": "stdout",
          "text": [
            "Correct! You earned 2/2 points. You are a star!\n",
            "\n",
            "Your submission has been successfully recorded in the gradebook.\n"
          ]
        }
      ],
      "source": [
        "# 2 points\n",
        "grader.grade(test_case_id = 'test_food_prod_final', answer = answer_food_final_sdf)"
      ]
    },
    {
      "cell_type": "code",
      "execution_count": null,
      "metadata": {
        "colab": {
          "base_uri": "https://localhost:8080/",
          "height": 462,
          "referenced_widgets": [
            "33b0d1e972f74b88902bf5f514d4c0e3",
            "394b47100a184956a581a67a1d1ada8b",
            "d8451f7c4a5c4d89b772fc633e66a489"
          ]
        },
        "id": "VC6ixe149g2x",
        "outputId": "d175a1b0-c883-46f5-f037-713f738c9a84"
      },
      "outputs": [
        {
          "output_type": "display_data",
          "data": {
            "text/plain": [
              "FloatProgress(value=0.0, bar_style='info', description='Progress:', layout=Layout(height='25px', width='50%'),…"
            ],
            "application/vnd.jupyter.widget-view+json": {
              "version_major": 2,
              "version_minor": 0,
              "model_id": "33b0d1e972f74b88902bf5f514d4c0e3"
            }
          },
          "metadata": {}
        },
        {
          "output_type": "stream",
          "name": "stdout",
          "text": [
            "+----------+--------------------+-----+--------------------+-------+--------------------+----------------+--------------------+--------------+\n",
            "|      asin|               title|price|               imUrl|related|           salesRank|           brand|          categories|      category|\n",
            "+----------+--------------------+-----+--------------------+-------+--------------------+----------------+--------------------+--------------+\n",
            "|0076144011|Ninjas, Piranhas,...| null|http://g-ecx.imag...|   null|  {Books -> 6285595}|            null|[[\"Home & Kitchen\"]]|Home & Kitchen|\n",
            "|0130350591|Le Creuset Kiwi (...| null|http://ecx.images...|   null|{Kitchen & Dining...|            null|[[\"Home & Kitchen...|Home & Kitchen|\n",
            "|0307394530|Martha Stewart's ...|14.99|http://ecx.images...|   null|{Arts, Crafts & S...|    Random House|[[\"Home & Kitchen...|Home & Kitchen|\n",
            "|0439903491|                null|29.99|http://ecx.images...|   null|  {Software -> 7065}|            null|[[\"Home & Kitchen...|Home & Kitchen|\n",
            "|0578060604|Build A Maloof In...| null|http://ecx.images...|   null|                null|            null|[[\"Home & Kitchen...|Home & Kitchen|\n",
            "|0587234792|&quot;Coos Bay Li...| null|http://ecx.images...|   null|{Home &amp; Kitch...|            null|[[\"Home & Kitchen...|Home & Kitchen|\n",
            "|0587010584|Marionette Theate...|16.95|http://ecx.images...|   null|{Home &amp; Kitch...|            null|[[\"Home & Kitchen...|Home & Kitchen|\n",
            "|      null|                null| null|                null|   null|                null|            null|                null|Home & Kitchen|\n",
            "|0587218959|Look Pretty Have ...|11.88|http://ecx.images...|   null|{Home &amp; Kitch...|      Buyenlarge|[[\"Home & Kitchen...|Home & Kitchen|\n",
            "|0587217189|The Great McEwen,...|16.95|http://ecx.images...|   null|{Home &amp; Kitch...|      Buyenlarge|[[\"Home & Kitchen...|Home & Kitchen|\n",
            "|0594006112|Elf on the Shelf ...| null|http://g-ecx.imag...|   null|{Kitchen & Dining...|            null|[[\"Home & Kitchen...|Home & Kitchen|\n",
            "|0594519624|Peace and Flowers...| null|http://ecx.images...|   null|{Home &amp; Kitch...|            null|[[\"Home & Kitchen...|Home & Kitchen|\n",
            "|061533301X|There's a Cockroa...| null|http://ecx.images...|   null|{Sports &amp; Out...|            null|[[\"Home & Kitchen...|Home & Kitchen|\n",
            "|0615391206|Zoku Quick Pops R...|17.29|http://ecx.images...|   null|{Kitchen & Dining...|            Zoku|[[\"Home & Kitchen...|Home & Kitchen|\n",
            "|0618307354|Houghton-Mifflin ...|  9.3|http://ecx.images...|   null|{Patio, Lawn & Ga...|Houghton Mifflin|[[\"Home & Kitchen...|Home & Kitchen|\n",
            "|0641929307|Vera Bradley Blue...| null|http://ecx.images...|   null|{Kitchen & Dining...|            null|[[\"Home & Kitchen...|Home & Kitchen|\n",
            "|0641965974|Text Me Coffee Mu...| null|http://ecx.images...|   null|{Kitchen & Dining...|            null|[[\"Home & Kitchen...|Home & Kitchen|\n",
            "|      null|                null| null|                null|   null|                null|            null|                null|Home & Kitchen|\n",
            "|0641967969|6 pc Japanese Lar...|51.89|http://ecx.images...|   null|{Kitchen & Dining...|         Unknown|[[\"Home & Kitchen...|Home & Kitchen|\n",
            "|      null|                null| null|                null|   null|                null|            null|                null|Home & Kitchen|\n",
            "+----------+--------------------+-----+--------------------+-------+--------------------+----------------+--------------------+--------------+\n",
            "only showing top 20 rows"
          ]
        }
      ],
      "source": [
        "%%spark\n",
        "\n",
        "#TODO: Create home_kitchen_prod_final_sdf\n",
        "# Create SQL-accesible table\n",
        "home_kitchen_prod_sdf.createOrReplaceTempView(\"home_kitchen_prod\")\n",
        "\n",
        "# Declare SQL query to be excecuted\n",
        "query = '''SELECT *, 'Home & Kitchen' AS category\n",
        "           FROM home_kitchen_prod'''\n",
        "\n",
        "# Save the output sdf of spark.sql() as answer_prod_sdf\n",
        "home_kitchen_prod_final_sdf = spark.sql(query)\n",
        "home_kitchen_prod_final_sdf.show()\n",
        "\n"
      ]
    },
    {
      "cell_type": "code",
      "execution_count": null,
      "metadata": {
        "colab": {
          "base_uri": "https://localhost:8080/",
          "height": 17,
          "referenced_widgets": [
            "292cb160381a4bd59018ee0753797f77",
            "8b5d9be78dd24b769f11a6278c385eb1",
            "f085643fb5194eebb1d94eb97e20609d"
          ]
        },
        "id": "4w8ReS5Im_Q1",
        "outputId": "103a6110-8d9e-4f9a-9b55-b5ac6d2b5027"
      },
      "outputs": [
        {
          "output_type": "display_data",
          "data": {
            "text/plain": [
              "FloatProgress(value=0.0, bar_style='info', description='Progress:', layout=Layout(height='25px', width='50%'),…"
            ],
            "application/vnd.jupyter.widget-view+json": {
              "version_major": 2,
              "version_minor": 0,
              "model_id": "292cb160381a4bd59018ee0753797f77"
            }
          },
          "metadata": {}
        }
      ],
      "source": [
        "%%spark\n",
        "# Do not edit\n",
        "answer_home_kitchen_sdf = home_kitchen_prod_final_sdf.alias('answer_home_kitchen_sdf')"
      ]
    },
    {
      "cell_type": "code",
      "execution_count": null,
      "metadata": {
        "colab": {
          "base_uri": "https://localhost:8080/",
          "height": 17,
          "referenced_widgets": [
            "5f3dc518038a41de8ee0e9787b2f33f0",
            "818b9dc73f0d4b42a6515f7bd5ab4bd2",
            "1f8db254776049cca8c10aabd7951676",
            "8e0453d29a934ba5ac89a8028b2f016b",
            "4732c49ed3044e25986300417df28820",
            "ae57d14dcf0f471dab1c9700b9c70381"
          ]
        },
        "id": "LigSdgcfBVz2",
        "outputId": "467da011-2993-4260-bea3-cb19f17d26fe"
      },
      "outputs": [
        {
          "output_type": "display_data",
          "data": {
            "text/plain": [
              "FloatProgress(value=0.0, bar_style='info', description='Progress:', layout=Layout(height='25px', width='50%'),…"
            ],
            "application/vnd.jupyter.widget-view+json": {
              "version_major": 2,
              "version_minor": 0,
              "model_id": "5f3dc518038a41de8ee0e9787b2f33f0"
            }
          },
          "metadata": {}
        },
        {
          "output_type": "display_data",
          "data": {
            "text/plain": [
              "FloatProgress(value=0.0, bar_style='info', description='Progress:', layout=Layout(height='25px', width='50%'),…"
            ],
            "application/vnd.jupyter.widget-view+json": {
              "version_major": 2,
              "version_minor": 0,
              "model_id": "8e0453d29a934ba5ac89a8028b2f016b"
            }
          },
          "metadata": {}
        }
      ],
      "source": [
        "%spark -o answer_home_kitchen_sdf"
      ]
    },
    {
      "cell_type": "code",
      "execution_count": null,
      "metadata": {
        "colab": {
          "base_uri": "https://localhost:8080/"
        },
        "id": "vsouyFm-BX37",
        "outputId": "99f74c84-8a91-4894-e444-09f2f2a9e9d8"
      },
      "outputs": [
        {
          "output_type": "stream",
          "name": "stdout",
          "text": [
            "Correct! You earned 2/2 points. You are a star!\n",
            "\n",
            "Your submission has been successfully recorded in the gradebook.\n"
          ]
        }
      ],
      "source": [
        "# 2 points\n",
        "grader.grade(test_case_id = 'test_home_kitchen_final', answer = answer_home_kitchen_sdf)"
      ]
    },
    {
      "cell_type": "code",
      "execution_count": null,
      "metadata": {
        "colab": {
          "base_uri": "https://localhost:8080/",
          "height": 462,
          "referenced_widgets": [
            "22d2513c8773420faf83b1bba3512f27",
            "bf54534997df4ddc875817eed3f91f5b",
            "ef845f18c00c4afd9dd50f7a63173ddf"
          ]
        },
        "id": "gs4yaHLY9s3R",
        "outputId": "f95d8bfd-1e00-41e5-b04a-4358568e3916"
      },
      "outputs": [
        {
          "output_type": "display_data",
          "data": {
            "text/plain": [
              "FloatProgress(value=0.0, bar_style='info', description='Progress:', layout=Layout(height='25px', width='50%'),…"
            ],
            "application/vnd.jupyter.widget-view+json": {
              "version_major": 2,
              "version_minor": 0,
              "model_id": "22d2513c8773420faf83b1bba3512f27"
            }
          },
          "metadata": {}
        },
        {
          "output_type": "stream",
          "name": "stdout",
          "text": [
            "+----------+--------------------+------+--------------------+-------+--------------------+-------------+--------------------+------------+\n",
            "|      asin|               title| price|               imUrl|related|           salesRank|        brand|          categories|    category|\n",
            "+----------+--------------------+------+--------------------+-------+--------------------+-------------+--------------------+------------+\n",
            "|0000191639|Dr. Suess 19163 D...| 37.12|http://ecx.images...|   null|{Toys & Games -> ...|    Dr. Seuss|[[\"Toys & Games\",...|Toys & Games|\n",
            "|0005069491|Nursery Rhymes Fe...|  null|http://ecx.images...|   null|{Toys & Games -> ...|         null|  [[\"Toys & Games\"]]|Toys & Games|\n",
            "|0076561046|Fraction Decimal ...|  null|http://ecx.images...|   null|{Toys & Games -> ...|         null|[[\"Toys & Games\",...|Toys & Games|\n",
            "|0131358936|                null| 36.22|http://ecx.images...|   null|  {Software -> 8080}|         null|[[\"Toys & Games\",...|Toys & Games|\n",
            "|0133642984|Algebra 2 Califor...|731.93|http://ecx.images...|   null|{Toys & Games -> ...|Prentice Hall|[[\"Toys & Games\",...|Toys & Games|\n",
            "|0279515766|Vintage 1982 Stra...|  null|http://g-ecx.imag...|   null|{Toys & Games -> ...|         null|[[\"Toys & Games\",...|Toys & Games|\n",
            "|0375829695|Dr. Seuss Jigsaw ...| 24.82|http://ecx.images...|   null|{Home &amp; Kitch...|    Dr. Seuss|[[\"Toys & Games\",...|Toys & Games|\n",
            "|037585746X|Blues Clues On th...|  null|http://ecx.images...|   null|{Toys & Games -> ...|         null|[[\"Toys & Games\",...|Toys & Games|\n",
            "|0425066169|Sanctuary: The Th...|  null|http://ecx.images...|   null|{Toys & Games -> ...|         null|[[\"Toys & Games\",...|Toys & Games|\n",
            "|      null|                null|  null|                null|   null|                null|         null|                null|Toys & Games|\n",
            "|0439400066|    3D Puzzle Buster| 99.15|http://ecx.images...|   null|{Toys & Games -> ...|         null|[[\"Toys & Games\",...|Toys & Games|\n",
            "|0439512050|Mrs. Green: The T...|  null|http://g-ecx.imag...|   null|{Toys & Games -> ...|         null|[[\"Toys & Games\",...|Toys & Games|\n",
            "|0439651859|TEACHERS FRIEND N...|  5.99|http://ecx.images...|   null|{Electronics -> 2...|         null|[[\"Toys & Games\",...|Toys & Games|\n",
            "|      null|                null|  null|                null|   null|                null|         null|                null|Toys & Games|\n",
            "|      null|                null|  null|                null|   null|                null|         null|                null|Toys & Games|\n",
            "|0439845297|Insect Model Lytt...|  8.99|http://ecx.images...|   null|{Toys & Games -> ...|         null|[[\"Toys & Games\",...|Toys & Games|\n",
            "|0439838649|Little Red Tool B...|  40.0|http://ecx.images...|   null|                null|   Scholastic|[[\"Toys & Games\",...|Toys & Games|\n",
            "|0439843073|Magalina Dog 8&qu...| 14.06|http://ecx.images...|   null|{Toys & Games -> ...|       YOTTOY|[[\"Toys & Games\",...|Toys & Games|\n",
            "|      null|                null|  null|                null|   null|                null|         null|                null|Toys & Games|\n",
            "|0439893577|Little Red Tool B...| 16.19|http://ecx.images...|   null|                null|   Scholastic|[[\"Toys & Games\",...|Toys & Games|\n",
            "+----------+--------------------+------+--------------------+-------+--------------------+-------------+--------------------+------------+\n",
            "only showing top 20 rows"
          ]
        }
      ],
      "source": [
        "%%spark\n",
        "\n",
        "#TODO: Create toys_games_prod_final_sdf\n",
        "\n",
        "\n",
        "# Create SQL-accesible table\n",
        "toys_games_prod_sdf.createOrReplaceTempView(\"toys_games_prod\")\n",
        "\n",
        "# Declare SQL query to be excecuted\n",
        "query = '''SELECT *, 'Toys & Games' AS category\n",
        "           FROM toys_games_prod'''\n",
        "\n",
        "# Save the output sdf of spark.sql() as answer_prod_sdf\n",
        "toys_games_prod_final_sdf = spark.sql(query)\n",
        "toys_games_prod_final_sdf.show()\n",
        "\n"
      ]
    },
    {
      "cell_type": "code",
      "execution_count": null,
      "metadata": {
        "colab": {
          "base_uri": "https://localhost:8080/",
          "height": 17,
          "referenced_widgets": [
            "da1f7679868843878a703ab3e7b3a4db",
            "94d51ac29759411bad7cafe5f9800519",
            "87731cc8e0924b4280212809f828f3bb"
          ]
        },
        "id": "dDQiupo1nKoI",
        "outputId": "1358ffed-8877-4d6f-d22e-aca080d0153d"
      },
      "outputs": [
        {
          "output_type": "display_data",
          "data": {
            "text/plain": [
              "FloatProgress(value=0.0, bar_style='info', description='Progress:', layout=Layout(height='25px', width='50%'),…"
            ],
            "application/vnd.jupyter.widget-view+json": {
              "version_major": 2,
              "version_minor": 0,
              "model_id": "da1f7679868843878a703ab3e7b3a4db"
            }
          },
          "metadata": {}
        }
      ],
      "source": [
        "%%spark\n",
        "# Do not edit\n",
        "answer_toys_games_sdf = toys_games_prod_final_sdf.alias('answer_toys_games_sdf')"
      ]
    },
    {
      "cell_type": "code",
      "execution_count": null,
      "metadata": {
        "colab": {
          "base_uri": "https://localhost:8080/",
          "height": 17,
          "referenced_widgets": [
            "a5c9de1b1fac489fbbd36b3187a9e9c5",
            "fb31b3b7249b4a2196a0d31f9a0b4285",
            "8cefe31396c047c38822f1ab38efd328",
            "41ce1ea8387b48a883ef75703c715c6c",
            "405692ac12fd4230a35663ddc8b7fd99",
            "49b56272ffdb4c27aaa3a300c82abd1e"
          ]
        },
        "id": "SpyBoucbBaEx",
        "outputId": "678faf49-c019-41cb-ef6b-a646fdc7e2d5"
      },
      "outputs": [
        {
          "output_type": "display_data",
          "data": {
            "text/plain": [
              "FloatProgress(value=0.0, bar_style='info', description='Progress:', layout=Layout(height='25px', width='50%'),…"
            ],
            "application/vnd.jupyter.widget-view+json": {
              "version_major": 2,
              "version_minor": 0,
              "model_id": "a5c9de1b1fac489fbbd36b3187a9e9c5"
            }
          },
          "metadata": {}
        },
        {
          "output_type": "display_data",
          "data": {
            "text/plain": [
              "FloatProgress(value=0.0, bar_style='info', description='Progress:', layout=Layout(height='25px', width='50%'),…"
            ],
            "application/vnd.jupyter.widget-view+json": {
              "version_major": 2,
              "version_minor": 0,
              "model_id": "41ce1ea8387b48a883ef75703c715c6c"
            }
          },
          "metadata": {}
        }
      ],
      "source": [
        "%spark -o answer_toys_games_sdf"
      ]
    },
    {
      "cell_type": "code",
      "execution_count": null,
      "metadata": {
        "colab": {
          "base_uri": "https://localhost:8080/"
        },
        "id": "iZx3RUv-Bb9u",
        "outputId": "168a9887-a48f-4f69-d391-8d0448c574b4"
      },
      "outputs": [
        {
          "output_type": "stream",
          "name": "stdout",
          "text": [
            "Correct! You earned 2/2 points. You are a star!\n",
            "\n",
            "Your submission has been successfully recorded in the gradebook.\n"
          ]
        }
      ],
      "source": [
        "# 2 points\n",
        "grader.grade(test_case_id = 'test_toys_games_final', answer = answer_toys_games_sdf)"
      ]
    },
    {
      "cell_type": "markdown",
      "metadata": {
        "id": "LZ9cw29N-FBV"
      },
      "source": [
        "\n",
        "This part is given to you. Combine the newly created `food_prod_sdf`, `toys_games_prod_sdf`, and `home_kitchen_prod_sdf` into a single dataframe called `products_sdf`. Combine `food_reviews_sdf`, `toys_games_reviews_sdf`, and `home_kitchen_reviews_sdf` into a single dataframe called `reviews_sdf`.\n",
        "\n",
        "***You do not need to edit the two cells below***."
      ]
    },
    {
      "cell_type": "code",
      "execution_count": null,
      "metadata": {
        "colab": {
          "base_uri": "https://localhost:8080/",
          "height": 17,
          "referenced_widgets": [
            "bf7f2d64cf264e489e67e838b0012a9b",
            "13162d829ae346feb61e1737df27256f",
            "9f40f205f7ea447086fd4b0164b1b410"
          ]
        },
        "id": "rgLYCf8v7T8d",
        "outputId": "f8a74f0a-a5b8-4388-bfff-9060be06e726"
      },
      "outputs": [
        {
          "output_type": "display_data",
          "data": {
            "text/plain": [
              "FloatProgress(value=0.0, bar_style='info', description='Progress:', layout=Layout(height='25px', width='50%'),…"
            ],
            "application/vnd.jupyter.widget-view+json": {
              "version_major": 2,
              "version_minor": 0,
              "model_id": "bf7f2d64cf264e489e67e838b0012a9b"
            }
          },
          "metadata": {}
        }
      ],
      "source": [
        "%%spark\n",
        "\n",
        "# Create SQL-accesible table\n",
        "food_prod_final_sdf.createOrReplaceTempView(\"food_prod_final\")\n",
        "home_kitchen_prod_final_sdf.createOrReplaceTempView(\"home_kitchen_prod_final\")\n",
        "toys_games_prod_final_sdf.createOrReplaceTempView(\"toys_games_prod_final\")\n",
        "\n",
        "# Declare SQL query to be excecuted\n",
        "query = '''(SELECT * FROM food_prod_final)\n",
        "\n",
        "           UNION All\n",
        "\n",
        "           (SELECT * FROM home_kitchen_prod_final)\n",
        "\n",
        "           UNION All\n",
        "\n",
        "           (SELECT * FROM toys_games_prod_final)'''\n",
        "\n",
        "# Save the output sdf of spark.sql() as products_sdf\n",
        "products_sdf = spark.sql(query)"
      ]
    },
    {
      "cell_type": "code",
      "execution_count": null,
      "metadata": {
        "colab": {
          "base_uri": "https://localhost:8080/",
          "height": 17,
          "referenced_widgets": [
            "1e01710364274a22b1a8378e5111b8ff",
            "39a5a56d5b264b93a863209bbfc92bd1",
            "93d2d95101684adc8017fef5bcf74786"
          ]
        },
        "id": "Etk5px6f7BAy",
        "outputId": "85373406-fea4-410a-be5c-a23dc334adb2"
      },
      "outputs": [
        {
          "output_type": "display_data",
          "data": {
            "text/plain": [
              "FloatProgress(value=0.0, bar_style='info', description='Progress:', layout=Layout(height='25px', width='50%'),…"
            ],
            "application/vnd.jupyter.widget-view+json": {
              "version_major": 2,
              "version_minor": 0,
              "model_id": "1e01710364274a22b1a8378e5111b8ff"
            }
          },
          "metadata": {}
        }
      ],
      "source": [
        "%%spark\n",
        "\n",
        "# Create SQL-accesible table\n",
        "food_reviews_sdf.createOrReplaceTempView(\"food_reviews_final\")\n",
        "home_kitchen_reviews_sdf.createOrReplaceTempView(\"home_kitchen_reviews_final\")\n",
        "toys_games_reviews_sdf.createOrReplaceTempView(\"toys_games_reviews_final\")\n",
        "\n",
        "# Declare SQL query to be excecuted\n",
        "query = '''(SELECT * FROM food_reviews_final)\n",
        "\n",
        "           UNION All\n",
        "\n",
        "           (SELECT * FROM home_kitchen_reviews_final)\n",
        "\n",
        "           UNION All\n",
        "\n",
        "           (SELECT * FROM toys_games_reviews_final)'''\n",
        "\n",
        "# Save the output sdf of spark.sql() as reviews_sdf\n",
        "reviews_sdf = spark.sql(query)\n",
        "\n"
      ]
    },
    {
      "cell_type": "markdown",
      "metadata": {
        "id": "HNbDHz_Swuz1"
      },
      "source": [
        "Join `reviews_sdf` and `products_sdf` on `asin` and name the resulting dataframe as `product_reviews_sdf`. Keep only the following columns from reviews_sdf: `reviewerID`, `asin`, `helpful`, `reviewText`, `overall`, `summary`, `reviewTime`, `unixReviewTime`. Keep the following columns from products_sdf: `title`, `category`, `price`."
      ]
    },
    {
      "cell_type": "code",
      "execution_count": null,
      "metadata": {
        "colab": {
          "base_uri": "https://localhost:8080/",
          "height": 17,
          "referenced_widgets": [
            "1c14d3baecc74e50bb289b0e18e0e77f",
            "5d40d408b8914345ab438f864eb47f45",
            "69e5afcc9b8540fa9f9d8ae4f7bb9ab2"
          ]
        },
        "id": "atRSOMSq-S-0",
        "outputId": "13165848-25c7-4b95-ac0f-b036c8cf487f"
      },
      "outputs": [
        {
          "output_type": "display_data",
          "data": {
            "text/plain": [
              "FloatProgress(value=0.0, bar_style='info', description='Progress:', layout=Layout(height='25px', width='50%'),…"
            ],
            "application/vnd.jupyter.widget-view+json": {
              "version_major": 2,
              "version_minor": 0,
              "model_id": "1c14d3baecc74e50bb289b0e18e0e77f"
            }
          },
          "metadata": {}
        }
      ],
      "source": [
        "%%spark\n",
        "\n",
        "#TODO: Create product_reviews_sdf\n",
        "# Create SQL-accesible table\n",
        "reviews_sdf.createOrReplaceTempView(\"review\")\n",
        "products_sdf.createOrReplaceTempView(\"prod\")\n",
        "\n",
        "\n",
        "# Declare SQL query to be excecuted\n",
        "query = '''SELECT r.reviewerID, r.asin, r.helpful, r.reviewText, r.overall, r.summary, r.reviewTime, r.unixReviewTime, p.title, p.category, p.price\n",
        "FROM review r JOIN prod p ON r.asin = p.asin'''\n",
        "\n",
        "# Save the output sdf of spark.sql() as reviews_sdf\n",
        "product_reviews_sdf = spark.sql(query)"
      ]
    },
    {
      "cell_type": "code",
      "execution_count": null,
      "metadata": {
        "colab": {
          "base_uri": "https://localhost:8080/",
          "height": 17,
          "referenced_widgets": [
            "9e8c233bc84a48fbb1825b74cd2d42e8",
            "340dc4e706c84991b9c071df1e103010",
            "d93a663399614543ae3a9c42c317f534"
          ]
        },
        "id": "d0zNorGvBx6-",
        "outputId": "6d6a2c9e-3fc0-4bdf-b2e9-e86e584556ae"
      },
      "outputs": [
        {
          "output_type": "display_data",
          "data": {
            "text/plain": [
              "FloatProgress(value=0.0, bar_style='info', description='Progress:', layout=Layout(height='25px', width='50%'),…"
            ],
            "application/vnd.jupyter.widget-view+json": {
              "version_major": 2,
              "version_minor": 0,
              "model_id": "9e8c233bc84a48fbb1825b74cd2d42e8"
            }
          },
          "metadata": {}
        }
      ],
      "source": [
        "%%spark\n",
        "\n",
        "# Do not edit - run this after creating product_reviews_sdf\n",
        "product_reviews_sdf.createOrReplaceTempView(\"product_reviews\")\n",
        "ans_product_reviews_sdf = spark.sql(\"SELECT * FROM product_reviews ORDER BY asin ASC LIMIT 10\")"
      ]
    },
    {
      "cell_type": "code",
      "execution_count": null,
      "metadata": {
        "colab": {
          "base_uri": "https://localhost:8080/",
          "height": 17,
          "referenced_widgets": [
            "4dfcf6642b6b4fe98f0686d09a4eb886",
            "332fb436ef854144af320dd0117389ce",
            "e9f158b246f14248a22652d332718339",
            "67edde1a63e34ed68c82cf0f8e92224a",
            "167f3c774bb3418e915b9fc34291585b",
            "466f8e7e207a4c0bbda1e0428c5c7247"
          ]
        },
        "id": "OnTE_pYGXb6z",
        "outputId": "269d5e2c-b2f9-4b99-d760-4cbb72f62663"
      },
      "outputs": [
        {
          "output_type": "display_data",
          "data": {
            "text/plain": [
              "FloatProgress(value=0.0, bar_style='info', description='Progress:', layout=Layout(height='25px', width='50%'),…"
            ],
            "application/vnd.jupyter.widget-view+json": {
              "version_major": 2,
              "version_minor": 0,
              "model_id": "4dfcf6642b6b4fe98f0686d09a4eb886"
            }
          },
          "metadata": {}
        },
        {
          "output_type": "display_data",
          "data": {
            "text/plain": [
              "FloatProgress(value=0.0, bar_style='info', description='Progress:', layout=Layout(height='25px', width='50%'),…"
            ],
            "application/vnd.jupyter.widget-view+json": {
              "version_major": 2,
              "version_minor": 0,
              "model_id": "67edde1a63e34ed68c82cf0f8e92224a"
            }
          },
          "metadata": {}
        }
      ],
      "source": [
        "%spark -o ans_product_reviews_sdf"
      ]
    },
    {
      "cell_type": "code",
      "execution_count": null,
      "metadata": {
        "colab": {
          "base_uri": "https://localhost:8080/"
        },
        "id": "nqflA81xVKoo",
        "outputId": "337eb33c-7b55-43bf-ff76-b745c2fb06db"
      },
      "outputs": [
        {
          "output_type": "stream",
          "name": "stdout",
          "text": [
            "Correct! You earned 3/3 points. You are a star!\n",
            "\n",
            "Your submission has been successfully recorded in the gradebook.\n"
          ]
        }
      ],
      "source": [
        "\n",
        "\n",
        "# 3 points\n",
        "grader.grade(test_case_id = 'test_product_review', answer = ans_product_reviews_sdf)"
      ]
    },
    {
      "cell_type": "markdown",
      "metadata": {
        "id": "CsLea-1Tyu0v"
      },
      "source": [
        "## Step 2: Analysis! [26 pts]"
      ]
    },
    {
      "cell_type": "markdown",
      "metadata": {
        "id": "svOO4iLPist4"
      },
      "source": [
        "### Step 2.1: Overall Opinion [5 pts]\n",
        "\n",
        "We would like to find the average rating for products based on category. Using `product_reviews_sdf`, create `avg_rating_sdf` with schema `(category,avg_rating)`. Order your resulting dataframe by `avg_rating` (descending). Note that the column `overall` holds ratings for each product.\n"
      ]
    },
    {
      "cell_type": "code",
      "execution_count": null,
      "metadata": {
        "colab": {
          "base_uri": "https://localhost:8080/",
          "height": 207,
          "referenced_widgets": [
            "b5fd6b3a05d5473eb5da246cbf06fca8",
            "1f65071e257946598c63533b30b063a0",
            "94537d5f00f245ff95e40b1200448f9a"
          ]
        },
        "id": "jDupnRIutWd3",
        "outputId": "4dca9eff-3df4-436a-86f3-f8bbffe607c0"
      },
      "outputs": [
        {
          "output_type": "display_data",
          "data": {
            "text/plain": [
              "FloatProgress(value=0.0, bar_style='info', description='Progress:', layout=Layout(height='25px', width='50%'),…"
            ],
            "application/vnd.jupyter.widget-view+json": {
              "version_major": 2,
              "version_minor": 0,
              "model_id": "b5fd6b3a05d5473eb5da246cbf06fca8"
            }
          },
          "metadata": {}
        },
        {
          "output_type": "stream",
          "name": "stdout",
          "text": [
            "+--------------+----------+-------+--------------------+-------+--------------------+-----------+--------------+--------------------+------------+-----+\n",
            "|    reviewerID|      asin|helpful|          reviewText|overall|             summary| reviewTime|unixReviewTime|               title|    category|price|\n",
            "+--------------+----------+-------+--------------------+-------+--------------------+-----------+--------------+--------------------+------------+-----+\n",
            "|A2OCN2J4EWJBV8|0735329923|  [0,0]|Cute little book ...|    5.0|    Great traveling!|05 27, 2014|    1401148800|Fairy Friends Boo...|Toys & Games|  7.5|\n",
            "|A3CKKJVC44TEYB|0735329923|  [0,1]|My little girl lo...|    5.0|My Little Girl LO...| 09 5, 2013|    1378339200|Fairy Friends Boo...|Toys & Games|  7.5|\n",
            "|A1OPPKUKMTXX6E|0735332002|  [0,0]|my student enjoy ...|    5.0|great for a scien...|04 24, 2014|    1398297600|All Four Seasons ...|Toys & Games|17.29|\n",
            "|A3R08YTMOUI5BY|073533918X|  [0,0]|The puppets are r...|    5.0|Excellent gift (b...|03 24, 2014|    1395619200|Mudpuppy The Litt...|Toys & Games|16.95|\n",
            "|A33V2WL8BJSVEY|0764955063|  [0,0]|I always want to ...|    5.0|              venice| 10 8, 2012|    1349654400|The Square of St....|Toys & Games|14.31|\n",
            "+--------------+----------+-------+--------------------+-------+--------------------+-----------+--------------+--------------------+------------+-----+\n",
            "only showing top 5 rows"
          ]
        }
      ],
      "source": [
        "%%spark\n",
        "product_reviews_sdf.show(5)"
      ]
    },
    {
      "cell_type": "code",
      "execution_count": null,
      "metadata": {
        "colab": {
          "base_uri": "https://localhost:8080/",
          "height": 17,
          "referenced_widgets": [
            "b8b2e6fc66d44b7ba5baf2439c001c4f",
            "7e9ae65a91fe469fa4c25f0f57fad82f",
            "63f61300fa4a4438baa8ea351f7855d3"
          ]
        },
        "id": "JMXkywgqS8Iz",
        "outputId": "f50806f7-535a-4d6c-c5e2-5f0968d66c15"
      },
      "outputs": [
        {
          "output_type": "display_data",
          "data": {
            "text/plain": [
              "FloatProgress(value=0.0, bar_style='info', description='Progress:', layout=Layout(height='25px', width='50%'),…"
            ],
            "application/vnd.jupyter.widget-view+json": {
              "version_major": 2,
              "version_minor": 0,
              "model_id": "b8b2e6fc66d44b7ba5baf2439c001c4f"
            }
          },
          "metadata": {}
        }
      ],
      "source": [
        "%%spark\n",
        "\n",
        "#TODO: Create avg_rating_sdf\n",
        "# Create SQL-accesible table\n",
        "product_reviews_sdf.createOrReplaceTempView(\"prod_review\")\n",
        "\n",
        "\n",
        "# Declare SQL query to be excecuted\n",
        "query = '''SELECT category, AVG(overall) AS avg_rating\n",
        "FROM prod_review\n",
        "GROUP BY category\n",
        "ORDER BY avg_rating DESC'''\n",
        "\n",
        "# Save the output sdf of spark.sql() as reviews_sdf\n",
        "avg_rating_sdf = spark.sql(query)"
      ]
    },
    {
      "cell_type": "code",
      "execution_count": null,
      "metadata": {
        "colab": {
          "base_uri": "https://localhost:8080/",
          "height": 17,
          "referenced_widgets": [
            "b0fed1e0cf734c3fa4b61f00c6a806d6",
            "f93e14b8380640a0a3d8ec08b9672887",
            "afa8537cad8d4a70afcaa136259a3d7e",
            "d709195bf2034f4bb69149c3f66b7537",
            "c4d73c9251004fd5b85e3beec8ff4661",
            "43705ecee6ab4912b1ae5d00242b4f95"
          ]
        },
        "id": "2MN3JYNOThjW",
        "outputId": "b03de00d-33ef-4572-e6f4-b759b87c4c10"
      },
      "outputs": [
        {
          "output_type": "display_data",
          "data": {
            "text/plain": [
              "FloatProgress(value=0.0, bar_style='info', description='Progress:', layout=Layout(height='25px', width='50%'),…"
            ],
            "application/vnd.jupyter.widget-view+json": {
              "version_major": 2,
              "version_minor": 0,
              "model_id": "b0fed1e0cf734c3fa4b61f00c6a806d6"
            }
          },
          "metadata": {}
        },
        {
          "output_type": "display_data",
          "data": {
            "text/plain": [
              "FloatProgress(value=0.0, bar_style='info', description='Progress:', layout=Layout(height='25px', width='50%'),…"
            ],
            "application/vnd.jupyter.widget-view+json": {
              "version_major": 2,
              "version_minor": 0,
              "model_id": "d709195bf2034f4bb69149c3f66b7537"
            }
          },
          "metadata": {}
        }
      ],
      "source": [
        "%spark -o avg_rating_sdf"
      ]
    },
    {
      "cell_type": "code",
      "execution_count": null,
      "metadata": {
        "colab": {
          "base_uri": "https://localhost:8080/"
        },
        "id": "6S6l60w-TjyC",
        "outputId": "b114e4a4-c053-424e-b191-e0f8a72d1cc7"
      },
      "outputs": [
        {
          "output_type": "stream",
          "name": "stdout",
          "text": [
            "Correct! You earned 5/5 points. You are a star!\n",
            "\n",
            "Your submission has been successfully recorded in the gradebook.\n"
          ]
        }
      ],
      "source": [
        "\n",
        "\n",
        "# 5 points\n",
        "grader.grade(test_case_id = 'test_avg_rating', answer = avg_rating_sdf)"
      ]
    },
    {
      "cell_type": "markdown",
      "metadata": {
        "id": "BW5HpURnC6X7"
      },
      "source": [
        "### Step 2.2: The Category Changes [10 pts]\n",
        "\n",
        "We would like to find the percentage change from 2010 to 2011 in both average overall rating and average price for products based on category.\n",
        "\n",
        "*Hint: Use SUBSTR on the reviewTime field to retrieve the correct year.*\n",
        "\n",
        "Your task includes:\n",
        "\n",
        "\n",
        "*   Finding the average overall rating for each category for the years 2010, 2011\n",
        "*   Calculate the percentage change in rating for 2010 to 2011\n",
        "*   Finding the average price for each category for the years 2010, 2011\n",
        "*   Calculate the percentage change in price for 2010 to 2011\n",
        "*   Return an sdf with the category, change_rating, change_price sorted in descending alphabetical order of category name.\n",
        "\n",
        "Hint: Using multiple queries with intermediate dataframes may be helpful\n",
        "```\n",
        "+-------------------+--------------------+-------------+\n",
        "|           category|       change_rating|.change_price|\n",
        "+-------------------+--------------------|.------------|            \n",
        "+-------------------+--------------------+.------------|\n",
        "```"
      ]
    },
    {
      "cell_type": "code",
      "execution_count": null,
      "metadata": {
        "colab": {
          "base_uri": "https://localhost:8080/",
          "height": 136,
          "referenced_widgets": [
            "8e49bb0bb0774177b15be69ea4b1a9d2",
            "e45bd63bd8ef4893b4c3d366b0696fc9",
            "efeaa0ab9715475dbafe1a58f52c23d2"
          ]
        },
        "id": "dT1v_uDsrZNm",
        "outputId": "cb63e82f-f306-407b-e73d-473bc94ff13a"
      },
      "outputs": [
        {
          "output_type": "display_data",
          "data": {
            "text/plain": [
              "FloatProgress(value=0.0, bar_style='info', description='Progress:', layout=Layout(height='25px', width='50%'),…"
            ],
            "application/vnd.jupyter.widget-view+json": {
              "version_major": 2,
              "version_minor": 0,
              "model_id": "8e49bb0bb0774177b15be69ea4b1a9d2"
            }
          },
          "metadata": {}
        },
        {
          "output_type": "stream",
          "name": "stdout",
          "text": [
            "+--------------+-------------------+-------------------+\n",
            "|      category|      change_rating|       change_price|\n",
            "+--------------+-------------------+-------------------+\n",
            "|  Toys & Games|0.26688319796326515|-10.511209798281866|\n",
            "|Home & Kitchen| 0.3225451775817751|-1.0259376887020926|\n",
            "|          Food|-1.8150535429936816| -8.267321294259686|\n",
            "+--------------+-------------------+-------------------+"
          ]
        }
      ],
      "source": [
        "%%spark\n",
        "#TODO: Create pct_change_sdf\n",
        "# Create SQL-accesible table\n",
        "product_reviews_sdf.createOrReplaceTempView(\"prod_review\")\n",
        "\n",
        "\n",
        "# Declare SQL query to be excecuted\n",
        "query = '''WITH avg10 AS\n",
        "(SELECT category, AVG(overall) AS avg_rating , AVG(price) AS avg_price FROM prod_review WHERE SUBSTR( reviewTime, -4) == 2010 GROUP BY category),\n",
        "\n",
        "avg11 AS\n",
        "(SELECT category, AVG(overall) AS avg_rating , AVG(price) AS avg_price FROM prod_review WHERE SUBSTR( reviewTime, -4) == 2011 GROUP BY category)\n",
        "\n",
        "\n",
        "SELECT avg10.category, ((avg11.avg_rating- avg10.avg_rating)* 100/avg10.avg_rating) AS change_rating,\n",
        "((avg11.avg_price- avg10.avg_price) * 100/avg10.avg_price) AS change_price\n",
        " FROM avg10, avg11 WHERE avg10.category == avg11.category\n",
        " ORDER BY category DESC\n",
        "\n",
        "'''\n",
        "\n",
        "# Save the output sdf of spark.sql() as reviews_sdf\n",
        "pct_change_sdf = spark.sql(query)\n",
        "pct_change_sdf.show(5)"
      ]
    },
    {
      "cell_type": "code",
      "execution_count": null,
      "metadata": {
        "id": "SvPohKnEwNAG"
      },
      "outputs": [],
      "source": []
    },
    {
      "cell_type": "code",
      "execution_count": null,
      "metadata": {
        "colab": {
          "base_uri": "https://localhost:8080/",
          "height": 17,
          "referenced_widgets": [
            "675839e90ea64c1d98cfe2ce9e4ed4e2",
            "07e6498be1c343a6945b5867e82b563d",
            "0fa713753f4a4b9c8322edd9fc967d02",
            "2ed1e6a07c7c49f988035418863dacda",
            "2ae5b24a7fa745fb9e8a4e41916960a0",
            "0e2cc588523f4655af1110c9e6e05360"
          ]
        },
        "id": "HWJCQBy7rcdN",
        "outputId": "22e286df-23e7-411c-9099-e0d2f90cd68f"
      },
      "outputs": [
        {
          "output_type": "display_data",
          "data": {
            "text/plain": [
              "FloatProgress(value=0.0, bar_style='info', description='Progress:', layout=Layout(height='25px', width='50%'),…"
            ],
            "application/vnd.jupyter.widget-view+json": {
              "version_major": 2,
              "version_minor": 0,
              "model_id": "675839e90ea64c1d98cfe2ce9e4ed4e2"
            }
          },
          "metadata": {}
        },
        {
          "output_type": "display_data",
          "data": {
            "text/plain": [
              "FloatProgress(value=0.0, bar_style='info', description='Progress:', layout=Layout(height='25px', width='50%'),…"
            ],
            "application/vnd.jupyter.widget-view+json": {
              "version_major": 2,
              "version_minor": 0,
              "model_id": "2ed1e6a07c7c49f988035418863dacda"
            }
          },
          "metadata": {}
        }
      ],
      "source": [
        "%spark -o pct_change_sdf"
      ]
    },
    {
      "cell_type": "code",
      "execution_count": null,
      "metadata": {
        "colab": {
          "base_uri": "https://localhost:8080/"
        },
        "id": "60JVR1mirfRV",
        "outputId": "60beb3fd-f39b-4108-d5b0-8b3514272909"
      },
      "outputs": [
        {
          "output_type": "stream",
          "name": "stdout",
          "text": [
            "Correct! You earned 10/10 points. You are a star!\n",
            "\n",
            "Your submission has been successfully recorded in the gradebook.\n"
          ]
        }
      ],
      "source": [
        "\n",
        "# 10 points\n",
        "grader.grade(test_case_id = 'test_pct_change', answer = pct_change_sdf)"
      ]
    },
    {
      "cell_type": "markdown",
      "metadata": {
        "id": "MtjFKMD-C6va"
      },
      "source": [
        "### Step 2.3: The Popular Products [11 pts]\n",
        "\n",
        "When you navigate to the Amazon webpage, you are often recommended some bestsellers. These bestsellers are recommended to you based on several factors, one of them being positive ratings and reviews. Most popular products have tons of reviews and ratings from customers. We're going to look into popular products bought in a few categories to dive deeper into the consumer market culture."
      ]
    },
    {
      "cell_type": "markdown",
      "metadata": {
        "id": "dYksV9qTC7ML"
      },
      "source": [
        "#### Step 2.3.1: The Terrific Toys [6 pts]\n",
        "\n",
        "From the product_reviews_sdf, find the 5 most commonly reviewed products around Christmas in the Toys and Games category. In this case, a product reviewed in the month of December (12), will count as 'around Christmas'.\n",
        "\n",
        "The resultant dataframe should contain the 5 most popular products and the number of reviews the product sorted in order of most to least popular in this format:\n",
        "\n",
        "\n",
        "```\n",
        "+-------------------+--------------------+\n",
        "|               asin|         num_reviews|\n",
        "+-------------------+--------------------|\n",
        "+-------------------+--------------------+\n",
        "```\n",
        "\n"
      ]
    },
    {
      "cell_type": "code",
      "execution_count": null,
      "metadata": {
        "colab": {
          "base_uri": "https://localhost:8080/",
          "height": 170,
          "referenced_widgets": [
            "5ead3d0a02a044f786370eb5fd211c44",
            "c7a97ca6a2dc4f3891c3bcb867cc7410",
            "16638734b2e64550af966e2f06977b76"
          ]
        },
        "id": "v6-01lW3tGrt",
        "outputId": "221fa1e1-4804-4bbf-aac1-83e3ef407a2c"
      },
      "outputs": [
        {
          "output_type": "display_data",
          "data": {
            "text/plain": [
              "FloatProgress(value=0.0, bar_style='info', description='Progress:', layout=Layout(height='25px', width='50%'),…"
            ],
            "application/vnd.jupyter.widget-view+json": {
              "version_major": 2,
              "version_minor": 0,
              "model_id": "5ead3d0a02a044f786370eb5fd211c44"
            }
          },
          "metadata": {}
        },
        {
          "output_type": "stream",
          "name": "stdout",
          "text": [
            "+----------+-----------+\n",
            "|      asin|num_reviews|\n",
            "+----------+-----------+\n",
            "|0976990709|        640|\n",
            "|B00CMQTVUA|        583|\n",
            "|B00DMC6KAC|        454|\n",
            "|B0089RPUHO|        400|\n",
            "|B00008BFZH|        320|\n",
            "+----------+-----------+"
          ]
        }
      ],
      "source": [
        "%%spark\n",
        "\n",
        "#TODO: Create dec_toys_sdf\n",
        "# Create SQL-accesible table\n",
        "product_reviews_sdf.createOrReplaceTempView(\"prod_review\")\n",
        "\n",
        "\n",
        "# Declare SQL query to be excecuted\n",
        "query = '''\n",
        "SELECT asin, count(asin) AS num_reviews\n",
        "FROM prod_review\n",
        "WHERE SUBSTR( reviewTime, 0,2) == 12 AND category == \"Toys & Games\"\n",
        "GROUP BY asin\n",
        "ORDER BY num_reviews DESC\n",
        "LIMIT 5\n",
        "'''\n",
        "\n",
        "# Save the output sdf of spark.sql() as dec_toys_sdf\n",
        "dec_toys_sdf = spark.sql(query)\n",
        "dec_toys_sdf.show(5)"
      ]
    },
    {
      "cell_type": "code",
      "execution_count": null,
      "metadata": {
        "colab": {
          "base_uri": "https://localhost:8080/",
          "height": 17,
          "referenced_widgets": [
            "427c34110ed5462b8c2cbf8f22be4e67",
            "3443200b7413483bb4e49c80afd8891b",
            "2222e9d61ff54e33a9e46e1d518e62c1",
            "f28a3294b7df498b9f32d69a0a70cf5f",
            "ea7adf4e26c44b0585abadf90ccca88a",
            "54fe71edeaa840208ac29ad1c041be45"
          ]
        },
        "id": "M142jjdntIMu",
        "outputId": "6b10b322-d2d4-46f7-fb66-0bbdd7d114d6"
      },
      "outputs": [
        {
          "output_type": "display_data",
          "data": {
            "text/plain": [
              "FloatProgress(value=0.0, bar_style='info', description='Progress:', layout=Layout(height='25px', width='50%'),…"
            ],
            "application/vnd.jupyter.widget-view+json": {
              "version_major": 2,
              "version_minor": 0,
              "model_id": "427c34110ed5462b8c2cbf8f22be4e67"
            }
          },
          "metadata": {}
        },
        {
          "output_type": "display_data",
          "data": {
            "text/plain": [
              "FloatProgress(value=0.0, bar_style='info', description='Progress:', layout=Layout(height='25px', width='50%'),…"
            ],
            "application/vnd.jupyter.widget-view+json": {
              "version_major": 2,
              "version_minor": 0,
              "model_id": "f28a3294b7df498b9f32d69a0a70cf5f"
            }
          },
          "metadata": {}
        }
      ],
      "source": [
        "%spark -o dec_toys_sdf"
      ]
    },
    {
      "cell_type": "code",
      "execution_count": null,
      "metadata": {
        "colab": {
          "base_uri": "https://localhost:8080/"
        },
        "id": "HI-9TlCNtMYR",
        "outputId": "9778b14e-657f-42fc-a8c5-39e349f8542a"
      },
      "outputs": [
        {
          "output_type": "stream",
          "name": "stdout",
          "text": [
            "Correct! You earned 6/6 points. You are a star!\n",
            "\n",
            "Your submission has been successfully recorded in the gradebook.\n"
          ]
        }
      ],
      "source": [
        "\n",
        "\n",
        "# 6 points\n",
        "grader.grade(test_case_id = 'test_dec_toys', answer = dec_toys_sdf)"
      ]
    },
    {
      "cell_type": "markdown",
      "metadata": {
        "id": "88HTvDoHDKQg"
      },
      "source": [
        "#### Step 2.3.2: Healthy Home [5 pts]"
      ]
    },
    {
      "cell_type": "markdown",
      "metadata": {
        "id": "dR0p39j9Ttqu"
      },
      "source": [
        "We are interested in finding the products that are most frequently reviewed within the Home and Kitchen category. Find the top three months in which products from the Home and Kitchen category are most frequently reviewed during the years 2010 to 2014 (inclusive). As before, the `SUBSTR` function in SQL will be helpful for you in your query.\n",
        "\n",
        "Return a dataframe with the schema `(month, num_reviews)` where `month` is the months in which products are most frequently reviewed (month values are integers: ex. 11 = November) and `num_reviews` is the number of reviews for that `month` during the years specified."
      ]
    },
    {
      "cell_type": "code",
      "execution_count": null,
      "metadata": {
        "colab": {
          "base_uri": "https://localhost:8080/",
          "height": 207,
          "referenced_widgets": [
            "048194c9b38b49d18b0c5c7bfae7823a",
            "63376f1745fe49fab076667e1d9203f8",
            "ef342fb4822540c2a57e4b3c6705101a"
          ]
        },
        "id": "BfHZ16TAHbIw",
        "outputId": "329de41e-2964-412c-e577-21c1f63beb55"
      },
      "outputs": [
        {
          "output_type": "display_data",
          "data": {
            "text/plain": [
              "FloatProgress(value=0.0, bar_style='info', description='Progress:', layout=Layout(height='25px', width='50%'),…"
            ],
            "application/vnd.jupyter.widget-view+json": {
              "version_major": 2,
              "version_minor": 0,
              "model_id": "048194c9b38b49d18b0c5c7bfae7823a"
            }
          },
          "metadata": {}
        },
        {
          "output_type": "stream",
          "name": "stdout",
          "text": [
            "+--------------+----------+-------+--------------------+-------+--------------------+-----------+--------------+--------------------+------------+-----+\n",
            "|    reviewerID|      asin|helpful|          reviewText|overall|             summary| reviewTime|unixReviewTime|               title|    category|price|\n",
            "+--------------+----------+-------+--------------------+-------+--------------------+-----------+--------------+--------------------+------------+-----+\n",
            "|A2OCN2J4EWJBV8|0735329923|  [0,0]|Cute little book ...|    5.0|    Great traveling!|05 27, 2014|    1401148800|Fairy Friends Boo...|Toys & Games|  7.5|\n",
            "|A3CKKJVC44TEYB|0735329923|  [0,1]|My little girl lo...|    5.0|My Little Girl LO...| 09 5, 2013|    1378339200|Fairy Friends Boo...|Toys & Games|  7.5|\n",
            "|A1OPPKUKMTXX6E|0735332002|  [0,0]|my student enjoy ...|    5.0|great for a scien...|04 24, 2014|    1398297600|All Four Seasons ...|Toys & Games|17.29|\n",
            "|A3R08YTMOUI5BY|073533918X|  [0,0]|The puppets are r...|    5.0|Excellent gift (b...|03 24, 2014|    1395619200|Mudpuppy The Litt...|Toys & Games|16.95|\n",
            "|A33V2WL8BJSVEY|0764955063|  [0,0]|I always want to ...|    5.0|              venice| 10 8, 2012|    1349654400|The Square of St....|Toys & Games|14.31|\n",
            "+--------------+----------+-------+--------------------+-------+--------------------+-----------+--------------+--------------------+------------+-----+\n",
            "only showing top 5 rows"
          ]
        }
      ],
      "source": [
        "%%spark\n",
        "product_reviews_sdf.show(5)"
      ]
    },
    {
      "cell_type": "code",
      "execution_count": null,
      "metadata": {
        "colab": {
          "base_uri": "https://localhost:8080/",
          "height": 136,
          "referenced_widgets": [
            "8b1211f407ac48d48b70c07dd071cd11",
            "22e69d2499bb45b18fab3bbf503dfa0d",
            "2be881df33f9427c8209bc86f6bd7474"
          ]
        },
        "id": "cakzp4DUthj6",
        "outputId": "14aee323-455c-42cf-8d70-fa0b47af3972"
      },
      "outputs": [
        {
          "output_type": "display_data",
          "data": {
            "text/plain": [
              "FloatProgress(value=0.0, bar_style='info', description='Progress:', layout=Layout(height='25px', width='50%'),…"
            ],
            "application/vnd.jupyter.widget-view+json": {
              "version_major": 2,
              "version_minor": 0,
              "model_id": "8b1211f407ac48d48b70c07dd071cd11"
            }
          },
          "metadata": {}
        },
        {
          "output_type": "stream",
          "name": "stdout",
          "text": [
            "+-----+-----------+\n",
            "|month|num_reviews|\n",
            "+-----+-----------+\n",
            "|   01|     414257|\n",
            "|   12|     329143|\n",
            "|   02|     318557|\n",
            "+-----+-----------+"
          ]
        }
      ],
      "source": [
        "%%spark\n",
        "\n",
        "#TODO: Create home_kitch_three_sdf\n",
        "\n",
        "# Create SQL-accesible table\n",
        "product_reviews_sdf.createOrReplaceTempView(\"prod_review\")\n",
        "\n",
        "\n",
        "# Declare SQL query to be excecuted\n",
        "query = '''\n",
        "SELECT SUBSTR( reviewTime, 0,2) AS month, count(asin) AS num_reviews\n",
        "FROM prod_review\n",
        "WHERE category == \"Home & Kitchen\" AND (SUBSTR( reviewTime, -4) BETWEEN 2010 AND 2014)\n",
        "GROUP BY month\n",
        "ORDER BY num_reviews DESC\n",
        "LIMIT 3\n",
        "'''\n",
        "\n",
        "# Save the output sdf of spark.sql() as home_kitch_three_sdf\n",
        "home_kitch_three_sdf = spark.sql(query)\n",
        "home_kitch_three_sdf.show(5)\n"
      ]
    },
    {
      "cell_type": "code",
      "execution_count": null,
      "metadata": {
        "colab": {
          "base_uri": "https://localhost:8080/",
          "height": 17,
          "referenced_widgets": [
            "095aa285be494a5d9255726f39e22515",
            "e678b2ee685143b281cf44ee98869289",
            "3189d4ffcfbf4996b0bdfa514846c58a",
            "ffc47f5dc8ae4523a4d1fbacfae05d0c",
            "4a2ab234a0624eff87f5e93b0f61c25c",
            "4c81294c8f614b2aae04b4908b73fce8"
          ]
        },
        "id": "MXis6SJ4yKHK",
        "outputId": "d032acb7-af13-4558-dbe5-249479a6a9b5"
      },
      "outputs": [
        {
          "output_type": "display_data",
          "data": {
            "text/plain": [
              "FloatProgress(value=0.0, bar_style='info', description='Progress:', layout=Layout(height='25px', width='50%'),…"
            ],
            "application/vnd.jupyter.widget-view+json": {
              "version_major": 2,
              "version_minor": 0,
              "model_id": "095aa285be494a5d9255726f39e22515"
            }
          },
          "metadata": {}
        },
        {
          "output_type": "display_data",
          "data": {
            "text/plain": [
              "FloatProgress(value=0.0, bar_style='info', description='Progress:', layout=Layout(height='25px', width='50%'),…"
            ],
            "application/vnd.jupyter.widget-view+json": {
              "version_major": 2,
              "version_minor": 0,
              "model_id": "ffc47f5dc8ae4523a4d1fbacfae05d0c"
            }
          },
          "metadata": {}
        }
      ],
      "source": [
        "%spark -o home_kitch_three_sdf"
      ]
    },
    {
      "cell_type": "code",
      "execution_count": null,
      "metadata": {
        "colab": {
          "base_uri": "https://localhost:8080/"
        },
        "id": "GTYWMVpsyexw",
        "outputId": "daac24c3-b222-4fba-86d3-bcb8a3d42866"
      },
      "outputs": [
        {
          "output_type": "stream",
          "name": "stdout",
          "text": [
            "Correct! You earned 5/5 points. You are a star!\n",
            "\n",
            "Your submission has been successfully recorded in the gradebook.\n"
          ]
        }
      ],
      "source": [
        "\n",
        "# 5 points\n",
        "grader.grade(test_case_id = 'test_home_kitch_three', answer = home_kitch_three_sdf)"
      ]
    },
    {
      "cell_type": "markdown",
      "metadata": {
        "id": "9G1cFfEmDLit"
      },
      "source": [
        "## Step 3: The Riveting Reviews [30 pts]\n"
      ]
    },
    {
      "cell_type": "markdown",
      "metadata": {
        "id": "qxasT40_DORo"
      },
      "source": [
        "### Step 3.1: The Short Summary [5 pts]\n",
        "\n",
        "You don't always have time to read an entire review. When you're about to buy a product you love, you may scroll through some reviews, eyeballing the summaries and how helpful the reviews are. Eyeballing a few reviews that comment on the usability of the product like \"cheap but works\" or \"effective\" or \"waste of money\" can help you make your decision. Your task is to count the number of reviews per category where the summary length is less than 10 characters and it is considered useful.\n",
        "\n",
        "```\n",
        "+-------------------+--------------------+\n",
        "|           category|     helpful_reviews|\n",
        "+-------------------+--------------------|\n",
        "+-------------------+--------------------+\n",
        "```\n",
        "\n",
        "\n",
        "Name this calculated count of reviews as helpful_reviews and rank categories in descending order of helpful_reviews.\n",
        "\n",
        "\n",
        "Useful rating is defined as a list - [no. of helpful votes, total no,of votes. For example, a [2,3] means 2 out of 3 others found this review helpful. So, to be considered useful a review must have 1 or more total votes, and 1 or more helpful votes."
      ]
    },
    {
      "cell_type": "code",
      "execution_count": null,
      "metadata": {
        "colab": {
          "base_uri": "https://localhost:8080/",
          "height": 136,
          "referenced_widgets": [
            "8cb65a3890b84721ba9d7fa93a485189",
            "ab9461153b034623847402c2d0068ce8",
            "4bce4d9ba244414fad68872ab43d12da"
          ]
        },
        "id": "PeKtZsamzw6g",
        "outputId": "c17c96d4-39aa-4b0b-bba1-4dfc3bbcad38"
      },
      "outputs": [
        {
          "output_type": "display_data",
          "data": {
            "text/plain": [
              "FloatProgress(value=0.0, bar_style='info', description='Progress:', layout=Layout(height='25px', width='50%'),…"
            ],
            "application/vnd.jupyter.widget-view+json": {
              "version_major": 2,
              "version_minor": 0,
              "model_id": "8cb65a3890b84721ba9d7fa93a485189"
            }
          },
          "metadata": {}
        },
        {
          "output_type": "stream",
          "name": "stdout",
          "text": [
            "+--------------+---------------+\n",
            "|      category|helpful_reviews|\n",
            "+--------------+---------------+\n",
            "|Home & Kitchen|         150574|\n",
            "|  Toys & Games|          75173|\n",
            "|          Food|          53525|\n",
            "+--------------+---------------+"
          ]
        }
      ],
      "source": [
        "%%spark\n",
        "\n",
        "#TODO: Create summary_sdf\n",
        "# Create SQL-accesible table\n",
        "product_reviews_sdf.createOrReplaceTempView(\"prod_review\")\n",
        "\n",
        "\n",
        "# Declare SQL query to be excecuted\n",
        "query = '''\n",
        "\n",
        "SELECT category,  COUNT(reviewerID) AS helpful_reviews\n",
        "FROM prod_review\n",
        "WHERE (char_length(summary) < 10) AND (SPLIT(SUBSTR(helpful, 2, length(helpful)-2),',')[0]>=1) AND (SPLIT(SUBSTR(helpful, 2, length(helpful)-2),',')[1]>=1)\n",
        "GROUP BY category\n",
        "ORDER BY helpful_reviews DESC\n",
        "'''\n",
        "#COUNT(reviewerID) AS helpful_reviews,\n",
        "#GROUP BY category\n",
        "#ORDER BY helpful_reviews DESC\n",
        "#AND (SUBSTR(helpful, 2, length(helpful)-2) >= 1) AND (int(SUBSTR(helpful, 4, 1))>= 1)\n",
        "\n",
        "\n",
        "\n",
        "# Save the output sdf of spark.sql() as summary_sdf\n",
        "summary_sdf = spark.sql(query)\n",
        "summary_sdf.show()"
      ]
    },
    {
      "cell_type": "code",
      "execution_count": null,
      "metadata": {
        "colab": {
          "base_uri": "https://localhost:8080/",
          "height": 17,
          "referenced_widgets": [
            "a8a10b797fae485ebc7c9f9f706f89cd",
            "9c57e4a136a947ad824a6509f03f785b",
            "c18c84080a894e58841d4a483f6131d2",
            "4c1e12e2b81f4fd8aebf944ad7c7e08f",
            "e971d6f3f71e45988620dd6c93b0c643",
            "cfc30ebfb2494da98fe97e3e44a22de8"
          ]
        },
        "id": "DcwtLJ9azwoy",
        "outputId": "2388a8b6-194f-437f-e357-11c7307b1873"
      },
      "outputs": [
        {
          "output_type": "display_data",
          "data": {
            "text/plain": [
              "FloatProgress(value=0.0, bar_style='info', description='Progress:', layout=Layout(height='25px', width='50%'),…"
            ],
            "application/vnd.jupyter.widget-view+json": {
              "version_major": 2,
              "version_minor": 0,
              "model_id": "a8a10b797fae485ebc7c9f9f706f89cd"
            }
          },
          "metadata": {}
        },
        {
          "output_type": "display_data",
          "data": {
            "text/plain": [
              "FloatProgress(value=0.0, bar_style='info', description='Progress:', layout=Layout(height='25px', width='50%'),…"
            ],
            "application/vnd.jupyter.widget-view+json": {
              "version_major": 2,
              "version_minor": 0,
              "model_id": "4c1e12e2b81f4fd8aebf944ad7c7e08f"
            }
          },
          "metadata": {}
        }
      ],
      "source": [
        "%spark -o summary_sdf"
      ]
    },
    {
      "cell_type": "code",
      "execution_count": null,
      "metadata": {
        "colab": {
          "base_uri": "https://localhost:8080/"
        },
        "id": "DW-tKZr_zz7E",
        "outputId": "729d898c-5e02-4659-df25-2ab930acd175"
      },
      "outputs": [
        {
          "output_type": "stream",
          "name": "stdout",
          "text": [
            "Correct! You earned 5/5 points. You are a star!\n",
            "\n",
            "Your submission has been successfully recorded in the gradebook.\n"
          ]
        }
      ],
      "source": [
        "\n",
        "# 5 points\n",
        "grader.grade(test_case_id = 'test_summary', answer = summary_sdf)"
      ]
    },
    {
      "cell_type": "markdown",
      "metadata": {
        "id": "lnmqRSskDRvE"
      },
      "source": [
        "### Step 3.2: The Review Ratio [10 pts]\n",
        "\n",
        "Find how helpful a review is in terms of a ratio, and return the top 10 most helpful reviews, the corresponding reviewerID and the helpfulness ratio. The helpfulness ratio can be calulated as:\n",
        "\n",
        "\n",
        "\n",
        "\n",
        "\n",
        " $\\frac{Number\\ of \\ helpful \\ votes}{Total \\ number \\ of \\ votes}$\n",
        "\n",
        "\n",
        "The following columns are required in your top_10_helpful_sdf: reviewerID, reviewText, helpful_ratio. Make sure to sort the dataframe in descending order of helpful_ratio as well as descending order of reviewerID.\n",
        "\n",
        "**Note:** Ensure to only use useful ratings when computing the ratio"
      ]
    },
    {
      "cell_type": "code",
      "execution_count": null,
      "metadata": {
        "id": "sstIprXj1Z83",
        "colab": {
          "base_uri": "https://localhost:8080/",
          "height": 255,
          "referenced_widgets": [
            "6673dc7d7ff94e398e8d58396b2c79c0",
            "6cc42c0daa6c492da67e1fe2d2712ff9",
            "7545c293c6a8454ba0ac160c6458cefc"
          ]
        },
        "outputId": "d8f54038-924e-42c0-ce22-7c030f9abcd6"
      },
      "outputs": [
        {
          "output_type": "display_data",
          "data": {
            "text/plain": [
              "FloatProgress(value=0.0, bar_style='info', description='Progress:', layout=Layout(height='25px', width='50%'),…"
            ],
            "application/vnd.jupyter.widget-view+json": {
              "version_major": 2,
              "version_minor": 0,
              "model_id": "6673dc7d7ff94e398e8d58396b2c79c0"
            }
          },
          "metadata": {}
        },
        {
          "output_type": "stream",
          "name": "stdout",
          "text": [
            "+--------------+--------------------+-------------+\n",
            "|    reviewerID|          reviewText|helpful_ratio|\n",
            "+--------------+--------------------+-------------+\n",
            "|A30MXWKFWQBGQG|THIS PUPPET IS GR...|          2.0|\n",
            "|A2V0I904FH7ABY|It was almost a '...|          1.5|\n",
            "| AZZZZS5Z6MEWC|I got this and it...|          1.0|\n",
            "| AZZZOVIBXHGDR|I ordered this ce...|          1.0|\n",
            "| AZZZO4QCZROW8|I received this b...|          1.0|\n",
            "| AZZZKHVV482YT|I really like it ...|          1.0|\n",
            "| AZZZ871Y5ZC4F|These are deep, n...|          1.0|\n",
            "| AZZZ6G9WZTNNX|So awesome!!!  I ...|          1.0|\n",
            "| AZZZ3LGTCGUZF|Great gift.  Boug...|          1.0|\n",
            "| AZZZ3H7UKQZB1|I bought this set...|          1.0|\n",
            "+--------------+--------------------+-------------+"
          ]
        }
      ],
      "source": [
        "%%spark\n",
        "#TODO: Create top_10_helpful_sdf\n",
        "# Create SQL-accesible table\n",
        "product_reviews_sdf.createOrReplaceTempView(\"prod_review\")\n",
        "\n",
        "\n",
        "# Declare SQL query to be excecuted\n",
        "query = '''\n",
        "WITH useful_df AS\n",
        "(SELECT reviewerID, reviewText, helpful\n",
        "FROM prod_review\n",
        "WHERE (SPLIT(SUBSTR(helpful, 2, length(helpful)-2),',')[0] >=1) AND (SPLIT(SUBSTR(helpful, 2, length(helpful)-2),',')[1] >=1))\n",
        "\n",
        "SELECT reviewerID, reviewText, (SPLIT(SUBSTR(helpful, 2, length(helpful)-2),',')[0]/SPLIT(SUBSTR(helpful, 2, length(helpful)-2),',')[1]) AS helpful_ratio\n",
        "FROM useful_df\n",
        "ORDER BY helpful_ratio DESC, reviewerID DESC\n",
        "LIMIT 10\n",
        "'''\n",
        "\n",
        "\n",
        "# Save the output sdf of spark.sql() as top10_helpful_sdf\n",
        "top10_helpful_sdf = spark.sql(query)\n",
        "top10_helpful_sdf.show()"
      ]
    },
    {
      "cell_type": "code",
      "execution_count": null,
      "metadata": {
        "id": "3LlHp2NS1a6_",
        "colab": {
          "base_uri": "https://localhost:8080/",
          "height": 17,
          "referenced_widgets": [
            "68d0ad04c4b54105a857cdb46a338a83",
            "7bc2ad40f26f443fac6bab9fae8aae76",
            "80f6c0f7200b4526b5f4b155e45ea54a",
            "6b293a172af04686ba18693bf0006368",
            "d7500c44d4cd469f9215d68285ff2d6c",
            "a2f22c32e31640ffa9c9d5c6fd602970"
          ]
        },
        "outputId": "540bd1c1-d4ca-445a-dc49-2634756657aa"
      },
      "outputs": [
        {
          "output_type": "display_data",
          "data": {
            "text/plain": [
              "FloatProgress(value=0.0, bar_style='info', description='Progress:', layout=Layout(height='25px', width='50%'),…"
            ],
            "application/vnd.jupyter.widget-view+json": {
              "version_major": 2,
              "version_minor": 0,
              "model_id": "68d0ad04c4b54105a857cdb46a338a83"
            }
          },
          "metadata": {}
        },
        {
          "output_type": "display_data",
          "data": {
            "text/plain": [
              "FloatProgress(value=0.0, bar_style='info', description='Progress:', layout=Layout(height='25px', width='50%'),…"
            ],
            "application/vnd.jupyter.widget-view+json": {
              "version_major": 2,
              "version_minor": 0,
              "model_id": "6b293a172af04686ba18693bf0006368"
            }
          },
          "metadata": {}
        }
      ],
      "source": [
        "%spark -o top10_helpful_sdf"
      ]
    },
    {
      "cell_type": "code",
      "execution_count": null,
      "metadata": {
        "id": "QMPtc6A41fWU",
        "colab": {
          "base_uri": "https://localhost:8080/"
        },
        "outputId": "7dde49ee-db4a-42b5-df19-d7b40b6d3e80"
      },
      "outputs": [
        {
          "output_type": "stream",
          "name": "stdout",
          "text": [
            "Correct! You earned 10/10 points. You are a star!\n",
            "\n",
            "Your submission has been successfully recorded in the gradebook.\n"
          ]
        }
      ],
      "source": [
        "\n",
        "# 10 points\n",
        "grader.grade(test_case_id = 'test_helpful_ratio', answer = top10_helpful_sdf)"
      ]
    },
    {
      "cell_type": "markdown",
      "metadata": {
        "id": "rQR-vYBwDYjY"
      },
      "source": [
        "### Step 3.3: The Sensible Sentiment\n",
        "\n",
        "We would like to determine the sentiment of some of the reviews across the categories. Sentiment Analysis is used with textual data very regularly. A common application includes determing whether the review associated with a product is positive, negative or neutral. We are going to attempt to determine the sentiment associated with the top 10 most helpful reviews from the food category, based on the ratio calculated in the previous section."
      ]
    },
    {
      "cell_type": "markdown",
      "metadata": {
        "id": "omdhaC5FDb88"
      },
      "source": [
        "#### Step 3.3.1: The Top Ten [5 pts]\n",
        "\n",
        "Retrieve the asin and reviewText for the top 10 most helpful reviews for the food category, where how helpful a review is determined by the ratio calculated in the previous question. Sort in descending order of helpfulness as well as reviewerID."
      ]
    },
    {
      "cell_type": "code",
      "execution_count": null,
      "metadata": {
        "id": "lfry_qaG1ixe",
        "colab": {
          "base_uri": "https://localhost:8080/",
          "height": 255,
          "referenced_widgets": [
            "2194c1d5717e4d2387af26aae6065a49",
            "80645340579041e98971ad0685f51829",
            "a2f965e9a73443d1a141413cdbe3cbc3"
          ]
        },
        "outputId": "a6563cb3-40f9-4a1c-c498-ac661a1a3b07"
      },
      "outputs": [
        {
          "output_type": "display_data",
          "data": {
            "text/plain": [
              "FloatProgress(value=0.0, bar_style='info', description='Progress:', layout=Layout(height='25px', width='50%'),…"
            ],
            "application/vnd.jupyter.widget-view+json": {
              "version_major": 2,
              "version_minor": 0,
              "model_id": "2194c1d5717e4d2387af26aae6065a49"
            }
          },
          "metadata": {}
        },
        {
          "output_type": "stream",
          "name": "stdout",
          "text": [
            "+----------+--------------------+\n",
            "|      asin|          reviewText|\n",
            "+----------+--------------------+\n",
            "|B001EQ55RW|It was almost a '...|\n",
            "|B001EO5SB2|I ordered this ce...|\n",
            "|B00AUM3T7E|My dad really enj...|\n",
            "|B001EQ5EJQ|I use this for ev...|\n",
            "|B001EO6B7C|Baked in the oven...|\n",
            "|B005K4Q1YA|UNBELIEVABLE - CA...|\n",
            "|B004NY500O|This is not the f...|\n",
            "|B001E0HT2W|I love this syrup...|\n",
            "|B000FKMNUU|This product uses...|\n",
            "|B0015KAYN2|First of all, the...|\n",
            "+----------+--------------------+"
          ]
        }
      ],
      "source": [
        "%%spark\n",
        "#TODO : Create top10_sdf\n",
        "# Create SQL-accesible table\n",
        "product_reviews_sdf.createOrReplaceTempView(\"prod_review\")\n",
        "\n",
        "\n",
        "# Declare SQL query to be excecuted\n",
        "query = '''\n",
        "WITH useful_food_df AS\n",
        "(SELECT asin, reviewText, reviewerID, (SPLIT(SUBSTR(helpful, 2, length(helpful)-2),',')[0]/SPLIT(SUBSTR(helpful, 2, length(helpful)-2),',')[1]) AS helpful_ratio\n",
        "FROM prod_review\n",
        "WHERE category = 'Food' AND (SPLIT(SUBSTR(helpful, 2, length(helpful)-2),',')[0] >=1) AND (SPLIT(SUBSTR(helpful, 2, length(helpful)-2),',')[1] >=1))\n",
        "\n",
        "SELECT asin, reviewText\n",
        "FROM useful_food_df\n",
        "ORDER BY helpful_ratio DESC, reviewerID DESC\n",
        "LIMIT 10\n",
        "'''\n",
        "\n",
        "# Save the output sdf of spark.sql() as top10_sdf\n",
        "top10_sdf = spark.sql(query)\n",
        "top10_sdf.show()"
      ]
    },
    {
      "cell_type": "code",
      "execution_count": null,
      "metadata": {
        "id": "E50DWLFx1jxC",
        "colab": {
          "base_uri": "https://localhost:8080/",
          "height": 17,
          "referenced_widgets": [
            "0d998f7bdf5149efadac2c36645e7533",
            "486d5461e6c844848ddb75f0b9dacdc1",
            "a6324e282e174d108c527e5f636cc2e7",
            "1b5d08d2aae545d799919885736a6148",
            "276137dd24f44c53bbcc31a39ae7959f",
            "26cbf385c78540b7ac834533d5fb2701"
          ]
        },
        "outputId": "156f1331-ee4c-47d3-a269-e3037f5cb5ae"
      },
      "outputs": [
        {
          "output_type": "display_data",
          "data": {
            "text/plain": [
              "FloatProgress(value=0.0, bar_style='info', description='Progress:', layout=Layout(height='25px', width='50%'),…"
            ],
            "application/vnd.jupyter.widget-view+json": {
              "version_major": 2,
              "version_minor": 0,
              "model_id": "0d998f7bdf5149efadac2c36645e7533"
            }
          },
          "metadata": {}
        },
        {
          "output_type": "display_data",
          "data": {
            "text/plain": [
              "FloatProgress(value=0.0, bar_style='info', description='Progress:', layout=Layout(height='25px', width='50%'),…"
            ],
            "application/vnd.jupyter.widget-view+json": {
              "version_major": 2,
              "version_minor": 0,
              "model_id": "1b5d08d2aae545d799919885736a6148"
            }
          },
          "metadata": {}
        }
      ],
      "source": [
        "%spark -o top10_sdf"
      ]
    },
    {
      "cell_type": "code",
      "execution_count": null,
      "metadata": {
        "id": "ZgDLT4IP1nSf",
        "colab": {
          "base_uri": "https://localhost:8080/"
        },
        "outputId": "04efea90-09ff-48fd-972b-2b89cd3a4331"
      },
      "outputs": [
        {
          "output_type": "stream",
          "name": "stdout",
          "text": [
            "Correct! You earned 5/5 points. You are a star!\n",
            "\n",
            "Your submission has been successfully recorded in the gradebook.\n"
          ]
        }
      ],
      "source": [
        "\n",
        "# 5 points\n",
        "grader.grade(test_case_id = 'test_top10_helpful', answer = top10_sdf)"
      ]
    },
    {
      "cell_type": "markdown",
      "metadata": {
        "id": "mSYdQxVlDgoZ"
      },
      "source": [
        "#### Step 3.3.2: Positively Positive [10 pts]\n",
        "\n",
        "Recall from your previous assignment, you were asked to return a tokenized list of words (removing stop words and checking for alphabets).\n",
        "\n",
        "Using the pandas dataframe created from the previous section, create a new column called 'tokenized' which contains the tokens from the reviewText. (Hint: Use the apply function to call the custom tokenize function from HW2).\n",
        "\n",
        "Sentiment analysis is a a natural language processing (NLP) technique that attempts to identify the emotional tone behind a body of text. In this case, we will try to determine how posiitve a review is.\n",
        "\n",
        "\n",
        "We will be calculating the sentiment associated with each of these reviews. To read more about sentiment analysis, [click here](https://towardsdatascience.com/sentiment-analysis-concept-analysis-and-applications-6c94d6f58c17)."
      ]
    },
    {
      "cell_type": "code",
      "execution_count": null,
      "metadata": {
        "id": "r54o6GQ_3dq6",
        "colab": {
          "base_uri": "https://localhost:8080/"
        },
        "outputId": "931b20eb-e431-40e9-cb99-973f91f3bfe2"
      },
      "outputs": [
        {
          "output_type": "stream",
          "name": "stderr",
          "text": [
            "[nltk_data] Downloading package stopwords to /root/nltk_data...\n",
            "[nltk_data]   Unzipping corpora/stopwords.zip.\n",
            "[nltk_data] Downloading package punkt to /root/nltk_data...\n",
            "[nltk_data]   Unzipping tokenizers/punkt.zip.\n",
            "[nltk_data] Downloading package vader_lexicon to /root/nltk_data...\n"
          ]
        }
      ],
      "source": [
        "import nltk\n",
        "from nltk.corpus import stopwords\n",
        "nltk.download('stopwords')\n",
        "nltk.download('punkt')\n",
        "nltk.download('vader_lexicon')\n",
        "stopwords = set(stopwords.words('english'))"
      ]
    },
    {
      "cell_type": "code",
      "execution_count": null,
      "metadata": {
        "id": "jO_nTqwY3mgD",
        "colab": {
          "base_uri": "https://localhost:8080/",
          "height": 573
        },
        "outputId": "ec48824c-d367-45d8-f1c3-10cf1ef9d582"
      },
      "outputs": [
        {
          "output_type": "execute_result",
          "data": {
            "text/plain": [
              "         asin                                         reviewText  \\\n",
              "0  B001EQ55RW  It was almost a 'love at first bite' - the per...   \n",
              "1  B001EO5SB2  I ordered this cereal based on the good review...   \n",
              "2  B00AUM3T7E  My dad really enjoyed them! Mexico's food is b...   \n",
              "3  B001EQ5EJQ  I use this for everything--cooking, salads, fr...   \n",
              "4  B001EO6B7C  Baked in the oven at 350F for 20 - 25 minutes....   \n",
              "5  B005K4Q1YA  UNBELIEVABLE - CAN'T GO WITHOUT IT.....YUMMY !...   \n",
              "6  B004NY500O  This is not the flavor I was looking for. Like...   \n",
              "7  B001E0HT2W  I love this syrup. It is my personal substitut...   \n",
              "8  B000FKMNUU  This product uses Sorbitol and Asparthame to a...   \n",
              "9  B0015KAYN2  First of all, the fragrance is subtle and heav...   \n",
              "\n",
              "                                           tokenized  \n",
              "0  [almost, first, bite, perfectly, roasted, almo...  \n",
              "1  [ordered, cereal, based, good, reviews, else, ...  \n",
              "2  [dad, really, enjoyed, mexico, food, bland, gr...  \n",
              "3  [use, everything, cooking, salads, frying, add...  \n",
              "4  [baked, oven, minutes, taste, great, definitel...  \n",
              "5  [unbelievable, ca, go, without, yummy, told, f...  \n",
              "6  [flavor, looking, like, typical, bazooka, flav...  \n",
              "7  [love, syrup, personal, substitute, bailey, ir...  \n",
              "8  [product, uses, sorbitol, asparthame, add, swe...  \n",
              "9  [first, fragrance, subtle, heavenly, love, not...  "
            ],
            "text/html": [
              "\n",
              "  <div id=\"df-77ba31fc-b155-4411-b944-379cba55fa69\">\n",
              "    <div class=\"colab-df-container\">\n",
              "      <div>\n",
              "<style scoped>\n",
              "    .dataframe tbody tr th:only-of-type {\n",
              "        vertical-align: middle;\n",
              "    }\n",
              "\n",
              "    .dataframe tbody tr th {\n",
              "        vertical-align: top;\n",
              "    }\n",
              "\n",
              "    .dataframe thead th {\n",
              "        text-align: right;\n",
              "    }\n",
              "</style>\n",
              "<table border=\"1\" class=\"dataframe\">\n",
              "  <thead>\n",
              "    <tr style=\"text-align: right;\">\n",
              "      <th></th>\n",
              "      <th>asin</th>\n",
              "      <th>reviewText</th>\n",
              "      <th>tokenized</th>\n",
              "    </tr>\n",
              "  </thead>\n",
              "  <tbody>\n",
              "    <tr>\n",
              "      <th>0</th>\n",
              "      <td>B001EQ55RW</td>\n",
              "      <td>It was almost a 'love at first bite' - the per...</td>\n",
              "      <td>[almost, first, bite, perfectly, roasted, almo...</td>\n",
              "    </tr>\n",
              "    <tr>\n",
              "      <th>1</th>\n",
              "      <td>B001EO5SB2</td>\n",
              "      <td>I ordered this cereal based on the good review...</td>\n",
              "      <td>[ordered, cereal, based, good, reviews, else, ...</td>\n",
              "    </tr>\n",
              "    <tr>\n",
              "      <th>2</th>\n",
              "      <td>B00AUM3T7E</td>\n",
              "      <td>My dad really enjoyed them! Mexico's food is b...</td>\n",
              "      <td>[dad, really, enjoyed, mexico, food, bland, gr...</td>\n",
              "    </tr>\n",
              "    <tr>\n",
              "      <th>3</th>\n",
              "      <td>B001EQ5EJQ</td>\n",
              "      <td>I use this for everything--cooking, salads, fr...</td>\n",
              "      <td>[use, everything, cooking, salads, frying, add...</td>\n",
              "    </tr>\n",
              "    <tr>\n",
              "      <th>4</th>\n",
              "      <td>B001EO6B7C</td>\n",
              "      <td>Baked in the oven at 350F for 20 - 25 minutes....</td>\n",
              "      <td>[baked, oven, minutes, taste, great, definitel...</td>\n",
              "    </tr>\n",
              "    <tr>\n",
              "      <th>5</th>\n",
              "      <td>B005K4Q1YA</td>\n",
              "      <td>UNBELIEVABLE - CAN'T GO WITHOUT IT.....YUMMY !...</td>\n",
              "      <td>[unbelievable, ca, go, without, yummy, told, f...</td>\n",
              "    </tr>\n",
              "    <tr>\n",
              "      <th>6</th>\n",
              "      <td>B004NY500O</td>\n",
              "      <td>This is not the flavor I was looking for. Like...</td>\n",
              "      <td>[flavor, looking, like, typical, bazooka, flav...</td>\n",
              "    </tr>\n",
              "    <tr>\n",
              "      <th>7</th>\n",
              "      <td>B001E0HT2W</td>\n",
              "      <td>I love this syrup. It is my personal substitut...</td>\n",
              "      <td>[love, syrup, personal, substitute, bailey, ir...</td>\n",
              "    </tr>\n",
              "    <tr>\n",
              "      <th>8</th>\n",
              "      <td>B000FKMNUU</td>\n",
              "      <td>This product uses Sorbitol and Asparthame to a...</td>\n",
              "      <td>[product, uses, sorbitol, asparthame, add, swe...</td>\n",
              "    </tr>\n",
              "    <tr>\n",
              "      <th>9</th>\n",
              "      <td>B0015KAYN2</td>\n",
              "      <td>First of all, the fragrance is subtle and heav...</td>\n",
              "      <td>[first, fragrance, subtle, heavenly, love, not...</td>\n",
              "    </tr>\n",
              "  </tbody>\n",
              "</table>\n",
              "</div>\n",
              "      <button class=\"colab-df-convert\" onclick=\"convertToInteractive('df-77ba31fc-b155-4411-b944-379cba55fa69')\"\n",
              "              title=\"Convert this dataframe to an interactive table.\"\n",
              "              style=\"display:none;\">\n",
              "        \n",
              "  <svg xmlns=\"http://www.w3.org/2000/svg\" height=\"24px\"viewBox=\"0 0 24 24\"\n",
              "       width=\"24px\">\n",
              "    <path d=\"M0 0h24v24H0V0z\" fill=\"none\"/>\n",
              "    <path d=\"M18.56 5.44l.94 2.06.94-2.06 2.06-.94-2.06-.94-.94-2.06-.94 2.06-2.06.94zm-11 1L8.5 8.5l.94-2.06 2.06-.94-2.06-.94L8.5 2.5l-.94 2.06-2.06.94zm10 10l.94 2.06.94-2.06 2.06-.94-2.06-.94-.94-2.06-.94 2.06-2.06.94z\"/><path d=\"M17.41 7.96l-1.37-1.37c-.4-.4-.92-.59-1.43-.59-.52 0-1.04.2-1.43.59L10.3 9.45l-7.72 7.72c-.78.78-.78 2.05 0 2.83L4 21.41c.39.39.9.59 1.41.59.51 0 1.02-.2 1.41-.59l7.78-7.78 2.81-2.81c.8-.78.8-2.07 0-2.86zM5.41 20L4 18.59l7.72-7.72 1.47 1.35L5.41 20z\"/>\n",
              "  </svg>\n",
              "      </button>\n",
              "      \n",
              "  <style>\n",
              "    .colab-df-container {\n",
              "      display:flex;\n",
              "      flex-wrap:wrap;\n",
              "      gap: 12px;\n",
              "    }\n",
              "\n",
              "    .colab-df-convert {\n",
              "      background-color: #E8F0FE;\n",
              "      border: none;\n",
              "      border-radius: 50%;\n",
              "      cursor: pointer;\n",
              "      display: none;\n",
              "      fill: #1967D2;\n",
              "      height: 32px;\n",
              "      padding: 0 0 0 0;\n",
              "      width: 32px;\n",
              "    }\n",
              "\n",
              "    .colab-df-convert:hover {\n",
              "      background-color: #E2EBFA;\n",
              "      box-shadow: 0px 1px 2px rgba(60, 64, 67, 0.3), 0px 1px 3px 1px rgba(60, 64, 67, 0.15);\n",
              "      fill: #174EA6;\n",
              "    }\n",
              "\n",
              "    [theme=dark] .colab-df-convert {\n",
              "      background-color: #3B4455;\n",
              "      fill: #D2E3FC;\n",
              "    }\n",
              "\n",
              "    [theme=dark] .colab-df-convert:hover {\n",
              "      background-color: #434B5C;\n",
              "      box-shadow: 0px 1px 3px 1px rgba(0, 0, 0, 0.15);\n",
              "      filter: drop-shadow(0px 1px 2px rgba(0, 0, 0, 0.3));\n",
              "      fill: #FFFFFF;\n",
              "    }\n",
              "  </style>\n",
              "\n",
              "      <script>\n",
              "        const buttonEl =\n",
              "          document.querySelector('#df-77ba31fc-b155-4411-b944-379cba55fa69 button.colab-df-convert');\n",
              "        buttonEl.style.display =\n",
              "          google.colab.kernel.accessAllowed ? 'block' : 'none';\n",
              "\n",
              "        async function convertToInteractive(key) {\n",
              "          const element = document.querySelector('#df-77ba31fc-b155-4411-b944-379cba55fa69');\n",
              "          const dataTable =\n",
              "            await google.colab.kernel.invokeFunction('convertToInteractive',\n",
              "                                                     [key], {});\n",
              "          if (!dataTable) return;\n",
              "\n",
              "          const docLinkHtml = 'Like what you see? Visit the ' +\n",
              "            '<a target=\"_blank\" href=https://colab.research.google.com/notebooks/data_table.ipynb>data table notebook</a>'\n",
              "            + ' to learn more about interactive tables.';\n",
              "          element.innerHTML = '';\n",
              "          dataTable['output_type'] = 'display_data';\n",
              "          await google.colab.output.renderOutput(dataTable, element);\n",
              "          const docLink = document.createElement('div');\n",
              "          docLink.innerHTML = docLinkHtml;\n",
              "          element.appendChild(docLink);\n",
              "        }\n",
              "      </script>\n",
              "    </div>\n",
              "  </div>\n",
              "  "
            ]
          },
          "metadata": {},
          "execution_count": 66
        }
      ],
      "source": [
        "#Convert to dataframe & tokenize list\n",
        "#TODO: Add your custom tokenize content function\n",
        "\n",
        "def tokenize_content(content):\n",
        "  tokens = nltk.word_tokenize(content)\n",
        "  alpha_words = [word.lower() for word in tokens if word.isalpha()]\n",
        "  removed_alpha_words = [word for word in alpha_words if word not in stopwords]\n",
        "\n",
        "  return  removed_alpha_words\n",
        "\n",
        "#TODO: Apply your function to reviewText\n",
        "top10_sdf['tokenized'] = top10_sdf['reviewText'].apply(lambda x : tokenize_content(x))\n",
        "top10_tokenize_sdf = top10_sdf.copy()\n",
        "top10_tokenize_sdf"
      ]
    },
    {
      "cell_type": "markdown",
      "metadata": {
        "id": "a4mfalDpCKNr"
      },
      "source": [
        "\n",
        "\n",
        "Run the cell below to understand how to the inbuilt Sentiment Analyzer works. As you can see below, the compound variable contains the overall sentiment of the sentence \"Wow, NLTK is really powerful!\".\n",
        "\n",
        "\n",
        "\n"
      ]
    },
    {
      "cell_type": "code",
      "execution_count": null,
      "metadata": {
        "id": "DJMLaQ8f3oFk",
        "colab": {
          "base_uri": "https://localhost:8080/"
        },
        "outputId": "0ec7edc5-db7c-4cff-cebf-aa71baa066b5"
      },
      "outputs": [
        {
          "output_type": "execute_result",
          "data": {
            "text/plain": [
              "{'neg': 0.0, 'neu': 0.295, 'pos': 0.705, 'compound': 0.8012}"
            ]
          },
          "metadata": {},
          "execution_count": 67
        }
      ],
      "source": [
        "#EXAMPLE CELL\n",
        "from nltk.sentiment import SentimentIntensityAnalyzer\n",
        "sia = SentimentIntensityAnalyzer()\n",
        "sia.polarity_scores(\"Wow, NLTK is really powerful!\")"
      ]
    },
    {
      "cell_type": "markdown",
      "metadata": {
        "id": "J0S-6ZB0FCZB"
      },
      "source": [
        "Your task is to now add a column to your dataframe called sentiment, and calculate the sentiment associated with each review. Sort this dataframe from highest sentiment to lowest.\n",
        "\n",
        "Now, moving back into SQL, we need you to run a query on the product_reviews_sdf to retrieve the titles of 2 products with the highest sentiment. Use the asins from the first two rows of your sorted pandas dataframes, and retrieve the just product titles. Save this result into top2_sentiment_sdf. Please do not hardcode the values of the titles, we expect an SQL approach to obtain the titles. However, you may use ASIN values that you obtain from the top10_tokenize_sdf in your SQL query.\n",
        "\n",
        "You will be passing two results to the autograder : top10_tokenize_sdf (asin, reviewText, tokenized, sentiment columns), top2_sentiment_sdf (only title column)"
      ]
    },
    {
      "cell_type": "code",
      "execution_count": null,
      "metadata": {
        "id": "NYDHG-1I3qBc"
      },
      "outputs": [],
      "source": [
        "sia = SentimentIntensityAnalyzer()\n",
        "def retrieve_sentiment(content):\n",
        "  return sia.polarity_scores(content)['compound']\n",
        ""
      ]
    },
    {
      "cell_type": "code",
      "execution_count": null,
      "metadata": {
        "id": "F2QN2RbE5q8U",
        "colab": {
          "base_uri": "https://localhost:8080/",
          "height": 573
        },
        "outputId": "b38200f0-3456-4abb-8242-33e4872acbad"
      },
      "outputs": [
        {
          "output_type": "execute_result",
          "data": {
            "text/plain": [
              "         asin                                         reviewText  \\\n",
              "9  B0015KAYN2  First of all, the fragrance is subtle and heav...   \n",
              "2  B00AUM3T7E  My dad really enjoyed them! Mexico's food is b...   \n",
              "4  B001EO6B7C  Baked in the oven at 350F for 20 - 25 minutes....   \n",
              "0  B001EQ55RW  It was almost a 'love at first bite' - the per...   \n",
              "3  B001EQ5EJQ  I use this for everything--cooking, salads, fr...   \n",
              "7  B001E0HT2W  I love this syrup. It is my personal substitut...   \n",
              "8  B000FKMNUU  This product uses Sorbitol and Asparthame to a...   \n",
              "5  B005K4Q1YA  UNBELIEVABLE - CAN'T GO WITHOUT IT.....YUMMY !...   \n",
              "6  B004NY500O  This is not the flavor I was looking for. Like...   \n",
              "1  B001EO5SB2  I ordered this cereal based on the good review...   \n",
              "\n",
              "                                           tokenized  sentiment  \n",
              "9  [first, fragrance, subtle, heavenly, love, not...     0.9926  \n",
              "2  [dad, really, enjoyed, mexico, food, bland, gr...     0.9323  \n",
              "4  [baked, oven, minutes, taste, great, definitel...     0.9186  \n",
              "0  [almost, first, bite, perfectly, roasted, almo...     0.8941  \n",
              "3  [use, everything, cooking, salads, frying, add...     0.8316  \n",
              "7  [love, syrup, personal, substitute, bailey, ir...     0.7050  \n",
              "8  [product, uses, sorbitol, asparthame, add, swe...     0.6908  \n",
              "5  [unbelievable, ca, go, without, yummy, told, f...     0.6360  \n",
              "6  [flavor, looking, like, typical, bazooka, flav...     0.3612  \n",
              "1  [ordered, cereal, based, good, reviews, else, ...    -0.6451  "
            ],
            "text/html": [
              "\n",
              "  <div id=\"df-068bf7f3-7b02-4cb4-bdc7-ab0400da8c94\">\n",
              "    <div class=\"colab-df-container\">\n",
              "      <div>\n",
              "<style scoped>\n",
              "    .dataframe tbody tr th:only-of-type {\n",
              "        vertical-align: middle;\n",
              "    }\n",
              "\n",
              "    .dataframe tbody tr th {\n",
              "        vertical-align: top;\n",
              "    }\n",
              "\n",
              "    .dataframe thead th {\n",
              "        text-align: right;\n",
              "    }\n",
              "</style>\n",
              "<table border=\"1\" class=\"dataframe\">\n",
              "  <thead>\n",
              "    <tr style=\"text-align: right;\">\n",
              "      <th></th>\n",
              "      <th>asin</th>\n",
              "      <th>reviewText</th>\n",
              "      <th>tokenized</th>\n",
              "      <th>sentiment</th>\n",
              "    </tr>\n",
              "  </thead>\n",
              "  <tbody>\n",
              "    <tr>\n",
              "      <th>9</th>\n",
              "      <td>B0015KAYN2</td>\n",
              "      <td>First of all, the fragrance is subtle and heav...</td>\n",
              "      <td>[first, fragrance, subtle, heavenly, love, not...</td>\n",
              "      <td>0.9926</td>\n",
              "    </tr>\n",
              "    <tr>\n",
              "      <th>2</th>\n",
              "      <td>B00AUM3T7E</td>\n",
              "      <td>My dad really enjoyed them! Mexico's food is b...</td>\n",
              "      <td>[dad, really, enjoyed, mexico, food, bland, gr...</td>\n",
              "      <td>0.9323</td>\n",
              "    </tr>\n",
              "    <tr>\n",
              "      <th>4</th>\n",
              "      <td>B001EO6B7C</td>\n",
              "      <td>Baked in the oven at 350F for 20 - 25 minutes....</td>\n",
              "      <td>[baked, oven, minutes, taste, great, definitel...</td>\n",
              "      <td>0.9186</td>\n",
              "    </tr>\n",
              "    <tr>\n",
              "      <th>0</th>\n",
              "      <td>B001EQ55RW</td>\n",
              "      <td>It was almost a 'love at first bite' - the per...</td>\n",
              "      <td>[almost, first, bite, perfectly, roasted, almo...</td>\n",
              "      <td>0.8941</td>\n",
              "    </tr>\n",
              "    <tr>\n",
              "      <th>3</th>\n",
              "      <td>B001EQ5EJQ</td>\n",
              "      <td>I use this for everything--cooking, salads, fr...</td>\n",
              "      <td>[use, everything, cooking, salads, frying, add...</td>\n",
              "      <td>0.8316</td>\n",
              "    </tr>\n",
              "    <tr>\n",
              "      <th>7</th>\n",
              "      <td>B001E0HT2W</td>\n",
              "      <td>I love this syrup. It is my personal substitut...</td>\n",
              "      <td>[love, syrup, personal, substitute, bailey, ir...</td>\n",
              "      <td>0.7050</td>\n",
              "    </tr>\n",
              "    <tr>\n",
              "      <th>8</th>\n",
              "      <td>B000FKMNUU</td>\n",
              "      <td>This product uses Sorbitol and Asparthame to a...</td>\n",
              "      <td>[product, uses, sorbitol, asparthame, add, swe...</td>\n",
              "      <td>0.6908</td>\n",
              "    </tr>\n",
              "    <tr>\n",
              "      <th>5</th>\n",
              "      <td>B005K4Q1YA</td>\n",
              "      <td>UNBELIEVABLE - CAN'T GO WITHOUT IT.....YUMMY !...</td>\n",
              "      <td>[unbelievable, ca, go, without, yummy, told, f...</td>\n",
              "      <td>0.6360</td>\n",
              "    </tr>\n",
              "    <tr>\n",
              "      <th>6</th>\n",
              "      <td>B004NY500O</td>\n",
              "      <td>This is not the flavor I was looking for. Like...</td>\n",
              "      <td>[flavor, looking, like, typical, bazooka, flav...</td>\n",
              "      <td>0.3612</td>\n",
              "    </tr>\n",
              "    <tr>\n",
              "      <th>1</th>\n",
              "      <td>B001EO5SB2</td>\n",
              "      <td>I ordered this cereal based on the good review...</td>\n",
              "      <td>[ordered, cereal, based, good, reviews, else, ...</td>\n",
              "      <td>-0.6451</td>\n",
              "    </tr>\n",
              "  </tbody>\n",
              "</table>\n",
              "</div>\n",
              "      <button class=\"colab-df-convert\" onclick=\"convertToInteractive('df-068bf7f3-7b02-4cb4-bdc7-ab0400da8c94')\"\n",
              "              title=\"Convert this dataframe to an interactive table.\"\n",
              "              style=\"display:none;\">\n",
              "        \n",
              "  <svg xmlns=\"http://www.w3.org/2000/svg\" height=\"24px\"viewBox=\"0 0 24 24\"\n",
              "       width=\"24px\">\n",
              "    <path d=\"M0 0h24v24H0V0z\" fill=\"none\"/>\n",
              "    <path d=\"M18.56 5.44l.94 2.06.94-2.06 2.06-.94-2.06-.94-.94-2.06-.94 2.06-2.06.94zm-11 1L8.5 8.5l.94-2.06 2.06-.94-2.06-.94L8.5 2.5l-.94 2.06-2.06.94zm10 10l.94 2.06.94-2.06 2.06-.94-2.06-.94-.94-2.06-.94 2.06-2.06.94z\"/><path d=\"M17.41 7.96l-1.37-1.37c-.4-.4-.92-.59-1.43-.59-.52 0-1.04.2-1.43.59L10.3 9.45l-7.72 7.72c-.78.78-.78 2.05 0 2.83L4 21.41c.39.39.9.59 1.41.59.51 0 1.02-.2 1.41-.59l7.78-7.78 2.81-2.81c.8-.78.8-2.07 0-2.86zM5.41 20L4 18.59l7.72-7.72 1.47 1.35L5.41 20z\"/>\n",
              "  </svg>\n",
              "      </button>\n",
              "      \n",
              "  <style>\n",
              "    .colab-df-container {\n",
              "      display:flex;\n",
              "      flex-wrap:wrap;\n",
              "      gap: 12px;\n",
              "    }\n",
              "\n",
              "    .colab-df-convert {\n",
              "      background-color: #E8F0FE;\n",
              "      border: none;\n",
              "      border-radius: 50%;\n",
              "      cursor: pointer;\n",
              "      display: none;\n",
              "      fill: #1967D2;\n",
              "      height: 32px;\n",
              "      padding: 0 0 0 0;\n",
              "      width: 32px;\n",
              "    }\n",
              "\n",
              "    .colab-df-convert:hover {\n",
              "      background-color: #E2EBFA;\n",
              "      box-shadow: 0px 1px 2px rgba(60, 64, 67, 0.3), 0px 1px 3px 1px rgba(60, 64, 67, 0.15);\n",
              "      fill: #174EA6;\n",
              "    }\n",
              "\n",
              "    [theme=dark] .colab-df-convert {\n",
              "      background-color: #3B4455;\n",
              "      fill: #D2E3FC;\n",
              "    }\n",
              "\n",
              "    [theme=dark] .colab-df-convert:hover {\n",
              "      background-color: #434B5C;\n",
              "      box-shadow: 0px 1px 3px 1px rgba(0, 0, 0, 0.15);\n",
              "      filter: drop-shadow(0px 1px 2px rgba(0, 0, 0, 0.3));\n",
              "      fill: #FFFFFF;\n",
              "    }\n",
              "  </style>\n",
              "\n",
              "      <script>\n",
              "        const buttonEl =\n",
              "          document.querySelector('#df-068bf7f3-7b02-4cb4-bdc7-ab0400da8c94 button.colab-df-convert');\n",
              "        buttonEl.style.display =\n",
              "          google.colab.kernel.accessAllowed ? 'block' : 'none';\n",
              "\n",
              "        async function convertToInteractive(key) {\n",
              "          const element = document.querySelector('#df-068bf7f3-7b02-4cb4-bdc7-ab0400da8c94');\n",
              "          const dataTable =\n",
              "            await google.colab.kernel.invokeFunction('convertToInteractive',\n",
              "                                                     [key], {});\n",
              "          if (!dataTable) return;\n",
              "\n",
              "          const docLinkHtml = 'Like what you see? Visit the ' +\n",
              "            '<a target=\"_blank\" href=https://colab.research.google.com/notebooks/data_table.ipynb>data table notebook</a>'\n",
              "            + ' to learn more about interactive tables.';\n",
              "          element.innerHTML = '';\n",
              "          dataTable['output_type'] = 'display_data';\n",
              "          await google.colab.output.renderOutput(dataTable, element);\n",
              "          const docLink = document.createElement('div');\n",
              "          docLink.innerHTML = docLinkHtml;\n",
              "          element.appendChild(docLink);\n",
              "        }\n",
              "      </script>\n",
              "    </div>\n",
              "  </div>\n",
              "  "
            ]
          },
          "metadata": {},
          "execution_count": 69
        }
      ],
      "source": [
        "# TODO: Create sentiment column and sort top10_tokenize_sdf by sentiment\n",
        "\n",
        "top10_tokenize_sdf['sentiment'] = top10_tokenize_sdf['reviewText'].apply(lambda x: retrieve_sentiment(x))\n",
        "\n",
        "top10_tokenize_sdf.sort_values('sentiment', ascending = False, inplace = True)\n",
        "\n",
        "top10_tokenize_sdf"
      ]
    },
    {
      "cell_type": "code",
      "execution_count": null,
      "metadata": {
        "id": "U_zAPYJw7-5x",
        "colab": {
          "base_uri": "https://localhost:8080/",
          "height": 119,
          "referenced_widgets": [
            "ca7faa104cc84faf914b6b4c873872ce",
            "4f60af680b7e4207a92dc5e266196e85",
            "00359b4e84b54a98917fd26b45d077d1"
          ]
        },
        "outputId": "21e8b1ce-08f5-4025-afea-fade16ec3df5"
      },
      "outputs": [
        {
          "output_type": "display_data",
          "data": {
            "text/plain": [
              "FloatProgress(value=0.0, bar_style='info', description='Progress:', layout=Layout(height='25px', width='50%'),…"
            ],
            "application/vnd.jupyter.widget-view+json": {
              "version_major": 2,
              "version_minor": 0,
              "model_id": "ca7faa104cc84faf914b6b4c873872ce"
            }
          },
          "metadata": {}
        },
        {
          "output_type": "stream",
          "name": "stdout",
          "text": [
            "+--------------------+\n",
            "|               title|\n",
            "+--------------------+\n",
            "|Nature's Way Coco...|\n",
            "|Fritos Corn Chips...|\n",
            "+--------------------+"
          ]
        }
      ],
      "source": [
        "%%spark\n",
        "#TODO: Create top2_sentiment_sdf\n",
        "# Create SQL-accesible table\n",
        "product_reviews_sdf.createOrReplaceTempView(\"prod_review\")\n",
        "\n",
        "# Declare SQL query to be excecuted\n",
        "query = '''\n",
        "SELECT DISTINCT title\n",
        "FROM prod_review\n",
        "WHERE asin = 'B0015KAYN2' OR asin = 'B00AUM3T7E'\n",
        "'''\n",
        "\n",
        "# Save the output sdf of spark.sql() as top2_sentiment_sdf\n",
        "top2_sentiment_sdf = spark.sql(query)\n",
        "top2_sentiment_sdf.show()"
      ]
    },
    {
      "cell_type": "code",
      "execution_count": null,
      "metadata": {
        "id": "vGgMcQ2U8fNX",
        "colab": {
          "base_uri": "https://localhost:8080/",
          "height": 17,
          "referenced_widgets": [
            "1d001aaa926a44659f71369a2bb3fbde",
            "e932b55d3ef74098ae214df084ea4560",
            "8b82255f3064468ebb8fd6e4354b121f",
            "47db38baa121416b9dadb6e7b4e03cab",
            "aba911946e4b42d5a336de6ffd6683d3",
            "0afdba569f8043f98ea9ff8f60a212fe"
          ]
        },
        "outputId": "32734563-2f3a-4ab3-ac39-dad950ba2b7f"
      },
      "outputs": [
        {
          "output_type": "display_data",
          "data": {
            "text/plain": [
              "FloatProgress(value=0.0, bar_style='info', description='Progress:', layout=Layout(height='25px', width='50%'),…"
            ],
            "application/vnd.jupyter.widget-view+json": {
              "version_major": 2,
              "version_minor": 0,
              "model_id": "1d001aaa926a44659f71369a2bb3fbde"
            }
          },
          "metadata": {}
        },
        {
          "output_type": "display_data",
          "data": {
            "text/plain": [
              "FloatProgress(value=0.0, bar_style='info', description='Progress:', layout=Layout(height='25px', width='50%'),…"
            ],
            "application/vnd.jupyter.widget-view+json": {
              "version_major": 2,
              "version_minor": 0,
              "model_id": "47db38baa121416b9dadb6e7b4e03cab"
            }
          },
          "metadata": {}
        }
      ],
      "source": [
        "%spark -o top2_sentiment_sdf"
      ]
    },
    {
      "cell_type": "code",
      "execution_count": null,
      "metadata": {
        "id": "ZPhfsFRc3sHG",
        "colab": {
          "base_uri": "https://localhost:8080/"
        },
        "outputId": "394892c1-1fd6-41c2-b6e0-b89ffe4893c3"
      },
      "outputs": [
        {
          "output_type": "stream",
          "name": "stdout",
          "text": [
            "Correct! You earned 10/10 points. You are a star!\n",
            "\n",
            "Your submission has been successfully recorded in the gradebook.\n"
          ]
        }
      ],
      "source": [
        "\n",
        "# 10 points\n",
        "grader.grade(test_case_id = 'test_sentiment_positive', answer = (top2_sentiment_sdf,top10_tokenize_sdf))\n",
        "\n"
      ]
    },
    {
      "cell_type": "markdown",
      "metadata": {
        "id": "rGyXyvhBDr0-"
      },
      "source": [
        "## Step 4: Candy Land [26 pts]\n",
        "\n",
        "In this section, we will be working with a dataset from a poll where each row holds a person's favorite and second favorite candy/sweet.\n",
        "\n",
        "Let's introduce a fun little concept called the Bacon Number! The Bacon number of an actor or actress is the number of degrees of separation they have from actor Kevin Bacon, as defined by the game known as Six Degrees of Kevin Bacon. For example, Kevin Bacon's Bacon number is 0. If an actor works in a movie with Kevin Bacon, the actor's Bacon number is 1. If an actor works with an actor who worked with Kevin Bacon in a movie, the first actor's Bacon number is 2, and so forth.\n",
        "\n",
        "How do we implement the \"Super Bacon\" for our dataset though? We define this number as follows: if candy A is someone's favorite candy and candy B is that person's second favorite candy while candy B is someone else's favorite candy and candy C is their second favorite candy, then the super bacon of C with respect to A will be 2.\n",
        "\n",
        "Now to calculate this number, we'll use the concepts of graphs and BFS!"
      ]
    },
    {
      "cell_type": "code",
      "execution_count": null,
      "metadata": {
        "id": "E_i8gCbAEuHW",
        "colab": {
          "base_uri": "https://localhost:8080/"
        },
        "outputId": "e7bdd96a-b39e-47aa-aed5-b66beca7e85a"
      },
      "outputs": [
        {
          "output_type": "stream",
          "name": "stdout",
          "text": [
            "Looking in indexes: https://pypi.org/simple, https://us-python.pkg.dev/colab-wheels/public/simple/\n",
            "Requirement already satisfied: pyspark in /usr/local/lib/python3.7/dist-packages (3.3.1)\n",
            "Requirement already satisfied: py4j==0.10.9.5 in /usr/local/lib/python3.7/dist-packages (from pyspark) (0.10.9.5)\n"
          ]
        }
      ],
      "source": [
        "!pip install pyspark"
      ]
    },
    {
      "cell_type": "code",
      "execution_count": null,
      "metadata": {
        "id": "s7AlDICWEt7e"
      },
      "outputs": [],
      "source": [
        "from pyspark.sql import SparkSession\n",
        "\n",
        "appName = \"PySpark\"\n",
        "\n",
        "# Create Spark session\n",
        "spark = SparkSession.builder.appName(appName).getOrCreate()"
      ]
    },
    {
      "cell_type": "markdown",
      "metadata": {
        "id": "zkJ2eyNrDtUl"
      },
      "source": [
        "### Step 4.1 “Traversing” a Graph\n",
        "\n",
        "Let's review how BFS works!"
      ]
    },
    {
      "cell_type": "code",
      "execution_count": null,
      "metadata": {
        "id": "sH6pKfJJEzpu"
      },
      "outputs": [],
      "source": [
        "import pandas as pd\n",
        "from IPython.display import Image as I\n",
        "\n",
        "bfsgif =\\\n",
        "'https://upload.wikimedia.org/wikipedia/commons/5/5d/Breadth-First-S'+\\\n",
        "'earch-Algorithm.gif'\n",
        "dfsgif=\\\n",
        "'https://upload.wikimedia.org/wikipedia/commons/7/7f/Depth-First-Search.gif'"
      ]
    },
    {
      "cell_type": "markdown",
      "metadata": {
        "id": "Oo3y1k4EDyod"
      },
      "source": [
        "\n",
        "#### Step 4.1.1 Intro to Distributed Breadth-First Search\n",
        "\n",
        "\n",
        "To start off, we will be implementing a graph traversal algorithm known as Breadth First Search. It works in a way that's equivalent to how a stain spreads on a white t-shirt. Take a look at the graph below:\n",
        "\n",
        "<p align = \"center\">\n",
        "<img src = \"https://imgur.com/WU3AUwg.png\" width= \"600\" align =\"center\"/>\n",
        "\n",
        "* Consider starting BFS from point A (green). This is considered the starting frontier/singular origin node.\n",
        "* The first round of BFS would involve finding all the nodes directly reachable from A, namely B-F (blue circles). These blue nodes make up the next frontier at depth 1 away from our starting node A.\n",
        "* The second round would then be identifying the red nodes which are the neighbors of the blue nodes. Now, the red nodes all belong to a frontier 2 depth away from A. Note that node A is also a neighbor of a blue node. However, since it has already been visited, it does not get added to this frontier.\n",
        "\n",
        "This process continues until all the nodes in the graph have been visited.\n",
        "If you would like to learn more about BFS, we highly suggest looking [here](https://www.tutorialspoint.com/data_structures_algorithms/breadth_first_traversal.html).\n",
        "\n",
        "\n",
        "We will now be implementing **spark_bfs(G, N, d)**, our spark flavor of BFS that takes a graph **G**, a set of origin nodes **N**, and a max depth **d**.\n",
        "\n",
        "In order to write a successful BFS function, you are going to need to figure out\n",
        "1. how to keep track of nodes that we have visited\n",
        "2. how to properly find all the nodes at the next depth\n",
        "3. how to avoid cycles and ensure that we do not constantly loop through the same edges (take a look at J-K in the graph)"
      ]
    },
    {
      "cell_type": "markdown",
      "metadata": {
        "id": "NYjIiz_0E7Aw"
      },
      "source": [
        "#### [OPTIONAL/ADDITIONAL] BFS vs. DFS Animation\n",
        "Run the code cells below to understand the difference between depth and breadth first search! (Source: Wikimedia Commons)"
      ]
    },
    {
      "cell_type": "code",
      "execution_count": null,
      "metadata": {
        "id": "1wteWWS7E3KK",
        "colab": {
          "base_uri": "https://localhost:8080/",
          "height": 538
        },
        "outputId": "964e7d7f-fd69-4042-d007-a98862fdd410"
      },
      "outputs": [
        {
          "output_type": "stream",
          "name": "stdout",
          "text": [
            "BFS:\n"
          ]
        },
        {
          "output_type": "execute_result",
          "data": {
            "text/html": [
              "<img src=\"https://upload.wikimedia.org/wikipedia/commons/5/5d/Breadth-First-Search-Algorithm.gif\"/>"
            ],
            "text/plain": [
              "<IPython.core.display.Image object>"
            ]
          },
          "metadata": {},
          "execution_count": 76
        }
      ],
      "source": [
        "# Do not edit\n",
        "print('BFS:')\n",
        "I(url=bfsgif)"
      ]
    },
    {
      "cell_type": "code",
      "execution_count": null,
      "metadata": {
        "id": "2-S7vJ9pE40i",
        "colab": {
          "base_uri": "https://localhost:8080/",
          "height": 538
        },
        "outputId": "8d365c3a-1cd5-49d0-d4a4-7f61141c1172"
      },
      "outputs": [
        {
          "output_type": "stream",
          "name": "stdout",
          "text": [
            "DFS:\n"
          ]
        },
        {
          "output_type": "execute_result",
          "data": {
            "text/html": [
              "<img src=\"https://upload.wikimedia.org/wikipedia/commons/7/7f/Depth-First-Search.gif\"/>"
            ],
            "text/plain": [
              "<IPython.core.display.Image object>"
            ]
          },
          "metadata": {},
          "execution_count": 77
        }
      ],
      "source": [
        "#Do not edit\n",
        "print('DFS:')\n",
        "I(url=dfsgif)"
      ]
    },
    {
      "cell_type": "markdown",
      "metadata": {
        "id": "pyuyXzNjEjEp"
      },
      "source": [
        "#### Step 4.1.2 Implement One Traversal [6 pts]\n",
        "\n",
        "To break down this process, let's think about how we would implement a single traversal of the graph. That is given the green node in the graph above, how are we going to get the blue nodes?\n",
        "\n",
        "\n",
        "Consider the simple graph below **which is different from the graph in the image above**:"
      ]
    },
    {
      "cell_type": "code",
      "execution_count": null,
      "metadata": {
        "id": "74yrRK9AE-G5",
        "colab": {
          "base_uri": "https://localhost:8080/"
        },
        "outputId": "d5f6c84a-7070-4173-86e4-a71769c1e9ea"
      },
      "outputs": [
        {
          "output_type": "stream",
          "name": "stdout",
          "text": [
            "+---------+-------+\n",
            "|from_node|to_node|\n",
            "+---------+-------+\n",
            "|        A|      B|\n",
            "|        A|      C|\n",
            "|        A|      D|\n",
            "|        C|      F|\n",
            "|        F|      A|\n",
            "|        B|      G|\n",
            "|        G|      H|\n",
            "|        D|      E|\n",
            "+---------+-------+\n",
            "\n"
          ]
        }
      ],
      "source": [
        "# Do not edit\n",
        "spark.conf.set(\"spark.sql.execution.arrow.enabled\", \"true\")\n",
        "\n",
        "simple = [('A', 'B'),\n",
        "         ('A', 'C'),\n",
        "         ('A', 'D'),\n",
        "         ('C', 'F'),\n",
        "         ('F', 'A'),\n",
        "         ('B', 'G'),\n",
        "         ('G', 'H'),\n",
        "         ('D', 'E')]\n",
        "\n",
        "simple_dict = {'from_node': ['A', 'A', 'A', 'C', 'F', 'B', 'G', 'D'],\n",
        "       'to_node': ['B', 'C', 'D', 'F', 'A', 'G', 'H', 'E']}\n",
        "\n",
        "simple_graph_df = pd.DataFrame.from_dict(simple_dict)\n",
        "simple_graph_sdf = spark.createDataFrame(simple_graph_df)\n",
        "simple_graph_sdf.show()"
      ]
    },
    {
      "cell_type": "markdown",
      "metadata": {
        "id": "KTbktZQ9FGox"
      },
      "source": [
        "As you can see, each row of this dataframe represents an edge between two nodes. Here, we are looking at a directed graph, which means that A-->B does not represent the same edge as B-->A.\n",
        "Let's define our starting node as follows:"
      ]
    },
    {
      "cell_type": "code",
      "execution_count": null,
      "metadata": {
        "id": "POWS1z8hE-ym"
      },
      "outputs": [],
      "source": [
        "smallOrig = [{'node': 'A'}]"
      ]
    },
    {
      "cell_type": "markdown",
      "metadata": {
        "id": "xwgYZNZ-FHZg"
      },
      "source": [
        "Then, bfs with graph G, starting from smallOrig to depth 1, or spark_bfs(G, smallOrig, 1) would output as follows:"
      ]
    },
    {
      "cell_type": "code",
      "execution_count": null,
      "metadata": {
        "id": "-hBlW2rPFKig",
        "colab": {
          "base_uri": "https://localhost:8080/"
        },
        "outputId": "c9b6be0f-ec6d-4062-a7bb-513950b97f71"
      },
      "outputs": [
        {
          "output_type": "stream",
          "name": "stdout",
          "text": [
            "+----+--------+\n",
            "|node|distance|\n",
            "+----+--------+\n",
            "|   B|       1|\n",
            "|   D|       1|\n",
            "|   C|       1|\n",
            "|   A|       0|\n",
            "+----+--------+\n",
            "\n"
          ]
        }
      ],
      "source": [
        "# Do not edit\n",
        "simple_1_round_dict = {'node': ['B', 'D', 'C', 'A'],\n",
        "       'distance': [1, 1, 1, 0]}\n",
        "simple_1_round_bfs_df = pd.DataFrame.from_dict(simple_1_round_dict)\n",
        "simple_1_round_bfs_sdf = spark.createDataFrame(simple_1_round_bfs_df)\n",
        "simple_1_round_bfs_sdf.show()"
      ]
    },
    {
      "cell_type": "markdown",
      "metadata": {
        "id": "15Qk24fGFO_U"
      },
      "source": [
        "As you can see, this dataframe logs each node with its corresponding distance away from A. Moreover, we also know that these nodes are **visited**.\n",
        "\n",
        "Hopefully, you can see how we can use our original graph and this new information to find the nodes at depth two.\n",
        "\n",
        "This is exactly what we will try to accomplish with **spark_bfs_1_round(visited_nodes)** which will ultimately be the inner function of **spark_bfs** that we use to perform exactly one traversal of a graph.\n",
        "\n",
        "**TODO**: Write **spark_bfs_1_round(visted_nodes)** that takes the currently dataframe of visited_nodes, performs one round of BFS, and returns an updated visited nodes dataframe. You should assume that a temporary sdf `G` already exists."
      ]
    },
    {
      "cell_type": "code",
      "execution_count": null,
      "metadata": {
        "id": "OQYlGzw6FSms"
      },
      "outputs": [],
      "source": [
        "def spark_bfs_1_round(visited_nodes):\n",
        "  visited_nodes.createOrReplaceTempView('visited')\n",
        "  query = ''' SELECT DISTINCT g.to_node AS node, (distance+ 1) AS distance\n",
        "  FROM visited v\n",
        "  JOIN G g\n",
        "  ON v.node = g.from_node\n",
        "  WHERE g.to_node not in (SELECT node FROM visited)\n",
        "  UNION (SELECT * FROM visited)\n",
        "  '''\n",
        "  result = spark.sql(query)\n",
        "  return result\n",
        "\n",
        "#WHERE v.node != g.to_node\n",
        "  #ON v.node = g.from_node)\n",
        "  #UNION (SELECT * FROM visited)\n",
        "\n",
        "\n",
        "\n",
        "\n",
        "\n",
        "  # TODO: Complete this function to implement 1 round of BFS\n"
      ]
    },
    {
      "cell_type": "code",
      "execution_count": null,
      "metadata": {
        "id": "-8yaodbgAYZ4"
      },
      "outputs": [],
      "source": []
    },
    {
      "cell_type": "markdown",
      "metadata": {
        "id": "za3-poGjFaRy"
      },
      "source": [
        "Now, run the inner function on simple_1_round_bfs_sdf (i.e. result of 1 round of BFS on the simple graph) and store the results in simple_bfs_result. This is ultimately what the output of BFS to depth 2 should look like."
      ]
    },
    {
      "cell_type": "code",
      "execution_count": null,
      "metadata": {
        "id": "IUTyEdbpFUVG",
        "colab": {
          "base_uri": "https://localhost:8080/"
        },
        "outputId": "1049ef36-edb8-4714-e8a7-f1bf6e077776"
      },
      "outputs": [
        {
          "output_type": "stream",
          "name": "stdout",
          "text": [
            "+----+--------+\n",
            "|node|distance|\n",
            "+----+--------+\n",
            "|   G|       2|\n",
            "|   E|       2|\n",
            "|   F|       2|\n",
            "|   B|       1|\n",
            "|   D|       1|\n",
            "|   C|       1|\n",
            "|   A|       0|\n",
            "+----+--------+\n",
            "\n"
          ]
        }
      ],
      "source": [
        "# TODO: Run spark_bfs_1_round on simple_1_round_bfs_sdf\n",
        "simple_graph_sdf.createOrReplaceTempView('G')\n",
        "simple_bfs_result = spark_bfs_1_round(simple_1_round_bfs_sdf)\n",
        "simple_bfs_result.show()"
      ]
    },
    {
      "cell_type": "code",
      "execution_count": null,
      "metadata": {
        "id": "v3541A9Gj3TJ",
        "colab": {
          "base_uri": "https://localhost:8080/"
        },
        "outputId": "e80106cb-88dc-4bf7-adff-08416eda895f"
      },
      "outputs": [
        {
          "output_type": "stream",
          "name": "stdout",
          "text": [
            "+----+--------+\n",
            "|node|distance|\n",
            "+----+--------+\n",
            "|   H|       3|\n",
            "|   G|       2|\n",
            "|   E|       2|\n",
            "|   F|       2|\n",
            "|   B|       1|\n",
            "|   D|       1|\n",
            "|   C|       1|\n",
            "|   A|       0|\n",
            "+----+--------+\n",
            "\n"
          ]
        }
      ],
      "source": [
        "# TODO: Run spark_bfs_1_round on simple_1_round_bfs_sdf\n",
        "simple_graph_sdf.createOrReplaceTempView('G')\n",
        "simple_bfs_result2 = spark_bfs_1_round(simple_bfs_result)\n",
        "simple_bfs_result2.show()"
      ]
    },
    {
      "cell_type": "markdown",
      "metadata": {
        "id": "evUUcJ0yFdhH"
      },
      "source": [
        "Convert this result to Pandas, sort your dataframe by ***node*** ascending, and submit it to the autograder."
      ]
    },
    {
      "cell_type": "code",
      "execution_count": null,
      "metadata": {
        "id": "8wmaNu9YZIlH",
        "colab": {
          "base_uri": "https://localhost:8080/",
          "height": 266
        },
        "outputId": "e4cb8689-d933-4422-94a4-b4b631b16ef7"
      },
      "outputs": [
        {
          "output_type": "execute_result",
          "data": {
            "text/plain": [
              "  node  distance\n",
              "6    A         0\n",
              "3    B         1\n",
              "5    C         1\n",
              "4    D         1\n",
              "1    E         2\n",
              "2    F         2\n",
              "0    G         2"
            ],
            "text/html": [
              "\n",
              "  <div id=\"df-8319e2e1-ff70-451b-ab28-228f556b8f02\">\n",
              "    <div class=\"colab-df-container\">\n",
              "      <div>\n",
              "<style scoped>\n",
              "    .dataframe tbody tr th:only-of-type {\n",
              "        vertical-align: middle;\n",
              "    }\n",
              "\n",
              "    .dataframe tbody tr th {\n",
              "        vertical-align: top;\n",
              "    }\n",
              "\n",
              "    .dataframe thead th {\n",
              "        text-align: right;\n",
              "    }\n",
              "</style>\n",
              "<table border=\"1\" class=\"dataframe\">\n",
              "  <thead>\n",
              "    <tr style=\"text-align: right;\">\n",
              "      <th></th>\n",
              "      <th>node</th>\n",
              "      <th>distance</th>\n",
              "    </tr>\n",
              "  </thead>\n",
              "  <tbody>\n",
              "    <tr>\n",
              "      <th>6</th>\n",
              "      <td>A</td>\n",
              "      <td>0</td>\n",
              "    </tr>\n",
              "    <tr>\n",
              "      <th>3</th>\n",
              "      <td>B</td>\n",
              "      <td>1</td>\n",
              "    </tr>\n",
              "    <tr>\n",
              "      <th>5</th>\n",
              "      <td>C</td>\n",
              "      <td>1</td>\n",
              "    </tr>\n",
              "    <tr>\n",
              "      <th>4</th>\n",
              "      <td>D</td>\n",
              "      <td>1</td>\n",
              "    </tr>\n",
              "    <tr>\n",
              "      <th>1</th>\n",
              "      <td>E</td>\n",
              "      <td>2</td>\n",
              "    </tr>\n",
              "    <tr>\n",
              "      <th>2</th>\n",
              "      <td>F</td>\n",
              "      <td>2</td>\n",
              "    </tr>\n",
              "    <tr>\n",
              "      <th>0</th>\n",
              "      <td>G</td>\n",
              "      <td>2</td>\n",
              "    </tr>\n",
              "  </tbody>\n",
              "</table>\n",
              "</div>\n",
              "      <button class=\"colab-df-convert\" onclick=\"convertToInteractive('df-8319e2e1-ff70-451b-ab28-228f556b8f02')\"\n",
              "              title=\"Convert this dataframe to an interactive table.\"\n",
              "              style=\"display:none;\">\n",
              "        \n",
              "  <svg xmlns=\"http://www.w3.org/2000/svg\" height=\"24px\"viewBox=\"0 0 24 24\"\n",
              "       width=\"24px\">\n",
              "    <path d=\"M0 0h24v24H0V0z\" fill=\"none\"/>\n",
              "    <path d=\"M18.56 5.44l.94 2.06.94-2.06 2.06-.94-2.06-.94-.94-2.06-.94 2.06-2.06.94zm-11 1L8.5 8.5l.94-2.06 2.06-.94-2.06-.94L8.5 2.5l-.94 2.06-2.06.94zm10 10l.94 2.06.94-2.06 2.06-.94-2.06-.94-.94-2.06-.94 2.06-2.06.94z\"/><path d=\"M17.41 7.96l-1.37-1.37c-.4-.4-.92-.59-1.43-.59-.52 0-1.04.2-1.43.59L10.3 9.45l-7.72 7.72c-.78.78-.78 2.05 0 2.83L4 21.41c.39.39.9.59 1.41.59.51 0 1.02-.2 1.41-.59l7.78-7.78 2.81-2.81c.8-.78.8-2.07 0-2.86zM5.41 20L4 18.59l7.72-7.72 1.47 1.35L5.41 20z\"/>\n",
              "  </svg>\n",
              "      </button>\n",
              "      \n",
              "  <style>\n",
              "    .colab-df-container {\n",
              "      display:flex;\n",
              "      flex-wrap:wrap;\n",
              "      gap: 12px;\n",
              "    }\n",
              "\n",
              "    .colab-df-convert {\n",
              "      background-color: #E8F0FE;\n",
              "      border: none;\n",
              "      border-radius: 50%;\n",
              "      cursor: pointer;\n",
              "      display: none;\n",
              "      fill: #1967D2;\n",
              "      height: 32px;\n",
              "      padding: 0 0 0 0;\n",
              "      width: 32px;\n",
              "    }\n",
              "\n",
              "    .colab-df-convert:hover {\n",
              "      background-color: #E2EBFA;\n",
              "      box-shadow: 0px 1px 2px rgba(60, 64, 67, 0.3), 0px 1px 3px 1px rgba(60, 64, 67, 0.15);\n",
              "      fill: #174EA6;\n",
              "    }\n",
              "\n",
              "    [theme=dark] .colab-df-convert {\n",
              "      background-color: #3B4455;\n",
              "      fill: #D2E3FC;\n",
              "    }\n",
              "\n",
              "    [theme=dark] .colab-df-convert:hover {\n",
              "      background-color: #434B5C;\n",
              "      box-shadow: 0px 1px 3px 1px rgba(0, 0, 0, 0.15);\n",
              "      filter: drop-shadow(0px 1px 2px rgba(0, 0, 0, 0.3));\n",
              "      fill: #FFFFFF;\n",
              "    }\n",
              "  </style>\n",
              "\n",
              "      <script>\n",
              "        const buttonEl =\n",
              "          document.querySelector('#df-8319e2e1-ff70-451b-ab28-228f556b8f02 button.colab-df-convert');\n",
              "        buttonEl.style.display =\n",
              "          google.colab.kernel.accessAllowed ? 'block' : 'none';\n",
              "\n",
              "        async function convertToInteractive(key) {\n",
              "          const element = document.querySelector('#df-8319e2e1-ff70-451b-ab28-228f556b8f02');\n",
              "          const dataTable =\n",
              "            await google.colab.kernel.invokeFunction('convertToInteractive',\n",
              "                                                     [key], {});\n",
              "          if (!dataTable) return;\n",
              "\n",
              "          const docLinkHtml = 'Like what you see? Visit the ' +\n",
              "            '<a target=\"_blank\" href=https://colab.research.google.com/notebooks/data_table.ipynb>data table notebook</a>'\n",
              "            + ' to learn more about interactive tables.';\n",
              "          element.innerHTML = '';\n",
              "          dataTable['output_type'] = 'display_data';\n",
              "          await google.colab.output.renderOutput(dataTable, element);\n",
              "          const docLink = document.createElement('div');\n",
              "          docLink.innerHTML = docLinkHtml;\n",
              "          element.appendChild(docLink);\n",
              "        }\n",
              "      </script>\n",
              "    </div>\n",
              "  </div>\n",
              "  "
            ]
          },
          "metadata": {},
          "execution_count": 84
        }
      ],
      "source": [
        "# TODO: Convert simple_bfs_result to Pandas sorted by node\n",
        "simple_bfs_test = simple_bfs_result.toPandas().sort_values('node', ascending = True)\n",
        "simple_bfs_test"
      ]
    },
    {
      "cell_type": "code",
      "execution_count": null,
      "metadata": {
        "id": "Z0IyMp1dFYEh",
        "colab": {
          "base_uri": "https://localhost:8080/"
        },
        "outputId": "65555406-4cbf-49b5-c65d-9c7d250baf19"
      },
      "outputs": [
        {
          "output_type": "stream",
          "name": "stdout",
          "text": [
            "Correct! You earned 6/6 points. You are a star!\n",
            "\n",
            "Your submission has been successfully recorded in the gradebook.\n"
          ]
        }
      ],
      "source": [
        "# 6 points\n",
        "grader.grade(test_case_id = 'checksimpleBFS', answer = simple_bfs_test)"
      ]
    },
    {
      "cell_type": "markdown",
      "metadata": {
        "id": "Nk2soBT2EoRl"
      },
      "source": [
        "#### Step 4.1.3 Full BFS Implementation\n",
        "\n",
        "Now, we will fully implement **spark_bfs**. This function should iteratively call your implemented version of **spark_bfs_1_round** and ultimately return the output of this function at **max_depth**.\n",
        "\n",
        "You are also responsible for initializing the starting dataframe, that is converting the list of origin nodes into a spark dataframe with the nodes logged at distance 0.\n",
        "\n",
        "Consider the following:\n",
        "\n",
        "```\n",
        "schema = StructType([\n",
        "            StructField(\"node\", StringType(), True)\n",
        "        ])\n",
        "\n",
        "    my_sdf = spark.createDataFrame(origins, schema)\n",
        "```\n",
        "\n",
        "The schema ultimately specifies the structure of the Spark DataFrame with a string `node` column. It then calls **spark.createDataFrame** to map this schema to the **origins** nodes. Also, you are responsible for ensuring that a view of your graph is available within this function. (Note: you will also need to add in a distance column)\n",
        "\n",
        "**TODO:** implement **spark_bfs(G,origins,max_depth)** and run on **candy_graph_sdf** initalized in 4.3. Note: you may want to run tests on the **simple_graph** example as the `candy_graph_sdf` will take quite some time to run.\n",
        "\n",
        "These imports might be useful:\n",
        "`from pyspark.sql.types import StructType, StructField, StringType, IntegerType`"
      ]
    },
    {
      "cell_type": "code",
      "execution_count": null,
      "metadata": {
        "id": "tIbkTuSTFhR4"
      },
      "outputs": [],
      "source": [
        "from pyspark.sql.types import StructType, StructField, StringType, IntegerType\n",
        "# TODO: iterative search over undirected graph\n",
        "# Worth 5 points directly, but will be needed later\n",
        "\n",
        "def spark_bfs(G, origins, max_depth):\n",
        "  G.createOrReplaceTempView('G')\n",
        "  schema = StructType([\n",
        "            StructField(\"node\", StringType(), True),\n",
        "            StructField(\"distance\", IntegerType(), True)\n",
        "        ])\n",
        "\n",
        "  result = spark.createDataFrame(origins, schema)\n",
        "  result = result.fillna(0)\n",
        "  for i in range(0, max_depth):\n",
        "    result.createOrReplaceTempView('result')\n",
        "    result = spark_bfs_1_round(result)\n",
        "\n",
        "  return result\n",
        "\n",
        "  \"\"\" runs distributed BFS to a specified max depth\n",
        "\n",
        "  :param G: graph dataframe from 4.3\n",
        "  :param origins: list of origin nodes stored as {\"node\": nodeValue}\n",
        "  :param max_depth: integer value of max depth to run BFS to\n",
        "  :return: dataframe with columns node, distance of all visited nodes\n",
        "  \"\"\""
      ]
    },
    {
      "cell_type": "markdown",
      "metadata": {
        "id": "2LRo1B8HFjs1"
      },
      "source": [
        "Test that this function works on the simple example."
      ]
    },
    {
      "cell_type": "code",
      "execution_count": null,
      "metadata": {
        "id": "rL9XjwyPFhyy",
        "colab": {
          "base_uri": "https://localhost:8080/"
        },
        "outputId": "392205fa-966f-41ab-e903-e18e940236f3"
      },
      "outputs": [
        {
          "output_type": "stream",
          "name": "stdout",
          "text": [
            "+----+--------+\n",
            "|node|distance|\n",
            "+----+--------+\n",
            "|   H|       3|\n",
            "|   G|       2|\n",
            "|   F|       2|\n",
            "|   E|       2|\n",
            "|   C|       1|\n",
            "|   B|       1|\n",
            "|   D|       1|\n",
            "|   A|       0|\n",
            "+----+--------+\n",
            "\n"
          ]
        }
      ],
      "source": [
        "simple_bfs_iterative_result = spark_bfs(simple_graph_sdf, smallOrig, 3)\n",
        "simple_bfs_iterative_result.show()"
      ]
    },
    {
      "cell_type": "markdown",
      "metadata": {
        "id": "FBIXSJQmFqZc"
      },
      "source": [
        "### Step 4.2: Popular Candies [5 pts]"
      ]
    },
    {
      "cell_type": "markdown",
      "metadata": {
        "id": "QkpLsfunGKmc"
      },
      "source": [
        "Download the `candy_graph_extra.csv` dataset from [here](https://drive.google.com/file/d/1ZjpdZ9wPIMAXvHsr8aocg4IgYtkcLywp/view?usp=sharing), and upload it to the content folder of this Colab notebook."
      ]
    },
    {
      "cell_type": "markdown",
      "metadata": {
        "id": "J9tlk9skXegN"
      },
      "source": [
        "It's time to take a look at our candy dataset. Let's load the data to **candy_sdf** and see how it looks."
      ]
    },
    {
      "cell_type": "code",
      "execution_count": null,
      "metadata": {
        "id": "F7EsOfD5NMea"
      },
      "outputs": [],
      "source": [
        "candy_sdf = spark.read.csv(\"/content/candy_graph_extra.csv\", header=True)"
      ]
    },
    {
      "cell_type": "code",
      "execution_count": null,
      "metadata": {
        "id": "bN-1SaYENlD-",
        "colab": {
          "base_uri": "https://localhost:8080/"
        },
        "outputId": "e5d68079-f85c-4a0d-e25b-7637d8eee647"
      },
      "outputs": [
        {
          "output_type": "stream",
          "name": "stdout",
          "text": [
            "+---+--------------------+--------------------+\n",
            "|_c0|          FirstCandy|         SecondCandy|\n",
            "+---+--------------------+--------------------+\n",
            "|  0|  SweetTarts 200 pcs|York Peppermint P...|\n",
            "|  1|Starburst Sour Chews|  Haribo Gummy Bears|\n",
            "|  2|Weetabix Crispy M...|Starburst Sour Chews|\n",
            "|  3|Starburst Sour Chews|         Gummy Worms|\n",
            "|  4|        Milk Duds 24|Twizzlers Strawbe...|\n",
            "|  5|Starburst Sour Chews|Henry Goode's Str...|\n",
            "|  6|Henry Goode's Str...|        Milk Duds 24|\n",
            "|  7|    Hershey's Kisses|York Peppermint P...|\n",
            "|  8|Reeses Peanut But...|Starburst Sour Chews|\n",
            "|  9|   Skittles 200g Bag|Kit Kat Chunky Mu...|\n",
            "| 10|     M&Ms Party Pack|Butterfinger Peca...|\n",
            "| 11|Kit Kat Chunky Mu...|Snowball Cotton C...|\n",
            "| 12|Reeses Peanut But...|Starburst Sour Chews|\n",
            "| 13|Butterfinger Peca...|Gobstopper Chewy ...|\n",
            "| 14|Kit Kat Chunky Mu...|Henry Goode's Str...|\n",
            "| 15|Starburst Sour Chews|Weetabix Crispy M...|\n",
            "| 16|Starburst Sour Chews|Twizzlers Strawbe...|\n",
            "| 17|        3 Musketeers|Jelly Belly jelly...|\n",
            "| 18|Starburst Sour Chews|Easter Bunny cand...|\n",
            "| 19|    Hershey's Kisses|Reeses Peanut But...|\n",
            "+---+--------------------+--------------------+\n",
            "only showing top 20 rows\n",
            "\n"
          ]
        }
      ],
      "source": [
        "candy_sdf.show()"
      ]
    },
    {
      "cell_type": "markdown",
      "metadata": {
        "id": "JPftgXHoXneJ"
      },
      "source": [
        "Let's take a look at which candies were the most popular.\n",
        "\n",
        "***TODO***: Count the number of times that each candy was chosen as their favorite (each candy appears in the FirstCandy column). Return a dataframe with schema (FirstCandy,Votes) where Votes is the number of times that each candy was chosen as a person's favorite. Order your dataframe by Votes."
      ]
    },
    {
      "cell_type": "code",
      "execution_count": null,
      "metadata": {
        "id": "idqHrl-BNrH5",
        "colab": {
          "base_uri": "https://localhost:8080/"
        },
        "outputId": "8c7f53db-dfa6-4d48-b7b7-022faa89eae3"
      },
      "outputs": [
        {
          "output_type": "stream",
          "name": "stdout",
          "text": [
            "+--------------------+-----+\n",
            "|          FirstCandy|Votes|\n",
            "+--------------------+-----+\n",
            "|Kit Kat Chunky Mu...|    8|\n",
            "|Starburst Sour Chews|    7|\n",
            "|Strawberry Cherry...|    5|\n",
            "|York Peppermint P...|    5|\n",
            "|Reeses Peanut But...|    4|\n",
            "|   Skittles 200g Bag|    4|\n",
            "|        Milk Duds 24|    3|\n",
            "|Snickers Almond K...|    3|\n",
            "|Jolly Rancher Ass...|    2|\n",
            "|  SweetTarts 200 pcs|    2|\n",
            "|Jelly Belly jelly...|    2|\n",
            "|    Hershey's Kisses|    2|\n",
            "|Butterfinger Peca...|    1|\n",
            "|Ferrero Raffaello...|    1|\n",
            "|        3 Musketeers|    1|\n",
            "|Pop Tarts Brown S...|    1|\n",
            "|Easter Bunny cand...|    1|\n",
            "|     M&Ms Party Pack|    1|\n",
            "|Henry Goode's Str...|    1|\n",
            "|     Sour Patch Kids|    1|\n",
            "+--------------------+-----+\n",
            "only showing top 20 rows\n",
            "\n"
          ]
        }
      ],
      "source": [
        "# TODO\n",
        "\n",
        "# Create SQL-accesible table\n",
        "candy_sdf.createOrReplaceTempView(\"candy\")\n",
        "\n",
        "\n",
        "# Declare SQL query to be excecuted\n",
        "query = '''\n",
        "SELECT FirstCandy, COUNT(SecondCandy) AS Votes\n",
        "FROM candy\n",
        "GROUP BY FirstCandy\n",
        "ORDER BY Votes DESC\n",
        "'''\n",
        "\n",
        "# Save the output sdf of spark.sql()\n",
        "count_sdf = spark.sql(query)\n",
        "count_sdf.show()\n"
      ]
    },
    {
      "cell_type": "markdown",
      "metadata": {
        "id": "Qpjvw2j3I9Nt"
      },
      "source": [
        "Convert the dataframe to pandas and pass it to the grader."
      ]
    },
    {
      "cell_type": "code",
      "execution_count": null,
      "metadata": {
        "id": "-UV5KUtO_RlD"
      },
      "outputs": [],
      "source": [
        "count_df = count_sdf.toPandas()"
      ]
    },
    {
      "cell_type": "code",
      "execution_count": null,
      "metadata": {
        "id": "tF6l4PLF_OKB",
        "colab": {
          "base_uri": "https://localhost:8080/"
        },
        "outputId": "724b64db-6e15-4011-a9c9-39ee355f9c20"
      },
      "outputs": [
        {
          "output_type": "stream",
          "name": "stdout",
          "text": [
            "Correct! You earned 3/3 points. You are a star!\n",
            "\n",
            "Your submission has been successfully recorded in the gradebook.\n"
          ]
        }
      ],
      "source": [
        "grader.grade(test_case_id = 'checkCandyCount', answer = count_df)"
      ]
    },
    {
      "cell_type": "markdown",
      "metadata": {
        "id": "Y7-sQIg9Ydze"
      },
      "source": [
        "Now that we have the Candy dataset, let's convert it to a graph sdf just like the one we had in section 4.1 (P.S. it's not as hard as it sounds).\n",
        "\n",
        "**TODO:** Create **candy_graph_sdf** that has the columns *from_node* and *to_node*. from_node has all the entries from the *FirstCandy* column and to_node has all the entries from the *SecondCandy* column."
      ]
    },
    {
      "cell_type": "code",
      "execution_count": null,
      "metadata": {
        "id": "pY37jvGkOBeN",
        "colab": {
          "base_uri": "https://localhost:8080/"
        },
        "outputId": "ddc4e4f7-d0fd-462b-8118-544add2da624"
      },
      "outputs": [
        {
          "output_type": "stream",
          "name": "stdout",
          "text": [
            "+--------------------+--------------------+\n",
            "|           from_node|             to_node|\n",
            "+--------------------+--------------------+\n",
            "|  SweetTarts 200 pcs|York Peppermint P...|\n",
            "|Starburst Sour Chews|  Haribo Gummy Bears|\n",
            "|Weetabix Crispy M...|Starburst Sour Chews|\n",
            "|Starburst Sour Chews|         Gummy Worms|\n",
            "|        Milk Duds 24|Twizzlers Strawbe...|\n",
            "|Starburst Sour Chews|Henry Goode's Str...|\n",
            "|Henry Goode's Str...|        Milk Duds 24|\n",
            "|    Hershey's Kisses|York Peppermint P...|\n",
            "|Reeses Peanut But...|Starburst Sour Chews|\n",
            "|   Skittles 200g Bag|Kit Kat Chunky Mu...|\n",
            "|     M&Ms Party Pack|Butterfinger Peca...|\n",
            "|Kit Kat Chunky Mu...|Snowball Cotton C...|\n",
            "|Reeses Peanut But...|Starburst Sour Chews|\n",
            "|Butterfinger Peca...|Gobstopper Chewy ...|\n",
            "|Kit Kat Chunky Mu...|Henry Goode's Str...|\n",
            "|Starburst Sour Chews|Weetabix Crispy M...|\n",
            "|Starburst Sour Chews|Twizzlers Strawbe...|\n",
            "|        3 Musketeers|Jelly Belly jelly...|\n",
            "|Starburst Sour Chews|Easter Bunny cand...|\n",
            "|    Hershey's Kisses|Reeses Peanut But...|\n",
            "+--------------------+--------------------+\n",
            "only showing top 20 rows\n",
            "\n"
          ]
        }
      ],
      "source": [
        "# TODO\n",
        "# Create SQL-accesible table\n",
        "candy_sdf.createOrReplaceTempView(\"candy\")\n",
        "\n",
        "\n",
        "# Declare SQL query to be excecuted\n",
        "query = '''\n",
        "SELECT FirstCandy AS from_node, SecondCandy AS to_node\n",
        "FROM candy\n",
        "'''\n",
        "\n",
        "# Save the output sdf of spark.sql()\n",
        "candy_graph_sdf = spark.sql(query)\n",
        "candy_graph_sdf.show()"
      ]
    },
    {
      "cell_type": "code",
      "execution_count": null,
      "metadata": {
        "id": "_K7U-RF4_eSv",
        "colab": {
          "base_uri": "https://localhost:8080/"
        },
        "outputId": "a1fc8052-62c6-499d-938b-fe7fe0053cb0"
      },
      "outputs": [
        {
          "output_type": "stream",
          "name": "stdout",
          "text": [
            "Correct! You earned 2/2 points. You are a star!\n",
            "\n",
            "Your submission has been successfully recorded in the gradebook.\n"
          ]
        }
      ],
      "source": [
        "grader.grade(test_case_id = 'checkCandyGraph', answer = candy_graph_sdf.toPandas())"
      ]
    },
    {
      "cell_type": "markdown",
      "metadata": {
        "id": "duQ9JsnL_hqh"
      },
      "source": [
        "### Step 4.3: The Super Bacon Search [15 pts]"
      ]
    },
    {
      "cell_type": "markdown",
      "metadata": {
        "id": "oQyp_EjeM_16"
      },
      "source": [
        "In the previous section, we found out that the Starburst Sour Chews and Kit Kat Chunky Mug Egg  have been the most popular candies for this group of customers. So let's find out the Super Bacons of candies with respect to Starburst Sour Chews."
      ]
    },
    {
      "cell_type": "markdown",
      "metadata": {
        "id": "W4iQD5nJOrJy"
      },
      "source": [
        "First, we'll create an origin node using Starburst Sour Chews."
      ]
    },
    {
      "cell_type": "code",
      "execution_count": null,
      "metadata": {
        "id": "Bk8yuvpsOErc"
      },
      "outputs": [],
      "source": [
        "orig = [{'node': 'Starburst Sour Chews'}]"
      ]
    },
    {
      "cell_type": "markdown",
      "metadata": {
        "id": "rw_lX0nPPoYT"
      },
      "source": [
        "Now, run the **spark_bfs()** function on **teams_graph_sdf** using this origin node and a max depth of 5. Store the result in **bfs_5**."
      ]
    },
    {
      "cell_type": "code",
      "execution_count": null,
      "metadata": {
        "id": "cXukRdc-Ox0u"
      },
      "outputs": [],
      "source": [
        "bfs_5 = spark_bfs(candy_graph_sdf, orig, 5)\n"
      ]
    },
    {
      "cell_type": "code",
      "execution_count": null,
      "metadata": {
        "id": "BJX5QrQxnXeH",
        "colab": {
          "base_uri": "https://localhost:8080/"
        },
        "outputId": "9ce75d51-692f-4618-8590-efabf5dda315"
      },
      "outputs": [
        {
          "output_type": "stream",
          "name": "stdout",
          "text": [
            "+--------------------+--------+\n",
            "|                node|distance|\n",
            "+--------------------+--------+\n",
            "|     Sour Patch Kids|       5|\n",
            "|York Peppermint P...|       5|\n",
            "|Strawberry Cherry...|       5|\n",
            "|Nerds Rope Assort...|       5|\n",
            "|Snowball Cotton C...|       5|\n",
            "|  SweetTarts 200 pcs|       4|\n",
            "|Jelly Belly jelly...|       4|\n",
            "|Kit Kat Chunky Mu...|       4|\n",
            "|   Skittles 200g Bag|       3|\n",
            "|Stephen's Gourmet...|       2|\n",
            "|        Milk Duds 24|       2|\n",
            "|         Gummy Worms|       1|\n",
            "|  Haribo Gummy Bears|       1|\n",
            "|Twizzlers Strawbe...|       1|\n",
            "|Weetabix Crispy M...|       1|\n",
            "|Henry Goode's Str...|       1|\n",
            "|Easter Bunny cand...|       1|\n",
            "|Starburst Sour Chews|       0|\n",
            "+--------------------+--------+\n",
            "\n"
          ]
        }
      ],
      "source": [
        "bfs_5.show()"
      ]
    },
    {
      "cell_type": "markdown",
      "metadata": {
        "id": "gkmBQnFJQJjz"
      },
      "source": [
        "Convert the result to pandas, store it to answer_df and pass this to the grader."
      ]
    },
    {
      "cell_type": "code",
      "execution_count": null,
      "metadata": {
        "id": "_bFCML1YnYmo",
        "colab": {
          "base_uri": "https://localhost:8080/",
          "height": 607
        },
        "outputId": "5e9f6089-5759-4b32-f07b-c241ea15c087"
      },
      "outputs": [
        {
          "output_type": "execute_result",
          "data": {
            "text/plain": [
              "                                     node  distance\n",
              "0                         Sour Patch Kids         5\n",
              "1                 York Peppermint Patties         5\n",
              "2          Strawberry Cherry Airheads Bar         5\n",
              "3            Nerds Rope Assorted 24 Ropes         5\n",
              "4                   Snowball Cotton Candy         5\n",
              "5                      SweetTarts 200 pcs         4\n",
              "6                 Jelly Belly jelly beans         4\n",
              "7                  Kit Kat Chunky Mug Egg         4\n",
              "8                       Skittles 200g Bag         3\n",
              "9   Stephen's Gourmet Candycane Hot Cocoa         2\n",
              "10                           Milk Duds 24         2\n",
              "11                            Gummy Worms         1\n",
              "12                     Haribo Gummy Bears         1\n",
              "13      Twizzlers Strawberry Candy Twists         1\n",
              "14    Weetabix Crispy Mini Chocolate Chip         1\n",
              "15     Henry Goode's Strawberry Liquorice         1\n",
              "16                Easter Bunny candy corn         1\n",
              "17                   Starburst Sour Chews         0"
            ],
            "text/html": [
              "\n",
              "  <div id=\"df-0250e429-5ed4-4739-9115-6b3f91bfc0d3\">\n",
              "    <div class=\"colab-df-container\">\n",
              "      <div>\n",
              "<style scoped>\n",
              "    .dataframe tbody tr th:only-of-type {\n",
              "        vertical-align: middle;\n",
              "    }\n",
              "\n",
              "    .dataframe tbody tr th {\n",
              "        vertical-align: top;\n",
              "    }\n",
              "\n",
              "    .dataframe thead th {\n",
              "        text-align: right;\n",
              "    }\n",
              "</style>\n",
              "<table border=\"1\" class=\"dataframe\">\n",
              "  <thead>\n",
              "    <tr style=\"text-align: right;\">\n",
              "      <th></th>\n",
              "      <th>node</th>\n",
              "      <th>distance</th>\n",
              "    </tr>\n",
              "  </thead>\n",
              "  <tbody>\n",
              "    <tr>\n",
              "      <th>0</th>\n",
              "      <td>Sour Patch Kids</td>\n",
              "      <td>5</td>\n",
              "    </tr>\n",
              "    <tr>\n",
              "      <th>1</th>\n",
              "      <td>York Peppermint Patties</td>\n",
              "      <td>5</td>\n",
              "    </tr>\n",
              "    <tr>\n",
              "      <th>2</th>\n",
              "      <td>Strawberry Cherry Airheads Bar</td>\n",
              "      <td>5</td>\n",
              "    </tr>\n",
              "    <tr>\n",
              "      <th>3</th>\n",
              "      <td>Nerds Rope Assorted 24 Ropes</td>\n",
              "      <td>5</td>\n",
              "    </tr>\n",
              "    <tr>\n",
              "      <th>4</th>\n",
              "      <td>Snowball Cotton Candy</td>\n",
              "      <td>5</td>\n",
              "    </tr>\n",
              "    <tr>\n",
              "      <th>5</th>\n",
              "      <td>SweetTarts 200 pcs</td>\n",
              "      <td>4</td>\n",
              "    </tr>\n",
              "    <tr>\n",
              "      <th>6</th>\n",
              "      <td>Jelly Belly jelly beans</td>\n",
              "      <td>4</td>\n",
              "    </tr>\n",
              "    <tr>\n",
              "      <th>7</th>\n",
              "      <td>Kit Kat Chunky Mug Egg</td>\n",
              "      <td>4</td>\n",
              "    </tr>\n",
              "    <tr>\n",
              "      <th>8</th>\n",
              "      <td>Skittles 200g Bag</td>\n",
              "      <td>3</td>\n",
              "    </tr>\n",
              "    <tr>\n",
              "      <th>9</th>\n",
              "      <td>Stephen's Gourmet Candycane Hot Cocoa</td>\n",
              "      <td>2</td>\n",
              "    </tr>\n",
              "    <tr>\n",
              "      <th>10</th>\n",
              "      <td>Milk Duds 24</td>\n",
              "      <td>2</td>\n",
              "    </tr>\n",
              "    <tr>\n",
              "      <th>11</th>\n",
              "      <td>Gummy Worms</td>\n",
              "      <td>1</td>\n",
              "    </tr>\n",
              "    <tr>\n",
              "      <th>12</th>\n",
              "      <td>Haribo Gummy Bears</td>\n",
              "      <td>1</td>\n",
              "    </tr>\n",
              "    <tr>\n",
              "      <th>13</th>\n",
              "      <td>Twizzlers Strawberry Candy Twists</td>\n",
              "      <td>1</td>\n",
              "    </tr>\n",
              "    <tr>\n",
              "      <th>14</th>\n",
              "      <td>Weetabix Crispy Mini Chocolate Chip</td>\n",
              "      <td>1</td>\n",
              "    </tr>\n",
              "    <tr>\n",
              "      <th>15</th>\n",
              "      <td>Henry Goode's Strawberry Liquorice</td>\n",
              "      <td>1</td>\n",
              "    </tr>\n",
              "    <tr>\n",
              "      <th>16</th>\n",
              "      <td>Easter Bunny candy corn</td>\n",
              "      <td>1</td>\n",
              "    </tr>\n",
              "    <tr>\n",
              "      <th>17</th>\n",
              "      <td>Starburst Sour Chews</td>\n",
              "      <td>0</td>\n",
              "    </tr>\n",
              "  </tbody>\n",
              "</table>\n",
              "</div>\n",
              "      <button class=\"colab-df-convert\" onclick=\"convertToInteractive('df-0250e429-5ed4-4739-9115-6b3f91bfc0d3')\"\n",
              "              title=\"Convert this dataframe to an interactive table.\"\n",
              "              style=\"display:none;\">\n",
              "        \n",
              "  <svg xmlns=\"http://www.w3.org/2000/svg\" height=\"24px\"viewBox=\"0 0 24 24\"\n",
              "       width=\"24px\">\n",
              "    <path d=\"M0 0h24v24H0V0z\" fill=\"none\"/>\n",
              "    <path d=\"M18.56 5.44l.94 2.06.94-2.06 2.06-.94-2.06-.94-.94-2.06-.94 2.06-2.06.94zm-11 1L8.5 8.5l.94-2.06 2.06-.94-2.06-.94L8.5 2.5l-.94 2.06-2.06.94zm10 10l.94 2.06.94-2.06 2.06-.94-2.06-.94-.94-2.06-.94 2.06-2.06.94z\"/><path d=\"M17.41 7.96l-1.37-1.37c-.4-.4-.92-.59-1.43-.59-.52 0-1.04.2-1.43.59L10.3 9.45l-7.72 7.72c-.78.78-.78 2.05 0 2.83L4 21.41c.39.39.9.59 1.41.59.51 0 1.02-.2 1.41-.59l7.78-7.78 2.81-2.81c.8-.78.8-2.07 0-2.86zM5.41 20L4 18.59l7.72-7.72 1.47 1.35L5.41 20z\"/>\n",
              "  </svg>\n",
              "      </button>\n",
              "      \n",
              "  <style>\n",
              "    .colab-df-container {\n",
              "      display:flex;\n",
              "      flex-wrap:wrap;\n",
              "      gap: 12px;\n",
              "    }\n",
              "\n",
              "    .colab-df-convert {\n",
              "      background-color: #E8F0FE;\n",
              "      border: none;\n",
              "      border-radius: 50%;\n",
              "      cursor: pointer;\n",
              "      display: none;\n",
              "      fill: #1967D2;\n",
              "      height: 32px;\n",
              "      padding: 0 0 0 0;\n",
              "      width: 32px;\n",
              "    }\n",
              "\n",
              "    .colab-df-convert:hover {\n",
              "      background-color: #E2EBFA;\n",
              "      box-shadow: 0px 1px 2px rgba(60, 64, 67, 0.3), 0px 1px 3px 1px rgba(60, 64, 67, 0.15);\n",
              "      fill: #174EA6;\n",
              "    }\n",
              "\n",
              "    [theme=dark] .colab-df-convert {\n",
              "      background-color: #3B4455;\n",
              "      fill: #D2E3FC;\n",
              "    }\n",
              "\n",
              "    [theme=dark] .colab-df-convert:hover {\n",
              "      background-color: #434B5C;\n",
              "      box-shadow: 0px 1px 3px 1px rgba(0, 0, 0, 0.15);\n",
              "      filter: drop-shadow(0px 1px 2px rgba(0, 0, 0, 0.3));\n",
              "      fill: #FFFFFF;\n",
              "    }\n",
              "  </style>\n",
              "\n",
              "      <script>\n",
              "        const buttonEl =\n",
              "          document.querySelector('#df-0250e429-5ed4-4739-9115-6b3f91bfc0d3 button.colab-df-convert');\n",
              "        buttonEl.style.display =\n",
              "          google.colab.kernel.accessAllowed ? 'block' : 'none';\n",
              "\n",
              "        async function convertToInteractive(key) {\n",
              "          const element = document.querySelector('#df-0250e429-5ed4-4739-9115-6b3f91bfc0d3');\n",
              "          const dataTable =\n",
              "            await google.colab.kernel.invokeFunction('convertToInteractive',\n",
              "                                                     [key], {});\n",
              "          if (!dataTable) return;\n",
              "\n",
              "          const docLinkHtml = 'Like what you see? Visit the ' +\n",
              "            '<a target=\"_blank\" href=https://colab.research.google.com/notebooks/data_table.ipynb>data table notebook</a>'\n",
              "            + ' to learn more about interactive tables.';\n",
              "          element.innerHTML = '';\n",
              "          dataTable['output_type'] = 'display_data';\n",
              "          await google.colab.output.renderOutput(dataTable, element);\n",
              "          const docLink = document.createElement('div');\n",
              "          docLink.innerHTML = docLinkHtml;\n",
              "          element.appendChild(docLink);\n",
              "        }\n",
              "      </script>\n",
              "    </div>\n",
              "  </div>\n",
              "  "
            ]
          },
          "metadata": {},
          "execution_count": 98
        }
      ],
      "source": [
        "answer_df = bfs_5.toPandas()\n",
        "answer_df"
      ]
    },
    {
      "cell_type": "code",
      "execution_count": null,
      "metadata": {
        "id": "-1IVMn3Q_rob",
        "colab": {
          "base_uri": "https://localhost:8080/"
        },
        "outputId": "bc5d3f40-47e6-4912-bff1-404d2e84699e"
      },
      "outputs": [
        {
          "output_type": "stream",
          "name": "stdout",
          "text": [
            "Correct! You earned 15/15 points. You are a star!\n",
            "\n",
            "Your submission has been successfully recorded in the gradebook.\n"
          ]
        }
      ],
      "source": [
        "grader.grade(test_case_id = 'checkBFS', answer = answer_df)"
      ]
    },
    {
      "cell_type": "markdown",
      "metadata": {
        "id": "3dePHd9CQW-C"
      },
      "source": [
        "Voila! We're all done."
      ]
    },
    {
      "cell_type": "markdown",
      "metadata": {
        "id": "EHVFHPVIrvu1"
      },
      "source": [
        "# HW Submission\n",
        "\n",
        "Before you submit on Gradescope (you must submit your notebook to receive credit):\n",
        "\n",
        "\n",
        "1.   Restart and Run-All to make sure there's nothing wrong with your notebook\n",
        "2.   **Double check that you have the correct PennID (all numbers) in the autograder**.\n",
        "3. Make sure you've run all the PennGrader cells\n",
        "4. Go to the \"File\" tab at the top left, and click \"Download .ipynb\" and then \"Download .py\".  **Rename** the files to \"homework3.ipynb\" and \"homework3.py\" respectively and upload them to Gradescope\n",
        "\n",
        "**Let the course staff know ASAP if you have any issues submitting, but otherwise best of luck!**"
      ]
    }
  ],
  "metadata": {
    "colab": {
      "provenance": [],
      "toc_visible": true,
      "include_colab_link": true
    },
    "kernelspec": {
      "display_name": "Python 3",
      "name": "python3"
    },
    "language_info": {
      "name": "python"
    },
    "widgets": {
      "application/vnd.jupyter.widget-state+json": {
        "0ee6cd1fa3a6401ba9c20cf8bcd3525a": {
          "model_module": "@jupyter-widgets/controls",
          "model_name": "FloatProgressModel",
          "model_module_version": "1.5.0",
          "state": {
            "_dom_classes": [],
            "_model_module": "@jupyter-widgets/controls",
            "_model_module_version": "1.5.0",
            "_model_name": "FloatProgressModel",
            "_view_count": null,
            "_view_module": "@jupyter-widgets/controls",
            "_view_module_version": "1.5.0",
            "_view_name": "ProgressView",
            "bar_style": "info",
            "description": "Progress:",
            "description_tooltip": null,
            "layout": "IPY_MODEL_c356de352e3a4fc9ae9bd8822c0742a2",
            "max": 1,
            "min": 0,
            "orientation": "horizontal",
            "style": "IPY_MODEL_a5f5eb60a1d341989525b5230aa431f5",
            "value": 0
          }
        },
        "c356de352e3a4fc9ae9bd8822c0742a2": {
          "model_module": "@jupyter-widgets/base",
          "model_name": "LayoutModel",
          "model_module_version": "1.2.0",
          "state": {
            "_model_module": "@jupyter-widgets/base",
            "_model_module_version": "1.2.0",
            "_model_name": "LayoutModel",
            "_view_count": null,
            "_view_module": "@jupyter-widgets/base",
            "_view_module_version": "1.2.0",
            "_view_name": "LayoutView",
            "align_content": null,
            "align_items": null,
            "align_self": null,
            "border": null,
            "bottom": null,
            "display": null,
            "flex": null,
            "flex_flow": null,
            "grid_area": null,
            "grid_auto_columns": null,
            "grid_auto_flow": null,
            "grid_auto_rows": null,
            "grid_column": null,
            "grid_gap": null,
            "grid_row": null,
            "grid_template_areas": null,
            "grid_template_columns": null,
            "grid_template_rows": null,
            "height": "25px",
            "justify_content": null,
            "justify_items": null,
            "left": null,
            "margin": null,
            "max_height": null,
            "max_width": null,
            "min_height": null,
            "min_width": null,
            "object_fit": null,
            "object_position": null,
            "order": null,
            "overflow": null,
            "overflow_x": null,
            "overflow_y": null,
            "padding": null,
            "right": null,
            "top": null,
            "visibility": null,
            "width": "50%"
          }
        },
        "a5f5eb60a1d341989525b5230aa431f5": {
          "model_module": "@jupyter-widgets/controls",
          "model_name": "ProgressStyleModel",
          "model_module_version": "1.5.0",
          "state": {
            "_model_module": "@jupyter-widgets/controls",
            "_model_module_version": "1.5.0",
            "_model_name": "ProgressStyleModel",
            "_view_count": null,
            "_view_module": "@jupyter-widgets/base",
            "_view_module_version": "1.2.0",
            "_view_name": "StyleView",
            "bar_color": null,
            "description_width": ""
          }
        },
        "676388990ee649f9b1ffde1dd58a0b62": {
          "model_module": "@jupyter-widgets/controls",
          "model_name": "FloatProgressModel",
          "model_module_version": "1.5.0",
          "state": {
            "_dom_classes": [],
            "_model_module": "@jupyter-widgets/controls",
            "_model_module_version": "1.5.0",
            "_model_name": "FloatProgressModel",
            "_view_count": null,
            "_view_module": "@jupyter-widgets/controls",
            "_view_module_version": "1.5.0",
            "_view_name": "ProgressView",
            "bar_style": "info",
            "description": "Progress:",
            "description_tooltip": null,
            "layout": "IPY_MODEL_516eba0aed5b4d028c8842edc57d59c0",
            "max": 1,
            "min": 0,
            "orientation": "horizontal",
            "style": "IPY_MODEL_34d5175ac28e47caab97b62ed42d7120",
            "value": 0
          }
        },
        "516eba0aed5b4d028c8842edc57d59c0": {
          "model_module": "@jupyter-widgets/base",
          "model_name": "LayoutModel",
          "model_module_version": "1.2.0",
          "state": {
            "_model_module": "@jupyter-widgets/base",
            "_model_module_version": "1.2.0",
            "_model_name": "LayoutModel",
            "_view_count": null,
            "_view_module": "@jupyter-widgets/base",
            "_view_module_version": "1.2.0",
            "_view_name": "LayoutView",
            "align_content": null,
            "align_items": null,
            "align_self": null,
            "border": null,
            "bottom": null,
            "display": null,
            "flex": null,
            "flex_flow": null,
            "grid_area": null,
            "grid_auto_columns": null,
            "grid_auto_flow": null,
            "grid_auto_rows": null,
            "grid_column": null,
            "grid_gap": null,
            "grid_row": null,
            "grid_template_areas": null,
            "grid_template_columns": null,
            "grid_template_rows": null,
            "height": "25px",
            "justify_content": null,
            "justify_items": null,
            "left": null,
            "margin": null,
            "max_height": null,
            "max_width": null,
            "min_height": null,
            "min_width": null,
            "object_fit": null,
            "object_position": null,
            "order": null,
            "overflow": null,
            "overflow_x": null,
            "overflow_y": null,
            "padding": null,
            "right": null,
            "top": null,
            "visibility": null,
            "width": "50%"
          }
        },
        "34d5175ac28e47caab97b62ed42d7120": {
          "model_module": "@jupyter-widgets/controls",
          "model_name": "ProgressStyleModel",
          "model_module_version": "1.5.0",
          "state": {
            "_model_module": "@jupyter-widgets/controls",
            "_model_module_version": "1.5.0",
            "_model_name": "ProgressStyleModel",
            "_view_count": null,
            "_view_module": "@jupyter-widgets/base",
            "_view_module_version": "1.2.0",
            "_view_name": "StyleView",
            "bar_color": null,
            "description_width": ""
          }
        },
        "5a9357b07767409e836080cc222b2653": {
          "model_module": "@jupyter-widgets/controls",
          "model_name": "FloatProgressModel",
          "model_module_version": "1.5.0",
          "state": {
            "_dom_classes": [],
            "_model_module": "@jupyter-widgets/controls",
            "_model_module_version": "1.5.0",
            "_model_name": "FloatProgressModel",
            "_view_count": null,
            "_view_module": "@jupyter-widgets/controls",
            "_view_module_version": "1.5.0",
            "_view_name": "ProgressView",
            "bar_style": "info",
            "description": "Progress:",
            "description_tooltip": null,
            "layout": "IPY_MODEL_edd6ed0358f44955a73554e80423c565",
            "max": 1,
            "min": 0,
            "orientation": "horizontal",
            "style": "IPY_MODEL_a4b4afa2bfba44cc977992b455c2a7b6",
            "value": 0
          }
        },
        "edd6ed0358f44955a73554e80423c565": {
          "model_module": "@jupyter-widgets/base",
          "model_name": "LayoutModel",
          "model_module_version": "1.2.0",
          "state": {
            "_model_module": "@jupyter-widgets/base",
            "_model_module_version": "1.2.0",
            "_model_name": "LayoutModel",
            "_view_count": null,
            "_view_module": "@jupyter-widgets/base",
            "_view_module_version": "1.2.0",
            "_view_name": "LayoutView",
            "align_content": null,
            "align_items": null,
            "align_self": null,
            "border": null,
            "bottom": null,
            "display": null,
            "flex": null,
            "flex_flow": null,
            "grid_area": null,
            "grid_auto_columns": null,
            "grid_auto_flow": null,
            "grid_auto_rows": null,
            "grid_column": null,
            "grid_gap": null,
            "grid_row": null,
            "grid_template_areas": null,
            "grid_template_columns": null,
            "grid_template_rows": null,
            "height": "25px",
            "justify_content": null,
            "justify_items": null,
            "left": null,
            "margin": null,
            "max_height": null,
            "max_width": null,
            "min_height": null,
            "min_width": null,
            "object_fit": null,
            "object_position": null,
            "order": null,
            "overflow": null,
            "overflow_x": null,
            "overflow_y": null,
            "padding": null,
            "right": null,
            "top": null,
            "visibility": null,
            "width": "50%"
          }
        },
        "a4b4afa2bfba44cc977992b455c2a7b6": {
          "model_module": "@jupyter-widgets/controls",
          "model_name": "ProgressStyleModel",
          "model_module_version": "1.5.0",
          "state": {
            "_model_module": "@jupyter-widgets/controls",
            "_model_module_version": "1.5.0",
            "_model_name": "ProgressStyleModel",
            "_view_count": null,
            "_view_module": "@jupyter-widgets/base",
            "_view_module_version": "1.2.0",
            "_view_name": "StyleView",
            "bar_color": null,
            "description_width": ""
          }
        },
        "d2856e77ac0c4c57b827c66f51613963": {
          "model_module": "@jupyter-widgets/controls",
          "model_name": "FloatProgressModel",
          "model_module_version": "1.5.0",
          "state": {
            "_dom_classes": [],
            "_model_module": "@jupyter-widgets/controls",
            "_model_module_version": "1.5.0",
            "_model_name": "FloatProgressModel",
            "_view_count": null,
            "_view_module": "@jupyter-widgets/controls",
            "_view_module_version": "1.5.0",
            "_view_name": "ProgressView",
            "bar_style": "info",
            "description": "Progress:",
            "description_tooltip": null,
            "layout": "IPY_MODEL_6f16a5830ba249f3b4155000fed91412",
            "max": 1,
            "min": 0,
            "orientation": "horizontal",
            "style": "IPY_MODEL_fd81aaf53c804de3a445ecb912898757",
            "value": 0
          }
        },
        "6f16a5830ba249f3b4155000fed91412": {
          "model_module": "@jupyter-widgets/base",
          "model_name": "LayoutModel",
          "model_module_version": "1.2.0",
          "state": {
            "_model_module": "@jupyter-widgets/base",
            "_model_module_version": "1.2.0",
            "_model_name": "LayoutModel",
            "_view_count": null,
            "_view_module": "@jupyter-widgets/base",
            "_view_module_version": "1.2.0",
            "_view_name": "LayoutView",
            "align_content": null,
            "align_items": null,
            "align_self": null,
            "border": null,
            "bottom": null,
            "display": null,
            "flex": null,
            "flex_flow": null,
            "grid_area": null,
            "grid_auto_columns": null,
            "grid_auto_flow": null,
            "grid_auto_rows": null,
            "grid_column": null,
            "grid_gap": null,
            "grid_row": null,
            "grid_template_areas": null,
            "grid_template_columns": null,
            "grid_template_rows": null,
            "height": "25px",
            "justify_content": null,
            "justify_items": null,
            "left": null,
            "margin": null,
            "max_height": null,
            "max_width": null,
            "min_height": null,
            "min_width": null,
            "object_fit": null,
            "object_position": null,
            "order": null,
            "overflow": null,
            "overflow_x": null,
            "overflow_y": null,
            "padding": null,
            "right": null,
            "top": null,
            "visibility": null,
            "width": "50%"
          }
        },
        "fd81aaf53c804de3a445ecb912898757": {
          "model_module": "@jupyter-widgets/controls",
          "model_name": "ProgressStyleModel",
          "model_module_version": "1.5.0",
          "state": {
            "_model_module": "@jupyter-widgets/controls",
            "_model_module_version": "1.5.0",
            "_model_name": "ProgressStyleModel",
            "_view_count": null,
            "_view_module": "@jupyter-widgets/base",
            "_view_module_version": "1.2.0",
            "_view_name": "StyleView",
            "bar_color": null,
            "description_width": ""
          }
        },
        "8ee3ac93ce8345208ff2da0217d2f8f6": {
          "model_module": "@jupyter-widgets/controls",
          "model_name": "FloatProgressModel",
          "model_module_version": "1.5.0",
          "state": {
            "_dom_classes": [],
            "_model_module": "@jupyter-widgets/controls",
            "_model_module_version": "1.5.0",
            "_model_name": "FloatProgressModel",
            "_view_count": null,
            "_view_module": "@jupyter-widgets/controls",
            "_view_module_version": "1.5.0",
            "_view_name": "ProgressView",
            "bar_style": "info",
            "description": "Progress:",
            "description_tooltip": null,
            "layout": "IPY_MODEL_06f5b03d2e2548faa7415e9ae5cb240e",
            "max": 1,
            "min": 0,
            "orientation": "horizontal",
            "style": "IPY_MODEL_caa08b92826d47f6bfde1e176292000a",
            "value": 0
          }
        },
        "06f5b03d2e2548faa7415e9ae5cb240e": {
          "model_module": "@jupyter-widgets/base",
          "model_name": "LayoutModel",
          "model_module_version": "1.2.0",
          "state": {
            "_model_module": "@jupyter-widgets/base",
            "_model_module_version": "1.2.0",
            "_model_name": "LayoutModel",
            "_view_count": null,
            "_view_module": "@jupyter-widgets/base",
            "_view_module_version": "1.2.0",
            "_view_name": "LayoutView",
            "align_content": null,
            "align_items": null,
            "align_self": null,
            "border": null,
            "bottom": null,
            "display": null,
            "flex": null,
            "flex_flow": null,
            "grid_area": null,
            "grid_auto_columns": null,
            "grid_auto_flow": null,
            "grid_auto_rows": null,
            "grid_column": null,
            "grid_gap": null,
            "grid_row": null,
            "grid_template_areas": null,
            "grid_template_columns": null,
            "grid_template_rows": null,
            "height": "25px",
            "justify_content": null,
            "justify_items": null,
            "left": null,
            "margin": null,
            "max_height": null,
            "max_width": null,
            "min_height": null,
            "min_width": null,
            "object_fit": null,
            "object_position": null,
            "order": null,
            "overflow": null,
            "overflow_x": null,
            "overflow_y": null,
            "padding": null,
            "right": null,
            "top": null,
            "visibility": null,
            "width": "50%"
          }
        },
        "caa08b92826d47f6bfde1e176292000a": {
          "model_module": "@jupyter-widgets/controls",
          "model_name": "ProgressStyleModel",
          "model_module_version": "1.5.0",
          "state": {
            "_model_module": "@jupyter-widgets/controls",
            "_model_module_version": "1.5.0",
            "_model_name": "ProgressStyleModel",
            "_view_count": null,
            "_view_module": "@jupyter-widgets/base",
            "_view_module_version": "1.2.0",
            "_view_name": "StyleView",
            "bar_color": null,
            "description_width": ""
          }
        },
        "d088d15ca3144e20912f04a633890900": {
          "model_module": "@jupyter-widgets/controls",
          "model_name": "FloatProgressModel",
          "model_module_version": "1.5.0",
          "state": {
            "_dom_classes": [],
            "_model_module": "@jupyter-widgets/controls",
            "_model_module_version": "1.5.0",
            "_model_name": "FloatProgressModel",
            "_view_count": null,
            "_view_module": "@jupyter-widgets/controls",
            "_view_module_version": "1.5.0",
            "_view_name": "ProgressView",
            "bar_style": "info",
            "description": "Progress:",
            "description_tooltip": null,
            "layout": "IPY_MODEL_55c2cb8e31244760920ceed85b10fe05",
            "max": 1,
            "min": 0,
            "orientation": "horizontal",
            "style": "IPY_MODEL_825470711ad54f6dbadf1619a5516ff3",
            "value": 0
          }
        },
        "55c2cb8e31244760920ceed85b10fe05": {
          "model_module": "@jupyter-widgets/base",
          "model_name": "LayoutModel",
          "model_module_version": "1.2.0",
          "state": {
            "_model_module": "@jupyter-widgets/base",
            "_model_module_version": "1.2.0",
            "_model_name": "LayoutModel",
            "_view_count": null,
            "_view_module": "@jupyter-widgets/base",
            "_view_module_version": "1.2.0",
            "_view_name": "LayoutView",
            "align_content": null,
            "align_items": null,
            "align_self": null,
            "border": null,
            "bottom": null,
            "display": null,
            "flex": null,
            "flex_flow": null,
            "grid_area": null,
            "grid_auto_columns": null,
            "grid_auto_flow": null,
            "grid_auto_rows": null,
            "grid_column": null,
            "grid_gap": null,
            "grid_row": null,
            "grid_template_areas": null,
            "grid_template_columns": null,
            "grid_template_rows": null,
            "height": "25px",
            "justify_content": null,
            "justify_items": null,
            "left": null,
            "margin": null,
            "max_height": null,
            "max_width": null,
            "min_height": null,
            "min_width": null,
            "object_fit": null,
            "object_position": null,
            "order": null,
            "overflow": null,
            "overflow_x": null,
            "overflow_y": null,
            "padding": null,
            "right": null,
            "top": null,
            "visibility": null,
            "width": "50%"
          }
        },
        "825470711ad54f6dbadf1619a5516ff3": {
          "model_module": "@jupyter-widgets/controls",
          "model_name": "ProgressStyleModel",
          "model_module_version": "1.5.0",
          "state": {
            "_model_module": "@jupyter-widgets/controls",
            "_model_module_version": "1.5.0",
            "_model_name": "ProgressStyleModel",
            "_view_count": null,
            "_view_module": "@jupyter-widgets/base",
            "_view_module_version": "1.2.0",
            "_view_name": "StyleView",
            "bar_color": null,
            "description_width": ""
          }
        },
        "48211eb70d7b43d29d74925b55ff5c9d": {
          "model_module": "@jupyter-widgets/controls",
          "model_name": "FloatProgressModel",
          "model_module_version": "1.5.0",
          "state": {
            "_dom_classes": [],
            "_model_module": "@jupyter-widgets/controls",
            "_model_module_version": "1.5.0",
            "_model_name": "FloatProgressModel",
            "_view_count": null,
            "_view_module": "@jupyter-widgets/controls",
            "_view_module_version": "1.5.0",
            "_view_name": "ProgressView",
            "bar_style": "info",
            "description": "Progress:",
            "description_tooltip": null,
            "layout": "IPY_MODEL_3e5bcf50f09b45d183342550aeab0db6",
            "max": 1,
            "min": 0,
            "orientation": "horizontal",
            "style": "IPY_MODEL_5fa32a772326478d8a512970a495e874",
            "value": 0.42857142857142855
          }
        },
        "3e5bcf50f09b45d183342550aeab0db6": {
          "model_module": "@jupyter-widgets/base",
          "model_name": "LayoutModel",
          "model_module_version": "1.2.0",
          "state": {
            "_model_module": "@jupyter-widgets/base",
            "_model_module_version": "1.2.0",
            "_model_name": "LayoutModel",
            "_view_count": null,
            "_view_module": "@jupyter-widgets/base",
            "_view_module_version": "1.2.0",
            "_view_name": "LayoutView",
            "align_content": null,
            "align_items": null,
            "align_self": null,
            "border": null,
            "bottom": null,
            "display": null,
            "flex": null,
            "flex_flow": null,
            "grid_area": null,
            "grid_auto_columns": null,
            "grid_auto_flow": null,
            "grid_auto_rows": null,
            "grid_column": null,
            "grid_gap": null,
            "grid_row": null,
            "grid_template_areas": null,
            "grid_template_columns": null,
            "grid_template_rows": null,
            "height": "25px",
            "justify_content": null,
            "justify_items": null,
            "left": null,
            "margin": null,
            "max_height": null,
            "max_width": null,
            "min_height": null,
            "min_width": null,
            "object_fit": null,
            "object_position": null,
            "order": null,
            "overflow": null,
            "overflow_x": null,
            "overflow_y": null,
            "padding": null,
            "right": null,
            "top": null,
            "visibility": null,
            "width": "50%"
          }
        },
        "5fa32a772326478d8a512970a495e874": {
          "model_module": "@jupyter-widgets/controls",
          "model_name": "ProgressStyleModel",
          "model_module_version": "1.5.0",
          "state": {
            "_model_module": "@jupyter-widgets/controls",
            "_model_module_version": "1.5.0",
            "_model_name": "ProgressStyleModel",
            "_view_count": null,
            "_view_module": "@jupyter-widgets/base",
            "_view_module_version": "1.2.0",
            "_view_name": "StyleView",
            "bar_color": null,
            "description_width": ""
          }
        },
        "9c6a31bfe4a544458f2b4ebfa57a17b8": {
          "model_module": "@jupyter-widgets/controls",
          "model_name": "FloatProgressModel",
          "model_module_version": "1.5.0",
          "state": {
            "_dom_classes": [],
            "_model_module": "@jupyter-widgets/controls",
            "_model_module_version": "1.5.0",
            "_model_name": "FloatProgressModel",
            "_view_count": null,
            "_view_module": "@jupyter-widgets/controls",
            "_view_module_version": "1.5.0",
            "_view_name": "ProgressView",
            "bar_style": "info",
            "description": "Progress:",
            "description_tooltip": null,
            "layout": "IPY_MODEL_2fd5e6e5c7c94f49a2b17ddd7aa43baa",
            "max": 1,
            "min": 0,
            "orientation": "horizontal",
            "style": "IPY_MODEL_4ebe0119290349bebc787d61ea9fab6e",
            "value": 0
          }
        },
        "2fd5e6e5c7c94f49a2b17ddd7aa43baa": {
          "model_module": "@jupyter-widgets/base",
          "model_name": "LayoutModel",
          "model_module_version": "1.2.0",
          "state": {
            "_model_module": "@jupyter-widgets/base",
            "_model_module_version": "1.2.0",
            "_model_name": "LayoutModel",
            "_view_count": null,
            "_view_module": "@jupyter-widgets/base",
            "_view_module_version": "1.2.0",
            "_view_name": "LayoutView",
            "align_content": null,
            "align_items": null,
            "align_self": null,
            "border": null,
            "bottom": null,
            "display": null,
            "flex": null,
            "flex_flow": null,
            "grid_area": null,
            "grid_auto_columns": null,
            "grid_auto_flow": null,
            "grid_auto_rows": null,
            "grid_column": null,
            "grid_gap": null,
            "grid_row": null,
            "grid_template_areas": null,
            "grid_template_columns": null,
            "grid_template_rows": null,
            "height": "25px",
            "justify_content": null,
            "justify_items": null,
            "left": null,
            "margin": null,
            "max_height": null,
            "max_width": null,
            "min_height": null,
            "min_width": null,
            "object_fit": null,
            "object_position": null,
            "order": null,
            "overflow": null,
            "overflow_x": null,
            "overflow_y": null,
            "padding": null,
            "right": null,
            "top": null,
            "visibility": null,
            "width": "50%"
          }
        },
        "4ebe0119290349bebc787d61ea9fab6e": {
          "model_module": "@jupyter-widgets/controls",
          "model_name": "ProgressStyleModel",
          "model_module_version": "1.5.0",
          "state": {
            "_model_module": "@jupyter-widgets/controls",
            "_model_module_version": "1.5.0",
            "_model_name": "ProgressStyleModel",
            "_view_count": null,
            "_view_module": "@jupyter-widgets/base",
            "_view_module_version": "1.2.0",
            "_view_name": "StyleView",
            "bar_color": null,
            "description_width": ""
          }
        },
        "ce6f1d496d264217b743f8dc989c20dc": {
          "model_module": "@jupyter-widgets/controls",
          "model_name": "FloatProgressModel",
          "model_module_version": "1.5.0",
          "state": {
            "_dom_classes": [],
            "_model_module": "@jupyter-widgets/controls",
            "_model_module_version": "1.5.0",
            "_model_name": "FloatProgressModel",
            "_view_count": null,
            "_view_module": "@jupyter-widgets/controls",
            "_view_module_version": "1.5.0",
            "_view_name": "ProgressView",
            "bar_style": "info",
            "description": "Progress:",
            "description_tooltip": null,
            "layout": "IPY_MODEL_7e9a048515ef44d0aafaabfa79ba27ad",
            "max": 1,
            "min": 0,
            "orientation": "horizontal",
            "style": "IPY_MODEL_b7473f6123a04485907d720c2cc6b882",
            "value": 0.8571428571428571
          }
        },
        "7e9a048515ef44d0aafaabfa79ba27ad": {
          "model_module": "@jupyter-widgets/base",
          "model_name": "LayoutModel",
          "model_module_version": "1.2.0",
          "state": {
            "_model_module": "@jupyter-widgets/base",
            "_model_module_version": "1.2.0",
            "_model_name": "LayoutModel",
            "_view_count": null,
            "_view_module": "@jupyter-widgets/base",
            "_view_module_version": "1.2.0",
            "_view_name": "LayoutView",
            "align_content": null,
            "align_items": null,
            "align_self": null,
            "border": null,
            "bottom": null,
            "display": null,
            "flex": null,
            "flex_flow": null,
            "grid_area": null,
            "grid_auto_columns": null,
            "grid_auto_flow": null,
            "grid_auto_rows": null,
            "grid_column": null,
            "grid_gap": null,
            "grid_row": null,
            "grid_template_areas": null,
            "grid_template_columns": null,
            "grid_template_rows": null,
            "height": "25px",
            "justify_content": null,
            "justify_items": null,
            "left": null,
            "margin": null,
            "max_height": null,
            "max_width": null,
            "min_height": null,
            "min_width": null,
            "object_fit": null,
            "object_position": null,
            "order": null,
            "overflow": null,
            "overflow_x": null,
            "overflow_y": null,
            "padding": null,
            "right": null,
            "top": null,
            "visibility": null,
            "width": "50%"
          }
        },
        "b7473f6123a04485907d720c2cc6b882": {
          "model_module": "@jupyter-widgets/controls",
          "model_name": "ProgressStyleModel",
          "model_module_version": "1.5.0",
          "state": {
            "_model_module": "@jupyter-widgets/controls",
            "_model_module_version": "1.5.0",
            "_model_name": "ProgressStyleModel",
            "_view_count": null,
            "_view_module": "@jupyter-widgets/base",
            "_view_module_version": "1.2.0",
            "_view_name": "StyleView",
            "bar_color": null,
            "description_width": ""
          }
        },
        "eca17d16760945fbb169c38e7012c00d": {
          "model_module": "@jupyter-widgets/controls",
          "model_name": "FloatProgressModel",
          "model_module_version": "1.5.0",
          "state": {
            "_dom_classes": [],
            "_model_module": "@jupyter-widgets/controls",
            "_model_module_version": "1.5.0",
            "_model_name": "FloatProgressModel",
            "_view_count": null,
            "_view_module": "@jupyter-widgets/controls",
            "_view_module_version": "1.5.0",
            "_view_name": "ProgressView",
            "bar_style": "info",
            "description": "Progress:",
            "description_tooltip": null,
            "layout": "IPY_MODEL_141d88d7000349b18e776ec2ea49475e",
            "max": 1,
            "min": 0,
            "orientation": "horizontal",
            "style": "IPY_MODEL_92a057c526654eacbcd6dd4f6bf511ab",
            "value": 0
          }
        },
        "141d88d7000349b18e776ec2ea49475e": {
          "model_module": "@jupyter-widgets/base",
          "model_name": "LayoutModel",
          "model_module_version": "1.2.0",
          "state": {
            "_model_module": "@jupyter-widgets/base",
            "_model_module_version": "1.2.0",
            "_model_name": "LayoutModel",
            "_view_count": null,
            "_view_module": "@jupyter-widgets/base",
            "_view_module_version": "1.2.0",
            "_view_name": "LayoutView",
            "align_content": null,
            "align_items": null,
            "align_self": null,
            "border": null,
            "bottom": null,
            "display": null,
            "flex": null,
            "flex_flow": null,
            "grid_area": null,
            "grid_auto_columns": null,
            "grid_auto_flow": null,
            "grid_auto_rows": null,
            "grid_column": null,
            "grid_gap": null,
            "grid_row": null,
            "grid_template_areas": null,
            "grid_template_columns": null,
            "grid_template_rows": null,
            "height": "25px",
            "justify_content": null,
            "justify_items": null,
            "left": null,
            "margin": null,
            "max_height": null,
            "max_width": null,
            "min_height": null,
            "min_width": null,
            "object_fit": null,
            "object_position": null,
            "order": null,
            "overflow": null,
            "overflow_x": null,
            "overflow_y": null,
            "padding": null,
            "right": null,
            "top": null,
            "visibility": null,
            "width": "50%"
          }
        },
        "92a057c526654eacbcd6dd4f6bf511ab": {
          "model_module": "@jupyter-widgets/controls",
          "model_name": "ProgressStyleModel",
          "model_module_version": "1.5.0",
          "state": {
            "_model_module": "@jupyter-widgets/controls",
            "_model_module_version": "1.5.0",
            "_model_name": "ProgressStyleModel",
            "_view_count": null,
            "_view_module": "@jupyter-widgets/base",
            "_view_module_version": "1.2.0",
            "_view_name": "StyleView",
            "bar_color": null,
            "description_width": ""
          }
        },
        "016f044804a7431f8946da8c192276f6": {
          "model_module": "@jupyter-widgets/controls",
          "model_name": "FloatProgressModel",
          "model_module_version": "1.5.0",
          "state": {
            "_dom_classes": [],
            "_model_module": "@jupyter-widgets/controls",
            "_model_module_version": "1.5.0",
            "_model_name": "FloatProgressModel",
            "_view_count": null,
            "_view_module": "@jupyter-widgets/controls",
            "_view_module_version": "1.5.0",
            "_view_name": "ProgressView",
            "bar_style": "info",
            "description": "Progress:",
            "description_tooltip": null,
            "layout": "IPY_MODEL_3167d4072584461083377da21674e269",
            "max": 1,
            "min": 0,
            "orientation": "horizontal",
            "style": "IPY_MODEL_36af306c7c464ac09f0d4c9a322dbe2b",
            "value": 0
          }
        },
        "3167d4072584461083377da21674e269": {
          "model_module": "@jupyter-widgets/base",
          "model_name": "LayoutModel",
          "model_module_version": "1.2.0",
          "state": {
            "_model_module": "@jupyter-widgets/base",
            "_model_module_version": "1.2.0",
            "_model_name": "LayoutModel",
            "_view_count": null,
            "_view_module": "@jupyter-widgets/base",
            "_view_module_version": "1.2.0",
            "_view_name": "LayoutView",
            "align_content": null,
            "align_items": null,
            "align_self": null,
            "border": null,
            "bottom": null,
            "display": null,
            "flex": null,
            "flex_flow": null,
            "grid_area": null,
            "grid_auto_columns": null,
            "grid_auto_flow": null,
            "grid_auto_rows": null,
            "grid_column": null,
            "grid_gap": null,
            "grid_row": null,
            "grid_template_areas": null,
            "grid_template_columns": null,
            "grid_template_rows": null,
            "height": "25px",
            "justify_content": null,
            "justify_items": null,
            "left": null,
            "margin": null,
            "max_height": null,
            "max_width": null,
            "min_height": null,
            "min_width": null,
            "object_fit": null,
            "object_position": null,
            "order": null,
            "overflow": null,
            "overflow_x": null,
            "overflow_y": null,
            "padding": null,
            "right": null,
            "top": null,
            "visibility": null,
            "width": "50%"
          }
        },
        "36af306c7c464ac09f0d4c9a322dbe2b": {
          "model_module": "@jupyter-widgets/controls",
          "model_name": "ProgressStyleModel",
          "model_module_version": "1.5.0",
          "state": {
            "_model_module": "@jupyter-widgets/controls",
            "_model_module_version": "1.5.0",
            "_model_name": "ProgressStyleModel",
            "_view_count": null,
            "_view_module": "@jupyter-widgets/base",
            "_view_module_version": "1.2.0",
            "_view_name": "StyleView",
            "bar_color": null,
            "description_width": ""
          }
        },
        "a18c23e70478443dbdd0a08eebab0569": {
          "model_module": "@jupyter-widgets/controls",
          "model_name": "FloatProgressModel",
          "model_module_version": "1.5.0",
          "state": {
            "_dom_classes": [],
            "_model_module": "@jupyter-widgets/controls",
            "_model_module_version": "1.5.0",
            "_model_name": "FloatProgressModel",
            "_view_count": null,
            "_view_module": "@jupyter-widgets/controls",
            "_view_module_version": "1.5.0",
            "_view_name": "ProgressView",
            "bar_style": "info",
            "description": "Progress:",
            "description_tooltip": null,
            "layout": "IPY_MODEL_5a8c1590934543a185ad03923f638b7e",
            "max": 1,
            "min": 0,
            "orientation": "horizontal",
            "style": "IPY_MODEL_e6d1ce0ef8de4ad9b13f68af63403621",
            "value": 0.6
          }
        },
        "5a8c1590934543a185ad03923f638b7e": {
          "model_module": "@jupyter-widgets/base",
          "model_name": "LayoutModel",
          "model_module_version": "1.2.0",
          "state": {
            "_model_module": "@jupyter-widgets/base",
            "_model_module_version": "1.2.0",
            "_model_name": "LayoutModel",
            "_view_count": null,
            "_view_module": "@jupyter-widgets/base",
            "_view_module_version": "1.2.0",
            "_view_name": "LayoutView",
            "align_content": null,
            "align_items": null,
            "align_self": null,
            "border": null,
            "bottom": null,
            "display": null,
            "flex": null,
            "flex_flow": null,
            "grid_area": null,
            "grid_auto_columns": null,
            "grid_auto_flow": null,
            "grid_auto_rows": null,
            "grid_column": null,
            "grid_gap": null,
            "grid_row": null,
            "grid_template_areas": null,
            "grid_template_columns": null,
            "grid_template_rows": null,
            "height": "25px",
            "justify_content": null,
            "justify_items": null,
            "left": null,
            "margin": null,
            "max_height": null,
            "max_width": null,
            "min_height": null,
            "min_width": null,
            "object_fit": null,
            "object_position": null,
            "order": null,
            "overflow": null,
            "overflow_x": null,
            "overflow_y": null,
            "padding": null,
            "right": null,
            "top": null,
            "visibility": null,
            "width": "50%"
          }
        },
        "e6d1ce0ef8de4ad9b13f68af63403621": {
          "model_module": "@jupyter-widgets/controls",
          "model_name": "ProgressStyleModel",
          "model_module_version": "1.5.0",
          "state": {
            "_model_module": "@jupyter-widgets/controls",
            "_model_module_version": "1.5.0",
            "_model_name": "ProgressStyleModel",
            "_view_count": null,
            "_view_module": "@jupyter-widgets/base",
            "_view_module_version": "1.2.0",
            "_view_name": "StyleView",
            "bar_color": null,
            "description_width": ""
          }
        },
        "68c7c067606e4eae964e4b9499bb7479": {
          "model_module": "@jupyter-widgets/controls",
          "model_name": "FloatProgressModel",
          "model_module_version": "1.5.0",
          "state": {
            "_dom_classes": [],
            "_model_module": "@jupyter-widgets/controls",
            "_model_module_version": "1.5.0",
            "_model_name": "FloatProgressModel",
            "_view_count": null,
            "_view_module": "@jupyter-widgets/controls",
            "_view_module_version": "1.5.0",
            "_view_name": "ProgressView",
            "bar_style": "info",
            "description": "Progress:",
            "description_tooltip": null,
            "layout": "IPY_MODEL_9cda6f21b167436491769cec2c1d9920",
            "max": 1,
            "min": 0,
            "orientation": "horizontal",
            "style": "IPY_MODEL_cfc8ba08196042fa91d6a78edafd7b67",
            "value": 0
          }
        },
        "9cda6f21b167436491769cec2c1d9920": {
          "model_module": "@jupyter-widgets/base",
          "model_name": "LayoutModel",
          "model_module_version": "1.2.0",
          "state": {
            "_model_module": "@jupyter-widgets/base",
            "_model_module_version": "1.2.0",
            "_model_name": "LayoutModel",
            "_view_count": null,
            "_view_module": "@jupyter-widgets/base",
            "_view_module_version": "1.2.0",
            "_view_name": "LayoutView",
            "align_content": null,
            "align_items": null,
            "align_self": null,
            "border": null,
            "bottom": null,
            "display": null,
            "flex": null,
            "flex_flow": null,
            "grid_area": null,
            "grid_auto_columns": null,
            "grid_auto_flow": null,
            "grid_auto_rows": null,
            "grid_column": null,
            "grid_gap": null,
            "grid_row": null,
            "grid_template_areas": null,
            "grid_template_columns": null,
            "grid_template_rows": null,
            "height": "25px",
            "justify_content": null,
            "justify_items": null,
            "left": null,
            "margin": null,
            "max_height": null,
            "max_width": null,
            "min_height": null,
            "min_width": null,
            "object_fit": null,
            "object_position": null,
            "order": null,
            "overflow": null,
            "overflow_x": null,
            "overflow_y": null,
            "padding": null,
            "right": null,
            "top": null,
            "visibility": null,
            "width": "50%"
          }
        },
        "cfc8ba08196042fa91d6a78edafd7b67": {
          "model_module": "@jupyter-widgets/controls",
          "model_name": "ProgressStyleModel",
          "model_module_version": "1.5.0",
          "state": {
            "_model_module": "@jupyter-widgets/controls",
            "_model_module_version": "1.5.0",
            "_model_name": "ProgressStyleModel",
            "_view_count": null,
            "_view_module": "@jupyter-widgets/base",
            "_view_module_version": "1.2.0",
            "_view_name": "StyleView",
            "bar_color": null,
            "description_width": ""
          }
        },
        "a140d41ac0604504b163e3b315d5c5bb": {
          "model_module": "@jupyter-widgets/controls",
          "model_name": "FloatProgressModel",
          "model_module_version": "1.5.0",
          "state": {
            "_dom_classes": [],
            "_model_module": "@jupyter-widgets/controls",
            "_model_module_version": "1.5.0",
            "_model_name": "FloatProgressModel",
            "_view_count": null,
            "_view_module": "@jupyter-widgets/controls",
            "_view_module_version": "1.5.0",
            "_view_name": "ProgressView",
            "bar_style": "info",
            "description": "Progress:",
            "description_tooltip": null,
            "layout": "IPY_MODEL_7512e33281a34497a3cf5bad5ddd87bd",
            "max": 1,
            "min": 0,
            "orientation": "horizontal",
            "style": "IPY_MODEL_35cc176daa4645aba2f38eb7e01176f0",
            "value": 0
          }
        },
        "7512e33281a34497a3cf5bad5ddd87bd": {
          "model_module": "@jupyter-widgets/base",
          "model_name": "LayoutModel",
          "model_module_version": "1.2.0",
          "state": {
            "_model_module": "@jupyter-widgets/base",
            "_model_module_version": "1.2.0",
            "_model_name": "LayoutModel",
            "_view_count": null,
            "_view_module": "@jupyter-widgets/base",
            "_view_module_version": "1.2.0",
            "_view_name": "LayoutView",
            "align_content": null,
            "align_items": null,
            "align_self": null,
            "border": null,
            "bottom": null,
            "display": null,
            "flex": null,
            "flex_flow": null,
            "grid_area": null,
            "grid_auto_columns": null,
            "grid_auto_flow": null,
            "grid_auto_rows": null,
            "grid_column": null,
            "grid_gap": null,
            "grid_row": null,
            "grid_template_areas": null,
            "grid_template_columns": null,
            "grid_template_rows": null,
            "height": "25px",
            "justify_content": null,
            "justify_items": null,
            "left": null,
            "margin": null,
            "max_height": null,
            "max_width": null,
            "min_height": null,
            "min_width": null,
            "object_fit": null,
            "object_position": null,
            "order": null,
            "overflow": null,
            "overflow_x": null,
            "overflow_y": null,
            "padding": null,
            "right": null,
            "top": null,
            "visibility": null,
            "width": "50%"
          }
        },
        "35cc176daa4645aba2f38eb7e01176f0": {
          "model_module": "@jupyter-widgets/controls",
          "model_name": "ProgressStyleModel",
          "model_module_version": "1.5.0",
          "state": {
            "_model_module": "@jupyter-widgets/controls",
            "_model_module_version": "1.5.0",
            "_model_name": "ProgressStyleModel",
            "_view_count": null,
            "_view_module": "@jupyter-widgets/base",
            "_view_module_version": "1.2.0",
            "_view_name": "StyleView",
            "bar_color": null,
            "description_width": ""
          }
        },
        "19e002c6d1364249b69f29de4bc1c31a": {
          "model_module": "@jupyter-widgets/controls",
          "model_name": "FloatProgressModel",
          "model_module_version": "1.5.0",
          "state": {
            "_dom_classes": [],
            "_model_module": "@jupyter-widgets/controls",
            "_model_module_version": "1.5.0",
            "_model_name": "FloatProgressModel",
            "_view_count": null,
            "_view_module": "@jupyter-widgets/controls",
            "_view_module_version": "1.5.0",
            "_view_name": "ProgressView",
            "bar_style": "info",
            "description": "Progress:",
            "description_tooltip": null,
            "layout": "IPY_MODEL_fdcbb373494544a8b5fc5121de038511",
            "max": 1,
            "min": 0,
            "orientation": "horizontal",
            "style": "IPY_MODEL_1a5b2e6300084f8cb4c44044433f13f9",
            "value": 0.2
          }
        },
        "fdcbb373494544a8b5fc5121de038511": {
          "model_module": "@jupyter-widgets/base",
          "model_name": "LayoutModel",
          "model_module_version": "1.2.0",
          "state": {
            "_model_module": "@jupyter-widgets/base",
            "_model_module_version": "1.2.0",
            "_model_name": "LayoutModel",
            "_view_count": null,
            "_view_module": "@jupyter-widgets/base",
            "_view_module_version": "1.2.0",
            "_view_name": "LayoutView",
            "align_content": null,
            "align_items": null,
            "align_self": null,
            "border": null,
            "bottom": null,
            "display": null,
            "flex": null,
            "flex_flow": null,
            "grid_area": null,
            "grid_auto_columns": null,
            "grid_auto_flow": null,
            "grid_auto_rows": null,
            "grid_column": null,
            "grid_gap": null,
            "grid_row": null,
            "grid_template_areas": null,
            "grid_template_columns": null,
            "grid_template_rows": null,
            "height": "25px",
            "justify_content": null,
            "justify_items": null,
            "left": null,
            "margin": null,
            "max_height": null,
            "max_width": null,
            "min_height": null,
            "min_width": null,
            "object_fit": null,
            "object_position": null,
            "order": null,
            "overflow": null,
            "overflow_x": null,
            "overflow_y": null,
            "padding": null,
            "right": null,
            "top": null,
            "visibility": null,
            "width": "50%"
          }
        },
        "1a5b2e6300084f8cb4c44044433f13f9": {
          "model_module": "@jupyter-widgets/controls",
          "model_name": "ProgressStyleModel",
          "model_module_version": "1.5.0",
          "state": {
            "_model_module": "@jupyter-widgets/controls",
            "_model_module_version": "1.5.0",
            "_model_name": "ProgressStyleModel",
            "_view_count": null,
            "_view_module": "@jupyter-widgets/base",
            "_view_module_version": "1.2.0",
            "_view_name": "StyleView",
            "bar_color": null,
            "description_width": ""
          }
        },
        "0c69c921f6704788bd60f7e7edc73a23": {
          "model_module": "@jupyter-widgets/controls",
          "model_name": "FloatProgressModel",
          "model_module_version": "1.5.0",
          "state": {
            "_dom_classes": [],
            "_model_module": "@jupyter-widgets/controls",
            "_model_module_version": "1.5.0",
            "_model_name": "FloatProgressModel",
            "_view_count": null,
            "_view_module": "@jupyter-widgets/controls",
            "_view_module_version": "1.5.0",
            "_view_name": "ProgressView",
            "bar_style": "info",
            "description": "Progress:",
            "description_tooltip": null,
            "layout": "IPY_MODEL_8ea2441dd7824740841f6a873e7eb4e2",
            "max": 1,
            "min": 0,
            "orientation": "horizontal",
            "style": "IPY_MODEL_fe3ee860b4a64fddb1041a1933ca2838",
            "value": 0
          }
        },
        "8ea2441dd7824740841f6a873e7eb4e2": {
          "model_module": "@jupyter-widgets/base",
          "model_name": "LayoutModel",
          "model_module_version": "1.2.0",
          "state": {
            "_model_module": "@jupyter-widgets/base",
            "_model_module_version": "1.2.0",
            "_model_name": "LayoutModel",
            "_view_count": null,
            "_view_module": "@jupyter-widgets/base",
            "_view_module_version": "1.2.0",
            "_view_name": "LayoutView",
            "align_content": null,
            "align_items": null,
            "align_self": null,
            "border": null,
            "bottom": null,
            "display": null,
            "flex": null,
            "flex_flow": null,
            "grid_area": null,
            "grid_auto_columns": null,
            "grid_auto_flow": null,
            "grid_auto_rows": null,
            "grid_column": null,
            "grid_gap": null,
            "grid_row": null,
            "grid_template_areas": null,
            "grid_template_columns": null,
            "grid_template_rows": null,
            "height": "25px",
            "justify_content": null,
            "justify_items": null,
            "left": null,
            "margin": null,
            "max_height": null,
            "max_width": null,
            "min_height": null,
            "min_width": null,
            "object_fit": null,
            "object_position": null,
            "order": null,
            "overflow": null,
            "overflow_x": null,
            "overflow_y": null,
            "padding": null,
            "right": null,
            "top": null,
            "visibility": null,
            "width": "50%"
          }
        },
        "fe3ee860b4a64fddb1041a1933ca2838": {
          "model_module": "@jupyter-widgets/controls",
          "model_name": "ProgressStyleModel",
          "model_module_version": "1.5.0",
          "state": {
            "_model_module": "@jupyter-widgets/controls",
            "_model_module_version": "1.5.0",
            "_model_name": "ProgressStyleModel",
            "_view_count": null,
            "_view_module": "@jupyter-widgets/base",
            "_view_module_version": "1.2.0",
            "_view_name": "StyleView",
            "bar_color": null,
            "description_width": ""
          }
        },
        "282fd2f820bd42ca997979d3e77e7be4": {
          "model_module": "@jupyter-widgets/controls",
          "model_name": "FloatProgressModel",
          "model_module_version": "1.5.0",
          "state": {
            "_dom_classes": [],
            "_model_module": "@jupyter-widgets/controls",
            "_model_module_version": "1.5.0",
            "_model_name": "FloatProgressModel",
            "_view_count": null,
            "_view_module": "@jupyter-widgets/controls",
            "_view_module_version": "1.5.0",
            "_view_name": "ProgressView",
            "bar_style": "info",
            "description": "Progress:",
            "description_tooltip": null,
            "layout": "IPY_MODEL_7f4dde8ffe8746d3b0c6720bf3379edd",
            "max": 1,
            "min": 0,
            "orientation": "horizontal",
            "style": "IPY_MODEL_23abbec0b0f64a63bbf0e0cc63b81ff3",
            "value": 0
          }
        },
        "7f4dde8ffe8746d3b0c6720bf3379edd": {
          "model_module": "@jupyter-widgets/base",
          "model_name": "LayoutModel",
          "model_module_version": "1.2.0",
          "state": {
            "_model_module": "@jupyter-widgets/base",
            "_model_module_version": "1.2.0",
            "_model_name": "LayoutModel",
            "_view_count": null,
            "_view_module": "@jupyter-widgets/base",
            "_view_module_version": "1.2.0",
            "_view_name": "LayoutView",
            "align_content": null,
            "align_items": null,
            "align_self": null,
            "border": null,
            "bottom": null,
            "display": null,
            "flex": null,
            "flex_flow": null,
            "grid_area": null,
            "grid_auto_columns": null,
            "grid_auto_flow": null,
            "grid_auto_rows": null,
            "grid_column": null,
            "grid_gap": null,
            "grid_row": null,
            "grid_template_areas": null,
            "grid_template_columns": null,
            "grid_template_rows": null,
            "height": "25px",
            "justify_content": null,
            "justify_items": null,
            "left": null,
            "margin": null,
            "max_height": null,
            "max_width": null,
            "min_height": null,
            "min_width": null,
            "object_fit": null,
            "object_position": null,
            "order": null,
            "overflow": null,
            "overflow_x": null,
            "overflow_y": null,
            "padding": null,
            "right": null,
            "top": null,
            "visibility": null,
            "width": "50%"
          }
        },
        "23abbec0b0f64a63bbf0e0cc63b81ff3": {
          "model_module": "@jupyter-widgets/controls",
          "model_name": "ProgressStyleModel",
          "model_module_version": "1.5.0",
          "state": {
            "_model_module": "@jupyter-widgets/controls",
            "_model_module_version": "1.5.0",
            "_model_name": "ProgressStyleModel",
            "_view_count": null,
            "_view_module": "@jupyter-widgets/base",
            "_view_module_version": "1.2.0",
            "_view_name": "StyleView",
            "bar_color": null,
            "description_width": ""
          }
        },
        "032bdda9d59246a6a441bdf3a79827cc": {
          "model_module": "@jupyter-widgets/controls",
          "model_name": "FloatProgressModel",
          "model_module_version": "1.5.0",
          "state": {
            "_dom_classes": [],
            "_model_module": "@jupyter-widgets/controls",
            "_model_module_version": "1.5.0",
            "_model_name": "FloatProgressModel",
            "_view_count": null,
            "_view_module": "@jupyter-widgets/controls",
            "_view_module_version": "1.5.0",
            "_view_name": "ProgressView",
            "bar_style": "info",
            "description": "Progress:",
            "description_tooltip": null,
            "layout": "IPY_MODEL_7fdb7a171dcf4d6ba1667845c5c5b044",
            "max": 1,
            "min": 0,
            "orientation": "horizontal",
            "style": "IPY_MODEL_bf06ac3a66644244a0b99fbac2a043c1",
            "value": 0
          }
        },
        "7fdb7a171dcf4d6ba1667845c5c5b044": {
          "model_module": "@jupyter-widgets/base",
          "model_name": "LayoutModel",
          "model_module_version": "1.2.0",
          "state": {
            "_model_module": "@jupyter-widgets/base",
            "_model_module_version": "1.2.0",
            "_model_name": "LayoutModel",
            "_view_count": null,
            "_view_module": "@jupyter-widgets/base",
            "_view_module_version": "1.2.0",
            "_view_name": "LayoutView",
            "align_content": null,
            "align_items": null,
            "align_self": null,
            "border": null,
            "bottom": null,
            "display": null,
            "flex": null,
            "flex_flow": null,
            "grid_area": null,
            "grid_auto_columns": null,
            "grid_auto_flow": null,
            "grid_auto_rows": null,
            "grid_column": null,
            "grid_gap": null,
            "grid_row": null,
            "grid_template_areas": null,
            "grid_template_columns": null,
            "grid_template_rows": null,
            "height": "25px",
            "justify_content": null,
            "justify_items": null,
            "left": null,
            "margin": null,
            "max_height": null,
            "max_width": null,
            "min_height": null,
            "min_width": null,
            "object_fit": null,
            "object_position": null,
            "order": null,
            "overflow": null,
            "overflow_x": null,
            "overflow_y": null,
            "padding": null,
            "right": null,
            "top": null,
            "visibility": null,
            "width": "50%"
          }
        },
        "bf06ac3a66644244a0b99fbac2a043c1": {
          "model_module": "@jupyter-widgets/controls",
          "model_name": "ProgressStyleModel",
          "model_module_version": "1.5.0",
          "state": {
            "_model_module": "@jupyter-widgets/controls",
            "_model_module_version": "1.5.0",
            "_model_name": "ProgressStyleModel",
            "_view_count": null,
            "_view_module": "@jupyter-widgets/base",
            "_view_module_version": "1.2.0",
            "_view_name": "StyleView",
            "bar_color": null,
            "description_width": ""
          }
        },
        "bd479e62db254ee085b53c0320760368": {
          "model_module": "@jupyter-widgets/controls",
          "model_name": "FloatProgressModel",
          "model_module_version": "1.5.0",
          "state": {
            "_dom_classes": [],
            "_model_module": "@jupyter-widgets/controls",
            "_model_module_version": "1.5.0",
            "_model_name": "FloatProgressModel",
            "_view_count": null,
            "_view_module": "@jupyter-widgets/controls",
            "_view_module_version": "1.5.0",
            "_view_name": "ProgressView",
            "bar_style": "info",
            "description": "Progress:",
            "description_tooltip": null,
            "layout": "IPY_MODEL_eb8e654d479d4b6b9a1869167ca5072b",
            "max": 1,
            "min": 0,
            "orientation": "horizontal",
            "style": "IPY_MODEL_7fd0c53c4a9d4d34b96b579639ccbb93",
            "value": 0
          }
        },
        "eb8e654d479d4b6b9a1869167ca5072b": {
          "model_module": "@jupyter-widgets/base",
          "model_name": "LayoutModel",
          "model_module_version": "1.2.0",
          "state": {
            "_model_module": "@jupyter-widgets/base",
            "_model_module_version": "1.2.0",
            "_model_name": "LayoutModel",
            "_view_count": null,
            "_view_module": "@jupyter-widgets/base",
            "_view_module_version": "1.2.0",
            "_view_name": "LayoutView",
            "align_content": null,
            "align_items": null,
            "align_self": null,
            "border": null,
            "bottom": null,
            "display": null,
            "flex": null,
            "flex_flow": null,
            "grid_area": null,
            "grid_auto_columns": null,
            "grid_auto_flow": null,
            "grid_auto_rows": null,
            "grid_column": null,
            "grid_gap": null,
            "grid_row": null,
            "grid_template_areas": null,
            "grid_template_columns": null,
            "grid_template_rows": null,
            "height": "25px",
            "justify_content": null,
            "justify_items": null,
            "left": null,
            "margin": null,
            "max_height": null,
            "max_width": null,
            "min_height": null,
            "min_width": null,
            "object_fit": null,
            "object_position": null,
            "order": null,
            "overflow": null,
            "overflow_x": null,
            "overflow_y": null,
            "padding": null,
            "right": null,
            "top": null,
            "visibility": null,
            "width": "50%"
          }
        },
        "7fd0c53c4a9d4d34b96b579639ccbb93": {
          "model_module": "@jupyter-widgets/controls",
          "model_name": "ProgressStyleModel",
          "model_module_version": "1.5.0",
          "state": {
            "_model_module": "@jupyter-widgets/controls",
            "_model_module_version": "1.5.0",
            "_model_name": "ProgressStyleModel",
            "_view_count": null,
            "_view_module": "@jupyter-widgets/base",
            "_view_module_version": "1.2.0",
            "_view_name": "StyleView",
            "bar_color": null,
            "description_width": ""
          }
        },
        "f2b3cd2a56de4b87818f7110967c48ea": {
          "model_module": "@jupyter-widgets/controls",
          "model_name": "FloatProgressModel",
          "model_module_version": "1.5.0",
          "state": {
            "_dom_classes": [],
            "_model_module": "@jupyter-widgets/controls",
            "_model_module_version": "1.5.0",
            "_model_name": "FloatProgressModel",
            "_view_count": null,
            "_view_module": "@jupyter-widgets/controls",
            "_view_module_version": "1.5.0",
            "_view_name": "ProgressView",
            "bar_style": "info",
            "description": "Progress:",
            "description_tooltip": null,
            "layout": "IPY_MODEL_90e686403df74122bb790dabc114112e",
            "max": 1,
            "min": 0,
            "orientation": "horizontal",
            "style": "IPY_MODEL_9c906c9cc46f4405a84a3de6167dac99",
            "value": 0
          }
        },
        "90e686403df74122bb790dabc114112e": {
          "model_module": "@jupyter-widgets/base",
          "model_name": "LayoutModel",
          "model_module_version": "1.2.0",
          "state": {
            "_model_module": "@jupyter-widgets/base",
            "_model_module_version": "1.2.0",
            "_model_name": "LayoutModel",
            "_view_count": null,
            "_view_module": "@jupyter-widgets/base",
            "_view_module_version": "1.2.0",
            "_view_name": "LayoutView",
            "align_content": null,
            "align_items": null,
            "align_self": null,
            "border": null,
            "bottom": null,
            "display": null,
            "flex": null,
            "flex_flow": null,
            "grid_area": null,
            "grid_auto_columns": null,
            "grid_auto_flow": null,
            "grid_auto_rows": null,
            "grid_column": null,
            "grid_gap": null,
            "grid_row": null,
            "grid_template_areas": null,
            "grid_template_columns": null,
            "grid_template_rows": null,
            "height": "25px",
            "justify_content": null,
            "justify_items": null,
            "left": null,
            "margin": null,
            "max_height": null,
            "max_width": null,
            "min_height": null,
            "min_width": null,
            "object_fit": null,
            "object_position": null,
            "order": null,
            "overflow": null,
            "overflow_x": null,
            "overflow_y": null,
            "padding": null,
            "right": null,
            "top": null,
            "visibility": null,
            "width": "50%"
          }
        },
        "9c906c9cc46f4405a84a3de6167dac99": {
          "model_module": "@jupyter-widgets/controls",
          "model_name": "ProgressStyleModel",
          "model_module_version": "1.5.0",
          "state": {
            "_model_module": "@jupyter-widgets/controls",
            "_model_module_version": "1.5.0",
            "_model_name": "ProgressStyleModel",
            "_view_count": null,
            "_view_module": "@jupyter-widgets/base",
            "_view_module_version": "1.2.0",
            "_view_name": "StyleView",
            "bar_color": null,
            "description_width": ""
          }
        },
        "33b0d1e972f74b88902bf5f514d4c0e3": {
          "model_module": "@jupyter-widgets/controls",
          "model_name": "FloatProgressModel",
          "model_module_version": "1.5.0",
          "state": {
            "_dom_classes": [],
            "_model_module": "@jupyter-widgets/controls",
            "_model_module_version": "1.5.0",
            "_model_name": "FloatProgressModel",
            "_view_count": null,
            "_view_module": "@jupyter-widgets/controls",
            "_view_module_version": "1.5.0",
            "_view_name": "ProgressView",
            "bar_style": "info",
            "description": "Progress:",
            "description_tooltip": null,
            "layout": "IPY_MODEL_394b47100a184956a581a67a1d1ada8b",
            "max": 1,
            "min": 0,
            "orientation": "horizontal",
            "style": "IPY_MODEL_d8451f7c4a5c4d89b772fc633e66a489",
            "value": 1
          }
        },
        "394b47100a184956a581a67a1d1ada8b": {
          "model_module": "@jupyter-widgets/base",
          "model_name": "LayoutModel",
          "model_module_version": "1.2.0",
          "state": {
            "_model_module": "@jupyter-widgets/base",
            "_model_module_version": "1.2.0",
            "_model_name": "LayoutModel",
            "_view_count": null,
            "_view_module": "@jupyter-widgets/base",
            "_view_module_version": "1.2.0",
            "_view_name": "LayoutView",
            "align_content": null,
            "align_items": null,
            "align_self": null,
            "border": null,
            "bottom": null,
            "display": null,
            "flex": null,
            "flex_flow": null,
            "grid_area": null,
            "grid_auto_columns": null,
            "grid_auto_flow": null,
            "grid_auto_rows": null,
            "grid_column": null,
            "grid_gap": null,
            "grid_row": null,
            "grid_template_areas": null,
            "grid_template_columns": null,
            "grid_template_rows": null,
            "height": "25px",
            "justify_content": null,
            "justify_items": null,
            "left": null,
            "margin": null,
            "max_height": null,
            "max_width": null,
            "min_height": null,
            "min_width": null,
            "object_fit": null,
            "object_position": null,
            "order": null,
            "overflow": null,
            "overflow_x": null,
            "overflow_y": null,
            "padding": null,
            "right": null,
            "top": null,
            "visibility": null,
            "width": "50%"
          }
        },
        "d8451f7c4a5c4d89b772fc633e66a489": {
          "model_module": "@jupyter-widgets/controls",
          "model_name": "ProgressStyleModel",
          "model_module_version": "1.5.0",
          "state": {
            "_model_module": "@jupyter-widgets/controls",
            "_model_module_version": "1.5.0",
            "_model_name": "ProgressStyleModel",
            "_view_count": null,
            "_view_module": "@jupyter-widgets/base",
            "_view_module_version": "1.2.0",
            "_view_name": "StyleView",
            "bar_color": null,
            "description_width": ""
          }
        },
        "292cb160381a4bd59018ee0753797f77": {
          "model_module": "@jupyter-widgets/controls",
          "model_name": "FloatProgressModel",
          "model_module_version": "1.5.0",
          "state": {
            "_dom_classes": [],
            "_model_module": "@jupyter-widgets/controls",
            "_model_module_version": "1.5.0",
            "_model_name": "FloatProgressModel",
            "_view_count": null,
            "_view_module": "@jupyter-widgets/controls",
            "_view_module_version": "1.5.0",
            "_view_name": "ProgressView",
            "bar_style": "info",
            "description": "Progress:",
            "description_tooltip": null,
            "layout": "IPY_MODEL_8b5d9be78dd24b769f11a6278c385eb1",
            "max": 1,
            "min": 0,
            "orientation": "horizontal",
            "style": "IPY_MODEL_f085643fb5194eebb1d94eb97e20609d",
            "value": 0
          }
        },
        "8b5d9be78dd24b769f11a6278c385eb1": {
          "model_module": "@jupyter-widgets/base",
          "model_name": "LayoutModel",
          "model_module_version": "1.2.0",
          "state": {
            "_model_module": "@jupyter-widgets/base",
            "_model_module_version": "1.2.0",
            "_model_name": "LayoutModel",
            "_view_count": null,
            "_view_module": "@jupyter-widgets/base",
            "_view_module_version": "1.2.0",
            "_view_name": "LayoutView",
            "align_content": null,
            "align_items": null,
            "align_self": null,
            "border": null,
            "bottom": null,
            "display": null,
            "flex": null,
            "flex_flow": null,
            "grid_area": null,
            "grid_auto_columns": null,
            "grid_auto_flow": null,
            "grid_auto_rows": null,
            "grid_column": null,
            "grid_gap": null,
            "grid_row": null,
            "grid_template_areas": null,
            "grid_template_columns": null,
            "grid_template_rows": null,
            "height": "25px",
            "justify_content": null,
            "justify_items": null,
            "left": null,
            "margin": null,
            "max_height": null,
            "max_width": null,
            "min_height": null,
            "min_width": null,
            "object_fit": null,
            "object_position": null,
            "order": null,
            "overflow": null,
            "overflow_x": null,
            "overflow_y": null,
            "padding": null,
            "right": null,
            "top": null,
            "visibility": null,
            "width": "50%"
          }
        },
        "f085643fb5194eebb1d94eb97e20609d": {
          "model_module": "@jupyter-widgets/controls",
          "model_name": "ProgressStyleModel",
          "model_module_version": "1.5.0",
          "state": {
            "_model_module": "@jupyter-widgets/controls",
            "_model_module_version": "1.5.0",
            "_model_name": "ProgressStyleModel",
            "_view_count": null,
            "_view_module": "@jupyter-widgets/base",
            "_view_module_version": "1.2.0",
            "_view_name": "StyleView",
            "bar_color": null,
            "description_width": ""
          }
        },
        "5f3dc518038a41de8ee0e9787b2f33f0": {
          "model_module": "@jupyter-widgets/controls",
          "model_name": "FloatProgressModel",
          "model_module_version": "1.5.0",
          "state": {
            "_dom_classes": [],
            "_model_module": "@jupyter-widgets/controls",
            "_model_module_version": "1.5.0",
            "_model_name": "FloatProgressModel",
            "_view_count": null,
            "_view_module": "@jupyter-widgets/controls",
            "_view_module_version": "1.5.0",
            "_view_name": "ProgressView",
            "bar_style": "info",
            "description": "Progress:",
            "description_tooltip": null,
            "layout": "IPY_MODEL_818b9dc73f0d4b42a6515f7bd5ab4bd2",
            "max": 1,
            "min": 0,
            "orientation": "horizontal",
            "style": "IPY_MODEL_1f8db254776049cca8c10aabd7951676",
            "value": 0
          }
        },
        "818b9dc73f0d4b42a6515f7bd5ab4bd2": {
          "model_module": "@jupyter-widgets/base",
          "model_name": "LayoutModel",
          "model_module_version": "1.2.0",
          "state": {
            "_model_module": "@jupyter-widgets/base",
            "_model_module_version": "1.2.0",
            "_model_name": "LayoutModel",
            "_view_count": null,
            "_view_module": "@jupyter-widgets/base",
            "_view_module_version": "1.2.0",
            "_view_name": "LayoutView",
            "align_content": null,
            "align_items": null,
            "align_self": null,
            "border": null,
            "bottom": null,
            "display": null,
            "flex": null,
            "flex_flow": null,
            "grid_area": null,
            "grid_auto_columns": null,
            "grid_auto_flow": null,
            "grid_auto_rows": null,
            "grid_column": null,
            "grid_gap": null,
            "grid_row": null,
            "grid_template_areas": null,
            "grid_template_columns": null,
            "grid_template_rows": null,
            "height": "25px",
            "justify_content": null,
            "justify_items": null,
            "left": null,
            "margin": null,
            "max_height": null,
            "max_width": null,
            "min_height": null,
            "min_width": null,
            "object_fit": null,
            "object_position": null,
            "order": null,
            "overflow": null,
            "overflow_x": null,
            "overflow_y": null,
            "padding": null,
            "right": null,
            "top": null,
            "visibility": null,
            "width": "50%"
          }
        },
        "1f8db254776049cca8c10aabd7951676": {
          "model_module": "@jupyter-widgets/controls",
          "model_name": "ProgressStyleModel",
          "model_module_version": "1.5.0",
          "state": {
            "_model_module": "@jupyter-widgets/controls",
            "_model_module_version": "1.5.0",
            "_model_name": "ProgressStyleModel",
            "_view_count": null,
            "_view_module": "@jupyter-widgets/base",
            "_view_module_version": "1.2.0",
            "_view_name": "StyleView",
            "bar_color": null,
            "description_width": ""
          }
        },
        "8e0453d29a934ba5ac89a8028b2f016b": {
          "model_module": "@jupyter-widgets/controls",
          "model_name": "FloatProgressModel",
          "model_module_version": "1.5.0",
          "state": {
            "_dom_classes": [],
            "_model_module": "@jupyter-widgets/controls",
            "_model_module_version": "1.5.0",
            "_model_name": "FloatProgressModel",
            "_view_count": null,
            "_view_module": "@jupyter-widgets/controls",
            "_view_module_version": "1.5.0",
            "_view_name": "ProgressView",
            "bar_style": "info",
            "description": "Progress:",
            "description_tooltip": null,
            "layout": "IPY_MODEL_4732c49ed3044e25986300417df28820",
            "max": 1,
            "min": 0,
            "orientation": "horizontal",
            "style": "IPY_MODEL_ae57d14dcf0f471dab1c9700b9c70381",
            "value": 0
          }
        },
        "4732c49ed3044e25986300417df28820": {
          "model_module": "@jupyter-widgets/base",
          "model_name": "LayoutModel",
          "model_module_version": "1.2.0",
          "state": {
            "_model_module": "@jupyter-widgets/base",
            "_model_module_version": "1.2.0",
            "_model_name": "LayoutModel",
            "_view_count": null,
            "_view_module": "@jupyter-widgets/base",
            "_view_module_version": "1.2.0",
            "_view_name": "LayoutView",
            "align_content": null,
            "align_items": null,
            "align_self": null,
            "border": null,
            "bottom": null,
            "display": null,
            "flex": null,
            "flex_flow": null,
            "grid_area": null,
            "grid_auto_columns": null,
            "grid_auto_flow": null,
            "grid_auto_rows": null,
            "grid_column": null,
            "grid_gap": null,
            "grid_row": null,
            "grid_template_areas": null,
            "grid_template_columns": null,
            "grid_template_rows": null,
            "height": "25px",
            "justify_content": null,
            "justify_items": null,
            "left": null,
            "margin": null,
            "max_height": null,
            "max_width": null,
            "min_height": null,
            "min_width": null,
            "object_fit": null,
            "object_position": null,
            "order": null,
            "overflow": null,
            "overflow_x": null,
            "overflow_y": null,
            "padding": null,
            "right": null,
            "top": null,
            "visibility": null,
            "width": "50%"
          }
        },
        "ae57d14dcf0f471dab1c9700b9c70381": {
          "model_module": "@jupyter-widgets/controls",
          "model_name": "ProgressStyleModel",
          "model_module_version": "1.5.0",
          "state": {
            "_model_module": "@jupyter-widgets/controls",
            "_model_module_version": "1.5.0",
            "_model_name": "ProgressStyleModel",
            "_view_count": null,
            "_view_module": "@jupyter-widgets/base",
            "_view_module_version": "1.2.0",
            "_view_name": "StyleView",
            "bar_color": null,
            "description_width": ""
          }
        },
        "22d2513c8773420faf83b1bba3512f27": {
          "model_module": "@jupyter-widgets/controls",
          "model_name": "FloatProgressModel",
          "model_module_version": "1.5.0",
          "state": {
            "_dom_classes": [],
            "_model_module": "@jupyter-widgets/controls",
            "_model_module_version": "1.5.0",
            "_model_name": "FloatProgressModel",
            "_view_count": null,
            "_view_module": "@jupyter-widgets/controls",
            "_view_module_version": "1.5.0",
            "_view_name": "ProgressView",
            "bar_style": "info",
            "description": "Progress:",
            "description_tooltip": null,
            "layout": "IPY_MODEL_bf54534997df4ddc875817eed3f91f5b",
            "max": 1,
            "min": 0,
            "orientation": "horizontal",
            "style": "IPY_MODEL_ef845f18c00c4afd9dd50f7a63173ddf",
            "value": 0
          }
        },
        "bf54534997df4ddc875817eed3f91f5b": {
          "model_module": "@jupyter-widgets/base",
          "model_name": "LayoutModel",
          "model_module_version": "1.2.0",
          "state": {
            "_model_module": "@jupyter-widgets/base",
            "_model_module_version": "1.2.0",
            "_model_name": "LayoutModel",
            "_view_count": null,
            "_view_module": "@jupyter-widgets/base",
            "_view_module_version": "1.2.0",
            "_view_name": "LayoutView",
            "align_content": null,
            "align_items": null,
            "align_self": null,
            "border": null,
            "bottom": null,
            "display": null,
            "flex": null,
            "flex_flow": null,
            "grid_area": null,
            "grid_auto_columns": null,
            "grid_auto_flow": null,
            "grid_auto_rows": null,
            "grid_column": null,
            "grid_gap": null,
            "grid_row": null,
            "grid_template_areas": null,
            "grid_template_columns": null,
            "grid_template_rows": null,
            "height": "25px",
            "justify_content": null,
            "justify_items": null,
            "left": null,
            "margin": null,
            "max_height": null,
            "max_width": null,
            "min_height": null,
            "min_width": null,
            "object_fit": null,
            "object_position": null,
            "order": null,
            "overflow": null,
            "overflow_x": null,
            "overflow_y": null,
            "padding": null,
            "right": null,
            "top": null,
            "visibility": null,
            "width": "50%"
          }
        },
        "ef845f18c00c4afd9dd50f7a63173ddf": {
          "model_module": "@jupyter-widgets/controls",
          "model_name": "ProgressStyleModel",
          "model_module_version": "1.5.0",
          "state": {
            "_model_module": "@jupyter-widgets/controls",
            "_model_module_version": "1.5.0",
            "_model_name": "ProgressStyleModel",
            "_view_count": null,
            "_view_module": "@jupyter-widgets/base",
            "_view_module_version": "1.2.0",
            "_view_name": "StyleView",
            "bar_color": null,
            "description_width": ""
          }
        },
        "da1f7679868843878a703ab3e7b3a4db": {
          "model_module": "@jupyter-widgets/controls",
          "model_name": "FloatProgressModel",
          "model_module_version": "1.5.0",
          "state": {
            "_dom_classes": [],
            "_model_module": "@jupyter-widgets/controls",
            "_model_module_version": "1.5.0",
            "_model_name": "FloatProgressModel",
            "_view_count": null,
            "_view_module": "@jupyter-widgets/controls",
            "_view_module_version": "1.5.0",
            "_view_name": "ProgressView",
            "bar_style": "info",
            "description": "Progress:",
            "description_tooltip": null,
            "layout": "IPY_MODEL_94d51ac29759411bad7cafe5f9800519",
            "max": 1,
            "min": 0,
            "orientation": "horizontal",
            "style": "IPY_MODEL_87731cc8e0924b4280212809f828f3bb",
            "value": 0
          }
        },
        "94d51ac29759411bad7cafe5f9800519": {
          "model_module": "@jupyter-widgets/base",
          "model_name": "LayoutModel",
          "model_module_version": "1.2.0",
          "state": {
            "_model_module": "@jupyter-widgets/base",
            "_model_module_version": "1.2.0",
            "_model_name": "LayoutModel",
            "_view_count": null,
            "_view_module": "@jupyter-widgets/base",
            "_view_module_version": "1.2.0",
            "_view_name": "LayoutView",
            "align_content": null,
            "align_items": null,
            "align_self": null,
            "border": null,
            "bottom": null,
            "display": null,
            "flex": null,
            "flex_flow": null,
            "grid_area": null,
            "grid_auto_columns": null,
            "grid_auto_flow": null,
            "grid_auto_rows": null,
            "grid_column": null,
            "grid_gap": null,
            "grid_row": null,
            "grid_template_areas": null,
            "grid_template_columns": null,
            "grid_template_rows": null,
            "height": "25px",
            "justify_content": null,
            "justify_items": null,
            "left": null,
            "margin": null,
            "max_height": null,
            "max_width": null,
            "min_height": null,
            "min_width": null,
            "object_fit": null,
            "object_position": null,
            "order": null,
            "overflow": null,
            "overflow_x": null,
            "overflow_y": null,
            "padding": null,
            "right": null,
            "top": null,
            "visibility": null,
            "width": "50%"
          }
        },
        "87731cc8e0924b4280212809f828f3bb": {
          "model_module": "@jupyter-widgets/controls",
          "model_name": "ProgressStyleModel",
          "model_module_version": "1.5.0",
          "state": {
            "_model_module": "@jupyter-widgets/controls",
            "_model_module_version": "1.5.0",
            "_model_name": "ProgressStyleModel",
            "_view_count": null,
            "_view_module": "@jupyter-widgets/base",
            "_view_module_version": "1.2.0",
            "_view_name": "StyleView",
            "bar_color": null,
            "description_width": ""
          }
        },
        "a5c9de1b1fac489fbbd36b3187a9e9c5": {
          "model_module": "@jupyter-widgets/controls",
          "model_name": "FloatProgressModel",
          "model_module_version": "1.5.0",
          "state": {
            "_dom_classes": [],
            "_model_module": "@jupyter-widgets/controls",
            "_model_module_version": "1.5.0",
            "_model_name": "FloatProgressModel",
            "_view_count": null,
            "_view_module": "@jupyter-widgets/controls",
            "_view_module_version": "1.5.0",
            "_view_name": "ProgressView",
            "bar_style": "info",
            "description": "Progress:",
            "description_tooltip": null,
            "layout": "IPY_MODEL_fb31b3b7249b4a2196a0d31f9a0b4285",
            "max": 1,
            "min": 0,
            "orientation": "horizontal",
            "style": "IPY_MODEL_8cefe31396c047c38822f1ab38efd328",
            "value": 0
          }
        },
        "fb31b3b7249b4a2196a0d31f9a0b4285": {
          "model_module": "@jupyter-widgets/base",
          "model_name": "LayoutModel",
          "model_module_version": "1.2.0",
          "state": {
            "_model_module": "@jupyter-widgets/base",
            "_model_module_version": "1.2.0",
            "_model_name": "LayoutModel",
            "_view_count": null,
            "_view_module": "@jupyter-widgets/base",
            "_view_module_version": "1.2.0",
            "_view_name": "LayoutView",
            "align_content": null,
            "align_items": null,
            "align_self": null,
            "border": null,
            "bottom": null,
            "display": null,
            "flex": null,
            "flex_flow": null,
            "grid_area": null,
            "grid_auto_columns": null,
            "grid_auto_flow": null,
            "grid_auto_rows": null,
            "grid_column": null,
            "grid_gap": null,
            "grid_row": null,
            "grid_template_areas": null,
            "grid_template_columns": null,
            "grid_template_rows": null,
            "height": "25px",
            "justify_content": null,
            "justify_items": null,
            "left": null,
            "margin": null,
            "max_height": null,
            "max_width": null,
            "min_height": null,
            "min_width": null,
            "object_fit": null,
            "object_position": null,
            "order": null,
            "overflow": null,
            "overflow_x": null,
            "overflow_y": null,
            "padding": null,
            "right": null,
            "top": null,
            "visibility": null,
            "width": "50%"
          }
        },
        "8cefe31396c047c38822f1ab38efd328": {
          "model_module": "@jupyter-widgets/controls",
          "model_name": "ProgressStyleModel",
          "model_module_version": "1.5.0",
          "state": {
            "_model_module": "@jupyter-widgets/controls",
            "_model_module_version": "1.5.0",
            "_model_name": "ProgressStyleModel",
            "_view_count": null,
            "_view_module": "@jupyter-widgets/base",
            "_view_module_version": "1.2.0",
            "_view_name": "StyleView",
            "bar_color": null,
            "description_width": ""
          }
        },
        "41ce1ea8387b48a883ef75703c715c6c": {
          "model_module": "@jupyter-widgets/controls",
          "model_name": "FloatProgressModel",
          "model_module_version": "1.5.0",
          "state": {
            "_dom_classes": [],
            "_model_module": "@jupyter-widgets/controls",
            "_model_module_version": "1.5.0",
            "_model_name": "FloatProgressModel",
            "_view_count": null,
            "_view_module": "@jupyter-widgets/controls",
            "_view_module_version": "1.5.0",
            "_view_name": "ProgressView",
            "bar_style": "info",
            "description": "Progress:",
            "description_tooltip": null,
            "layout": "IPY_MODEL_405692ac12fd4230a35663ddc8b7fd99",
            "max": 1,
            "min": 0,
            "orientation": "horizontal",
            "style": "IPY_MODEL_49b56272ffdb4c27aaa3a300c82abd1e",
            "value": 0
          }
        },
        "405692ac12fd4230a35663ddc8b7fd99": {
          "model_module": "@jupyter-widgets/base",
          "model_name": "LayoutModel",
          "model_module_version": "1.2.0",
          "state": {
            "_model_module": "@jupyter-widgets/base",
            "_model_module_version": "1.2.0",
            "_model_name": "LayoutModel",
            "_view_count": null,
            "_view_module": "@jupyter-widgets/base",
            "_view_module_version": "1.2.0",
            "_view_name": "LayoutView",
            "align_content": null,
            "align_items": null,
            "align_self": null,
            "border": null,
            "bottom": null,
            "display": null,
            "flex": null,
            "flex_flow": null,
            "grid_area": null,
            "grid_auto_columns": null,
            "grid_auto_flow": null,
            "grid_auto_rows": null,
            "grid_column": null,
            "grid_gap": null,
            "grid_row": null,
            "grid_template_areas": null,
            "grid_template_columns": null,
            "grid_template_rows": null,
            "height": "25px",
            "justify_content": null,
            "justify_items": null,
            "left": null,
            "margin": null,
            "max_height": null,
            "max_width": null,
            "min_height": null,
            "min_width": null,
            "object_fit": null,
            "object_position": null,
            "order": null,
            "overflow": null,
            "overflow_x": null,
            "overflow_y": null,
            "padding": null,
            "right": null,
            "top": null,
            "visibility": null,
            "width": "50%"
          }
        },
        "49b56272ffdb4c27aaa3a300c82abd1e": {
          "model_module": "@jupyter-widgets/controls",
          "model_name": "ProgressStyleModel",
          "model_module_version": "1.5.0",
          "state": {
            "_model_module": "@jupyter-widgets/controls",
            "_model_module_version": "1.5.0",
            "_model_name": "ProgressStyleModel",
            "_view_count": null,
            "_view_module": "@jupyter-widgets/base",
            "_view_module_version": "1.2.0",
            "_view_name": "StyleView",
            "bar_color": null,
            "description_width": ""
          }
        },
        "bf7f2d64cf264e489e67e838b0012a9b": {
          "model_module": "@jupyter-widgets/controls",
          "model_name": "FloatProgressModel",
          "model_module_version": "1.5.0",
          "state": {
            "_dom_classes": [],
            "_model_module": "@jupyter-widgets/controls",
            "_model_module_version": "1.5.0",
            "_model_name": "FloatProgressModel",
            "_view_count": null,
            "_view_module": "@jupyter-widgets/controls",
            "_view_module_version": "1.5.0",
            "_view_name": "ProgressView",
            "bar_style": "info",
            "description": "Progress:",
            "description_tooltip": null,
            "layout": "IPY_MODEL_13162d829ae346feb61e1737df27256f",
            "max": 1,
            "min": 0,
            "orientation": "horizontal",
            "style": "IPY_MODEL_9f40f205f7ea447086fd4b0164b1b410",
            "value": 0
          }
        },
        "13162d829ae346feb61e1737df27256f": {
          "model_module": "@jupyter-widgets/base",
          "model_name": "LayoutModel",
          "model_module_version": "1.2.0",
          "state": {
            "_model_module": "@jupyter-widgets/base",
            "_model_module_version": "1.2.0",
            "_model_name": "LayoutModel",
            "_view_count": null,
            "_view_module": "@jupyter-widgets/base",
            "_view_module_version": "1.2.0",
            "_view_name": "LayoutView",
            "align_content": null,
            "align_items": null,
            "align_self": null,
            "border": null,
            "bottom": null,
            "display": null,
            "flex": null,
            "flex_flow": null,
            "grid_area": null,
            "grid_auto_columns": null,
            "grid_auto_flow": null,
            "grid_auto_rows": null,
            "grid_column": null,
            "grid_gap": null,
            "grid_row": null,
            "grid_template_areas": null,
            "grid_template_columns": null,
            "grid_template_rows": null,
            "height": "25px",
            "justify_content": null,
            "justify_items": null,
            "left": null,
            "margin": null,
            "max_height": null,
            "max_width": null,
            "min_height": null,
            "min_width": null,
            "object_fit": null,
            "object_position": null,
            "order": null,
            "overflow": null,
            "overflow_x": null,
            "overflow_y": null,
            "padding": null,
            "right": null,
            "top": null,
            "visibility": null,
            "width": "50%"
          }
        },
        "9f40f205f7ea447086fd4b0164b1b410": {
          "model_module": "@jupyter-widgets/controls",
          "model_name": "ProgressStyleModel",
          "model_module_version": "1.5.0",
          "state": {
            "_model_module": "@jupyter-widgets/controls",
            "_model_module_version": "1.5.0",
            "_model_name": "ProgressStyleModel",
            "_view_count": null,
            "_view_module": "@jupyter-widgets/base",
            "_view_module_version": "1.2.0",
            "_view_name": "StyleView",
            "bar_color": null,
            "description_width": ""
          }
        },
        "1e01710364274a22b1a8378e5111b8ff": {
          "model_module": "@jupyter-widgets/controls",
          "model_name": "FloatProgressModel",
          "model_module_version": "1.5.0",
          "state": {
            "_dom_classes": [],
            "_model_module": "@jupyter-widgets/controls",
            "_model_module_version": "1.5.0",
            "_model_name": "FloatProgressModel",
            "_view_count": null,
            "_view_module": "@jupyter-widgets/controls",
            "_view_module_version": "1.5.0",
            "_view_name": "ProgressView",
            "bar_style": "info",
            "description": "Progress:",
            "description_tooltip": null,
            "layout": "IPY_MODEL_39a5a56d5b264b93a863209bbfc92bd1",
            "max": 1,
            "min": 0,
            "orientation": "horizontal",
            "style": "IPY_MODEL_93d2d95101684adc8017fef5bcf74786",
            "value": 0
          }
        },
        "39a5a56d5b264b93a863209bbfc92bd1": {
          "model_module": "@jupyter-widgets/base",
          "model_name": "LayoutModel",
          "model_module_version": "1.2.0",
          "state": {
            "_model_module": "@jupyter-widgets/base",
            "_model_module_version": "1.2.0",
            "_model_name": "LayoutModel",
            "_view_count": null,
            "_view_module": "@jupyter-widgets/base",
            "_view_module_version": "1.2.0",
            "_view_name": "LayoutView",
            "align_content": null,
            "align_items": null,
            "align_self": null,
            "border": null,
            "bottom": null,
            "display": null,
            "flex": null,
            "flex_flow": null,
            "grid_area": null,
            "grid_auto_columns": null,
            "grid_auto_flow": null,
            "grid_auto_rows": null,
            "grid_column": null,
            "grid_gap": null,
            "grid_row": null,
            "grid_template_areas": null,
            "grid_template_columns": null,
            "grid_template_rows": null,
            "height": "25px",
            "justify_content": null,
            "justify_items": null,
            "left": null,
            "margin": null,
            "max_height": null,
            "max_width": null,
            "min_height": null,
            "min_width": null,
            "object_fit": null,
            "object_position": null,
            "order": null,
            "overflow": null,
            "overflow_x": null,
            "overflow_y": null,
            "padding": null,
            "right": null,
            "top": null,
            "visibility": null,
            "width": "50%"
          }
        },
        "93d2d95101684adc8017fef5bcf74786": {
          "model_module": "@jupyter-widgets/controls",
          "model_name": "ProgressStyleModel",
          "model_module_version": "1.5.0",
          "state": {
            "_model_module": "@jupyter-widgets/controls",
            "_model_module_version": "1.5.0",
            "_model_name": "ProgressStyleModel",
            "_view_count": null,
            "_view_module": "@jupyter-widgets/base",
            "_view_module_version": "1.2.0",
            "_view_name": "StyleView",
            "bar_color": null,
            "description_width": ""
          }
        },
        "1c14d3baecc74e50bb289b0e18e0e77f": {
          "model_module": "@jupyter-widgets/controls",
          "model_name": "FloatProgressModel",
          "model_module_version": "1.5.0",
          "state": {
            "_dom_classes": [],
            "_model_module": "@jupyter-widgets/controls",
            "_model_module_version": "1.5.0",
            "_model_name": "FloatProgressModel",
            "_view_count": null,
            "_view_module": "@jupyter-widgets/controls",
            "_view_module_version": "1.5.0",
            "_view_name": "ProgressView",
            "bar_style": "info",
            "description": "Progress:",
            "description_tooltip": null,
            "layout": "IPY_MODEL_5d40d408b8914345ab438f864eb47f45",
            "max": 1,
            "min": 0,
            "orientation": "horizontal",
            "style": "IPY_MODEL_69e5afcc9b8540fa9f9d8ae4f7bb9ab2",
            "value": 0
          }
        },
        "5d40d408b8914345ab438f864eb47f45": {
          "model_module": "@jupyter-widgets/base",
          "model_name": "LayoutModel",
          "model_module_version": "1.2.0",
          "state": {
            "_model_module": "@jupyter-widgets/base",
            "_model_module_version": "1.2.0",
            "_model_name": "LayoutModel",
            "_view_count": null,
            "_view_module": "@jupyter-widgets/base",
            "_view_module_version": "1.2.0",
            "_view_name": "LayoutView",
            "align_content": null,
            "align_items": null,
            "align_self": null,
            "border": null,
            "bottom": null,
            "display": null,
            "flex": null,
            "flex_flow": null,
            "grid_area": null,
            "grid_auto_columns": null,
            "grid_auto_flow": null,
            "grid_auto_rows": null,
            "grid_column": null,
            "grid_gap": null,
            "grid_row": null,
            "grid_template_areas": null,
            "grid_template_columns": null,
            "grid_template_rows": null,
            "height": "25px",
            "justify_content": null,
            "justify_items": null,
            "left": null,
            "margin": null,
            "max_height": null,
            "max_width": null,
            "min_height": null,
            "min_width": null,
            "object_fit": null,
            "object_position": null,
            "order": null,
            "overflow": null,
            "overflow_x": null,
            "overflow_y": null,
            "padding": null,
            "right": null,
            "top": null,
            "visibility": null,
            "width": "50%"
          }
        },
        "69e5afcc9b8540fa9f9d8ae4f7bb9ab2": {
          "model_module": "@jupyter-widgets/controls",
          "model_name": "ProgressStyleModel",
          "model_module_version": "1.5.0",
          "state": {
            "_model_module": "@jupyter-widgets/controls",
            "_model_module_version": "1.5.0",
            "_model_name": "ProgressStyleModel",
            "_view_count": null,
            "_view_module": "@jupyter-widgets/base",
            "_view_module_version": "1.2.0",
            "_view_name": "StyleView",
            "bar_color": null,
            "description_width": ""
          }
        },
        "9e8c233bc84a48fbb1825b74cd2d42e8": {
          "model_module": "@jupyter-widgets/controls",
          "model_name": "FloatProgressModel",
          "model_module_version": "1.5.0",
          "state": {
            "_dom_classes": [],
            "_model_module": "@jupyter-widgets/controls",
            "_model_module_version": "1.5.0",
            "_model_name": "FloatProgressModel",
            "_view_count": null,
            "_view_module": "@jupyter-widgets/controls",
            "_view_module_version": "1.5.0",
            "_view_name": "ProgressView",
            "bar_style": "info",
            "description": "Progress:",
            "description_tooltip": null,
            "layout": "IPY_MODEL_340dc4e706c84991b9c071df1e103010",
            "max": 1,
            "min": 0,
            "orientation": "horizontal",
            "style": "IPY_MODEL_d93a663399614543ae3a9c42c317f534",
            "value": 0
          }
        },
        "340dc4e706c84991b9c071df1e103010": {
          "model_module": "@jupyter-widgets/base",
          "model_name": "LayoutModel",
          "model_module_version": "1.2.0",
          "state": {
            "_model_module": "@jupyter-widgets/base",
            "_model_module_version": "1.2.0",
            "_model_name": "LayoutModel",
            "_view_count": null,
            "_view_module": "@jupyter-widgets/base",
            "_view_module_version": "1.2.0",
            "_view_name": "LayoutView",
            "align_content": null,
            "align_items": null,
            "align_self": null,
            "border": null,
            "bottom": null,
            "display": null,
            "flex": null,
            "flex_flow": null,
            "grid_area": null,
            "grid_auto_columns": null,
            "grid_auto_flow": null,
            "grid_auto_rows": null,
            "grid_column": null,
            "grid_gap": null,
            "grid_row": null,
            "grid_template_areas": null,
            "grid_template_columns": null,
            "grid_template_rows": null,
            "height": "25px",
            "justify_content": null,
            "justify_items": null,
            "left": null,
            "margin": null,
            "max_height": null,
            "max_width": null,
            "min_height": null,
            "min_width": null,
            "object_fit": null,
            "object_position": null,
            "order": null,
            "overflow": null,
            "overflow_x": null,
            "overflow_y": null,
            "padding": null,
            "right": null,
            "top": null,
            "visibility": null,
            "width": "50%"
          }
        },
        "d93a663399614543ae3a9c42c317f534": {
          "model_module": "@jupyter-widgets/controls",
          "model_name": "ProgressStyleModel",
          "model_module_version": "1.5.0",
          "state": {
            "_model_module": "@jupyter-widgets/controls",
            "_model_module_version": "1.5.0",
            "_model_name": "ProgressStyleModel",
            "_view_count": null,
            "_view_module": "@jupyter-widgets/base",
            "_view_module_version": "1.2.0",
            "_view_name": "StyleView",
            "bar_color": null,
            "description_width": ""
          }
        },
        "4dfcf6642b6b4fe98f0686d09a4eb886": {
          "model_module": "@jupyter-widgets/controls",
          "model_name": "FloatProgressModel",
          "model_module_version": "1.5.0",
          "state": {
            "_dom_classes": [],
            "_model_module": "@jupyter-widgets/controls",
            "_model_module_version": "1.5.0",
            "_model_name": "FloatProgressModel",
            "_view_count": null,
            "_view_module": "@jupyter-widgets/controls",
            "_view_module_version": "1.5.0",
            "_view_name": "ProgressView",
            "bar_style": "info",
            "description": "Progress:",
            "description_tooltip": null,
            "layout": "IPY_MODEL_332fb436ef854144af320dd0117389ce",
            "max": 1,
            "min": 0,
            "orientation": "horizontal",
            "style": "IPY_MODEL_e9f158b246f14248a22652d332718339",
            "value": 0
          }
        },
        "332fb436ef854144af320dd0117389ce": {
          "model_module": "@jupyter-widgets/base",
          "model_name": "LayoutModel",
          "model_module_version": "1.2.0",
          "state": {
            "_model_module": "@jupyter-widgets/base",
            "_model_module_version": "1.2.0",
            "_model_name": "LayoutModel",
            "_view_count": null,
            "_view_module": "@jupyter-widgets/base",
            "_view_module_version": "1.2.0",
            "_view_name": "LayoutView",
            "align_content": null,
            "align_items": null,
            "align_self": null,
            "border": null,
            "bottom": null,
            "display": null,
            "flex": null,
            "flex_flow": null,
            "grid_area": null,
            "grid_auto_columns": null,
            "grid_auto_flow": null,
            "grid_auto_rows": null,
            "grid_column": null,
            "grid_gap": null,
            "grid_row": null,
            "grid_template_areas": null,
            "grid_template_columns": null,
            "grid_template_rows": null,
            "height": "25px",
            "justify_content": null,
            "justify_items": null,
            "left": null,
            "margin": null,
            "max_height": null,
            "max_width": null,
            "min_height": null,
            "min_width": null,
            "object_fit": null,
            "object_position": null,
            "order": null,
            "overflow": null,
            "overflow_x": null,
            "overflow_y": null,
            "padding": null,
            "right": null,
            "top": null,
            "visibility": null,
            "width": "50%"
          }
        },
        "e9f158b246f14248a22652d332718339": {
          "model_module": "@jupyter-widgets/controls",
          "model_name": "ProgressStyleModel",
          "model_module_version": "1.5.0",
          "state": {
            "_model_module": "@jupyter-widgets/controls",
            "_model_module_version": "1.5.0",
            "_model_name": "ProgressStyleModel",
            "_view_count": null,
            "_view_module": "@jupyter-widgets/base",
            "_view_module_version": "1.2.0",
            "_view_name": "StyleView",
            "bar_color": null,
            "description_width": ""
          }
        },
        "67edde1a63e34ed68c82cf0f8e92224a": {
          "model_module": "@jupyter-widgets/controls",
          "model_name": "FloatProgressModel",
          "model_module_version": "1.5.0",
          "state": {
            "_dom_classes": [],
            "_model_module": "@jupyter-widgets/controls",
            "_model_module_version": "1.5.0",
            "_model_name": "FloatProgressModel",
            "_view_count": null,
            "_view_module": "@jupyter-widgets/controls",
            "_view_module_version": "1.5.0",
            "_view_name": "ProgressView",
            "bar_style": "info",
            "description": "Progress:",
            "description_tooltip": null,
            "layout": "IPY_MODEL_167f3c774bb3418e915b9fc34291585b",
            "max": 1,
            "min": 0,
            "orientation": "horizontal",
            "style": "IPY_MODEL_466f8e7e207a4c0bbda1e0428c5c7247",
            "value": 0.7831325301204819
          }
        },
        "167f3c774bb3418e915b9fc34291585b": {
          "model_module": "@jupyter-widgets/base",
          "model_name": "LayoutModel",
          "model_module_version": "1.2.0",
          "state": {
            "_model_module": "@jupyter-widgets/base",
            "_model_module_version": "1.2.0",
            "_model_name": "LayoutModel",
            "_view_count": null,
            "_view_module": "@jupyter-widgets/base",
            "_view_module_version": "1.2.0",
            "_view_name": "LayoutView",
            "align_content": null,
            "align_items": null,
            "align_self": null,
            "border": null,
            "bottom": null,
            "display": null,
            "flex": null,
            "flex_flow": null,
            "grid_area": null,
            "grid_auto_columns": null,
            "grid_auto_flow": null,
            "grid_auto_rows": null,
            "grid_column": null,
            "grid_gap": null,
            "grid_row": null,
            "grid_template_areas": null,
            "grid_template_columns": null,
            "grid_template_rows": null,
            "height": "25px",
            "justify_content": null,
            "justify_items": null,
            "left": null,
            "margin": null,
            "max_height": null,
            "max_width": null,
            "min_height": null,
            "min_width": null,
            "object_fit": null,
            "object_position": null,
            "order": null,
            "overflow": null,
            "overflow_x": null,
            "overflow_y": null,
            "padding": null,
            "right": null,
            "top": null,
            "visibility": null,
            "width": "50%"
          }
        },
        "466f8e7e207a4c0bbda1e0428c5c7247": {
          "model_module": "@jupyter-widgets/controls",
          "model_name": "ProgressStyleModel",
          "model_module_version": "1.5.0",
          "state": {
            "_model_module": "@jupyter-widgets/controls",
            "_model_module_version": "1.5.0",
            "_model_name": "ProgressStyleModel",
            "_view_count": null,
            "_view_module": "@jupyter-widgets/base",
            "_view_module_version": "1.2.0",
            "_view_name": "StyleView",
            "bar_color": null,
            "description_width": ""
          }
        },
        "b5fd6b3a05d5473eb5da246cbf06fca8": {
          "model_module": "@jupyter-widgets/controls",
          "model_name": "FloatProgressModel",
          "model_module_version": "1.5.0",
          "state": {
            "_dom_classes": [],
            "_model_module": "@jupyter-widgets/controls",
            "_model_module_version": "1.5.0",
            "_model_name": "FloatProgressModel",
            "_view_count": null,
            "_view_module": "@jupyter-widgets/controls",
            "_view_module_version": "1.5.0",
            "_view_name": "ProgressView",
            "bar_style": "info",
            "description": "Progress:",
            "description_tooltip": null,
            "layout": "IPY_MODEL_1f65071e257946598c63533b30b063a0",
            "max": 1,
            "min": 0,
            "orientation": "horizontal",
            "style": "IPY_MODEL_94537d5f00f245ff95e40b1200448f9a",
            "value": 0.9583333333333334
          }
        },
        "1f65071e257946598c63533b30b063a0": {
          "model_module": "@jupyter-widgets/base",
          "model_name": "LayoutModel",
          "model_module_version": "1.2.0",
          "state": {
            "_model_module": "@jupyter-widgets/base",
            "_model_module_version": "1.2.0",
            "_model_name": "LayoutModel",
            "_view_count": null,
            "_view_module": "@jupyter-widgets/base",
            "_view_module_version": "1.2.0",
            "_view_name": "LayoutView",
            "align_content": null,
            "align_items": null,
            "align_self": null,
            "border": null,
            "bottom": null,
            "display": null,
            "flex": null,
            "flex_flow": null,
            "grid_area": null,
            "grid_auto_columns": null,
            "grid_auto_flow": null,
            "grid_auto_rows": null,
            "grid_column": null,
            "grid_gap": null,
            "grid_row": null,
            "grid_template_areas": null,
            "grid_template_columns": null,
            "grid_template_rows": null,
            "height": "25px",
            "justify_content": null,
            "justify_items": null,
            "left": null,
            "margin": null,
            "max_height": null,
            "max_width": null,
            "min_height": null,
            "min_width": null,
            "object_fit": null,
            "object_position": null,
            "order": null,
            "overflow": null,
            "overflow_x": null,
            "overflow_y": null,
            "padding": null,
            "right": null,
            "top": null,
            "visibility": null,
            "width": "50%"
          }
        },
        "94537d5f00f245ff95e40b1200448f9a": {
          "model_module": "@jupyter-widgets/controls",
          "model_name": "ProgressStyleModel",
          "model_module_version": "1.5.0",
          "state": {
            "_model_module": "@jupyter-widgets/controls",
            "_model_module_version": "1.5.0",
            "_model_name": "ProgressStyleModel",
            "_view_count": null,
            "_view_module": "@jupyter-widgets/base",
            "_view_module_version": "1.2.0",
            "_view_name": "StyleView",
            "bar_color": null,
            "description_width": ""
          }
        },
        "b8b2e6fc66d44b7ba5baf2439c001c4f": {
          "model_module": "@jupyter-widgets/controls",
          "model_name": "FloatProgressModel",
          "model_module_version": "1.5.0",
          "state": {
            "_dom_classes": [],
            "_model_module": "@jupyter-widgets/controls",
            "_model_module_version": "1.5.0",
            "_model_name": "FloatProgressModel",
            "_view_count": null,
            "_view_module": "@jupyter-widgets/controls",
            "_view_module_version": "1.5.0",
            "_view_name": "ProgressView",
            "bar_style": "info",
            "description": "Progress:",
            "description_tooltip": null,
            "layout": "IPY_MODEL_7e9ae65a91fe469fa4c25f0f57fad82f",
            "max": 1,
            "min": 0,
            "orientation": "horizontal",
            "style": "IPY_MODEL_63f61300fa4a4438baa8ea351f7855d3",
            "value": 0
          }
        },
        "7e9ae65a91fe469fa4c25f0f57fad82f": {
          "model_module": "@jupyter-widgets/base",
          "model_name": "LayoutModel",
          "model_module_version": "1.2.0",
          "state": {
            "_model_module": "@jupyter-widgets/base",
            "_model_module_version": "1.2.0",
            "_model_name": "LayoutModel",
            "_view_count": null,
            "_view_module": "@jupyter-widgets/base",
            "_view_module_version": "1.2.0",
            "_view_name": "LayoutView",
            "align_content": null,
            "align_items": null,
            "align_self": null,
            "border": null,
            "bottom": null,
            "display": null,
            "flex": null,
            "flex_flow": null,
            "grid_area": null,
            "grid_auto_columns": null,
            "grid_auto_flow": null,
            "grid_auto_rows": null,
            "grid_column": null,
            "grid_gap": null,
            "grid_row": null,
            "grid_template_areas": null,
            "grid_template_columns": null,
            "grid_template_rows": null,
            "height": "25px",
            "justify_content": null,
            "justify_items": null,
            "left": null,
            "margin": null,
            "max_height": null,
            "max_width": null,
            "min_height": null,
            "min_width": null,
            "object_fit": null,
            "object_position": null,
            "order": null,
            "overflow": null,
            "overflow_x": null,
            "overflow_y": null,
            "padding": null,
            "right": null,
            "top": null,
            "visibility": null,
            "width": "50%"
          }
        },
        "63f61300fa4a4438baa8ea351f7855d3": {
          "model_module": "@jupyter-widgets/controls",
          "model_name": "ProgressStyleModel",
          "model_module_version": "1.5.0",
          "state": {
            "_model_module": "@jupyter-widgets/controls",
            "_model_module_version": "1.5.0",
            "_model_name": "ProgressStyleModel",
            "_view_count": null,
            "_view_module": "@jupyter-widgets/base",
            "_view_module_version": "1.2.0",
            "_view_name": "StyleView",
            "bar_color": null,
            "description_width": ""
          }
        },
        "b0fed1e0cf734c3fa4b61f00c6a806d6": {
          "model_module": "@jupyter-widgets/controls",
          "model_name": "FloatProgressModel",
          "model_module_version": "1.5.0",
          "state": {
            "_dom_classes": [],
            "_model_module": "@jupyter-widgets/controls",
            "_model_module_version": "1.5.0",
            "_model_name": "FloatProgressModel",
            "_view_count": null,
            "_view_module": "@jupyter-widgets/controls",
            "_view_module_version": "1.5.0",
            "_view_name": "ProgressView",
            "bar_style": "info",
            "description": "Progress:",
            "description_tooltip": null,
            "layout": "IPY_MODEL_f93e14b8380640a0a3d8ec08b9672887",
            "max": 1,
            "min": 0,
            "orientation": "horizontal",
            "style": "IPY_MODEL_afa8537cad8d4a70afcaa136259a3d7e",
            "value": 0
          }
        },
        "f93e14b8380640a0a3d8ec08b9672887": {
          "model_module": "@jupyter-widgets/base",
          "model_name": "LayoutModel",
          "model_module_version": "1.2.0",
          "state": {
            "_model_module": "@jupyter-widgets/base",
            "_model_module_version": "1.2.0",
            "_model_name": "LayoutModel",
            "_view_count": null,
            "_view_module": "@jupyter-widgets/base",
            "_view_module_version": "1.2.0",
            "_view_name": "LayoutView",
            "align_content": null,
            "align_items": null,
            "align_self": null,
            "border": null,
            "bottom": null,
            "display": null,
            "flex": null,
            "flex_flow": null,
            "grid_area": null,
            "grid_auto_columns": null,
            "grid_auto_flow": null,
            "grid_auto_rows": null,
            "grid_column": null,
            "grid_gap": null,
            "grid_row": null,
            "grid_template_areas": null,
            "grid_template_columns": null,
            "grid_template_rows": null,
            "height": "25px",
            "justify_content": null,
            "justify_items": null,
            "left": null,
            "margin": null,
            "max_height": null,
            "max_width": null,
            "min_height": null,
            "min_width": null,
            "object_fit": null,
            "object_position": null,
            "order": null,
            "overflow": null,
            "overflow_x": null,
            "overflow_y": null,
            "padding": null,
            "right": null,
            "top": null,
            "visibility": null,
            "width": "50%"
          }
        },
        "afa8537cad8d4a70afcaa136259a3d7e": {
          "model_module": "@jupyter-widgets/controls",
          "model_name": "ProgressStyleModel",
          "model_module_version": "1.5.0",
          "state": {
            "_model_module": "@jupyter-widgets/controls",
            "_model_module_version": "1.5.0",
            "_model_name": "ProgressStyleModel",
            "_view_count": null,
            "_view_module": "@jupyter-widgets/base",
            "_view_module_version": "1.2.0",
            "_view_name": "StyleView",
            "bar_color": null,
            "description_width": ""
          }
        },
        "d709195bf2034f4bb69149c3f66b7537": {
          "model_module": "@jupyter-widgets/controls",
          "model_name": "FloatProgressModel",
          "model_module_version": "1.5.0",
          "state": {
            "_dom_classes": [],
            "_model_module": "@jupyter-widgets/controls",
            "_model_module_version": "1.5.0",
            "_model_name": "FloatProgressModel",
            "_view_count": null,
            "_view_module": "@jupyter-widgets/controls",
            "_view_module_version": "1.5.0",
            "_view_name": "ProgressView",
            "bar_style": "info",
            "description": "Progress:",
            "description_tooltip": null,
            "layout": "IPY_MODEL_c4d73c9251004fd5b85e3beec8ff4661",
            "max": 1,
            "min": 0,
            "orientation": "horizontal",
            "style": "IPY_MODEL_43705ecee6ab4912b1ae5d00242b4f95",
            "value": 0.5596432552954292
          }
        },
        "c4d73c9251004fd5b85e3beec8ff4661": {
          "model_module": "@jupyter-widgets/base",
          "model_name": "LayoutModel",
          "model_module_version": "1.2.0",
          "state": {
            "_model_module": "@jupyter-widgets/base",
            "_model_module_version": "1.2.0",
            "_model_name": "LayoutModel",
            "_view_count": null,
            "_view_module": "@jupyter-widgets/base",
            "_view_module_version": "1.2.0",
            "_view_name": "LayoutView",
            "align_content": null,
            "align_items": null,
            "align_self": null,
            "border": null,
            "bottom": null,
            "display": null,
            "flex": null,
            "flex_flow": null,
            "grid_area": null,
            "grid_auto_columns": null,
            "grid_auto_flow": null,
            "grid_auto_rows": null,
            "grid_column": null,
            "grid_gap": null,
            "grid_row": null,
            "grid_template_areas": null,
            "grid_template_columns": null,
            "grid_template_rows": null,
            "height": "25px",
            "justify_content": null,
            "justify_items": null,
            "left": null,
            "margin": null,
            "max_height": null,
            "max_width": null,
            "min_height": null,
            "min_width": null,
            "object_fit": null,
            "object_position": null,
            "order": null,
            "overflow": null,
            "overflow_x": null,
            "overflow_y": null,
            "padding": null,
            "right": null,
            "top": null,
            "visibility": null,
            "width": "50%"
          }
        },
        "43705ecee6ab4912b1ae5d00242b4f95": {
          "model_module": "@jupyter-widgets/controls",
          "model_name": "ProgressStyleModel",
          "model_module_version": "1.5.0",
          "state": {
            "_model_module": "@jupyter-widgets/controls",
            "_model_module_version": "1.5.0",
            "_model_name": "ProgressStyleModel",
            "_view_count": null,
            "_view_module": "@jupyter-widgets/base",
            "_view_module_version": "1.2.0",
            "_view_name": "StyleView",
            "bar_color": null,
            "description_width": ""
          }
        },
        "8e49bb0bb0774177b15be69ea4b1a9d2": {
          "model_module": "@jupyter-widgets/controls",
          "model_name": "FloatProgressModel",
          "model_module_version": "1.5.0",
          "state": {
            "_dom_classes": [],
            "_model_module": "@jupyter-widgets/controls",
            "_model_module_version": "1.5.0",
            "_model_name": "FloatProgressModel",
            "_view_count": null,
            "_view_module": "@jupyter-widgets/controls",
            "_view_module_version": "1.5.0",
            "_view_name": "ProgressView",
            "bar_style": "info",
            "description": "Progress:",
            "description_tooltip": null,
            "layout": "IPY_MODEL_e45bd63bd8ef4893b4c3d366b0696fc9",
            "max": 1,
            "min": 0,
            "orientation": "horizontal",
            "style": "IPY_MODEL_efeaa0ab9715475dbafe1a58f52c23d2",
            "value": 0.569672131147541
          }
        },
        "e45bd63bd8ef4893b4c3d366b0696fc9": {
          "model_module": "@jupyter-widgets/base",
          "model_name": "LayoutModel",
          "model_module_version": "1.2.0",
          "state": {
            "_model_module": "@jupyter-widgets/base",
            "_model_module_version": "1.2.0",
            "_model_name": "LayoutModel",
            "_view_count": null,
            "_view_module": "@jupyter-widgets/base",
            "_view_module_version": "1.2.0",
            "_view_name": "LayoutView",
            "align_content": null,
            "align_items": null,
            "align_self": null,
            "border": null,
            "bottom": null,
            "display": null,
            "flex": null,
            "flex_flow": null,
            "grid_area": null,
            "grid_auto_columns": null,
            "grid_auto_flow": null,
            "grid_auto_rows": null,
            "grid_column": null,
            "grid_gap": null,
            "grid_row": null,
            "grid_template_areas": null,
            "grid_template_columns": null,
            "grid_template_rows": null,
            "height": "25px",
            "justify_content": null,
            "justify_items": null,
            "left": null,
            "margin": null,
            "max_height": null,
            "max_width": null,
            "min_height": null,
            "min_width": null,
            "object_fit": null,
            "object_position": null,
            "order": null,
            "overflow": null,
            "overflow_x": null,
            "overflow_y": null,
            "padding": null,
            "right": null,
            "top": null,
            "visibility": null,
            "width": "50%"
          }
        },
        "efeaa0ab9715475dbafe1a58f52c23d2": {
          "model_module": "@jupyter-widgets/controls",
          "model_name": "ProgressStyleModel",
          "model_module_version": "1.5.0",
          "state": {
            "_model_module": "@jupyter-widgets/controls",
            "_model_module_version": "1.5.0",
            "_model_name": "ProgressStyleModel",
            "_view_count": null,
            "_view_module": "@jupyter-widgets/base",
            "_view_module_version": "1.2.0",
            "_view_name": "StyleView",
            "bar_color": null,
            "description_width": ""
          }
        },
        "675839e90ea64c1d98cfe2ce9e4ed4e2": {
          "model_module": "@jupyter-widgets/controls",
          "model_name": "FloatProgressModel",
          "model_module_version": "1.5.0",
          "state": {
            "_dom_classes": [],
            "_model_module": "@jupyter-widgets/controls",
            "_model_module_version": "1.5.0",
            "_model_name": "FloatProgressModel",
            "_view_count": null,
            "_view_module": "@jupyter-widgets/controls",
            "_view_module_version": "1.5.0",
            "_view_name": "ProgressView",
            "bar_style": "info",
            "description": "Progress:",
            "description_tooltip": null,
            "layout": "IPY_MODEL_07e6498be1c343a6945b5867e82b563d",
            "max": 1,
            "min": 0,
            "orientation": "horizontal",
            "style": "IPY_MODEL_0fa713753f4a4b9c8322edd9fc967d02",
            "value": 0
          }
        },
        "07e6498be1c343a6945b5867e82b563d": {
          "model_module": "@jupyter-widgets/base",
          "model_name": "LayoutModel",
          "model_module_version": "1.2.0",
          "state": {
            "_model_module": "@jupyter-widgets/base",
            "_model_module_version": "1.2.0",
            "_model_name": "LayoutModel",
            "_view_count": null,
            "_view_module": "@jupyter-widgets/base",
            "_view_module_version": "1.2.0",
            "_view_name": "LayoutView",
            "align_content": null,
            "align_items": null,
            "align_self": null,
            "border": null,
            "bottom": null,
            "display": null,
            "flex": null,
            "flex_flow": null,
            "grid_area": null,
            "grid_auto_columns": null,
            "grid_auto_flow": null,
            "grid_auto_rows": null,
            "grid_column": null,
            "grid_gap": null,
            "grid_row": null,
            "grid_template_areas": null,
            "grid_template_columns": null,
            "grid_template_rows": null,
            "height": "25px",
            "justify_content": null,
            "justify_items": null,
            "left": null,
            "margin": null,
            "max_height": null,
            "max_width": null,
            "min_height": null,
            "min_width": null,
            "object_fit": null,
            "object_position": null,
            "order": null,
            "overflow": null,
            "overflow_x": null,
            "overflow_y": null,
            "padding": null,
            "right": null,
            "top": null,
            "visibility": null,
            "width": "50%"
          }
        },
        "0fa713753f4a4b9c8322edd9fc967d02": {
          "model_module": "@jupyter-widgets/controls",
          "model_name": "ProgressStyleModel",
          "model_module_version": "1.5.0",
          "state": {
            "_model_module": "@jupyter-widgets/controls",
            "_model_module_version": "1.5.0",
            "_model_name": "ProgressStyleModel",
            "_view_count": null,
            "_view_module": "@jupyter-widgets/base",
            "_view_module_version": "1.2.0",
            "_view_name": "StyleView",
            "bar_color": null,
            "description_width": ""
          }
        },
        "2ed1e6a07c7c49f988035418863dacda": {
          "model_module": "@jupyter-widgets/controls",
          "model_name": "FloatProgressModel",
          "model_module_version": "1.5.0",
          "state": {
            "_dom_classes": [],
            "_model_module": "@jupyter-widgets/controls",
            "_model_module_version": "1.5.0",
            "_model_name": "FloatProgressModel",
            "_view_count": null,
            "_view_module": "@jupyter-widgets/controls",
            "_view_module_version": "1.5.0",
            "_view_name": "ProgressView",
            "bar_style": "info",
            "description": "Progress:",
            "description_tooltip": null,
            "layout": "IPY_MODEL_2ae5b24a7fa745fb9e8a4e41916960a0",
            "max": 1,
            "min": 0,
            "orientation": "horizontal",
            "style": "IPY_MODEL_0e2cc588523f4655af1110c9e6e05360",
            "value": 0.5290739411342427
          }
        },
        "2ae5b24a7fa745fb9e8a4e41916960a0": {
          "model_module": "@jupyter-widgets/base",
          "model_name": "LayoutModel",
          "model_module_version": "1.2.0",
          "state": {
            "_model_module": "@jupyter-widgets/base",
            "_model_module_version": "1.2.0",
            "_model_name": "LayoutModel",
            "_view_count": null,
            "_view_module": "@jupyter-widgets/base",
            "_view_module_version": "1.2.0",
            "_view_name": "LayoutView",
            "align_content": null,
            "align_items": null,
            "align_self": null,
            "border": null,
            "bottom": null,
            "display": null,
            "flex": null,
            "flex_flow": null,
            "grid_area": null,
            "grid_auto_columns": null,
            "grid_auto_flow": null,
            "grid_auto_rows": null,
            "grid_column": null,
            "grid_gap": null,
            "grid_row": null,
            "grid_template_areas": null,
            "grid_template_columns": null,
            "grid_template_rows": null,
            "height": "25px",
            "justify_content": null,
            "justify_items": null,
            "left": null,
            "margin": null,
            "max_height": null,
            "max_width": null,
            "min_height": null,
            "min_width": null,
            "object_fit": null,
            "object_position": null,
            "order": null,
            "overflow": null,
            "overflow_x": null,
            "overflow_y": null,
            "padding": null,
            "right": null,
            "top": null,
            "visibility": null,
            "width": "50%"
          }
        },
        "0e2cc588523f4655af1110c9e6e05360": {
          "model_module": "@jupyter-widgets/controls",
          "model_name": "ProgressStyleModel",
          "model_module_version": "1.5.0",
          "state": {
            "_model_module": "@jupyter-widgets/controls",
            "_model_module_version": "1.5.0",
            "_model_name": "ProgressStyleModel",
            "_view_count": null,
            "_view_module": "@jupyter-widgets/base",
            "_view_module_version": "1.2.0",
            "_view_name": "StyleView",
            "bar_color": null,
            "description_width": ""
          }
        },
        "5ead3d0a02a044f786370eb5fd211c44": {
          "model_module": "@jupyter-widgets/controls",
          "model_name": "FloatProgressModel",
          "model_module_version": "1.5.0",
          "state": {
            "_dom_classes": [],
            "_model_module": "@jupyter-widgets/controls",
            "_model_module_version": "1.5.0",
            "_model_name": "FloatProgressModel",
            "_view_count": null,
            "_view_module": "@jupyter-widgets/controls",
            "_view_module_version": "1.5.0",
            "_view_name": "ProgressView",
            "bar_style": "info",
            "description": "Progress:",
            "description_tooltip": null,
            "layout": "IPY_MODEL_c7a97ca6a2dc4f3891c3bcb867cc7410",
            "max": 1,
            "min": 0,
            "orientation": "horizontal",
            "style": "IPY_MODEL_16638734b2e64550af966e2f06977b76",
            "value": 0.3883495145631068
          }
        },
        "c7a97ca6a2dc4f3891c3bcb867cc7410": {
          "model_module": "@jupyter-widgets/base",
          "model_name": "LayoutModel",
          "model_module_version": "1.2.0",
          "state": {
            "_model_module": "@jupyter-widgets/base",
            "_model_module_version": "1.2.0",
            "_model_name": "LayoutModel",
            "_view_count": null,
            "_view_module": "@jupyter-widgets/base",
            "_view_module_version": "1.2.0",
            "_view_name": "LayoutView",
            "align_content": null,
            "align_items": null,
            "align_self": null,
            "border": null,
            "bottom": null,
            "display": null,
            "flex": null,
            "flex_flow": null,
            "grid_area": null,
            "grid_auto_columns": null,
            "grid_auto_flow": null,
            "grid_auto_rows": null,
            "grid_column": null,
            "grid_gap": null,
            "grid_row": null,
            "grid_template_areas": null,
            "grid_template_columns": null,
            "grid_template_rows": null,
            "height": "25px",
            "justify_content": null,
            "justify_items": null,
            "left": null,
            "margin": null,
            "max_height": null,
            "max_width": null,
            "min_height": null,
            "min_width": null,
            "object_fit": null,
            "object_position": null,
            "order": null,
            "overflow": null,
            "overflow_x": null,
            "overflow_y": null,
            "padding": null,
            "right": null,
            "top": null,
            "visibility": null,
            "width": "50%"
          }
        },
        "16638734b2e64550af966e2f06977b76": {
          "model_module": "@jupyter-widgets/controls",
          "model_name": "ProgressStyleModel",
          "model_module_version": "1.5.0",
          "state": {
            "_model_module": "@jupyter-widgets/controls",
            "_model_module_version": "1.5.0",
            "_model_name": "ProgressStyleModel",
            "_view_count": null,
            "_view_module": "@jupyter-widgets/base",
            "_view_module_version": "1.2.0",
            "_view_name": "StyleView",
            "bar_color": null,
            "description_width": ""
          }
        },
        "427c34110ed5462b8c2cbf8f22be4e67": {
          "model_module": "@jupyter-widgets/controls",
          "model_name": "FloatProgressModel",
          "model_module_version": "1.5.0",
          "state": {
            "_dom_classes": [],
            "_model_module": "@jupyter-widgets/controls",
            "_model_module_version": "1.5.0",
            "_model_name": "FloatProgressModel",
            "_view_count": null,
            "_view_module": "@jupyter-widgets/controls",
            "_view_module_version": "1.5.0",
            "_view_name": "ProgressView",
            "bar_style": "info",
            "description": "Progress:",
            "description_tooltip": null,
            "layout": "IPY_MODEL_3443200b7413483bb4e49c80afd8891b",
            "max": 1,
            "min": 0,
            "orientation": "horizontal",
            "style": "IPY_MODEL_2222e9d61ff54e33a9e46e1d518e62c1",
            "value": 0
          }
        },
        "3443200b7413483bb4e49c80afd8891b": {
          "model_module": "@jupyter-widgets/base",
          "model_name": "LayoutModel",
          "model_module_version": "1.2.0",
          "state": {
            "_model_module": "@jupyter-widgets/base",
            "_model_module_version": "1.2.0",
            "_model_name": "LayoutModel",
            "_view_count": null,
            "_view_module": "@jupyter-widgets/base",
            "_view_module_version": "1.2.0",
            "_view_name": "LayoutView",
            "align_content": null,
            "align_items": null,
            "align_self": null,
            "border": null,
            "bottom": null,
            "display": null,
            "flex": null,
            "flex_flow": null,
            "grid_area": null,
            "grid_auto_columns": null,
            "grid_auto_flow": null,
            "grid_auto_rows": null,
            "grid_column": null,
            "grid_gap": null,
            "grid_row": null,
            "grid_template_areas": null,
            "grid_template_columns": null,
            "grid_template_rows": null,
            "height": "25px",
            "justify_content": null,
            "justify_items": null,
            "left": null,
            "margin": null,
            "max_height": null,
            "max_width": null,
            "min_height": null,
            "min_width": null,
            "object_fit": null,
            "object_position": null,
            "order": null,
            "overflow": null,
            "overflow_x": null,
            "overflow_y": null,
            "padding": null,
            "right": null,
            "top": null,
            "visibility": null,
            "width": "50%"
          }
        },
        "2222e9d61ff54e33a9e46e1d518e62c1": {
          "model_module": "@jupyter-widgets/controls",
          "model_name": "ProgressStyleModel",
          "model_module_version": "1.5.0",
          "state": {
            "_model_module": "@jupyter-widgets/controls",
            "_model_module_version": "1.5.0",
            "_model_name": "ProgressStyleModel",
            "_view_count": null,
            "_view_module": "@jupyter-widgets/base",
            "_view_module_version": "1.2.0",
            "_view_name": "StyleView",
            "bar_color": null,
            "description_width": ""
          }
        },
        "f28a3294b7df498b9f32d69a0a70cf5f": {
          "model_module": "@jupyter-widgets/controls",
          "model_name": "FloatProgressModel",
          "model_module_version": "1.5.0",
          "state": {
            "_dom_classes": [],
            "_model_module": "@jupyter-widgets/controls",
            "_model_module_version": "1.5.0",
            "_model_name": "FloatProgressModel",
            "_view_count": null,
            "_view_module": "@jupyter-widgets/controls",
            "_view_module_version": "1.5.0",
            "_view_name": "ProgressView",
            "bar_style": "info",
            "description": "Progress:",
            "description_tooltip": null,
            "layout": "IPY_MODEL_ea7adf4e26c44b0585abadf90ccca88a",
            "max": 1,
            "min": 0,
            "orientation": "horizontal",
            "style": "IPY_MODEL_54fe71edeaa840208ac29ad1c041be45",
            "value": 0.15767634854771784
          }
        },
        "ea7adf4e26c44b0585abadf90ccca88a": {
          "model_module": "@jupyter-widgets/base",
          "model_name": "LayoutModel",
          "model_module_version": "1.2.0",
          "state": {
            "_model_module": "@jupyter-widgets/base",
            "_model_module_version": "1.2.0",
            "_model_name": "LayoutModel",
            "_view_count": null,
            "_view_module": "@jupyter-widgets/base",
            "_view_module_version": "1.2.0",
            "_view_name": "LayoutView",
            "align_content": null,
            "align_items": null,
            "align_self": null,
            "border": null,
            "bottom": null,
            "display": null,
            "flex": null,
            "flex_flow": null,
            "grid_area": null,
            "grid_auto_columns": null,
            "grid_auto_flow": null,
            "grid_auto_rows": null,
            "grid_column": null,
            "grid_gap": null,
            "grid_row": null,
            "grid_template_areas": null,
            "grid_template_columns": null,
            "grid_template_rows": null,
            "height": "25px",
            "justify_content": null,
            "justify_items": null,
            "left": null,
            "margin": null,
            "max_height": null,
            "max_width": null,
            "min_height": null,
            "min_width": null,
            "object_fit": null,
            "object_position": null,
            "order": null,
            "overflow": null,
            "overflow_x": null,
            "overflow_y": null,
            "padding": null,
            "right": null,
            "top": null,
            "visibility": null,
            "width": "50%"
          }
        },
        "54fe71edeaa840208ac29ad1c041be45": {
          "model_module": "@jupyter-widgets/controls",
          "model_name": "ProgressStyleModel",
          "model_module_version": "1.5.0",
          "state": {
            "_model_module": "@jupyter-widgets/controls",
            "_model_module_version": "1.5.0",
            "_model_name": "ProgressStyleModel",
            "_view_count": null,
            "_view_module": "@jupyter-widgets/base",
            "_view_module_version": "1.2.0",
            "_view_name": "StyleView",
            "bar_color": null,
            "description_width": ""
          }
        },
        "048194c9b38b49d18b0c5c7bfae7823a": {
          "model_module": "@jupyter-widgets/controls",
          "model_name": "FloatProgressModel",
          "model_module_version": "1.5.0",
          "state": {
            "_dom_classes": [],
            "_model_module": "@jupyter-widgets/controls",
            "_model_module_version": "1.5.0",
            "_model_name": "FloatProgressModel",
            "_view_count": null,
            "_view_module": "@jupyter-widgets/controls",
            "_view_module_version": "1.5.0",
            "_view_name": "ProgressView",
            "bar_style": "info",
            "description": "Progress:",
            "description_tooltip": null,
            "layout": "IPY_MODEL_63376f1745fe49fab076667e1d9203f8",
            "max": 1,
            "min": 0,
            "orientation": "horizontal",
            "style": "IPY_MODEL_ef342fb4822540c2a57e4b3c6705101a",
            "value": 1
          }
        },
        "63376f1745fe49fab076667e1d9203f8": {
          "model_module": "@jupyter-widgets/base",
          "model_name": "LayoutModel",
          "model_module_version": "1.2.0",
          "state": {
            "_model_module": "@jupyter-widgets/base",
            "_model_module_version": "1.2.0",
            "_model_name": "LayoutModel",
            "_view_count": null,
            "_view_module": "@jupyter-widgets/base",
            "_view_module_version": "1.2.0",
            "_view_name": "LayoutView",
            "align_content": null,
            "align_items": null,
            "align_self": null,
            "border": null,
            "bottom": null,
            "display": null,
            "flex": null,
            "flex_flow": null,
            "grid_area": null,
            "grid_auto_columns": null,
            "grid_auto_flow": null,
            "grid_auto_rows": null,
            "grid_column": null,
            "grid_gap": null,
            "grid_row": null,
            "grid_template_areas": null,
            "grid_template_columns": null,
            "grid_template_rows": null,
            "height": "25px",
            "justify_content": null,
            "justify_items": null,
            "left": null,
            "margin": null,
            "max_height": null,
            "max_width": null,
            "min_height": null,
            "min_width": null,
            "object_fit": null,
            "object_position": null,
            "order": null,
            "overflow": null,
            "overflow_x": null,
            "overflow_y": null,
            "padding": null,
            "right": null,
            "top": null,
            "visibility": null,
            "width": "50%"
          }
        },
        "ef342fb4822540c2a57e4b3c6705101a": {
          "model_module": "@jupyter-widgets/controls",
          "model_name": "ProgressStyleModel",
          "model_module_version": "1.5.0",
          "state": {
            "_model_module": "@jupyter-widgets/controls",
            "_model_module_version": "1.5.0",
            "_model_name": "ProgressStyleModel",
            "_view_count": null,
            "_view_module": "@jupyter-widgets/base",
            "_view_module_version": "1.2.0",
            "_view_name": "StyleView",
            "bar_color": null,
            "description_width": ""
          }
        },
        "8b1211f407ac48d48b70c07dd071cd11": {
          "model_module": "@jupyter-widgets/controls",
          "model_name": "FloatProgressModel",
          "model_module_version": "1.5.0",
          "state": {
            "_dom_classes": [],
            "_model_module": "@jupyter-widgets/controls",
            "_model_module_version": "1.5.0",
            "_model_name": "FloatProgressModel",
            "_view_count": null,
            "_view_module": "@jupyter-widgets/controls",
            "_view_module_version": "1.5.0",
            "_view_name": "ProgressView",
            "bar_style": "info",
            "description": "Progress:",
            "description_tooltip": null,
            "layout": "IPY_MODEL_22e69d2499bb45b18fab3bbf503dfa0d",
            "max": 1,
            "min": 0,
            "orientation": "horizontal",
            "style": "IPY_MODEL_2be881df33f9427c8209bc86f6bd7474",
            "value": 0.5377358490566038
          }
        },
        "22e69d2499bb45b18fab3bbf503dfa0d": {
          "model_module": "@jupyter-widgets/base",
          "model_name": "LayoutModel",
          "model_module_version": "1.2.0",
          "state": {
            "_model_module": "@jupyter-widgets/base",
            "_model_module_version": "1.2.0",
            "_model_name": "LayoutModel",
            "_view_count": null,
            "_view_module": "@jupyter-widgets/base",
            "_view_module_version": "1.2.0",
            "_view_name": "LayoutView",
            "align_content": null,
            "align_items": null,
            "align_self": null,
            "border": null,
            "bottom": null,
            "display": null,
            "flex": null,
            "flex_flow": null,
            "grid_area": null,
            "grid_auto_columns": null,
            "grid_auto_flow": null,
            "grid_auto_rows": null,
            "grid_column": null,
            "grid_gap": null,
            "grid_row": null,
            "grid_template_areas": null,
            "grid_template_columns": null,
            "grid_template_rows": null,
            "height": "25px",
            "justify_content": null,
            "justify_items": null,
            "left": null,
            "margin": null,
            "max_height": null,
            "max_width": null,
            "min_height": null,
            "min_width": null,
            "object_fit": null,
            "object_position": null,
            "order": null,
            "overflow": null,
            "overflow_x": null,
            "overflow_y": null,
            "padding": null,
            "right": null,
            "top": null,
            "visibility": null,
            "width": "50%"
          }
        },
        "2be881df33f9427c8209bc86f6bd7474": {
          "model_module": "@jupyter-widgets/controls",
          "model_name": "ProgressStyleModel",
          "model_module_version": "1.5.0",
          "state": {
            "_model_module": "@jupyter-widgets/controls",
            "_model_module_version": "1.5.0",
            "_model_name": "ProgressStyleModel",
            "_view_count": null,
            "_view_module": "@jupyter-widgets/base",
            "_view_module_version": "1.2.0",
            "_view_name": "StyleView",
            "bar_color": null,
            "description_width": ""
          }
        },
        "095aa285be494a5d9255726f39e22515": {
          "model_module": "@jupyter-widgets/controls",
          "model_name": "FloatProgressModel",
          "model_module_version": "1.5.0",
          "state": {
            "_dom_classes": [],
            "_model_module": "@jupyter-widgets/controls",
            "_model_module_version": "1.5.0",
            "_model_name": "FloatProgressModel",
            "_view_count": null,
            "_view_module": "@jupyter-widgets/controls",
            "_view_module_version": "1.5.0",
            "_view_name": "ProgressView",
            "bar_style": "info",
            "description": "Progress:",
            "description_tooltip": null,
            "layout": "IPY_MODEL_e678b2ee685143b281cf44ee98869289",
            "max": 1,
            "min": 0,
            "orientation": "horizontal",
            "style": "IPY_MODEL_3189d4ffcfbf4996b0bdfa514846c58a",
            "value": 0
          }
        },
        "e678b2ee685143b281cf44ee98869289": {
          "model_module": "@jupyter-widgets/base",
          "model_name": "LayoutModel",
          "model_module_version": "1.2.0",
          "state": {
            "_model_module": "@jupyter-widgets/base",
            "_model_module_version": "1.2.0",
            "_model_name": "LayoutModel",
            "_view_count": null,
            "_view_module": "@jupyter-widgets/base",
            "_view_module_version": "1.2.0",
            "_view_name": "LayoutView",
            "align_content": null,
            "align_items": null,
            "align_self": null,
            "border": null,
            "bottom": null,
            "display": null,
            "flex": null,
            "flex_flow": null,
            "grid_area": null,
            "grid_auto_columns": null,
            "grid_auto_flow": null,
            "grid_auto_rows": null,
            "grid_column": null,
            "grid_gap": null,
            "grid_row": null,
            "grid_template_areas": null,
            "grid_template_columns": null,
            "grid_template_rows": null,
            "height": "25px",
            "justify_content": null,
            "justify_items": null,
            "left": null,
            "margin": null,
            "max_height": null,
            "max_width": null,
            "min_height": null,
            "min_width": null,
            "object_fit": null,
            "object_position": null,
            "order": null,
            "overflow": null,
            "overflow_x": null,
            "overflow_y": null,
            "padding": null,
            "right": null,
            "top": null,
            "visibility": null,
            "width": "50%"
          }
        },
        "3189d4ffcfbf4996b0bdfa514846c58a": {
          "model_module": "@jupyter-widgets/controls",
          "model_name": "ProgressStyleModel",
          "model_module_version": "1.5.0",
          "state": {
            "_model_module": "@jupyter-widgets/controls",
            "_model_module_version": "1.5.0",
            "_model_name": "ProgressStyleModel",
            "_view_count": null,
            "_view_module": "@jupyter-widgets/base",
            "_view_module_version": "1.2.0",
            "_view_name": "StyleView",
            "bar_color": null,
            "description_width": ""
          }
        },
        "ffc47f5dc8ae4523a4d1fbacfae05d0c": {
          "model_module": "@jupyter-widgets/controls",
          "model_name": "FloatProgressModel",
          "model_module_version": "1.5.0",
          "state": {
            "_dom_classes": [],
            "_model_module": "@jupyter-widgets/controls",
            "_model_module_version": "1.5.0",
            "_model_name": "FloatProgressModel",
            "_view_count": null,
            "_view_module": "@jupyter-widgets/controls",
            "_view_module_version": "1.5.0",
            "_view_name": "ProgressView",
            "bar_style": "info",
            "description": "Progress:",
            "description_tooltip": null,
            "layout": "IPY_MODEL_4a2ab234a0624eff87f5e93b0f61c25c",
            "max": 1,
            "min": 0,
            "orientation": "horizontal",
            "style": "IPY_MODEL_4c81294c8f614b2aae04b4908b73fce8",
            "value": 0.22448979591836735
          }
        },
        "4a2ab234a0624eff87f5e93b0f61c25c": {
          "model_module": "@jupyter-widgets/base",
          "model_name": "LayoutModel",
          "model_module_version": "1.2.0",
          "state": {
            "_model_module": "@jupyter-widgets/base",
            "_model_module_version": "1.2.0",
            "_model_name": "LayoutModel",
            "_view_count": null,
            "_view_module": "@jupyter-widgets/base",
            "_view_module_version": "1.2.0",
            "_view_name": "LayoutView",
            "align_content": null,
            "align_items": null,
            "align_self": null,
            "border": null,
            "bottom": null,
            "display": null,
            "flex": null,
            "flex_flow": null,
            "grid_area": null,
            "grid_auto_columns": null,
            "grid_auto_flow": null,
            "grid_auto_rows": null,
            "grid_column": null,
            "grid_gap": null,
            "grid_row": null,
            "grid_template_areas": null,
            "grid_template_columns": null,
            "grid_template_rows": null,
            "height": "25px",
            "justify_content": null,
            "justify_items": null,
            "left": null,
            "margin": null,
            "max_height": null,
            "max_width": null,
            "min_height": null,
            "min_width": null,
            "object_fit": null,
            "object_position": null,
            "order": null,
            "overflow": null,
            "overflow_x": null,
            "overflow_y": null,
            "padding": null,
            "right": null,
            "top": null,
            "visibility": null,
            "width": "50%"
          }
        },
        "4c81294c8f614b2aae04b4908b73fce8": {
          "model_module": "@jupyter-widgets/controls",
          "model_name": "ProgressStyleModel",
          "model_module_version": "1.5.0",
          "state": {
            "_model_module": "@jupyter-widgets/controls",
            "_model_module_version": "1.5.0",
            "_model_name": "ProgressStyleModel",
            "_view_count": null,
            "_view_module": "@jupyter-widgets/base",
            "_view_module_version": "1.2.0",
            "_view_name": "StyleView",
            "bar_color": null,
            "description_width": ""
          }
        },
        "8cb65a3890b84721ba9d7fa93a485189": {
          "model_module": "@jupyter-widgets/controls",
          "model_name": "FloatProgressModel",
          "model_module_version": "1.5.0",
          "state": {
            "_dom_classes": [],
            "_model_module": "@jupyter-widgets/controls",
            "_model_module_version": "1.5.0",
            "_model_name": "FloatProgressModel",
            "_view_count": null,
            "_view_module": "@jupyter-widgets/controls",
            "_view_module_version": "1.5.0",
            "_view_name": "ProgressView",
            "bar_style": "info",
            "description": "Progress:",
            "description_tooltip": null,
            "layout": "IPY_MODEL_ab9461153b034623847402c2d0068ce8",
            "max": 1,
            "min": 0,
            "orientation": "horizontal",
            "style": "IPY_MODEL_4bce4d9ba244414fad68872ab43d12da",
            "value": 0.4180327868852459
          }
        },
        "ab9461153b034623847402c2d0068ce8": {
          "model_module": "@jupyter-widgets/base",
          "model_name": "LayoutModel",
          "model_module_version": "1.2.0",
          "state": {
            "_model_module": "@jupyter-widgets/base",
            "_model_module_version": "1.2.0",
            "_model_name": "LayoutModel",
            "_view_count": null,
            "_view_module": "@jupyter-widgets/base",
            "_view_module_version": "1.2.0",
            "_view_name": "LayoutView",
            "align_content": null,
            "align_items": null,
            "align_self": null,
            "border": null,
            "bottom": null,
            "display": null,
            "flex": null,
            "flex_flow": null,
            "grid_area": null,
            "grid_auto_columns": null,
            "grid_auto_flow": null,
            "grid_auto_rows": null,
            "grid_column": null,
            "grid_gap": null,
            "grid_row": null,
            "grid_template_areas": null,
            "grid_template_columns": null,
            "grid_template_rows": null,
            "height": "25px",
            "justify_content": null,
            "justify_items": null,
            "left": null,
            "margin": null,
            "max_height": null,
            "max_width": null,
            "min_height": null,
            "min_width": null,
            "object_fit": null,
            "object_position": null,
            "order": null,
            "overflow": null,
            "overflow_x": null,
            "overflow_y": null,
            "padding": null,
            "right": null,
            "top": null,
            "visibility": null,
            "width": "50%"
          }
        },
        "4bce4d9ba244414fad68872ab43d12da": {
          "model_module": "@jupyter-widgets/controls",
          "model_name": "ProgressStyleModel",
          "model_module_version": "1.5.0",
          "state": {
            "_model_module": "@jupyter-widgets/controls",
            "_model_module_version": "1.5.0",
            "_model_name": "ProgressStyleModel",
            "_view_count": null,
            "_view_module": "@jupyter-widgets/base",
            "_view_module_version": "1.2.0",
            "_view_name": "StyleView",
            "bar_color": null,
            "description_width": ""
          }
        },
        "a8a10b797fae485ebc7c9f9f706f89cd": {
          "model_module": "@jupyter-widgets/controls",
          "model_name": "FloatProgressModel",
          "model_module_version": "1.5.0",
          "state": {
            "_dom_classes": [],
            "_model_module": "@jupyter-widgets/controls",
            "_model_module_version": "1.5.0",
            "_model_name": "FloatProgressModel",
            "_view_count": null,
            "_view_module": "@jupyter-widgets/controls",
            "_view_module_version": "1.5.0",
            "_view_name": "ProgressView",
            "bar_style": "info",
            "description": "Progress:",
            "description_tooltip": null,
            "layout": "IPY_MODEL_9c57e4a136a947ad824a6509f03f785b",
            "max": 1,
            "min": 0,
            "orientation": "horizontal",
            "style": "IPY_MODEL_c18c84080a894e58841d4a483f6131d2",
            "value": 0
          }
        },
        "9c57e4a136a947ad824a6509f03f785b": {
          "model_module": "@jupyter-widgets/base",
          "model_name": "LayoutModel",
          "model_module_version": "1.2.0",
          "state": {
            "_model_module": "@jupyter-widgets/base",
            "_model_module_version": "1.2.0",
            "_model_name": "LayoutModel",
            "_view_count": null,
            "_view_module": "@jupyter-widgets/base",
            "_view_module_version": "1.2.0",
            "_view_name": "LayoutView",
            "align_content": null,
            "align_items": null,
            "align_self": null,
            "border": null,
            "bottom": null,
            "display": null,
            "flex": null,
            "flex_flow": null,
            "grid_area": null,
            "grid_auto_columns": null,
            "grid_auto_flow": null,
            "grid_auto_rows": null,
            "grid_column": null,
            "grid_gap": null,
            "grid_row": null,
            "grid_template_areas": null,
            "grid_template_columns": null,
            "grid_template_rows": null,
            "height": "25px",
            "justify_content": null,
            "justify_items": null,
            "left": null,
            "margin": null,
            "max_height": null,
            "max_width": null,
            "min_height": null,
            "min_width": null,
            "object_fit": null,
            "object_position": null,
            "order": null,
            "overflow": null,
            "overflow_x": null,
            "overflow_y": null,
            "padding": null,
            "right": null,
            "top": null,
            "visibility": null,
            "width": "50%"
          }
        },
        "c18c84080a894e58841d4a483f6131d2": {
          "model_module": "@jupyter-widgets/controls",
          "model_name": "ProgressStyleModel",
          "model_module_version": "1.5.0",
          "state": {
            "_model_module": "@jupyter-widgets/controls",
            "_model_module_version": "1.5.0",
            "_model_name": "ProgressStyleModel",
            "_view_count": null,
            "_view_module": "@jupyter-widgets/base",
            "_view_module_version": "1.2.0",
            "_view_name": "StyleView",
            "bar_color": null,
            "description_width": ""
          }
        },
        "4c1e12e2b81f4fd8aebf944ad7c7e08f": {
          "model_module": "@jupyter-widgets/controls",
          "model_name": "FloatProgressModel",
          "model_module_version": "1.5.0",
          "state": {
            "_dom_classes": [],
            "_model_module": "@jupyter-widgets/controls",
            "_model_module_version": "1.5.0",
            "_model_name": "FloatProgressModel",
            "_view_count": null,
            "_view_module": "@jupyter-widgets/controls",
            "_view_module_version": "1.5.0",
            "_view_name": "ProgressView",
            "bar_style": "info",
            "description": "Progress:",
            "description_tooltip": null,
            "layout": "IPY_MODEL_e971d6f3f71e45988620dd6c93b0c643",
            "max": 1,
            "min": 0,
            "orientation": "horizontal",
            "style": "IPY_MODEL_cfc30ebfb2494da98fe97e3e44a22de8",
            "value": 0.7224080267558528
          }
        },
        "e971d6f3f71e45988620dd6c93b0c643": {
          "model_module": "@jupyter-widgets/base",
          "model_name": "LayoutModel",
          "model_module_version": "1.2.0",
          "state": {
            "_model_module": "@jupyter-widgets/base",
            "_model_module_version": "1.2.0",
            "_model_name": "LayoutModel",
            "_view_count": null,
            "_view_module": "@jupyter-widgets/base",
            "_view_module_version": "1.2.0",
            "_view_name": "LayoutView",
            "align_content": null,
            "align_items": null,
            "align_self": null,
            "border": null,
            "bottom": null,
            "display": null,
            "flex": null,
            "flex_flow": null,
            "grid_area": null,
            "grid_auto_columns": null,
            "grid_auto_flow": null,
            "grid_auto_rows": null,
            "grid_column": null,
            "grid_gap": null,
            "grid_row": null,
            "grid_template_areas": null,
            "grid_template_columns": null,
            "grid_template_rows": null,
            "height": "25px",
            "justify_content": null,
            "justify_items": null,
            "left": null,
            "margin": null,
            "max_height": null,
            "max_width": null,
            "min_height": null,
            "min_width": null,
            "object_fit": null,
            "object_position": null,
            "order": null,
            "overflow": null,
            "overflow_x": null,
            "overflow_y": null,
            "padding": null,
            "right": null,
            "top": null,
            "visibility": null,
            "width": "50%"
          }
        },
        "cfc30ebfb2494da98fe97e3e44a22de8": {
          "model_module": "@jupyter-widgets/controls",
          "model_name": "ProgressStyleModel",
          "model_module_version": "1.5.0",
          "state": {
            "_model_module": "@jupyter-widgets/controls",
            "_model_module_version": "1.5.0",
            "_model_name": "ProgressStyleModel",
            "_view_count": null,
            "_view_module": "@jupyter-widgets/base",
            "_view_module_version": "1.2.0",
            "_view_name": "StyleView",
            "bar_color": null,
            "description_width": ""
          }
        },
        "6673dc7d7ff94e398e8d58396b2c79c0": {
          "model_module": "@jupyter-widgets/controls",
          "model_name": "FloatProgressModel",
          "model_module_version": "1.5.0",
          "state": {
            "_dom_classes": [],
            "_model_module": "@jupyter-widgets/controls",
            "_model_module_version": "1.5.0",
            "_model_name": "FloatProgressModel",
            "_view_count": null,
            "_view_module": "@jupyter-widgets/controls",
            "_view_module_version": "1.5.0",
            "_view_name": "ProgressView",
            "bar_style": "info",
            "description": "Progress:",
            "description_tooltip": null,
            "layout": "IPY_MODEL_6cc42c0daa6c492da67e1fe2d2712ff9",
            "max": 1,
            "min": 0,
            "orientation": "horizontal",
            "style": "IPY_MODEL_7545c293c6a8454ba0ac160c6458cefc",
            "value": 0.5161290322580645
          }
        },
        "6cc42c0daa6c492da67e1fe2d2712ff9": {
          "model_module": "@jupyter-widgets/base",
          "model_name": "LayoutModel",
          "model_module_version": "1.2.0",
          "state": {
            "_model_module": "@jupyter-widgets/base",
            "_model_module_version": "1.2.0",
            "_model_name": "LayoutModel",
            "_view_count": null,
            "_view_module": "@jupyter-widgets/base",
            "_view_module_version": "1.2.0",
            "_view_name": "LayoutView",
            "align_content": null,
            "align_items": null,
            "align_self": null,
            "border": null,
            "bottom": null,
            "display": null,
            "flex": null,
            "flex_flow": null,
            "grid_area": null,
            "grid_auto_columns": null,
            "grid_auto_flow": null,
            "grid_auto_rows": null,
            "grid_column": null,
            "grid_gap": null,
            "grid_row": null,
            "grid_template_areas": null,
            "grid_template_columns": null,
            "grid_template_rows": null,
            "height": "25px",
            "justify_content": null,
            "justify_items": null,
            "left": null,
            "margin": null,
            "max_height": null,
            "max_width": null,
            "min_height": null,
            "min_width": null,
            "object_fit": null,
            "object_position": null,
            "order": null,
            "overflow": null,
            "overflow_x": null,
            "overflow_y": null,
            "padding": null,
            "right": null,
            "top": null,
            "visibility": null,
            "width": "50%"
          }
        },
        "7545c293c6a8454ba0ac160c6458cefc": {
          "model_module": "@jupyter-widgets/controls",
          "model_name": "ProgressStyleModel",
          "model_module_version": "1.5.0",
          "state": {
            "_model_module": "@jupyter-widgets/controls",
            "_model_module_version": "1.5.0",
            "_model_name": "ProgressStyleModel",
            "_view_count": null,
            "_view_module": "@jupyter-widgets/base",
            "_view_module_version": "1.2.0",
            "_view_name": "StyleView",
            "bar_color": null,
            "description_width": ""
          }
        },
        "68d0ad04c4b54105a857cdb46a338a83": {
          "model_module": "@jupyter-widgets/controls",
          "model_name": "FloatProgressModel",
          "model_module_version": "1.5.0",
          "state": {
            "_dom_classes": [],
            "_model_module": "@jupyter-widgets/controls",
            "_model_module_version": "1.5.0",
            "_model_name": "FloatProgressModel",
            "_view_count": null,
            "_view_module": "@jupyter-widgets/controls",
            "_view_module_version": "1.5.0",
            "_view_name": "ProgressView",
            "bar_style": "info",
            "description": "Progress:",
            "description_tooltip": null,
            "layout": "IPY_MODEL_7bc2ad40f26f443fac6bab9fae8aae76",
            "max": 1,
            "min": 0,
            "orientation": "horizontal",
            "style": "IPY_MODEL_80f6c0f7200b4526b5f4b155e45ea54a",
            "value": 0
          }
        },
        "7bc2ad40f26f443fac6bab9fae8aae76": {
          "model_module": "@jupyter-widgets/base",
          "model_name": "LayoutModel",
          "model_module_version": "1.2.0",
          "state": {
            "_model_module": "@jupyter-widgets/base",
            "_model_module_version": "1.2.0",
            "_model_name": "LayoutModel",
            "_view_count": null,
            "_view_module": "@jupyter-widgets/base",
            "_view_module_version": "1.2.0",
            "_view_name": "LayoutView",
            "align_content": null,
            "align_items": null,
            "align_self": null,
            "border": null,
            "bottom": null,
            "display": null,
            "flex": null,
            "flex_flow": null,
            "grid_area": null,
            "grid_auto_columns": null,
            "grid_auto_flow": null,
            "grid_auto_rows": null,
            "grid_column": null,
            "grid_gap": null,
            "grid_row": null,
            "grid_template_areas": null,
            "grid_template_columns": null,
            "grid_template_rows": null,
            "height": "25px",
            "justify_content": null,
            "justify_items": null,
            "left": null,
            "margin": null,
            "max_height": null,
            "max_width": null,
            "min_height": null,
            "min_width": null,
            "object_fit": null,
            "object_position": null,
            "order": null,
            "overflow": null,
            "overflow_x": null,
            "overflow_y": null,
            "padding": null,
            "right": null,
            "top": null,
            "visibility": null,
            "width": "50%"
          }
        },
        "80f6c0f7200b4526b5f4b155e45ea54a": {
          "model_module": "@jupyter-widgets/controls",
          "model_name": "ProgressStyleModel",
          "model_module_version": "1.5.0",
          "state": {
            "_model_module": "@jupyter-widgets/controls",
            "_model_module_version": "1.5.0",
            "_model_name": "ProgressStyleModel",
            "_view_count": null,
            "_view_module": "@jupyter-widgets/base",
            "_view_module_version": "1.2.0",
            "_view_name": "StyleView",
            "bar_color": null,
            "description_width": ""
          }
        },
        "6b293a172af04686ba18693bf0006368": {
          "model_module": "@jupyter-widgets/controls",
          "model_name": "FloatProgressModel",
          "model_module_version": "1.5.0",
          "state": {
            "_dom_classes": [],
            "_model_module": "@jupyter-widgets/controls",
            "_model_module_version": "1.5.0",
            "_model_name": "FloatProgressModel",
            "_view_count": null,
            "_view_module": "@jupyter-widgets/controls",
            "_view_module_version": "1.5.0",
            "_view_name": "ProgressView",
            "bar_style": "info",
            "description": "Progress:",
            "description_tooltip": null,
            "layout": "IPY_MODEL_d7500c44d4cd469f9215d68285ff2d6c",
            "max": 1,
            "min": 0,
            "orientation": "horizontal",
            "style": "IPY_MODEL_a2f22c32e31640ffa9c9d5c6fd602970",
            "value": 0.9959839357429718
          }
        },
        "d7500c44d4cd469f9215d68285ff2d6c": {
          "model_module": "@jupyter-widgets/base",
          "model_name": "LayoutModel",
          "model_module_version": "1.2.0",
          "state": {
            "_model_module": "@jupyter-widgets/base",
            "_model_module_version": "1.2.0",
            "_model_name": "LayoutModel",
            "_view_count": null,
            "_view_module": "@jupyter-widgets/base",
            "_view_module_version": "1.2.0",
            "_view_name": "LayoutView",
            "align_content": null,
            "align_items": null,
            "align_self": null,
            "border": null,
            "bottom": null,
            "display": null,
            "flex": null,
            "flex_flow": null,
            "grid_area": null,
            "grid_auto_columns": null,
            "grid_auto_flow": null,
            "grid_auto_rows": null,
            "grid_column": null,
            "grid_gap": null,
            "grid_row": null,
            "grid_template_areas": null,
            "grid_template_columns": null,
            "grid_template_rows": null,
            "height": "25px",
            "justify_content": null,
            "justify_items": null,
            "left": null,
            "margin": null,
            "max_height": null,
            "max_width": null,
            "min_height": null,
            "min_width": null,
            "object_fit": null,
            "object_position": null,
            "order": null,
            "overflow": null,
            "overflow_x": null,
            "overflow_y": null,
            "padding": null,
            "right": null,
            "top": null,
            "visibility": null,
            "width": "50%"
          }
        },
        "a2f22c32e31640ffa9c9d5c6fd602970": {
          "model_module": "@jupyter-widgets/controls",
          "model_name": "ProgressStyleModel",
          "model_module_version": "1.5.0",
          "state": {
            "_model_module": "@jupyter-widgets/controls",
            "_model_module_version": "1.5.0",
            "_model_name": "ProgressStyleModel",
            "_view_count": null,
            "_view_module": "@jupyter-widgets/base",
            "_view_module_version": "1.2.0",
            "_view_name": "StyleView",
            "bar_color": null,
            "description_width": ""
          }
        },
        "2194c1d5717e4d2387af26aae6065a49": {
          "model_module": "@jupyter-widgets/controls",
          "model_name": "FloatProgressModel",
          "model_module_version": "1.5.0",
          "state": {
            "_dom_classes": [],
            "_model_module": "@jupyter-widgets/controls",
            "_model_module_version": "1.5.0",
            "_model_name": "FloatProgressModel",
            "_view_count": null,
            "_view_module": "@jupyter-widgets/controls",
            "_view_module_version": "1.5.0",
            "_view_name": "ProgressView",
            "bar_style": "info",
            "description": "Progress:",
            "description_tooltip": null,
            "layout": "IPY_MODEL_80645340579041e98971ad0685f51829",
            "max": 1,
            "min": 0,
            "orientation": "horizontal",
            "style": "IPY_MODEL_a2f965e9a73443d1a141413cdbe3cbc3",
            "value": 0.35714285714285715
          }
        },
        "80645340579041e98971ad0685f51829": {
          "model_module": "@jupyter-widgets/base",
          "model_name": "LayoutModel",
          "model_module_version": "1.2.0",
          "state": {
            "_model_module": "@jupyter-widgets/base",
            "_model_module_version": "1.2.0",
            "_model_name": "LayoutModel",
            "_view_count": null,
            "_view_module": "@jupyter-widgets/base",
            "_view_module_version": "1.2.0",
            "_view_name": "LayoutView",
            "align_content": null,
            "align_items": null,
            "align_self": null,
            "border": null,
            "bottom": null,
            "display": null,
            "flex": null,
            "flex_flow": null,
            "grid_area": null,
            "grid_auto_columns": null,
            "grid_auto_flow": null,
            "grid_auto_rows": null,
            "grid_column": null,
            "grid_gap": null,
            "grid_row": null,
            "grid_template_areas": null,
            "grid_template_columns": null,
            "grid_template_rows": null,
            "height": "25px",
            "justify_content": null,
            "justify_items": null,
            "left": null,
            "margin": null,
            "max_height": null,
            "max_width": null,
            "min_height": null,
            "min_width": null,
            "object_fit": null,
            "object_position": null,
            "order": null,
            "overflow": null,
            "overflow_x": null,
            "overflow_y": null,
            "padding": null,
            "right": null,
            "top": null,
            "visibility": null,
            "width": "50%"
          }
        },
        "a2f965e9a73443d1a141413cdbe3cbc3": {
          "model_module": "@jupyter-widgets/controls",
          "model_name": "ProgressStyleModel",
          "model_module_version": "1.5.0",
          "state": {
            "_model_module": "@jupyter-widgets/controls",
            "_model_module_version": "1.5.0",
            "_model_name": "ProgressStyleModel",
            "_view_count": null,
            "_view_module": "@jupyter-widgets/base",
            "_view_module_version": "1.2.0",
            "_view_name": "StyleView",
            "bar_color": null,
            "description_width": ""
          }
        },
        "0d998f7bdf5149efadac2c36645e7533": {
          "model_module": "@jupyter-widgets/controls",
          "model_name": "FloatProgressModel",
          "model_module_version": "1.5.0",
          "state": {
            "_dom_classes": [],
            "_model_module": "@jupyter-widgets/controls",
            "_model_module_version": "1.5.0",
            "_model_name": "FloatProgressModel",
            "_view_count": null,
            "_view_module": "@jupyter-widgets/controls",
            "_view_module_version": "1.5.0",
            "_view_name": "ProgressView",
            "bar_style": "info",
            "description": "Progress:",
            "description_tooltip": null,
            "layout": "IPY_MODEL_486d5461e6c844848ddb75f0b9dacdc1",
            "max": 1,
            "min": 0,
            "orientation": "horizontal",
            "style": "IPY_MODEL_a6324e282e174d108c527e5f636cc2e7",
            "value": 0
          }
        },
        "486d5461e6c844848ddb75f0b9dacdc1": {
          "model_module": "@jupyter-widgets/base",
          "model_name": "LayoutModel",
          "model_module_version": "1.2.0",
          "state": {
            "_model_module": "@jupyter-widgets/base",
            "_model_module_version": "1.2.0",
            "_model_name": "LayoutModel",
            "_view_count": null,
            "_view_module": "@jupyter-widgets/base",
            "_view_module_version": "1.2.0",
            "_view_name": "LayoutView",
            "align_content": null,
            "align_items": null,
            "align_self": null,
            "border": null,
            "bottom": null,
            "display": null,
            "flex": null,
            "flex_flow": null,
            "grid_area": null,
            "grid_auto_columns": null,
            "grid_auto_flow": null,
            "grid_auto_rows": null,
            "grid_column": null,
            "grid_gap": null,
            "grid_row": null,
            "grid_template_areas": null,
            "grid_template_columns": null,
            "grid_template_rows": null,
            "height": "25px",
            "justify_content": null,
            "justify_items": null,
            "left": null,
            "margin": null,
            "max_height": null,
            "max_width": null,
            "min_height": null,
            "min_width": null,
            "object_fit": null,
            "object_position": null,
            "order": null,
            "overflow": null,
            "overflow_x": null,
            "overflow_y": null,
            "padding": null,
            "right": null,
            "top": null,
            "visibility": null,
            "width": "50%"
          }
        },
        "a6324e282e174d108c527e5f636cc2e7": {
          "model_module": "@jupyter-widgets/controls",
          "model_name": "ProgressStyleModel",
          "model_module_version": "1.5.0",
          "state": {
            "_model_module": "@jupyter-widgets/controls",
            "_model_module_version": "1.5.0",
            "_model_name": "ProgressStyleModel",
            "_view_count": null,
            "_view_module": "@jupyter-widgets/base",
            "_view_module_version": "1.2.0",
            "_view_name": "StyleView",
            "bar_color": null,
            "description_width": ""
          }
        },
        "1b5d08d2aae545d799919885736a6148": {
          "model_module": "@jupyter-widgets/controls",
          "model_name": "FloatProgressModel",
          "model_module_version": "1.5.0",
          "state": {
            "_dom_classes": [],
            "_model_module": "@jupyter-widgets/controls",
            "_model_module_version": "1.5.0",
            "_model_name": "FloatProgressModel",
            "_view_count": null,
            "_view_module": "@jupyter-widgets/controls",
            "_view_module_version": "1.5.0",
            "_view_name": "ProgressView",
            "bar_style": "info",
            "description": "Progress:",
            "description_tooltip": null,
            "layout": "IPY_MODEL_276137dd24f44c53bbcc31a39ae7959f",
            "max": 1,
            "min": 0,
            "orientation": "horizontal",
            "style": "IPY_MODEL_26cbf385c78540b7ac834533d5fb2701",
            "value": 0.9087136929460581
          }
        },
        "276137dd24f44c53bbcc31a39ae7959f": {
          "model_module": "@jupyter-widgets/base",
          "model_name": "LayoutModel",
          "model_module_version": "1.2.0",
          "state": {
            "_model_module": "@jupyter-widgets/base",
            "_model_module_version": "1.2.0",
            "_model_name": "LayoutModel",
            "_view_count": null,
            "_view_module": "@jupyter-widgets/base",
            "_view_module_version": "1.2.0",
            "_view_name": "LayoutView",
            "align_content": null,
            "align_items": null,
            "align_self": null,
            "border": null,
            "bottom": null,
            "display": null,
            "flex": null,
            "flex_flow": null,
            "grid_area": null,
            "grid_auto_columns": null,
            "grid_auto_flow": null,
            "grid_auto_rows": null,
            "grid_column": null,
            "grid_gap": null,
            "grid_row": null,
            "grid_template_areas": null,
            "grid_template_columns": null,
            "grid_template_rows": null,
            "height": "25px",
            "justify_content": null,
            "justify_items": null,
            "left": null,
            "margin": null,
            "max_height": null,
            "max_width": null,
            "min_height": null,
            "min_width": null,
            "object_fit": null,
            "object_position": null,
            "order": null,
            "overflow": null,
            "overflow_x": null,
            "overflow_y": null,
            "padding": null,
            "right": null,
            "top": null,
            "visibility": null,
            "width": "50%"
          }
        },
        "26cbf385c78540b7ac834533d5fb2701": {
          "model_module": "@jupyter-widgets/controls",
          "model_name": "ProgressStyleModel",
          "model_module_version": "1.5.0",
          "state": {
            "_model_module": "@jupyter-widgets/controls",
            "_model_module_version": "1.5.0",
            "_model_name": "ProgressStyleModel",
            "_view_count": null,
            "_view_module": "@jupyter-widgets/base",
            "_view_module_version": "1.2.0",
            "_view_name": "StyleView",
            "bar_color": null,
            "description_width": ""
          }
        },
        "ca7faa104cc84faf914b6b4c873872ce": {
          "model_module": "@jupyter-widgets/controls",
          "model_name": "FloatProgressModel",
          "model_module_version": "1.5.0",
          "state": {
            "_dom_classes": [],
            "_model_module": "@jupyter-widgets/controls",
            "_model_module_version": "1.5.0",
            "_model_name": "FloatProgressModel",
            "_view_count": null,
            "_view_module": "@jupyter-widgets/controls",
            "_view_module_version": "1.5.0",
            "_view_name": "ProgressView",
            "bar_style": "info",
            "description": "Progress:",
            "description_tooltip": null,
            "layout": "IPY_MODEL_4f60af680b7e4207a92dc5e266196e85",
            "max": 1,
            "min": 0,
            "orientation": "horizontal",
            "style": "IPY_MODEL_00359b4e84b54a98917fd26b45d077d1",
            "value": 0.9166666666666666
          }
        },
        "4f60af680b7e4207a92dc5e266196e85": {
          "model_module": "@jupyter-widgets/base",
          "model_name": "LayoutModel",
          "model_module_version": "1.2.0",
          "state": {
            "_model_module": "@jupyter-widgets/base",
            "_model_module_version": "1.2.0",
            "_model_name": "LayoutModel",
            "_view_count": null,
            "_view_module": "@jupyter-widgets/base",
            "_view_module_version": "1.2.0",
            "_view_name": "LayoutView",
            "align_content": null,
            "align_items": null,
            "align_self": null,
            "border": null,
            "bottom": null,
            "display": null,
            "flex": null,
            "flex_flow": null,
            "grid_area": null,
            "grid_auto_columns": null,
            "grid_auto_flow": null,
            "grid_auto_rows": null,
            "grid_column": null,
            "grid_gap": null,
            "grid_row": null,
            "grid_template_areas": null,
            "grid_template_columns": null,
            "grid_template_rows": null,
            "height": "25px",
            "justify_content": null,
            "justify_items": null,
            "left": null,
            "margin": null,
            "max_height": null,
            "max_width": null,
            "min_height": null,
            "min_width": null,
            "object_fit": null,
            "object_position": null,
            "order": null,
            "overflow": null,
            "overflow_x": null,
            "overflow_y": null,
            "padding": null,
            "right": null,
            "top": null,
            "visibility": null,
            "width": "50%"
          }
        },
        "00359b4e84b54a98917fd26b45d077d1": {
          "model_module": "@jupyter-widgets/controls",
          "model_name": "ProgressStyleModel",
          "model_module_version": "1.5.0",
          "state": {
            "_model_module": "@jupyter-widgets/controls",
            "_model_module_version": "1.5.0",
            "_model_name": "ProgressStyleModel",
            "_view_count": null,
            "_view_module": "@jupyter-widgets/base",
            "_view_module_version": "1.2.0",
            "_view_name": "StyleView",
            "bar_color": null,
            "description_width": ""
          }
        },
        "1d001aaa926a44659f71369a2bb3fbde": {
          "model_module": "@jupyter-widgets/controls",
          "model_name": "FloatProgressModel",
          "model_module_version": "1.5.0",
          "state": {
            "_dom_classes": [],
            "_model_module": "@jupyter-widgets/controls",
            "_model_module_version": "1.5.0",
            "_model_name": "FloatProgressModel",
            "_view_count": null,
            "_view_module": "@jupyter-widgets/controls",
            "_view_module_version": "1.5.0",
            "_view_name": "ProgressView",
            "bar_style": "info",
            "description": "Progress:",
            "description_tooltip": null,
            "layout": "IPY_MODEL_e932b55d3ef74098ae214df084ea4560",
            "max": 1,
            "min": 0,
            "orientation": "horizontal",
            "style": "IPY_MODEL_8b82255f3064468ebb8fd6e4354b121f",
            "value": 0
          }
        },
        "e932b55d3ef74098ae214df084ea4560": {
          "model_module": "@jupyter-widgets/base",
          "model_name": "LayoutModel",
          "model_module_version": "1.2.0",
          "state": {
            "_model_module": "@jupyter-widgets/base",
            "_model_module_version": "1.2.0",
            "_model_name": "LayoutModel",
            "_view_count": null,
            "_view_module": "@jupyter-widgets/base",
            "_view_module_version": "1.2.0",
            "_view_name": "LayoutView",
            "align_content": null,
            "align_items": null,
            "align_self": null,
            "border": null,
            "bottom": null,
            "display": null,
            "flex": null,
            "flex_flow": null,
            "grid_area": null,
            "grid_auto_columns": null,
            "grid_auto_flow": null,
            "grid_auto_rows": null,
            "grid_column": null,
            "grid_gap": null,
            "grid_row": null,
            "grid_template_areas": null,
            "grid_template_columns": null,
            "grid_template_rows": null,
            "height": "25px",
            "justify_content": null,
            "justify_items": null,
            "left": null,
            "margin": null,
            "max_height": null,
            "max_width": null,
            "min_height": null,
            "min_width": null,
            "object_fit": null,
            "object_position": null,
            "order": null,
            "overflow": null,
            "overflow_x": null,
            "overflow_y": null,
            "padding": null,
            "right": null,
            "top": null,
            "visibility": null,
            "width": "50%"
          }
        },
        "8b82255f3064468ebb8fd6e4354b121f": {
          "model_module": "@jupyter-widgets/controls",
          "model_name": "ProgressStyleModel",
          "model_module_version": "1.5.0",
          "state": {
            "_model_module": "@jupyter-widgets/controls",
            "_model_module_version": "1.5.0",
            "_model_name": "ProgressStyleModel",
            "_view_count": null,
            "_view_module": "@jupyter-widgets/base",
            "_view_module_version": "1.2.0",
            "_view_name": "StyleView",
            "bar_color": null,
            "description_width": ""
          }
        },
        "47db38baa121416b9dadb6e7b4e03cab": {
          "model_module": "@jupyter-widgets/controls",
          "model_name": "FloatProgressModel",
          "model_module_version": "1.5.0",
          "state": {
            "_dom_classes": [],
            "_model_module": "@jupyter-widgets/controls",
            "_model_module_version": "1.5.0",
            "_model_name": "FloatProgressModel",
            "_view_count": null,
            "_view_module": "@jupyter-widgets/controls",
            "_view_module_version": "1.5.0",
            "_view_name": "ProgressView",
            "bar_style": "info",
            "description": "Progress:",
            "description_tooltip": null,
            "layout": "IPY_MODEL_aba911946e4b42d5a336de6ffd6683d3",
            "max": 1,
            "min": 0,
            "orientation": "horizontal",
            "style": "IPY_MODEL_0afdba569f8043f98ea9ff8f60a212fe",
            "value": 0.2798611111111111
          }
        },
        "aba911946e4b42d5a336de6ffd6683d3": {
          "model_module": "@jupyter-widgets/base",
          "model_name": "LayoutModel",
          "model_module_version": "1.2.0",
          "state": {
            "_model_module": "@jupyter-widgets/base",
            "_model_module_version": "1.2.0",
            "_model_name": "LayoutModel",
            "_view_count": null,
            "_view_module": "@jupyter-widgets/base",
            "_view_module_version": "1.2.0",
            "_view_name": "LayoutView",
            "align_content": null,
            "align_items": null,
            "align_self": null,
            "border": null,
            "bottom": null,
            "display": null,
            "flex": null,
            "flex_flow": null,
            "grid_area": null,
            "grid_auto_columns": null,
            "grid_auto_flow": null,
            "grid_auto_rows": null,
            "grid_column": null,
            "grid_gap": null,
            "grid_row": null,
            "grid_template_areas": null,
            "grid_template_columns": null,
            "grid_template_rows": null,
            "height": "25px",
            "justify_content": null,
            "justify_items": null,
            "left": null,
            "margin": null,
            "max_height": null,
            "max_width": null,
            "min_height": null,
            "min_width": null,
            "object_fit": null,
            "object_position": null,
            "order": null,
            "overflow": null,
            "overflow_x": null,
            "overflow_y": null,
            "padding": null,
            "right": null,
            "top": null,
            "visibility": null,
            "width": "50%"
          }
        },
        "0afdba569f8043f98ea9ff8f60a212fe": {
          "model_module": "@jupyter-widgets/controls",
          "model_name": "ProgressStyleModel",
          "model_module_version": "1.5.0",
          "state": {
            "_model_module": "@jupyter-widgets/controls",
            "_model_module_version": "1.5.0",
            "_model_name": "ProgressStyleModel",
            "_view_count": null,
            "_view_module": "@jupyter-widgets/base",
            "_view_module_version": "1.2.0",
            "_view_name": "StyleView",
            "bar_color": null,
            "description_width": ""
          }
        }
      }
    }
  },
  "nbformat": 4,
  "nbformat_minor": 0
}